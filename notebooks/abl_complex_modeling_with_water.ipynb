{
 "cells": [
  {
   "cell_type": "markdown",
   "metadata": {},
   "source": [
    "# ABL1 complex modeling with water"
   ]
  },
  {
   "cell_type": "markdown",
   "metadata": {},
   "source": [
    "This notebook shows the modeling of tyrosine kinase inhibitors into ABL1 using functionalities from KinoML from the commit [b252ff6](https://github.com/openkinome/kinoml/commit/b252ff67a35b9149e704d51b7c838dcf1e9fb10f)."
   ]
  },
  {
   "cell_type": "code",
   "execution_count": 1,
   "metadata": {},
   "outputs": [
    {
     "data": {
      "application/vnd.jupyter.widget-view+json": {
       "model_id": "c8704229f0434a2dba01b249aaf85a73",
       "version_major": 2,
       "version_minor": 0
      },
      "text/plain": []
     },
     "metadata": {},
     "output_type": "display_data"
    }
   ],
   "source": [
    "from kinoml.core.ligands import SmilesLigand\n",
    "from kinoml.core.components import BaseProtein\n",
    "from kinoml.core.systems import ProteinLigandComplex\n",
    "from kinoml.features.complexes import OEKLIFSKinaseHybridDockingFeaturizer"
   ]
  },
  {
   "cell_type": "code",
   "execution_count": 2,
   "metadata": {},
   "outputs": [],
   "source": [
    "# smiles from chembl\n",
    "tkis = {'axitinib': 'CNC(=O)c1ccccc1Sc1ccc2c(/C=C/c3ccccn3)n[nH]c2c1',\n",
    "        'bosutinib': 'COc1cc(Nc2c(C#N)cnc3cc(OCCCN4CCN(C)CC4)c(OC)cc23)c(Cl)cc1Cl',\n",
    "        'dasatinib': 'Cc1nc(Nc2ncc(C(=O)Nc3c(C)cccc3Cl)s2)cc(N2CCN(CCO)CC2)n1',\n",
    "        'imatinib': 'Cc1ccc(NC(=O)c2ccc(CN3CCN(C)CC3)cc2)cc1Nc1nccc(-c2cccnc2)n1',\n",
    "        'nilotinib': 'Cc1cn(-c2cc(NC(=O)c3ccc(C)c(Nc4nccc(-c5cccnc5)n4)c3)cc(C(F)(F)F)c2)cn1',\n",
    "        'ponatinib': 'Cc1ccc(C(=O)Nc2ccc(CN3CCN(C)CC3)c(C(F)(F)F)c2)cc1C#Cc1cnc2cccnn12',\n",
    "        'erlotinib': 'C#Cc1cccc(Nc2ncnc3cc(OCCOC)c(OCCOC)cc23)c1',\n",
    "        'gefitinib': 'COc1cc2ncnc(Nc3ccc(F)c(Cl)c3)c2cc1OCCCN1CCOCC1'}"
   ]
  },
  {
   "cell_type": "code",
   "execution_count": 3,
   "metadata": {},
   "outputs": [],
   "source": [
    "docking_featurizer = OEKLIFSKinaseHybridDockingFeaturizer(loop_db=\"~/.OpenEye/rcsb_spruce.loop_db\")"
   ]
  },
  {
   "cell_type": "code",
   "execution_count": 4,
   "metadata": {},
   "outputs": [],
   "source": [
    "for tki, smiles in tkis.items():\n",
    "    smiles_ligand = SmilesLigand(smiles=smiles, name=tki)\n",
    "    base_protein = BaseProtein(name='ABL1')\n",
    "    base_protein.klifs_kinase_id = 392\n",
    "    kinase_ligand_complex = ProteinLigandComplex(components=[base_protein, smiles_ligand])\n",
    "    system = docking_featurizer.featurize(kinase_ligand_complex)"
   ]
  },
  {
   "cell_type": "markdown",
   "metadata": {},
   "source": [
    "All ABL1 structures in the main `data` directory were automatically standardized to the kinase domain according to UniProt, i.e., all missing loops built, mutated back to the wild type sequence, truncated according to UniProt kinase domain, capped termini and renumbered according to UniProt. Co-crystallized water were checked for clashes with the ligand. An aromatic nitrogen of ponatinib is wrongly protonated leading to a flipped moiety. The substituted aromatic ring of gefitinib is flipped compared to the pose in the ligand template [2itz](https://www.rcsb.org/structure/2itz)."
   ]
  },
  {
   "cell_type": "markdown",
   "metadata": {},
   "source": [
    "|tki      |kinase template|ligand template|ligand co-crystallized|comment                                     |\n",
    "|---------|---------------|---------------|----------------------|--------------------------------------------|\n",
    "|axitinib |4twp           |4twp           |+                     |protonated ASP in binding site              |\n",
    "|bosutinib|3ue4           |3ue4           |+                     |piperazine 2+                               |\n",
    "|dasatinib|4xey           |4xey           |+                     |no water                                    |\n",
    "|imatinib |2hyy           |2hyy           |+                     |piperazine 2+                               |\n",
    "|nilotinib|3cs9           |3cs9           |+                     |                                            |\n",
    "|ponatinib|2hiw           |3oxz           |+                     |protonated aromatic nitrogen, flipped moiety|\n",
    "|erlotinib|2g1t           |4hjo           |+                     |                                            |\n",
    "|gefitinib|2f4j           |2itz           |+                     |ring flipped compared to ligand template    |"
   ]
  }
 ],
 "metadata": {
  "kernelspec": {
   "display_name": "Python 3",
   "language": "python",
   "name": "python3"
  },
  "language_info": {
   "codemirror_mode": {
    "name": "ipython",
    "version": 3
   },
   "file_extension": ".py",
   "mimetype": "text/x-python",
   "name": "python",
   "nbconvert_exporter": "python",
   "pygments_lexer": "ipython3",
   "version": "3.7.8"
  }
 },
 "nbformat": 4,
 "nbformat_minor": 4
}
