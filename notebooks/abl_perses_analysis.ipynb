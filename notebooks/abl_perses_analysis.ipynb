{
 "cells": [
  {
   "cell_type": "markdown",
   "metadata": {},
   "source": [
    "# Analysis of Abl mutations in Perses"
   ]
  },
  {
   "cell_type": "markdown",
   "metadata": {},
   "source": [
    "Analysis of the Hauser et al. mutations for dasatinib and imatinib inhibitors\n",
    "\n",
    "**Note:** Some simulations are still running for a number of mutations and so the dataset may be incomplete."
   ]
  },
  {
   "cell_type": "code",
   "execution_count": 5,
   "metadata": {},
   "outputs": [],
   "source": [
    "from perses.analysis.analysis import Analysis\n",
    "import numpy as np\n",
    "import seaborn as sns\n",
    "import matplotlib.pyplot as plt\n",
    "import pymbar\n",
    "%matplotlib inline\n",
    "import os\n",
    "import itertools\n",
    "from tqdm import notebook as tqdm_notebook\n",
    "import pandas as pd\n",
    "\n",
    "\n",
    "from simtk.openmm import unit\n",
    "from openmmtools.constants import kB\n",
    "KT_KCALMOL = kB * 300 * unit.kelvin / unit.kilocalories_per_mole"
   ]
  },
  {
   "cell_type": "code",
   "execution_count": 1,
   "metadata": {},
   "outputs": [],
   "source": [
    "def subtract_offset(forward_work, reverse_work):\n",
    "\n",
    "    print(\"--> subtracting offset\")\n",
    "    \n",
    "    forward_work_offset = []\n",
    "    for cycle in forward_work:\n",
    "        forward_work_offset.append(np.array([val - cycle[0] for val in cycle[1:]]))\n",
    "    forward_work_offset = np.array(forward_work_offset)\n",
    "\n",
    "    reverse_work_offset = []\n",
    "    for cycle in reverse_work:\n",
    "        reverse_work_offset.append(np.array([val - cycle[0] for val in cycle[1:]]))\n",
    "    reverse_work_offset = np.array(reverse_work_offset)\n",
    "    \n",
    "    return forward_work_offset, reverse_work_offset"
   ]
  },
  {
   "cell_type": "code",
   "execution_count": 2,
   "metadata": {},
   "outputs": [],
   "source": [
    "def analyse(forward_accumulated, reverse_accumulated):\n",
    "    \n",
    "    print(\"--> computing dg, ddg\")\n",
    "    dg, ddg = pymbar.bar.BAR(forward_accumulated, reverse_accumulated)\n",
    "    \n",
    "    return dg, ddg\n"
   ]
  },
  {
   "cell_type": "code",
   "execution_count": 3,
   "metadata": {},
   "outputs": [],
   "source": [
    "def plot_works(forward_work_offset,\n",
    "               reverse_work_offset,\n",
    "               dg,\n",
    "               ddg,\n",
    "               phase,\n",
    "               mutation,\n",
    "               title,\n",
    "               save=False,\n",
    "               output_dir=None):\n",
    "    \n",
    "    CB_color_cycle = ['#377eb8', '#ff7f00', '#4daf4a',\n",
    "                  '#f781bf', '#a65628', '#984ea3',\n",
    "                  '#999999', '#e41a1c', '#dede00']\n",
    "    \n",
    "    # Plot work trajectories\n",
    "    # TODO: automatically determine the x axis -> this is a bit of a hack at the moment\n",
    "    print(\"--> plotting work trajs\")\n",
    "    \n",
    "    for i, cycle in enumerate(forward_work_offset):\n",
    "        \n",
    "        x = [(j+1)*12.1e-4 for j in range(len(list(cycle)))]\n",
    "        y = cycle\n",
    "        if i==0:\n",
    "            plt.plot(x, y, color=CB_color_cycle[0], label='forward')\n",
    "        else:\n",
    "            plt.plot(x, y, color=CB_color_cycle[0])\n",
    "        \n",
    "    for i, cycle in enumerate(reverse_work_offset):\n",
    "        \n",
    "        x = [(j+1)*12.1e-4 for j in range(len(list(cycle)))]\n",
    "        y = -cycle\n",
    "        if i==0:\n",
    "            plt.plot(x, y, color=CB_color_cycle[1], label='reverse')\n",
    "        else:\n",
    "            plt.plot(x, y, color=CB_color_cycle[1])\n",
    "        \n",
    "    plt.xlabel(\"$t_{neq}$ (ns)\")\n",
    "    plt.ylabel(\"work (kT)\")\n",
    "    plt.title(f\"{title} {phase}\")\n",
    "    plt.legend(loc='best')\n",
    "    if save:\n",
    "        if output_dir is not None:\n",
    "            plt.savefig(os.path.join(output_dir, f\"{mutation}_{phase}_work_traj.png\"), dpi=500)\n",
    "            print(f\"--> saved to: {os.path.join(output_dir, f'{mutation}_{phase}_work_traj.png')}\")\n",
    "        else:\n",
    "            print(\"--> No output_dir specified!\")\n",
    "    else:\n",
    "        plt.show()\n",
    "    plt.clf()\n",
    "    \n",
    "    # Plot work distributions\n",
    "    print(\"--> plotting work distrib\")\n",
    "    \n",
    "    accumulated_forward = [cycle[-1] for cycle in forward_work_offset]\n",
    "    accumulated_reverse = [-cycle[-1] for cycle in reverse_work_offset]\n",
    "    sns.distplot(accumulated_forward, color=CB_color_cycle[0], label='forward')\n",
    "    sns.distplot(accumulated_reverse, color=CB_color_cycle[1], label='reverse')\n",
    "    plt.axvline(dg)\n",
    "    plt.axvline(dg + ddg, linestyle='dashed')\n",
    "    plt.axvline(dg - ddg, linestyle='dashed')\n",
    "    plt.xlabel(\"work (kT)\")\n",
    "    plt.ylabel(\"p(w)\")\n",
    "    plt.title(f\"{title} {phase}\")\n",
    "    plt.legend(loc='best')\n",
    "    if save:\n",
    "        if output_dir is not None:\n",
    "            plt.savefig(os.path.join(output_dir, f\"{mutation}_{phase}_work_dist.png\"), dpi=500)\n",
    "            print(f\"--> saved to: {os.path.join(output_dir, f'{mutation}_{phase}_work_dist.png')}\")\n",
    "        else:\n",
    "            print(\"--> No output_dir specified!\")\n",
    "    else:\n",
    "        plt.show()\n",
    "    plt.clf()"
   ]
  },
  {
   "cell_type": "code",
   "execution_count": 4,
   "metadata": {},
   "outputs": [],
   "source": [
    "# 4xey dasatinib mutations\n",
    "dasatinib_mutations = [\n",
    "    'E255K', 'E255V', 'E355A', 'F317C', 'F317I',\n",
    "    'F317L', 'F317V', 'F359C', 'F359I', 'F359V',\n",
    "    'G250E', 'H396R', 'L248R', 'L248V', 'M244V',\n",
    "    'M351T', 'T315A', 'T315I', 'V299L', 'Y253F'\n",
    "    ]\n",
    "\n",
    "# 2hyy imatinib mutations\n",
    "imatinib_mutations = [\n",
    "    'M244V', 'L248R', 'L248V', 'G250E', 'Y253F',\n",
    "    'E255K', 'E255V', 'V299L', 'T315A', 'T315I',\n",
    "    'F317C', 'F317I', 'F317L', 'F317V', 'M351T',\n",
    "    'E355A', 'F359C', 'F359I', 'F359V', 'H396R',\n",
    "    'E459K'\n",
    "]"
   ]
  },
  {
   "cell_type": "code",
   "execution_count": 12,
   "metadata": {
    "scrolled": false
   },
   "outputs": [
    {
     "output_type": "display_data",
     "data": {
      "text/plain": "HBox(children=(FloatProgress(value=0.0), HTML(value='')))",
      "application/vnd.jupyter.widget-view+json": {
       "version_major": 2,
       "version_minor": 0,
       "model_id": "ada206da976b473285015419fb851a96"
      }
     },
     "metadata": {}
    },
    {
     "output_type": "stream",
     "name": "stdout",
     "text": [
      "\n",
      "(100, 1251)\n",
      "(100, 1251)\n",
      "--> subtracting offset\n",
      "--> computing dg, ddg\n",
      "--> subtracting offset\n",
      "--> computing dg, ddg\n",
      "--> plotting work trajs\n",
      "--> saved to: /lila/home/glassw/GITHUB/study-abl-resistance/notebooks/perses_analysis_output/dasatinib/E255K_complex_work_traj.png\n",
      "--> plotting work distrib\n",
      "--> saved to: /lila/home/glassw/GITHUB/study-abl-resistance/notebooks/perses_analysis_output/dasatinib/E255K_complex_work_dist.png\n",
      "--> plotting work trajs\n",
      "--> saved to: /lila/home/glassw/GITHUB/study-abl-resistance/notebooks/perses_analysis_output/dasatinib/E255K_apo_work_traj.png\n",
      "--> plotting work distrib\n",
      "--> saved to: /lila/home/glassw/GITHUB/study-abl-resistance/notebooks/perses_analysis_output/dasatinib/E255K_apo_work_dist.png\n",
      "--> complex_dg: 88.13278887022689\n",
      "--> apo dg: 87.780638683229\n"
     ]
    },
    {
     "output_type": "display_data",
     "data": {
      "text/plain": "HBox(children=(FloatProgress(value=0.0), HTML(value='')))",
      "application/vnd.jupyter.widget-view+json": {
       "version_major": 2,
       "version_minor": 0,
       "model_id": "ed0891deaddd4987a35035fb9ec3c254"
      }
     },
     "metadata": {}
    },
    {
     "output_type": "stream",
     "name": "stdout",
     "text": [
      "\n",
      "(100, 1251)\n",
      "(100, 1251)\n",
      "--> subtracting offset\n",
      "--> computing dg, ddg\n",
      "--> subtracting offset\n",
      "--> computing dg, ddg\n",
      "--> plotting work trajs\n",
      "--> saved to: /lila/home/glassw/GITHUB/study-abl-resistance/notebooks/perses_analysis_output/dasatinib/E255V_complex_work_traj.png\n",
      "--> plotting work distrib\n",
      "--> saved to: /lila/home/glassw/GITHUB/study-abl-resistance/notebooks/perses_analysis_output/dasatinib/E255V_complex_work_dist.png\n",
      "--> plotting work trajs\n",
      "--> saved to: /lila/home/glassw/GITHUB/study-abl-resistance/notebooks/perses_analysis_output/dasatinib/E255V_apo_work_traj.png\n",
      "--> plotting work distrib\n",
      "--> saved to: /lila/home/glassw/GITHUB/study-abl-resistance/notebooks/perses_analysis_output/dasatinib/E255V_apo_work_dist.png\n",
      "--> complex_dg: 167.51061087390414\n",
      "--> apo dg: 166.40491329537141\n"
     ]
    },
    {
     "output_type": "display_data",
     "data": {
      "text/plain": "HBox(children=(FloatProgress(value=0.0), HTML(value='')))",
      "application/vnd.jupyter.widget-view+json": {
       "version_major": 2,
       "version_minor": 0,
       "model_id": "6e8883eed0194a1fa4dd792205b81a55"
      }
     },
     "metadata": {}
    },
    {
     "output_type": "stream",
     "name": "stdout",
     "text": [
      "\n",
      "(96, 1251)\n",
      "(100, 1251)\n",
      "--> subtracting offset\n",
      "--> computing dg, ddg\n",
      "--> subtracting offset\n",
      "--> computing dg, ddg\n",
      "--> plotting work trajs\n",
      "--> saved to: /lila/home/glassw/GITHUB/study-abl-resistance/notebooks/perses_analysis_output/dasatinib/E355A_complex_work_traj.png\n",
      "--> plotting work distrib\n",
      "--> saved to: /lila/home/glassw/GITHUB/study-abl-resistance/notebooks/perses_analysis_output/dasatinib/E355A_complex_work_dist.png\n",
      "--> plotting work trajs\n",
      "--> saved to: /lila/home/glassw/GITHUB/study-abl-resistance/notebooks/perses_analysis_output/dasatinib/E355A_apo_work_traj.png\n",
      "--> plotting work distrib\n",
      "--> saved to: /lila/home/glassw/GITHUB/study-abl-resistance/notebooks/perses_analysis_output/dasatinib/E355A_apo_work_dist.png\n",
      "--> complex_dg: 144.22325183167385\n",
      "--> apo dg: 144.43374962832823\n"
     ]
    },
    {
     "output_type": "display_data",
     "data": {
      "text/plain": "HBox(children=(FloatProgress(value=0.0), HTML(value='')))",
      "application/vnd.jupyter.widget-view+json": {
       "version_major": 2,
       "version_minor": 0,
       "model_id": "b3eeccd0e9814667a556682a28ba3693"
      }
     },
     "metadata": {}
    },
    {
     "output_type": "stream",
     "name": "stdout",
     "text": [
      "\n",
      "(100, 1251)\n",
      "(100, 1251)\n",
      "--> subtracting offset\n",
      "--> computing dg, ddg\n",
      "--> subtracting offset\n",
      "--> computing dg, ddg\n",
      "--> plotting work trajs\n",
      "--> saved to: /lila/home/glassw/GITHUB/study-abl-resistance/notebooks/perses_analysis_output/dasatinib/F317C_complex_work_traj.png\n",
      "--> plotting work distrib\n",
      "--> saved to: /lila/home/glassw/GITHUB/study-abl-resistance/notebooks/perses_analysis_output/dasatinib/F317C_complex_work_dist.png\n",
      "--> plotting work trajs\n",
      "--> saved to: /lila/home/glassw/GITHUB/study-abl-resistance/notebooks/perses_analysis_output/dasatinib/F317C_apo_work_traj.png\n",
      "--> plotting work distrib\n",
      "--> saved to: /lila/home/glassw/GITHUB/study-abl-resistance/notebooks/perses_analysis_output/dasatinib/F317C_apo_work_dist.png\n",
      "--> complex_dg: 25.796888742392305\n",
      "--> apo dg: 23.160259820482068\n"
     ]
    },
    {
     "output_type": "display_data",
     "data": {
      "text/plain": "HBox(children=(FloatProgress(value=0.0), HTML(value='')))",
      "application/vnd.jupyter.widget-view+json": {
       "version_major": 2,
       "version_minor": 0,
       "model_id": "ad474299a7414bbe869414da088c84e1"
      }
     },
     "metadata": {}
    },
    {
     "output_type": "stream",
     "name": "stdout",
     "text": [
      "\n",
      "(100, 1251)\n",
      "(96, 1251)\n",
      "--> subtracting offset\n",
      "--> computing dg, ddg\n",
      "--> subtracting offset\n",
      "--> computing dg, ddg\n",
      "--> plotting work trajs\n",
      "--> saved to: /lila/home/glassw/GITHUB/study-abl-resistance/notebooks/perses_analysis_output/dasatinib/F317I_complex_work_traj.png\n",
      "--> plotting work distrib\n",
      "--> saved to: /lila/home/glassw/GITHUB/study-abl-resistance/notebooks/perses_analysis_output/dasatinib/F317I_complex_work_dist.png\n",
      "--> plotting work trajs\n",
      "--> saved to: /lila/home/glassw/GITHUB/study-abl-resistance/notebooks/perses_analysis_output/dasatinib/F317I_apo_work_traj.png\n",
      "--> plotting work distrib\n",
      "--> saved to: /lila/home/glassw/GITHUB/study-abl-resistance/notebooks/perses_analysis_output/dasatinib/F317I_apo_work_dist.png\n",
      "--> complex_dg: 27.700176516508524\n",
      "--> apo dg: 24.355188621712536\n"
     ]
    },
    {
     "output_type": "display_data",
     "data": {
      "text/plain": "HBox(children=(FloatProgress(value=0.0), HTML(value='')))",
      "application/vnd.jupyter.widget-view+json": {
       "version_major": 2,
       "version_minor": 0,
       "model_id": "629ddb8bc5934cb78ea243a77c202ec6"
      }
     },
     "metadata": {}
    },
    {
     "output_type": "stream",
     "name": "stdout",
     "text": [
      "\n",
      "(100, 1251)\n",
      "(100, 1251)\n",
      "--> subtracting offset\n",
      "--> computing dg, ddg\n",
      "--> subtracting offset\n",
      "--> computing dg, ddg\n",
      "--> plotting work trajs\n",
      "--> saved to: /lila/home/glassw/GITHUB/study-abl-resistance/notebooks/perses_analysis_output/dasatinib/F317L_complex_work_traj.png\n",
      "--> plotting work distrib\n",
      "--> saved to: /lila/home/glassw/GITHUB/study-abl-resistance/notebooks/perses_analysis_output/dasatinib/F317L_complex_work_dist.png\n",
      "--> plotting work trajs\n",
      "--> saved to: /lila/home/glassw/GITHUB/study-abl-resistance/notebooks/perses_analysis_output/dasatinib/F317L_apo_work_traj.png\n",
      "--> plotting work distrib\n",
      "--> saved to: /lila/home/glassw/GITHUB/study-abl-resistance/notebooks/perses_analysis_output/dasatinib/F317L_apo_work_dist.png\n",
      "--> complex_dg: 22.496068635091927\n",
      "--> apo dg: 16.612852752236112\n"
     ]
    },
    {
     "output_type": "display_data",
     "data": {
      "text/plain": "HBox(children=(FloatProgress(value=0.0), HTML(value='')))",
      "application/vnd.jupyter.widget-view+json": {
       "version_major": 2,
       "version_minor": 0,
       "model_id": "864c0c8fbe7c43e089dc6eb146e664b1"
      }
     },
     "metadata": {}
    },
    {
     "output_type": "stream",
     "name": "stdout",
     "text": [
      "\n",
      "(94, 1251)\n",
      "(85, 1251)\n",
      "--> subtracting offset\n",
      "--> computing dg, ddg\n",
      "--> subtracting offset\n",
      "--> computing dg, ddg\n",
      "--> plotting work trajs\n",
      "--> saved to: /lila/home/glassw/GITHUB/study-abl-resistance/notebooks/perses_analysis_output/dasatinib/F317V_complex_work_traj.png\n",
      "--> plotting work distrib\n",
      "--> saved to: /lila/home/glassw/GITHUB/study-abl-resistance/notebooks/perses_analysis_output/dasatinib/F317V_complex_work_dist.png\n",
      "--> plotting work trajs\n",
      "--> saved to: /lila/home/glassw/GITHUB/study-abl-resistance/notebooks/perses_analysis_output/dasatinib/F317V_apo_work_traj.png\n",
      "--> plotting work distrib\n",
      "--> saved to: /lila/home/glassw/GITHUB/study-abl-resistance/notebooks/perses_analysis_output/dasatinib/F317V_apo_work_dist.png\n",
      "--> complex_dg: 45.93668684846123\n",
      "--> apo dg: 42.37123555759635\n"
     ]
    },
    {
     "output_type": "display_data",
     "data": {
      "text/plain": "HBox(children=(FloatProgress(value=0.0), HTML(value='')))",
      "application/vnd.jupyter.widget-view+json": {
       "version_major": 2,
       "version_minor": 0,
       "model_id": "cec8d801c6f14cbbb8dae6ac8a577f04"
      }
     },
     "metadata": {}
    },
    {
     "output_type": "stream",
     "name": "stdout",
     "text": [
      "\n",
      "(100, 1251)\n",
      "(100, 1251)\n",
      "--> subtracting offset\n",
      "--> computing dg, ddg\n",
      "--> subtracting offset\n",
      "--> computing dg, ddg\n",
      "--> plotting work trajs\n",
      "--> saved to: /lila/home/glassw/GITHUB/study-abl-resistance/notebooks/perses_analysis_output/dasatinib/F359C_complex_work_traj.png\n",
      "--> plotting work distrib\n",
      "--> saved to: /lila/home/glassw/GITHUB/study-abl-resistance/notebooks/perses_analysis_output/dasatinib/F359C_complex_work_dist.png\n",
      "--> plotting work trajs\n",
      "--> saved to: /lila/home/glassw/GITHUB/study-abl-resistance/notebooks/perses_analysis_output/dasatinib/F359C_apo_work_traj.png\n",
      "--> plotting work distrib\n",
      "--> saved to: /lila/home/glassw/GITHUB/study-abl-resistance/notebooks/perses_analysis_output/dasatinib/F359C_apo_work_dist.png\n",
      "--> complex_dg: 18.383535953946843\n",
      "--> apo dg: 18.054830119185425\n"
     ]
    },
    {
     "output_type": "display_data",
     "data": {
      "text/plain": "HBox(children=(FloatProgress(value=0.0), HTML(value='')))",
      "application/vnd.jupyter.widget-view+json": {
       "version_major": 2,
       "version_minor": 0,
       "model_id": "bfb2a57b55df4c6596e5bb57dea3ae37"
      }
     },
     "metadata": {}
    },
    {
     "output_type": "stream",
     "name": "stdout",
     "text": [
      "\n",
      "(96, 1251)\n",
      "(96, 1251)\n",
      "--> subtracting offset\n",
      "--> computing dg, ddg\n",
      "--> subtracting offset\n",
      "--> computing dg, ddg\n",
      "--> plotting work trajs\n",
      "--> saved to: /lila/home/glassw/GITHUB/study-abl-resistance/notebooks/perses_analysis_output/dasatinib/F359I_complex_work_traj.png\n",
      "--> plotting work distrib\n",
      "--> saved to: /lila/home/glassw/GITHUB/study-abl-resistance/notebooks/perses_analysis_output/dasatinib/F359I_complex_work_dist.png\n",
      "--> plotting work trajs\n",
      "--> saved to: /lila/home/glassw/GITHUB/study-abl-resistance/notebooks/perses_analysis_output/dasatinib/F359I_apo_work_traj.png\n",
      "--> plotting work distrib\n",
      "--> saved to: /lila/home/glassw/GITHUB/study-abl-resistance/notebooks/perses_analysis_output/dasatinib/F359I_apo_work_dist.png\n",
      "--> complex_dg: 23.868517836618352\n",
      "--> apo dg: 23.326503167934817\n"
     ]
    },
    {
     "output_type": "display_data",
     "data": {
      "text/plain": "HBox(children=(FloatProgress(value=0.0), HTML(value='')))",
      "application/vnd.jupyter.widget-view+json": {
       "version_major": 2,
       "version_minor": 0,
       "model_id": "d6fcf18a5f854f24b02d103840f93eee"
      }
     },
     "metadata": {}
    },
    {
     "output_type": "stream",
     "name": "stdout",
     "text": [
      "\n",
      "(79, 1251)\n",
      "(83, 1251)\n",
      "--> subtracting offset\n",
      "--> computing dg, ddg\n",
      "--> subtracting offset\n",
      "--> computing dg, ddg\n",
      "--> plotting work trajs\n",
      "--> saved to: /lila/home/glassw/GITHUB/study-abl-resistance/notebooks/perses_analysis_output/dasatinib/F359V_complex_work_traj.png\n",
      "--> plotting work distrib\n",
      "--> saved to: /lila/home/glassw/GITHUB/study-abl-resistance/notebooks/perses_analysis_output/dasatinib/F359V_complex_work_dist.png\n",
      "--> plotting work trajs\n",
      "--> saved to: /lila/home/glassw/GITHUB/study-abl-resistance/notebooks/perses_analysis_output/dasatinib/F359V_apo_work_traj.png\n",
      "--> plotting work distrib\n",
      "--> saved to: /lila/home/glassw/GITHUB/study-abl-resistance/notebooks/perses_analysis_output/dasatinib/F359V_apo_work_dist.png\n",
      "--> complex_dg: 42.849051906935415\n",
      "--> apo dg: 42.25824562961964\n"
     ]
    },
    {
     "output_type": "display_data",
     "data": {
      "text/plain": "HBox(children=(FloatProgress(value=0.0), HTML(value='')))",
      "application/vnd.jupyter.widget-view+json": {
       "version_major": 2,
       "version_minor": 0,
       "model_id": "e99c5a7034e44ed3ad65558d0b1685b7"
      }
     },
     "metadata": {}
    },
    {
     "output_type": "stream",
     "name": "stdout",
     "text": [
      "\n",
      "(100, 1251)\n",
      "(98, 1251)\n",
      "--> subtracting offset\n",
      "--> computing dg, ddg\n",
      "--> subtracting offset\n",
      "--> computing dg, ddg\n",
      "--> plotting work trajs\n",
      "--> saved to: /lila/home/glassw/GITHUB/study-abl-resistance/notebooks/perses_analysis_output/dasatinib/G250E_complex_work_traj.png\n",
      "--> plotting work distrib\n",
      "--> saved to: /lila/home/glassw/GITHUB/study-abl-resistance/notebooks/perses_analysis_output/dasatinib/G250E_complex_work_dist.png\n",
      "--> plotting work trajs\n",
      "--> saved to: /lila/home/glassw/GITHUB/study-abl-resistance/notebooks/perses_analysis_output/dasatinib/G250E_apo_work_traj.png\n",
      "--> plotting work distrib\n",
      "--> saved to: /lila/home/glassw/GITHUB/study-abl-resistance/notebooks/perses_analysis_output/dasatinib/G250E_apo_work_dist.png\n",
      "--> complex_dg: -140.134425653294\n",
      "--> apo dg: -140.14467150541165\n"
     ]
    },
    {
     "output_type": "display_data",
     "data": {
      "text/plain": "HBox(children=(FloatProgress(value=0.0), HTML(value='')))",
      "application/vnd.jupyter.widget-view+json": {
       "version_major": 2,
       "version_minor": 0,
       "model_id": "515eccc98b7241d7bdfce4e558635cc4"
      }
     },
     "metadata": {}
    },
    {
     "output_type": "stream",
     "name": "stdout",
     "text": [
      "\n--> dir H396R has at least one phase without data\n"
     ]
    },
    {
     "output_type": "display_data",
     "data": {
      "text/plain": "HBox(children=(FloatProgress(value=0.0), HTML(value='')))",
      "application/vnd.jupyter.widget-view+json": {
       "version_major": 2,
       "version_minor": 0,
       "model_id": "806b99b7f2c3476484c2d24086a6949e"
      }
     },
     "metadata": {}
    },
    {
     "output_type": "stream",
     "name": "stdout",
     "text": [
      "\n",
      "(100, 1251)\n",
      "(100, 1251)\n",
      "--> subtracting offset\n",
      "--> computing dg, ddg\n",
      "--> subtracting offset\n",
      "--> computing dg, ddg\n",
      "--> plotting work trajs\n",
      "--> saved to: /lila/home/glassw/GITHUB/study-abl-resistance/notebooks/perses_analysis_output/dasatinib/L248R_complex_work_traj.png\n",
      "--> plotting work distrib\n",
      "--> saved to: /lila/home/glassw/GITHUB/study-abl-resistance/notebooks/perses_analysis_output/dasatinib/L248R_complex_work_dist.png\n",
      "--> plotting work trajs\n",
      "--> saved to: /lila/home/glassw/GITHUB/study-abl-resistance/notebooks/perses_analysis_output/dasatinib/L248R_apo_work_traj.png\n",
      "--> plotting work distrib\n",
      "--> saved to: /lila/home/glassw/GITHUB/study-abl-resistance/notebooks/perses_analysis_output/dasatinib/L248R_apo_work_dist.png\n",
      "--> complex_dg: 223.97787432349946\n",
      "--> apo dg: 214.2589145572909\n"
     ]
    },
    {
     "output_type": "display_data",
     "data": {
      "text/plain": "HBox(children=(FloatProgress(value=0.0), HTML(value='')))",
      "application/vnd.jupyter.widget-view+json": {
       "version_major": 2,
       "version_minor": 0,
       "model_id": "1e5bd94cec8d43cd847865985e2be043"
      }
     },
     "metadata": {}
    },
    {
     "output_type": "stream",
     "name": "stdout",
     "text": [
      "\n",
      "(99, 1251)\n",
      "(100, 1251)\n",
      "--> subtracting offset\n",
      "--> computing dg, ddg\n",
      "--> subtracting offset\n",
      "--> computing dg, ddg\n",
      "--> plotting work trajs\n",
      "--> saved to: /lila/home/glassw/GITHUB/study-abl-resistance/notebooks/perses_analysis_output/dasatinib/L248V_complex_work_traj.png\n",
      "--> plotting work distrib\n",
      "--> saved to: /lila/home/glassw/GITHUB/study-abl-resistance/notebooks/perses_analysis_output/dasatinib/L248V_complex_work_dist.png\n",
      "--> plotting work trajs\n",
      "--> saved to: /lila/home/glassw/GITHUB/study-abl-resistance/notebooks/perses_analysis_output/dasatinib/L248V_apo_work_traj.png\n",
      "--> plotting work distrib\n",
      "--> saved to: /lila/home/glassw/GITHUB/study-abl-resistance/notebooks/perses_analysis_output/dasatinib/L248V_apo_work_dist.png\n",
      "--> complex_dg: -3.6164771546441825\n",
      "--> apo dg: -4.01772452984385\n"
     ]
    },
    {
     "output_type": "display_data",
     "data": {
      "text/plain": "HBox(children=(FloatProgress(value=0.0), HTML(value='')))",
      "application/vnd.jupyter.widget-view+json": {
       "version_major": 2,
       "version_minor": 0,
       "model_id": "4c4dd9b5d7384bacbbe92856e93e5f56"
      }
     },
     "metadata": {}
    },
    {
     "output_type": "stream",
     "name": "stdout",
     "text": [
      "\n",
      "(100, 1251)\n",
      "(100, 1251)\n",
      "--> subtracting offset\n",
      "--> computing dg, ddg\n",
      "--> subtracting offset\n",
      "--> computing dg, ddg\n",
      "--> plotting work trajs\n",
      "--> saved to: /lila/home/glassw/GITHUB/study-abl-resistance/notebooks/perses_analysis_output/dasatinib/M244V_complex_work_traj.png\n",
      "--> plotting work distrib\n",
      "--> saved to: /lila/home/glassw/GITHUB/study-abl-resistance/notebooks/perses_analysis_output/dasatinib/M244V_complex_work_dist.png\n",
      "--> plotting work trajs\n",
      "--> saved to: /lila/home/glassw/GITHUB/study-abl-resistance/notebooks/perses_analysis_output/dasatinib/M244V_apo_work_traj.png\n",
      "--> plotting work distrib\n",
      "--> saved to: /lila/home/glassw/GITHUB/study-abl-resistance/notebooks/perses_analysis_output/dasatinib/M244V_apo_work_dist.png\n",
      "--> complex_dg: 17.782103533197716\n",
      "--> apo dg: 17.66686460262487\n"
     ]
    },
    {
     "output_type": "display_data",
     "data": {
      "text/plain": "HBox(children=(FloatProgress(value=0.0), HTML(value='')))",
      "application/vnd.jupyter.widget-view+json": {
       "version_major": 2,
       "version_minor": 0,
       "model_id": "7ffb26dc1cac4b81b424bd0a6896d725"
      }
     },
     "metadata": {}
    },
    {
     "output_type": "stream",
     "name": "stdout",
     "text": [
      "\n",
      "(100, 1251)\n",
      "(100, 1251)\n",
      "--> subtracting offset\n",
      "--> computing dg, ddg\n",
      "--> subtracting offset\n",
      "--> computing dg, ddg\n",
      "--> plotting work trajs\n",
      "--> saved to: /lila/home/glassw/GITHUB/study-abl-resistance/notebooks/perses_analysis_output/dasatinib/M351T_complex_work_traj.png\n",
      "--> plotting work distrib\n",
      "--> saved to: /lila/home/glassw/GITHUB/study-abl-resistance/notebooks/perses_analysis_output/dasatinib/M351T_complex_work_dist.png\n",
      "--> plotting work trajs\n",
      "--> saved to: /lila/home/glassw/GITHUB/study-abl-resistance/notebooks/perses_analysis_output/dasatinib/M351T_apo_work_traj.png\n",
      "--> plotting work distrib\n",
      "--> saved to: /lila/home/glassw/GITHUB/study-abl-resistance/notebooks/perses_analysis_output/dasatinib/M351T_apo_work_dist.png\n",
      "--> complex_dg: 38.27548994506478\n",
      "--> apo dg: 38.2686007304109\n"
     ]
    },
    {
     "output_type": "display_data",
     "data": {
      "text/plain": "HBox(children=(FloatProgress(value=0.0), HTML(value='')))",
      "application/vnd.jupyter.widget-view+json": {
       "version_major": 2,
       "version_minor": 0,
       "model_id": "ff6b52aa06ec47b5870322b29ac1c1f6"
      }
     },
     "metadata": {}
    },
    {
     "output_type": "stream",
     "name": "stdout",
     "text": [
      "\n",
      "(100, 1251)\n",
      "(100, 1251)\n",
      "--> subtracting offset\n",
      "--> computing dg, ddg\n",
      "--> subtracting offset\n",
      "--> computing dg, ddg\n",
      "--> plotting work trajs\n",
      "--> saved to: /lila/home/glassw/GITHUB/study-abl-resistance/notebooks/perses_analysis_output/dasatinib/T315A_complex_work_traj.png\n",
      "--> plotting work distrib\n",
      "--> saved to: /lila/home/glassw/GITHUB/study-abl-resistance/notebooks/perses_analysis_output/dasatinib/T315A_complex_work_dist.png\n",
      "--> plotting work trajs\n",
      "--> saved to: /lila/home/glassw/GITHUB/study-abl-resistance/notebooks/perses_analysis_output/dasatinib/T315A_apo_work_traj.png\n",
      "--> plotting work distrib\n",
      "--> saved to: /lila/home/glassw/GITHUB/study-abl-resistance/notebooks/perses_analysis_output/dasatinib/T315A_apo_work_dist.png\n",
      "--> complex_dg: -38.43916600968556\n",
      "--> apo dg: -42.790856479421876\n"
     ]
    },
    {
     "output_type": "display_data",
     "data": {
      "text/plain": "HBox(children=(FloatProgress(value=0.0), HTML(value='')))",
      "application/vnd.jupyter.widget-view+json": {
       "version_major": 2,
       "version_minor": 0,
       "model_id": "51537738011a4142ae45f1a4596646f7"
      }
     },
     "metadata": {}
    },
    {
     "output_type": "stream",
     "name": "stdout",
     "text": [
      "\n",
      "(100, 1251)\n",
      "(100, 1251)\n",
      "--> subtracting offset\n",
      "--> computing dg, ddg\n",
      "--> subtracting offset\n",
      "--> computing dg, ddg\n",
      "--> plotting work trajs\n",
      "--> saved to: /lila/home/glassw/GITHUB/study-abl-resistance/notebooks/perses_analysis_output/dasatinib/T315I_complex_work_traj.png\n",
      "--> plotting work distrib\n",
      "--> saved to: /lila/home/glassw/GITHUB/study-abl-resistance/notebooks/perses_analysis_output/dasatinib/T315I_complex_work_dist.png\n",
      "--> plotting work trajs\n",
      "--> saved to: /lila/home/glassw/GITHUB/study-abl-resistance/notebooks/perses_analysis_output/dasatinib/T315I_apo_work_traj.png\n",
      "--> plotting work distrib\n",
      "--> saved to: /lila/home/glassw/GITHUB/study-abl-resistance/notebooks/perses_analysis_output/dasatinib/T315I_apo_work_dist.png\n",
      "--> complex_dg: 22.389351804090488\n",
      "--> apo dg: 17.762215768105488\n"
     ]
    },
    {
     "output_type": "display_data",
     "data": {
      "text/plain": "HBox(children=(FloatProgress(value=0.0), HTML(value='')))",
      "application/vnd.jupyter.widget-view+json": {
       "version_major": 2,
       "version_minor": 0,
       "model_id": "911992a5d285487fb0a86953be3341c7"
      }
     },
     "metadata": {}
    },
    {
     "output_type": "stream",
     "name": "stdout",
     "text": [
      "\n",
      "(92, 1251)\n",
      "(58, 1251)\n",
      "--> subtracting offset\n",
      "--> computing dg, ddg\n",
      "--> subtracting offset\n",
      "--> computing dg, ddg\n",
      "--> plotting work trajs\n",
      "--> saved to: /lila/home/glassw/GITHUB/study-abl-resistance/notebooks/perses_analysis_output/dasatinib/V299L_complex_work_traj.png\n",
      "--> plotting work distrib\n",
      "--> saved to: /lila/home/glassw/GITHUB/study-abl-resistance/notebooks/perses_analysis_output/dasatinib/V299L_complex_work_dist.png\n",
      "--> plotting work trajs\n",
      "--> saved to: /lila/home/glassw/GITHUB/study-abl-resistance/notebooks/perses_analysis_output/dasatinib/V299L_apo_work_traj.png\n",
      "--> plotting work distrib\n",
      "--> saved to: /lila/home/glassw/GITHUB/study-abl-resistance/notebooks/perses_analysis_output/dasatinib/V299L_apo_work_dist.png\n",
      "--> complex_dg: 8.464391603207996\n",
      "--> apo dg: 6.107978948285946\n"
     ]
    },
    {
     "output_type": "display_data",
     "data": {
      "text/plain": "HBox(children=(FloatProgress(value=0.0), HTML(value='')))",
      "application/vnd.jupyter.widget-view+json": {
       "version_major": 2,
       "version_minor": 0,
       "model_id": "aab721e25269467bb874461119891aa1"
      }
     },
     "metadata": {}
    },
    {
     "output_type": "stream",
     "name": "stdout",
     "text": [
      "\n",
      "(100, 1251)\n",
      "(100, 1251)\n",
      "--> subtracting offset\n",
      "--> computing dg, ddg\n",
      "--> subtracting offset\n",
      "--> computing dg, ddg\n",
      "--> plotting work trajs\n",
      "--> saved to: /lila/home/glassw/GITHUB/study-abl-resistance/notebooks/perses_analysis_output/dasatinib/Y253F_complex_work_traj.png\n",
      "--> plotting work distrib\n",
      "--> saved to: /lila/home/glassw/GITHUB/study-abl-resistance/notebooks/perses_analysis_output/dasatinib/Y253F_complex_work_dist.png\n",
      "--> plotting work trajs\n",
      "--> saved to: /lila/home/glassw/GITHUB/study-abl-resistance/notebooks/perses_analysis_output/dasatinib/Y253F_apo_work_traj.png\n",
      "--> plotting work distrib\n",
      "--> saved to: /lila/home/glassw/GITHUB/study-abl-resistance/notebooks/perses_analysis_output/dasatinib/Y253F_apo_work_dist.png\n",
      "--> complex_dg: -0.7192513584570825\n",
      "--> apo dg: -1.7977034149970241\n"
     ]
    },
    {
     "output_type": "display_data",
     "data": {
      "text/plain": "<Figure size 432x288 with 0 Axes>"
     },
     "metadata": {}
    }
   ],
   "source": [
    "tki = 'dasatinib'\n",
    "pdb_code = '4xey'\n",
    "sim_df_dasatinib = {}\n",
    "\n",
    "for mutation in dasatinib_mutations:\n",
    "\n",
    "    # Load and combine arrays\n",
    "    forward_complex_arrays = []\n",
    "    reverse_complex_arrays = []\n",
    "    forward_apo_arrays = []\n",
    "    reverse_apo_arrays = []\n",
    "\n",
    "    for j in tqdm_notebook.tqdm(range(100)):\n",
    "\n",
    "        # Note: dasatinib runs contain no trajectory [WIP]\n",
    "        forward_complex_path = f'/data/chodera/glassw/kinoml/Abl/Hauser_mutations/run_neq_NoTraj/{pdb_code}/{mutation}/{pdb_code}_{tki}_{mutation}_complex_{j}_forward.npy'\n",
    "        reverse_complex_path = f'/data/chodera/glassw/kinoml/Abl/Hauser_mutations/run_neq_NoTraj/{pdb_code}/{mutation}/{pdb_code}_{tki}_{mutation}_complex_{j}_reverse.npy'\n",
    "        forward_apo_path = f'/data/chodera/glassw/kinoml/Abl/Hauser_mutations/run_neq_NoTraj/{pdb_code}/{mutation}/{pdb_code}_{tki}_{mutation}_apo_{j}_forward.npy'\n",
    "        reverse_apo_path = f'/data/chodera/glassw/kinoml/Abl/Hauser_mutations/run_neq_NoTraj/{pdb_code}/{mutation}/{pdb_code}_{tki}_{mutation}_apo_{j}_reverse.npy'\n",
    "\n",
    "        if os.path.exists(forward_complex_path):\n",
    "            with open(forward_complex_path, 'rb') as f:\n",
    "                forward_complex_arrays.append(np.load(f))\n",
    "\n",
    "        if os.path.exists(reverse_complex_path):\n",
    "            with open(reverse_complex_path, 'rb') as f:\n",
    "                reverse_complex_arrays.append(np.load(f))\n",
    "\n",
    "        if os.path.exists(forward_apo_path):\n",
    "            with open(forward_apo_path, 'rb') as f:\n",
    "                forward_apo_arrays.append(np.load(f))\n",
    "\n",
    "        if os.path.exists(reverse_apo_path):\n",
    "            with open(reverse_apo_path, 'rb') as f:\n",
    "                reverse_apo_arrays.append(np.load(f))\n",
    "\n",
    "    if forward_complex_arrays and reverse_complex_arrays and forward_apo_arrays and reverse_apo_arrays:\n",
    "\n",
    "        forward_complex_combined = np.concatenate(forward_complex_arrays)\n",
    "        forward_complex_accumulated = np.array([cycle[-1] - cycle[0] for cycle in forward_complex_combined]) # compute this separately bc the last value of the subsampled array is diff than the actual last sample\n",
    "        forward_complex_combined = np.array([cycle for cycle in forward_complex_combined])\n",
    "        print(forward_complex_combined.shape)\n",
    "\n",
    "        reverse_complex_combined = np.concatenate(reverse_complex_arrays)\n",
    "        reverse_complex_accumulated = np.array([cycle[-1] - cycle[0] for cycle in reverse_complex_combined])\n",
    "        reverse_complex_combined = np.array([cycle for cycle in reverse_complex_combined])\n",
    "\n",
    "        forward_apo_combined = np.concatenate(forward_apo_arrays)\n",
    "        forward_apo_accumulated = np.array([cycle[-1] - cycle[0] for cycle in forward_apo_combined])\n",
    "        forward_apo_combined = np.array([cycle for cycle in forward_apo_combined])\n",
    "        print(forward_apo_combined.shape)\n",
    "\n",
    "        reverse_apo_combined = np.concatenate(reverse_apo_arrays)\n",
    "        reverse_apo_accumulated = np.array([cycle[-1] - cycle[0] for cycle in reverse_apo_combined])\n",
    "        reverse_apo_combined = np.array([cycle for cycle in reverse_apo_combined])\n",
    "\n",
    "\n",
    "        # Analyse\n",
    "\n",
    "        ## complex\n",
    "        forward_complex_work_offset, reverse_complex_work_offset = subtract_offset(forward_complex_combined,\n",
    "                                                                                   reverse_complex_combined)\n",
    "\n",
    "        complex_dg, complex_ddg = analyse(forward_complex_accumulated,\n",
    "                                          reverse_complex_accumulated)\n",
    "\n",
    "        ## apo\n",
    "        forward_apo_work_offset, reverse_apo_work_offset = subtract_offset(forward_apo_combined,\n",
    "                                                                           reverse_apo_combined)\n",
    "\n",
    "        apo_dg, apo_ddg = analyse(forward_apo_accumulated, reverse_apo_accumulated)\n",
    "\n",
    "        ## plot the work trajectories and distibutions\n",
    "        complex_plot = plot_works(forward_complex_work_offset,\n",
    "                                  reverse_complex_work_offset,\n",
    "                                  complex_dg,\n",
    "                                  complex_ddg,\n",
    "                                  phase='complex',\n",
    "                                  mutation=mutation,\n",
    "                                  title=f'{pdb_code.upper()}-{tki} {mutation}',\n",
    "                                  save=True,\n",
    "                                  output_dir=f'/lila/home/glassw/GITHUB/study-abl-resistance/notebooks/perses_analysis_output/{tki}')\n",
    "\n",
    "        apo_plot = plot_works(forward_apo_work_offset,\n",
    "                              reverse_apo_work_offset,\n",
    "                              apo_dg,\n",
    "                              apo_ddg,\n",
    "                              phase='apo',\n",
    "                              mutation=mutation,\n",
    "                              title=f'{pdb_code.upper()}-{tki} {mutation}',\n",
    "                              save=True,\n",
    "                              output_dir=f'/lila/home/glassw/GITHUB/study-abl-resistance/notebooks/perses_analysis_output/{tki}')\n",
    "\n",
    "        ## Get binding dg and ddg\n",
    "        binding_dg = complex_dg - apo_dg\n",
    "        binding_ddg = (apo_ddg**2 + complex_ddg**2)**0.5\n",
    "        sim_df_dasatinib[mutation] = [binding_dg, binding_ddg]\n",
    "        print(f\"--> complex_dg: {complex_dg}\")\n",
    "        print(f\"--> apo dg: {apo_dg}\")\n",
    "\n",
    "    else:\n",
    "        print(f\"--> dir {mutation} has at least one phase without data\" )"
   ]
  },
  {
   "cell_type": "code",
   "execution_count": 7,
   "metadata": {},
   "outputs": [
    {
     "output_type": "display_data",
     "data": {
      "text/plain": "HBox(children=(FloatProgress(value=0.0), HTML(value='')))",
      "application/vnd.jupyter.widget-view+json": {
       "version_major": 2,
       "version_minor": 0,
       "model_id": "f1d8952bd8974a079c45eaad4982b76c"
      }
     },
     "metadata": {}
    },
    {
     "output_type": "stream",
     "name": "stdout",
     "text": [
      "\n",
      "(98, 1251)\n",
      "(92, 1251)\n",
      "--> subtracting offset\n",
      "--> computing dg, ddg\n",
      "--> subtracting offset\n",
      "--> computing dg, ddg\n",
      "--> plotting work trajs\n",
      "--> saved to: /lila/home/glassw/GITHUB/study-abl-resistance/notebooks/perses_analysis_output/imatinib/M244V_complex_work_traj.png\n",
      "--> plotting work distrib\n",
      "--> saved to: /lila/home/glassw/GITHUB/study-abl-resistance/notebooks/perses_analysis_output/imatinib/M244V_complex_work_dist.png\n",
      "--> plotting work trajs\n",
      "--> saved to: /lila/home/glassw/GITHUB/study-abl-resistance/notebooks/perses_analysis_output/imatinib/M244V_apo_work_traj.png\n",
      "--> plotting work distrib\n",
      "--> saved to: /lila/home/glassw/GITHUB/study-abl-resistance/notebooks/perses_analysis_output/imatinib/M244V_apo_work_dist.png\n",
      "--> complex_dg: 16.955464368038232\n",
      "--> apo dg: 17.692409055749348\n"
     ]
    },
    {
     "output_type": "display_data",
     "data": {
      "text/plain": "HBox(children=(FloatProgress(value=0.0), HTML(value='')))",
      "application/vnd.jupyter.widget-view+json": {
       "version_major": 2,
       "version_minor": 0,
       "model_id": "cbced68e2abb4dcd8e36d1a59884b05c"
      }
     },
     "metadata": {}
    },
    {
     "output_type": "stream",
     "name": "stdout",
     "text": [
      "\n",
      "(96, 1251)\n",
      "(96, 1251)\n",
      "--> subtracting offset\n",
      "--> computing dg, ddg\n",
      "--> subtracting offset\n",
      "--> computing dg, ddg\n",
      "--> plotting work trajs\n",
      "--> saved to: /lila/home/glassw/GITHUB/study-abl-resistance/notebooks/perses_analysis_output/imatinib/L248R_complex_work_traj.png\n",
      "--> plotting work distrib\n",
      "--> saved to: /lila/home/glassw/GITHUB/study-abl-resistance/notebooks/perses_analysis_output/imatinib/L248R_complex_work_dist.png\n",
      "--> plotting work trajs\n",
      "--> saved to: /lila/home/glassw/GITHUB/study-abl-resistance/notebooks/perses_analysis_output/imatinib/L248R_apo_work_traj.png\n",
      "--> plotting work distrib\n",
      "--> saved to: /lila/home/glassw/GITHUB/study-abl-resistance/notebooks/perses_analysis_output/imatinib/L248R_apo_work_dist.png\n",
      "--> complex_dg: 216.06272702498163\n",
      "--> apo dg: 212.70699023569264\n"
     ]
    },
    {
     "output_type": "display_data",
     "data": {
      "text/plain": "HBox(children=(FloatProgress(value=0.0), HTML(value='')))",
      "application/vnd.jupyter.widget-view+json": {
       "version_major": 2,
       "version_minor": 0,
       "model_id": "19f8984a18264cd18e8d890751c1697a"
      }
     },
     "metadata": {}
    },
    {
     "output_type": "stream",
     "name": "stdout",
     "text": [
      "\n",
      "(100, 1251)\n",
      "(51, 1251)\n",
      "--> subtracting offset\n",
      "--> computing dg, ddg\n",
      "--> subtracting offset\n",
      "--> computing dg, ddg\n",
      "--> plotting work trajs\n",
      "--> saved to: /lila/home/glassw/GITHUB/study-abl-resistance/notebooks/perses_analysis_output/imatinib/L248V_complex_work_traj.png\n",
      "--> plotting work distrib\n",
      "--> saved to: /lila/home/glassw/GITHUB/study-abl-resistance/notebooks/perses_analysis_output/imatinib/L248V_complex_work_dist.png\n",
      "--> plotting work trajs\n",
      "--> saved to: /lila/home/glassw/GITHUB/study-abl-resistance/notebooks/perses_analysis_output/imatinib/L248V_apo_work_traj.png\n",
      "--> plotting work distrib\n",
      "--> saved to: /lila/home/glassw/GITHUB/study-abl-resistance/notebooks/perses_analysis_output/imatinib/L248V_apo_work_dist.png\n",
      "--> complex_dg: -6.126462659470182\n",
      "--> apo dg: -5.180664492335502\n"
     ]
    },
    {
     "output_type": "display_data",
     "data": {
      "text/plain": "HBox(children=(FloatProgress(value=0.0), HTML(value='')))",
      "application/vnd.jupyter.widget-view+json": {
       "version_major": 2,
       "version_minor": 0,
       "model_id": "6742660a6e144632a1f7e52bbd038d96"
      }
     },
     "metadata": {}
    },
    {
     "output_type": "stream",
     "name": "stdout",
     "text": [
      "\n",
      "(77, 1251)\n",
      "(63, 1251)\n",
      "--> subtracting offset\n",
      "--> computing dg, ddg\n",
      "--> subtracting offset\n",
      "--> computing dg, ddg\n",
      "--> plotting work trajs\n",
      "--> saved to: /lila/home/glassw/GITHUB/study-abl-resistance/notebooks/perses_analysis_output/imatinib/G250E_complex_work_traj.png\n",
      "--> plotting work distrib\n",
      "--> saved to: /lila/home/glassw/GITHUB/study-abl-resistance/notebooks/perses_analysis_output/imatinib/G250E_complex_work_dist.png\n",
      "--> plotting work trajs\n",
      "--> saved to: /lila/home/glassw/GITHUB/study-abl-resistance/notebooks/perses_analysis_output/imatinib/G250E_apo_work_traj.png\n",
      "--> plotting work distrib\n",
      "--> saved to: /lila/home/glassw/GITHUB/study-abl-resistance/notebooks/perses_analysis_output/imatinib/G250E_apo_work_dist.png\n",
      "--> complex_dg: -139.99941753268538\n",
      "--> apo dg: -139.41791789419074\n"
     ]
    },
    {
     "output_type": "display_data",
     "data": {
      "text/plain": "HBox(children=(FloatProgress(value=0.0), HTML(value='')))",
      "application/vnd.jupyter.widget-view+json": {
       "version_major": 2,
       "version_minor": 0,
       "model_id": "a62c71f9be4148e28482248e6c662fc3"
      }
     },
     "metadata": {}
    },
    {
     "output_type": "stream",
     "name": "stdout",
     "text": [
      "\n",
      "(59, 1251)\n",
      "(66, 1251)\n",
      "--> subtracting offset\n",
      "--> computing dg, ddg\n",
      "--> subtracting offset\n",
      "--> computing dg, ddg\n",
      "--> plotting work trajs\n",
      "--> saved to: /lila/home/glassw/GITHUB/study-abl-resistance/notebooks/perses_analysis_output/imatinib/Y253F_complex_work_traj.png\n",
      "--> plotting work distrib\n",
      "--> saved to: /lila/home/glassw/GITHUB/study-abl-resistance/notebooks/perses_analysis_output/imatinib/Y253F_complex_work_dist.png\n",
      "--> plotting work trajs\n",
      "--> saved to: /lila/home/glassw/GITHUB/study-abl-resistance/notebooks/perses_analysis_output/imatinib/Y253F_apo_work_traj.png\n",
      "--> plotting work distrib\n",
      "--> saved to: /lila/home/glassw/GITHUB/study-abl-resistance/notebooks/perses_analysis_output/imatinib/Y253F_apo_work_dist.png\n",
      "--> complex_dg: -0.6236583048266383\n",
      "--> apo dg: -1.3504533571733002\n"
     ]
    },
    {
     "output_type": "display_data",
     "data": {
      "text/plain": "HBox(children=(FloatProgress(value=0.0), HTML(value='')))",
      "application/vnd.jupyter.widget-view+json": {
       "version_major": 2,
       "version_minor": 0,
       "model_id": "fdd2bfdf805d4f5293a09325f922a177"
      }
     },
     "metadata": {}
    },
    {
     "output_type": "stream",
     "name": "stdout",
     "text": [
      "\n",
      "(65, 1251)\n",
      "(63, 1251)\n",
      "--> subtracting offset\n",
      "--> computing dg, ddg\n",
      "--> subtracting offset\n",
      "--> computing dg, ddg\n",
      "--> plotting work trajs\n",
      "--> saved to: /lila/home/glassw/GITHUB/study-abl-resistance/notebooks/perses_analysis_output/imatinib/E255K_complex_work_traj.png\n",
      "--> plotting work distrib\n",
      "--> saved to: /lila/home/glassw/GITHUB/study-abl-resistance/notebooks/perses_analysis_output/imatinib/E255K_complex_work_dist.png\n",
      "--> plotting work trajs\n",
      "--> saved to: /lila/home/glassw/GITHUB/study-abl-resistance/notebooks/perses_analysis_output/imatinib/E255K_apo_work_traj.png\n",
      "--> plotting work distrib\n",
      "--> saved to: /lila/home/glassw/GITHUB/study-abl-resistance/notebooks/perses_analysis_output/imatinib/E255K_apo_work_dist.png\n",
      "--> complex_dg: 89.52463575128951\n",
      "--> apo dg: 88.13562657912775\n"
     ]
    },
    {
     "output_type": "display_data",
     "data": {
      "text/plain": "HBox(children=(FloatProgress(value=0.0), HTML(value='')))",
      "application/vnd.jupyter.widget-view+json": {
       "version_major": 2,
       "version_minor": 0,
       "model_id": "0a6789d0213e49f7bbe4ce150ca0b4c5"
      }
     },
     "metadata": {}
    },
    {
     "output_type": "stream",
     "name": "stdout",
     "text": [
      "\n",
      "(67, 1251)\n",
      "(55, 1251)\n",
      "--> subtracting offset\n",
      "--> computing dg, ddg\n",
      "--> subtracting offset\n",
      "--> computing dg, ddg\n",
      "--> plotting work trajs\n",
      "--> saved to: /lila/home/glassw/GITHUB/study-abl-resistance/notebooks/perses_analysis_output/imatinib/E255V_complex_work_traj.png\n",
      "--> plotting work distrib\n",
      "--> saved to: /lila/home/glassw/GITHUB/study-abl-resistance/notebooks/perses_analysis_output/imatinib/E255V_complex_work_dist.png\n",
      "--> plotting work trajs\n",
      "--> saved to: /lila/home/glassw/GITHUB/study-abl-resistance/notebooks/perses_analysis_output/imatinib/E255V_apo_work_traj.png\n",
      "--> plotting work distrib\n",
      "--> saved to: /lila/home/glassw/GITHUB/study-abl-resistance/notebooks/perses_analysis_output/imatinib/E255V_apo_work_dist.png\n",
      "--> complex_dg: 168.13500233662083\n",
      "--> apo dg: 166.39395170998486\n"
     ]
    },
    {
     "output_type": "display_data",
     "data": {
      "text/plain": "HBox(children=(FloatProgress(value=0.0), HTML(value='')))",
      "application/vnd.jupyter.widget-view+json": {
       "version_major": 2,
       "version_minor": 0,
       "model_id": "a10895a5bc5845fd93679c59596acb1a"
      }
     },
     "metadata": {}
    },
    {
     "output_type": "stream",
     "name": "stdout",
     "text": [
      "\n",
      "(20, 1251)\n",
      "(13, 1251)\n",
      "--> subtracting offset\n",
      "--> computing dg, ddg\n",
      "--> subtracting offset\n",
      "--> computing dg, ddg\n",
      "--> plotting work trajs\n",
      "--> saved to: /lila/home/glassw/GITHUB/study-abl-resistance/notebooks/perses_analysis_output/imatinib/V299L_complex_work_traj.png\n",
      "--> plotting work distrib\n",
      "--> saved to: /lila/home/glassw/GITHUB/study-abl-resistance/notebooks/perses_analysis_output/imatinib/V299L_complex_work_dist.png\n",
      "--> plotting work trajs\n",
      "--> saved to: /lila/home/glassw/GITHUB/study-abl-resistance/notebooks/perses_analysis_output/imatinib/V299L_apo_work_traj.png\n",
      "--> plotting work distrib\n",
      "--> saved to: /lila/home/glassw/GITHUB/study-abl-resistance/notebooks/perses_analysis_output/imatinib/V299L_apo_work_dist.png\n",
      "--> complex_dg: 4.242183682131279\n",
      "--> apo dg: 5.33514580672798\n"
     ]
    },
    {
     "output_type": "display_data",
     "data": {
      "text/plain": "HBox(children=(FloatProgress(value=0.0), HTML(value='')))",
      "application/vnd.jupyter.widget-view+json": {
       "version_major": 2,
       "version_minor": 0,
       "model_id": "d0e38f464d5748c283852c20621a5273"
      }
     },
     "metadata": {}
    },
    {
     "output_type": "stream",
     "name": "stdout",
     "text": [
      "\n--> dir T315A has at least one phase without data\n"
     ]
    },
    {
     "output_type": "display_data",
     "data": {
      "text/plain": "HBox(children=(FloatProgress(value=0.0), HTML(value='')))",
      "application/vnd.jupyter.widget-view+json": {
       "version_major": 2,
       "version_minor": 0,
       "model_id": "d484e38ffec74dd19ece556aa80cd758"
      }
     },
     "metadata": {}
    },
    {
     "output_type": "stream",
     "name": "stdout",
     "text": [
      "\n--> dir T315I has at least one phase without data\n"
     ]
    },
    {
     "output_type": "display_data",
     "data": {
      "text/plain": "HBox(children=(FloatProgress(value=0.0), HTML(value='')))",
      "application/vnd.jupyter.widget-view+json": {
       "version_major": 2,
       "version_minor": 0,
       "model_id": "e18ffa36f67141988198954df44b436d"
      }
     },
     "metadata": {}
    },
    {
     "output_type": "stream",
     "name": "stdout",
     "text": [
      "\n--> dir F317C has at least one phase without data\n"
     ]
    },
    {
     "output_type": "display_data",
     "data": {
      "text/plain": "HBox(children=(FloatProgress(value=0.0), HTML(value='')))",
      "application/vnd.jupyter.widget-view+json": {
       "version_major": 2,
       "version_minor": 0,
       "model_id": "6c33eefd356d4f329bf13bd15e30145c"
      }
     },
     "metadata": {}
    },
    {
     "output_type": "stream",
     "name": "stdout",
     "text": [
      "\n--> dir F317I has at least one phase without data\n"
     ]
    },
    {
     "output_type": "display_data",
     "data": {
      "text/plain": "HBox(children=(FloatProgress(value=0.0), HTML(value='')))",
      "application/vnd.jupyter.widget-view+json": {
       "version_major": 2,
       "version_minor": 0,
       "model_id": "91f27c0e8b8e45abab4d9632fc0d7adc"
      }
     },
     "metadata": {}
    },
    {
     "output_type": "stream",
     "name": "stdout",
     "text": [
      "\n--> dir F317L has at least one phase without data\n"
     ]
    },
    {
     "output_type": "display_data",
     "data": {
      "text/plain": "HBox(children=(FloatProgress(value=0.0), HTML(value='')))",
      "application/vnd.jupyter.widget-view+json": {
       "version_major": 2,
       "version_minor": 0,
       "model_id": "799e215320bc459a8c36058711930ed6"
      }
     },
     "metadata": {}
    },
    {
     "output_type": "stream",
     "name": "stdout",
     "text": [
      "\n--> dir F317V has at least one phase without data\n"
     ]
    },
    {
     "output_type": "display_data",
     "data": {
      "text/plain": "HBox(children=(FloatProgress(value=0.0), HTML(value='')))",
      "application/vnd.jupyter.widget-view+json": {
       "version_major": 2,
       "version_minor": 0,
       "model_id": "a066f3afaabe4973a78427505e440268"
      }
     },
     "metadata": {}
    },
    {
     "output_type": "stream",
     "name": "stdout",
     "text": [
      "\n--> dir M351T has at least one phase without data\n"
     ]
    },
    {
     "output_type": "display_data",
     "data": {
      "text/plain": "HBox(children=(FloatProgress(value=0.0), HTML(value='')))",
      "application/vnd.jupyter.widget-view+json": {
       "version_major": 2,
       "version_minor": 0,
       "model_id": "fa274c2fc0324b908f0fe3f7ff5b3c09"
      }
     },
     "metadata": {}
    },
    {
     "output_type": "stream",
     "name": "stdout",
     "text": [
      "\n--> dir E355A has at least one phase without data\n"
     ]
    },
    {
     "output_type": "display_data",
     "data": {
      "text/plain": "HBox(children=(FloatProgress(value=0.0), HTML(value='')))",
      "application/vnd.jupyter.widget-view+json": {
       "version_major": 2,
       "version_minor": 0,
       "model_id": "28b6f9f024f24530838e2770d3d9818b"
      }
     },
     "metadata": {}
    },
    {
     "output_type": "stream",
     "name": "stdout",
     "text": [
      "\n--> dir F359C has at least one phase without data\n"
     ]
    },
    {
     "output_type": "display_data",
     "data": {
      "text/plain": "HBox(children=(FloatProgress(value=0.0), HTML(value='')))",
      "application/vnd.jupyter.widget-view+json": {
       "version_major": 2,
       "version_minor": 0,
       "model_id": "46e766a21b904dea91e6668c9c470a68"
      }
     },
     "metadata": {}
    },
    {
     "output_type": "stream",
     "name": "stdout",
     "text": [
      "\n--> dir F359I has at least one phase without data\n"
     ]
    },
    {
     "output_type": "display_data",
     "data": {
      "text/plain": "HBox(children=(FloatProgress(value=0.0), HTML(value='')))",
      "application/vnd.jupyter.widget-view+json": {
       "version_major": 2,
       "version_minor": 0,
       "model_id": "0c726a304fe34ddfbfd2eb7e06890c35"
      }
     },
     "metadata": {}
    },
    {
     "output_type": "stream",
     "name": "stdout",
     "text": [
      "\n--> dir F359V has at least one phase without data\n"
     ]
    },
    {
     "output_type": "display_data",
     "data": {
      "text/plain": "HBox(children=(FloatProgress(value=0.0), HTML(value='')))",
      "application/vnd.jupyter.widget-view+json": {
       "version_major": 2,
       "version_minor": 0,
       "model_id": "36c0f985ea0543a38eea8a5cff95d308"
      }
     },
     "metadata": {}
    },
    {
     "output_type": "stream",
     "name": "stdout",
     "text": [
      "\n--> dir H396R has at least one phase without data\n"
     ]
    },
    {
     "output_type": "display_data",
     "data": {
      "text/plain": "HBox(children=(FloatProgress(value=0.0), HTML(value='')))",
      "application/vnd.jupyter.widget-view+json": {
       "version_major": 2,
       "version_minor": 0,
       "model_id": "4c9d7884b9aa443ca1cb7b64dab07717"
      }
     },
     "metadata": {}
    },
    {
     "output_type": "stream",
     "name": "stdout",
     "text": [
      "\n--> dir E459K has at least one phase without data\n"
     ]
    },
    {
     "output_type": "display_data",
     "data": {
      "text/plain": "<Figure size 432x288 with 0 Axes>"
     },
     "metadata": {}
    }
   ],
   "source": [
    "tki = 'imatinib'\n",
    "pdb_code = '2hyy'\n",
    "sim_df_imatinib = {}\n",
    "for mutation in imatinib_mutations:\n",
    "\n",
    "    # Load and combine arrays\n",
    "    forward_complex_arrays = []\n",
    "    reverse_complex_arrays = []\n",
    "    forward_apo_arrays = []\n",
    "    reverse_apo_arrays = []\n",
    "\n",
    "    for j in tqdm_notebook.tqdm(range(100)):\n",
    "\n",
    "        forward_complex_path = f'/data/chodera/glassw/kinoml/Abl/Hauser_mutations/run_neq_WithTraj/{pdb_code}/{mutation}/{pdb_code}_{tki}_{mutation}_complex_{j}_forward.npy'\n",
    "        reverse_complex_path = f'/data/chodera/glassw/kinoml/Abl/Hauser_mutations/run_neq_WithTraj/{pdb_code}/{mutation}/{pdb_code}_{tki}_{mutation}_complex_{j}_reverse.npy'\n",
    "        forward_apo_path = f'/data/chodera/glassw/kinoml/Abl/Hauser_mutations/run_neq_WithTraj/{pdb_code}/{mutation}/{pdb_code}_{tki}_{mutation}_apo_{j}_forward.npy'\n",
    "        reverse_apo_path = f'/data/chodera/glassw/kinoml/Abl/Hauser_mutations/run_neq_WithTraj/{pdb_code}/{mutation}/{pdb_code}_{tki}_{mutation}_apo_{j}_reverse.npy'\n",
    "\n",
    "        if os.path.exists(forward_complex_path):\n",
    "            with open(forward_complex_path, 'rb') as f:\n",
    "                forward_complex_arrays.append(np.load(f))\n",
    "\n",
    "        if os.path.exists(reverse_complex_path):\n",
    "            with open(reverse_complex_path, 'rb') as f:\n",
    "                reverse_complex_arrays.append(np.load(f))\n",
    "\n",
    "        if os.path.exists(forward_apo_path):\n",
    "            with open(forward_apo_path, 'rb') as f:\n",
    "                forward_apo_arrays.append(np.load(f))\n",
    "\n",
    "        if os.path.exists(reverse_apo_path):\n",
    "            with open(reverse_apo_path, 'rb') as f:\n",
    "                reverse_apo_arrays.append(np.load(f))\n",
    "\n",
    "    if forward_complex_arrays and reverse_complex_arrays and forward_apo_arrays and reverse_apo_arrays:\n",
    "\n",
    "        forward_complex_combined = np.concatenate(forward_complex_arrays)\n",
    "        forward_complex_accumulated = np.array([cycle[-1] - cycle[0] for cycle in forward_complex_combined]) # compute this separately bc the last value of the subsampled array is diff than the actual last sample\n",
    "        forward_complex_combined = np.array([cycle for cycle in forward_complex_combined])\n",
    "        print(forward_complex_combined.shape)\n",
    "\n",
    "        reverse_complex_combined = np.concatenate(reverse_complex_arrays)\n",
    "        reverse_complex_accumulated = np.array([cycle[-1] - cycle[0] for cycle in reverse_complex_combined])\n",
    "        reverse_complex_combined = np.array([cycle for cycle in reverse_complex_combined])\n",
    "\n",
    "        forward_apo_combined = np.concatenate(forward_apo_arrays)\n",
    "        forward_apo_accumulated = np.array([cycle[-1] - cycle[0] for cycle in forward_apo_combined])\n",
    "        forward_apo_combined = np.array([cycle for cycle in forward_apo_combined])\n",
    "        print(forward_apo_combined.shape)\n",
    "\n",
    "        reverse_apo_combined = np.concatenate(reverse_apo_arrays)\n",
    "        reverse_apo_accumulated = np.array([cycle[-1] - cycle[0] for cycle in reverse_apo_combined])\n",
    "        reverse_apo_combined = np.array([cycle for cycle in reverse_apo_combined])\n",
    "\n",
    "\n",
    "        # Analyse\n",
    "\n",
    "        ## complex\n",
    "        forward_complex_work_offset, reverse_complex_work_offset = subtract_offset(forward_complex_combined,\n",
    "                                                                                   reverse_complex_combined)\n",
    "\n",
    "        complex_dg, complex_ddg = analyse(forward_complex_accumulated,\n",
    "                                          reverse_complex_accumulated)\n",
    "\n",
    "        ## apo\n",
    "        forward_apo_work_offset, reverse_apo_work_offset = subtract_offset(forward_apo_combined,\n",
    "                                                                           reverse_apo_combined)\n",
    "\n",
    "        apo_dg, apo_ddg = analyse(forward_apo_accumulated, reverse_apo_accumulated)\n",
    "\n",
    "        ## plot the work trajectories and distibutions\n",
    "        complex_plot = plot_works(forward_complex_work_offset,\n",
    "                                  reverse_complex_work_offset,\n",
    "                                  complex_dg,\n",
    "                                  complex_ddg,\n",
    "                                  phase='complex',\n",
    "                                  mutation=mutation,\n",
    "                                  title=f'{pdb_code.upper()}-{tki} {mutation}',\n",
    "                                  save=True,\n",
    "                                  output_dir=f'/lila/home/glassw/GITHUB/study-abl-resistance/notebooks/perses_analysis_output/{tki}')\n",
    "\n",
    "        apo_plot = plot_works(forward_apo_work_offset,\n",
    "                              reverse_apo_work_offset,\n",
    "                              apo_dg,\n",
    "                              apo_ddg,\n",
    "                              phase='apo',\n",
    "                              mutation=mutation,\n",
    "                              title=f'{pdb_code.upper()}-{tki} {mutation}',\n",
    "                              save=True,\n",
    "                              output_dir=f'/lila/home/glassw/GITHUB/study-abl-resistance/notebooks/perses_analysis_output/{tki}')\n",
    "\n",
    "        ## Get binding dg and ddg\n",
    "        binding_dg = complex_dg - apo_dg\n",
    "        binding_ddg = (apo_ddg**2 + complex_ddg**2)**0.5\n",
    "        sim_df_imatinib[mutation] = [binding_dg, binding_ddg]\n",
    "        print(f\"--> complex_dg: {complex_dg}\")\n",
    "        print(f\"--> apo dg: {apo_dg}\")\n",
    "\n",
    "    else:\n",
    "        print(f\"--> dir {mutation} has at least one phase without data\" )"
   ]
  },
  {
   "source": [
    "Save and view the results"
   ],
   "cell_type": "markdown",
   "metadata": {}
  },
  {
   "cell_type": "code",
   "execution_count": 8,
   "metadata": {},
   "outputs": [],
   "source": [
    "def save_csv(experimental_dataframe, simulation_dataframe, tki, pdb_code):\n",
    "    # exp_df = pd.read_csv(experimental_dataframe)\n",
    "\n",
    "    exp_df = experimental_dataframe[experimental_dataframe['tki'] == tki]\n",
    "\n",
    "    sim_df = pd.DataFrame(simulation_dataframe).T\n",
    "    sim_df = sim_df * KT_KCALMOL\n",
    "    sim_df.columns = [\"DDG (kcal / mol)\", \"dDDG (kcal / mol)\"]\n",
    "    \n",
    "    # get the experimental values from the tki dataframe\n",
    "    exp_DDG = [exp_df[exp_df['mutation'] == mutation]['ddG_exp'].item() \n",
    "            for mutation in list(sim_df.index)]\n",
    "\n",
    "    sim_df['exp_DDG (kcal / mol)'] = exp_DDG \n",
    "    sim_df['|DDG - exp_DDG|'] = (sim_df['DDG (kcal / mol)'] - sim_df['exp_DDG (kcal / mol)']).abs()\n",
    "\n",
    "    sim_df.to_csv(f'{pdb_code}_{tki}_DDGs.csv')\n",
    "\n",
    "    return sim_df\n"
   ]
  },
  {
   "cell_type": "code",
   "execution_count": 9,
   "metadata": {},
   "outputs": [],
   "source": [
    "exp_df = pd.read_csv('../data/hauser_mutations.csv')"
   ]
  },
  {
   "cell_type": "code",
   "execution_count": 13,
   "metadata": {},
   "outputs": [],
   "source": [
    "df_4xey = save_csv(experimental_dataframe=exp_df, simulation_dataframe=sim_df_dasatinib, tki='dasatinib', pdb_code='4xey')"
   ]
  },
  {
   "cell_type": "code",
   "execution_count": 14,
   "metadata": {},
   "outputs": [],
   "source": [
    "df_2hyy = save_csv(experimental_dataframe=exp_df, simulation_dataframe=sim_df_imatinib, tki='imatinib', pdb_code='2hyy')"
   ]
  },
  {
   "cell_type": "code",
   "execution_count": null,
   "metadata": {},
   "outputs": [],
   "source": []
  },
  {
   "cell_type": "markdown",
   "metadata": {},
   "source": [
    "## Plotting\n",
    "\n",
    "taken from: https://github.com/openforcefield/Arsenic/blob/master/arsenic/plotting.py, credit: `@hannahbrucemacdonald`"
   ]
  },
  {
   "cell_type": "code",
   "execution_count": 15,
   "metadata": {},
   "outputs": [],
   "source": [
    "import scipy\n",
    "from sklearn.metrics import mean_squared_error, mean_absolute_error\n",
    "\n",
    "def stats(true_sample, predicted_sample, statistic):\n",
    "    \n",
    "    if statistic == 'RMSE':\n",
    "            return np.sqrt(mean_squared_error(true_sample, predicted_sample))\n",
    "    elif statistic == 'MUE':\n",
    "        return mean_absolute_error(true_sample, predicted_sample)\n",
    "    elif statistic == 'R2':\n",
    "        slope, intercept, r_value, p_value, std_err = scipy.stats.linregress(true_sample, predicted_sample)\n",
    "        return r_value**2\n",
    "    elif statistic == 'rho':\n",
    "        return scipy.stats.pearsonr(true_sample, predicted_sample)[0]"
   ]
  },
  {
   "source": [
    "### Dasatinib"
   ],
   "cell_type": "markdown",
   "metadata": {}
  },
  {
   "cell_type": "code",
   "execution_count": 16,
   "metadata": {},
   "outputs": [],
   "source": [
    "x = df_4xey['exp_DDG (kcal / mol)'].values\n",
    "y = df_4xey['DDG (kcal / mol)'].values\n",
    "yerr = df_4xey['dDDG (kcal / mol)'].values"
   ]
  },
  {
   "cell_type": "code",
   "execution_count": 17,
   "metadata": {},
   "outputs": [
    {
     "output_type": "display_data",
     "data": {
      "text/plain": "<Figure size 360x360 with 1 Axes>",
      "image/svg+xml": "<?xml version=\"1.0\" encoding=\"utf-8\" standalone=\"no\"?>\n<!DOCTYPE svg PUBLIC \"-//W3C//DTD SVG 1.1//EN\"\n  \"http://www.w3.org/Graphics/SVG/1.1/DTD/svg11.dtd\">\n<!-- Created with matplotlib (https://matplotlib.org/) -->\n<svg height=\"334.890875pt\" version=\"1.1\" viewBox=\"0 0 221.440625 334.890875\" width=\"221.440625pt\" xmlns=\"http://www.w3.org/2000/svg\" xmlns:xlink=\"http://www.w3.org/1999/xlink\">\n <metadata>\n  <rdf:RDF xmlns:cc=\"http://creativecommons.org/ns#\" xmlns:dc=\"http://purl.org/dc/elements/1.1/\" xmlns:rdf=\"http://www.w3.org/1999/02/22-rdf-syntax-ns#\">\n   <cc:Work>\n    <dc:type rdf:resource=\"http://purl.org/dc/dcmitype/StillImage\"/>\n    <dc:date>2020-10-27T07:00:20.076841</dc:date>\n    <dc:format>image/svg+xml</dc:format>\n    <dc:creator>\n     <cc:Agent>\n      <dc:title>Matplotlib v3.3.0, https://matplotlib.org/</dc:title>\n     </cc:Agent>\n    </dc:creator>\n   </cc:Work>\n  </rdf:RDF>\n </metadata>\n <defs>\n  <style type=\"text/css\">*{stroke-linecap:butt;stroke-linejoin:round;}</style>\n </defs>\n <g id=\"figure_1\">\n  <g id=\"patch_1\">\n   <path d=\"M 0 334.890875 \nL 221.440625 334.890875 \nL 221.440625 -0 \nL 0 -0 \nz\n\" style=\"fill:none;\"/>\n  </g>\n  <g id=\"axes_1\">\n   <g id=\"patch_2\">\n    <path d=\"M 34.240625 297.31275 \nL 214.240625 297.31275 \nL 214.240625 117.31275 \nL 34.240625 117.31275 \nz\n\" style=\"fill:#ffffff;\"/>\n   </g>\n   <g id=\"PolyCollection_1\">\n    <defs>\n     <path d=\"M 34.240625 -50.584723 \nL 34.240625 -24.571527 \nL 214.240625 -204.571527 \nL 214.240625 -230.584723 \nL 214.240625 -230.584723 \nL 34.240625 -50.584723 \nz\n\" id=\"md58af66d7a\" style=\"stroke:#808080;stroke-opacity:0.2;\"/>\n    </defs>\n    <g clip-path=\"url(#p28b00f1040)\">\n     <use style=\"fill:#808080;fill-opacity:0.2;stroke:#808080;stroke-opacity:0.2;\" x=\"0\" xlink:href=\"#md58af66d7a\" y=\"334.890875\"/>\n    </g>\n   </g>\n   <g id=\"PolyCollection_2\">\n    <defs>\n     <path d=\"M 34.240625 -63.59132 \nL 34.240625 -11.56493 \nL 214.240625 -191.56493 \nL 214.240625 -243.59132 \nL 214.240625 -243.59132 \nL 34.240625 -63.59132 \nz\n\" id=\"med67b96255\" style=\"stroke:#808080;stroke-opacity:0.2;\"/>\n    </defs>\n    <g clip-path=\"url(#p28b00f1040)\">\n     <use style=\"fill:#808080;fill-opacity:0.2;stroke:#808080;stroke-opacity:0.2;\" x=\"0\" xlink:href=\"#med67b96255\" y=\"334.890875\"/>\n    </g>\n   </g>\n   <g id=\"LineCollection_1\">\n    <path clip-path=\"url(#p28b00f1040)\" d=\"M 73.923515 282.78814 \nL 73.923515 268.372986 \n\" style=\"fill:none;stroke:#808080;stroke-width:2;\"/>\n    <path clip-path=\"url(#p28b00f1040)\" d=\"M 77.045098 270.730219 \nL 77.045098 257.058764 \n\" style=\"fill:none;stroke:#808080;stroke-width:2;\"/>\n    <path clip-path=\"url(#p28b00f1040)\" d=\"M 56.754806 291.180079 \nL 56.754806 277.432226 \n\" style=\"fill:none;stroke:#808080;stroke-width:2;\"/>\n    <path clip-path=\"url(#p28b00f1040)\" d=\"M 98.896183 242.704828 \nL 98.896183 237.600549 \n\" style=\"fill:none;stroke:#808080;stroke-width:2;\"/>\n    <path clip-path=\"url(#p28b00f1040)\" d=\"M 97.075259 233.474645 \nL 97.075259 224.860159 \n\" style=\"fill:none;stroke:#808080;stroke-width:2;\"/>\n    <path clip-path=\"url(#p28b00f1040)\" d=\"M 75.484307 195.425998 \nL 75.484307 184.18273 \n\" style=\"fill:none;stroke:#808080;stroke-width:2;\"/>\n    <path clip-path=\"url(#p28b00f1040)\" d=\"M 111.90278 229.980845 \nL 111.90278 221.516032 \n\" style=\"fill:none;stroke:#808080;stroke-width:2;\"/>\n    <path clip-path=\"url(#p28b00f1040)\" d=\"M 50.511639 281.562509 \nL 50.511639 270.325772 \n\" style=\"fill:none;stroke:#808080;stroke-width:2;\"/>\n    <path clip-path=\"url(#p28b00f1040)\" d=\"M 56.754806 277.164171 \nL 56.754806 268.108089 \n\" style=\"fill:none;stroke:#808080;stroke-width:2;\"/>\n    <path clip-path=\"url(#p28b00f1040)\" d=\"M 50.511639 278.550658 \nL 50.511639 265.208274 \n\" style=\"fill:none;stroke:#808080;stroke-width:2;\"/>\n    <path clip-path=\"url(#p28b00f1040)\" d=\"M 61.177049 283.389525 \nL 61.177049 278.37616 \n\" style=\"fill:none;stroke:#808080;stroke-width:2;\"/>\n    <path clip-path=\"url(#p28b00f1040)\" d=\"M 67.420216 142.265011 \nL 67.420216 118.373685 \n\" style=\"fill:none;stroke:#808080;stroke-width:2;\"/>\n    <path clip-path=\"url(#p28b00f1040)\" d=\"M 64.818897 278.992587 \nL 64.818897 270.645734 \n\" style=\"fill:none;stroke:#808080;stroke-width:2;\"/>\n    <path clip-path=\"url(#p28b00f1040)\" d=\"M 50.511639 285.041796 \nL 50.511639 273.467407 \n\" style=\"fill:none;stroke:#808080;stroke-width:2;\"/>\n    <path clip-path=\"url(#p28b00f1040)\" d=\"M 50.511639 286.459761 \nL 50.511639 275.410034 \n\" style=\"fill:none;stroke:#808080;stroke-width:2;\"/>\n    <path clip-path=\"url(#p28b00f1040)\" d=\"M 103.058294 231.496153 \nL 103.058294 195.614606 \n\" style=\"fill:none;stroke:#808080;stroke-width:2;\"/>\n    <path clip-path=\"url(#p28b00f1040)\" d=\"M 182.658672 213.602405 \nL 182.658672 204.965092 \n\" style=\"fill:none;stroke:#808080;stroke-width:2;\"/>\n    <path clip-path=\"url(#p28b00f1040)\" d=\"M 82.768001 250.316616 \nL 82.768001 238.679993 \n\" style=\"fill:none;stroke:#808080;stroke-width:2;\"/>\n    <path clip-path=\"url(#p28b00f1040)\" d=\"M 56.754806 266.421521 \nL 56.754806 262.212514 \n\" style=\"fill:none;stroke:#808080;stroke-width:2;\"/>\n   </g>\n   <g id=\"line2d_1\">\n    <path clip-path=\"url(#p28b00f1040)\" d=\"M 73.923515 275.580563 \nL 77.045098 263.894491 \nL 56.754806 284.306152 \nL 98.896183 240.152688 \nL 97.075259 229.167402 \nL 75.484307 189.804364 \nL 111.90278 225.748438 \nL 50.511639 275.94414 \nL 56.754806 272.63613 \nL 50.511639 271.879466 \nL 61.177049 280.882842 \nL 67.420216 130.319348 \nL 64.818897 274.81916 \nL 50.511639 279.254602 \nL 50.511639 280.934897 \nL 103.058294 213.55538 \nL 182.658672 209.283748 \nL 82.768001 244.498304 \nL 56.754806 264.317017 \n\" style=\"fill:none;\"/>\n   </g>\n   <g id=\"matplotlib.axis_1\">\n    <g id=\"xtick_1\">\n     <g id=\"line2d_2\">\n      <defs>\n       <path d=\"M 0 0 \nL 0 3.5 \n\" id=\"md22d2300fa\" style=\"stroke:#000000;stroke-width:0.8;\"/>\n      </defs>\n      <g>\n       <use style=\"stroke:#000000;stroke-width:0.8;\" x=\"50.511639\" xlink:href=\"#md22d2300fa\" y=\"297.31275\"/>\n      </g>\n     </g>\n     <g id=\"text_1\">\n      <!-- 0 -->\n      <g transform=\"translate(47.330389 311.911187)scale(0.1 -0.1)\">\n       <defs>\n        <path d=\"M 31.78125 66.40625 \nQ 24.171875 66.40625 20.328125 58.90625 \nQ 16.5 51.421875 16.5 36.375 \nQ 16.5 21.390625 20.328125 13.890625 \nQ 24.171875 6.390625 31.78125 6.390625 \nQ 39.453125 6.390625 43.28125 13.890625 \nQ 47.125 21.390625 47.125 36.375 \nQ 47.125 51.421875 43.28125 58.90625 \nQ 39.453125 66.40625 31.78125 66.40625 \nz\nM 31.78125 74.21875 \nQ 44.046875 74.21875 50.515625 64.515625 \nQ 56.984375 54.828125 56.984375 36.375 \nQ 56.984375 17.96875 50.515625 8.265625 \nQ 44.046875 -1.421875 31.78125 -1.421875 \nQ 19.53125 -1.421875 13.0625 8.265625 \nQ 6.59375 17.96875 6.59375 36.375 \nQ 6.59375 54.828125 13.0625 64.515625 \nQ 19.53125 74.21875 31.78125 74.21875 \nz\n\" id=\"DejaVuSans-48\"/>\n       </defs>\n       <use xlink:href=\"#DejaVuSans-48\"/>\n      </g>\n     </g>\n    </g>\n    <g id=\"xtick_2\">\n     <g id=\"line2d_3\">\n      <g>\n       <use style=\"stroke:#000000;stroke-width:0.8;\" x=\"102.53803\" xlink:href=\"#md22d2300fa\" y=\"297.31275\"/>\n      </g>\n     </g>\n     <g id=\"text_2\">\n      <!-- 2 -->\n      <g transform=\"translate(99.35678 311.911187)scale(0.1 -0.1)\">\n       <defs>\n        <path d=\"M 19.1875 8.296875 \nL 53.609375 8.296875 \nL 53.609375 0 \nL 7.328125 0 \nL 7.328125 8.296875 \nQ 12.9375 14.109375 22.625 23.890625 \nQ 32.328125 33.6875 34.8125 36.53125 \nQ 39.546875 41.84375 41.421875 45.53125 \nQ 43.3125 49.21875 43.3125 52.78125 \nQ 43.3125 58.59375 39.234375 62.25 \nQ 35.15625 65.921875 28.609375 65.921875 \nQ 23.96875 65.921875 18.8125 64.3125 \nQ 13.671875 62.703125 7.8125 59.421875 \nL 7.8125 69.390625 \nQ 13.765625 71.78125 18.9375 73 \nQ 24.125 74.21875 28.421875 74.21875 \nQ 39.75 74.21875 46.484375 68.546875 \nQ 53.21875 62.890625 53.21875 53.421875 \nQ 53.21875 48.921875 51.53125 44.890625 \nQ 49.859375 40.875 45.40625 35.40625 \nQ 44.1875 33.984375 37.640625 27.21875 \nQ 31.109375 20.453125 19.1875 8.296875 \nz\n\" id=\"DejaVuSans-50\"/>\n       </defs>\n       <use xlink:href=\"#DejaVuSans-50\"/>\n      </g>\n     </g>\n    </g>\n    <g id=\"xtick_3\">\n     <g id=\"line2d_4\">\n      <g>\n       <use style=\"stroke:#000000;stroke-width:0.8;\" x=\"154.564421\" xlink:href=\"#md22d2300fa\" y=\"297.31275\"/>\n      </g>\n     </g>\n     <g id=\"text_3\">\n      <!-- 4 -->\n      <g transform=\"translate(151.383171 311.911187)scale(0.1 -0.1)\">\n       <defs>\n        <path d=\"M 37.796875 64.3125 \nL 12.890625 25.390625 \nL 37.796875 25.390625 \nz\nM 35.203125 72.90625 \nL 47.609375 72.90625 \nL 47.609375 25.390625 \nL 58.015625 25.390625 \nL 58.015625 17.1875 \nL 47.609375 17.1875 \nL 47.609375 0 \nL 37.796875 0 \nL 37.796875 17.1875 \nL 4.890625 17.1875 \nL 4.890625 26.703125 \nz\n\" id=\"DejaVuSans-52\"/>\n       </defs>\n       <use xlink:href=\"#DejaVuSans-52\"/>\n      </g>\n     </g>\n    </g>\n    <g id=\"xtick_4\">\n     <g id=\"line2d_5\">\n      <g>\n       <use style=\"stroke:#000000;stroke-width:0.8;\" x=\"206.590812\" xlink:href=\"#md22d2300fa\" y=\"297.31275\"/>\n      </g>\n     </g>\n     <g id=\"text_4\">\n      <!-- 6 -->\n      <g transform=\"translate(203.409562 311.911187)scale(0.1 -0.1)\">\n       <defs>\n        <path d=\"M 33.015625 40.375 \nQ 26.375 40.375 22.484375 35.828125 \nQ 18.609375 31.296875 18.609375 23.390625 \nQ 18.609375 15.53125 22.484375 10.953125 \nQ 26.375 6.390625 33.015625 6.390625 \nQ 39.65625 6.390625 43.53125 10.953125 \nQ 47.40625 15.53125 47.40625 23.390625 \nQ 47.40625 31.296875 43.53125 35.828125 \nQ 39.65625 40.375 33.015625 40.375 \nz\nM 52.59375 71.296875 \nL 52.59375 62.3125 \nQ 48.875 64.0625 45.09375 64.984375 \nQ 41.3125 65.921875 37.59375 65.921875 \nQ 27.828125 65.921875 22.671875 59.328125 \nQ 17.53125 52.734375 16.796875 39.40625 \nQ 19.671875 43.65625 24.015625 45.921875 \nQ 28.375 48.1875 33.59375 48.1875 \nQ 44.578125 48.1875 50.953125 41.515625 \nQ 57.328125 34.859375 57.328125 23.390625 \nQ 57.328125 12.15625 50.6875 5.359375 \nQ 44.046875 -1.421875 33.015625 -1.421875 \nQ 20.359375 -1.421875 13.671875 8.265625 \nQ 6.984375 17.96875 6.984375 36.375 \nQ 6.984375 53.65625 15.1875 63.9375 \nQ 23.390625 74.21875 37.203125 74.21875 \nQ 40.921875 74.21875 44.703125 73.484375 \nQ 48.484375 72.75 52.59375 71.296875 \nz\n\" id=\"DejaVuSans-54\"/>\n       </defs>\n       <use xlink:href=\"#DejaVuSans-54\"/>\n      </g>\n     </g>\n    </g>\n    <g id=\"text_5\">\n     <!-- Experimental $\\Delta\\Delta$G (kcal / mol) -->\n     <g transform=\"translate(48.790625 325.590875)scale(0.1 -0.1)\">\n      <defs>\n       <path d=\"M 9.8125 72.90625 \nL 55.90625 72.90625 \nL 55.90625 64.59375 \nL 19.671875 64.59375 \nL 19.671875 43.015625 \nL 54.390625 43.015625 \nL 54.390625 34.71875 \nL 19.671875 34.71875 \nL 19.671875 8.296875 \nL 56.78125 8.296875 \nL 56.78125 0 \nL 9.8125 0 \nz\n\" id=\"DejaVuSans-69\"/>\n       <path d=\"M 54.890625 54.6875 \nL 35.109375 28.078125 \nL 55.90625 0 \nL 45.3125 0 \nL 29.390625 21.484375 \nL 13.484375 0 \nL 2.875 0 \nL 24.125 28.609375 \nL 4.6875 54.6875 \nL 15.28125 54.6875 \nL 29.78125 35.203125 \nL 44.28125 54.6875 \nz\n\" id=\"DejaVuSans-120\"/>\n       <path d=\"M 18.109375 8.203125 \nL 18.109375 -20.796875 \nL 9.078125 -20.796875 \nL 9.078125 54.6875 \nL 18.109375 54.6875 \nL 18.109375 46.390625 \nQ 20.953125 51.265625 25.265625 53.625 \nQ 29.59375 56 35.59375 56 \nQ 45.5625 56 51.78125 48.09375 \nQ 58.015625 40.1875 58.015625 27.296875 \nQ 58.015625 14.40625 51.78125 6.484375 \nQ 45.5625 -1.421875 35.59375 -1.421875 \nQ 29.59375 -1.421875 25.265625 0.953125 \nQ 20.953125 3.328125 18.109375 8.203125 \nz\nM 48.6875 27.296875 \nQ 48.6875 37.203125 44.609375 42.84375 \nQ 40.53125 48.484375 33.40625 48.484375 \nQ 26.265625 48.484375 22.1875 42.84375 \nQ 18.109375 37.203125 18.109375 27.296875 \nQ 18.109375 17.390625 22.1875 11.75 \nQ 26.265625 6.109375 33.40625 6.109375 \nQ 40.53125 6.109375 44.609375 11.75 \nQ 48.6875 17.390625 48.6875 27.296875 \nz\n\" id=\"DejaVuSans-112\"/>\n       <path d=\"M 56.203125 29.59375 \nL 56.203125 25.203125 \nL 14.890625 25.203125 \nQ 15.484375 15.921875 20.484375 11.0625 \nQ 25.484375 6.203125 34.421875 6.203125 \nQ 39.59375 6.203125 44.453125 7.46875 \nQ 49.3125 8.734375 54.109375 11.28125 \nL 54.109375 2.78125 \nQ 49.265625 0.734375 44.1875 -0.34375 \nQ 39.109375 -1.421875 33.890625 -1.421875 \nQ 20.796875 -1.421875 13.15625 6.1875 \nQ 5.515625 13.8125 5.515625 26.8125 \nQ 5.515625 40.234375 12.765625 48.109375 \nQ 20.015625 56 32.328125 56 \nQ 43.359375 56 49.78125 48.890625 \nQ 56.203125 41.796875 56.203125 29.59375 \nz\nM 47.21875 32.234375 \nQ 47.125 39.59375 43.09375 43.984375 \nQ 39.0625 48.390625 32.421875 48.390625 \nQ 24.90625 48.390625 20.390625 44.140625 \nQ 15.875 39.890625 15.1875 32.171875 \nz\n\" id=\"DejaVuSans-101\"/>\n       <path d=\"M 41.109375 46.296875 \nQ 39.59375 47.171875 37.8125 47.578125 \nQ 36.03125 48 33.890625 48 \nQ 26.265625 48 22.1875 43.046875 \nQ 18.109375 38.09375 18.109375 28.8125 \nL 18.109375 0 \nL 9.078125 0 \nL 9.078125 54.6875 \nL 18.109375 54.6875 \nL 18.109375 46.1875 \nQ 20.953125 51.171875 25.484375 53.578125 \nQ 30.03125 56 36.53125 56 \nQ 37.453125 56 38.578125 55.875 \nQ 39.703125 55.765625 41.0625 55.515625 \nz\n\" id=\"DejaVuSans-114\"/>\n       <path d=\"M 9.421875 54.6875 \nL 18.40625 54.6875 \nL 18.40625 0 \nL 9.421875 0 \nz\nM 9.421875 75.984375 \nL 18.40625 75.984375 \nL 18.40625 64.59375 \nL 9.421875 64.59375 \nz\n\" id=\"DejaVuSans-105\"/>\n       <path d=\"M 52 44.1875 \nQ 55.375 50.25 60.0625 53.125 \nQ 64.75 56 71.09375 56 \nQ 79.640625 56 84.28125 50.015625 \nQ 88.921875 44.046875 88.921875 33.015625 \nL 88.921875 0 \nL 79.890625 0 \nL 79.890625 32.71875 \nQ 79.890625 40.578125 77.09375 44.375 \nQ 74.3125 48.1875 68.609375 48.1875 \nQ 61.625 48.1875 57.5625 43.546875 \nQ 53.515625 38.921875 53.515625 30.90625 \nL 53.515625 0 \nL 44.484375 0 \nL 44.484375 32.71875 \nQ 44.484375 40.625 41.703125 44.40625 \nQ 38.921875 48.1875 33.109375 48.1875 \nQ 26.21875 48.1875 22.15625 43.53125 \nQ 18.109375 38.875 18.109375 30.90625 \nL 18.109375 0 \nL 9.078125 0 \nL 9.078125 54.6875 \nL 18.109375 54.6875 \nL 18.109375 46.1875 \nQ 21.1875 51.21875 25.484375 53.609375 \nQ 29.78125 56 35.6875 56 \nQ 41.65625 56 45.828125 52.96875 \nQ 50 49.953125 52 44.1875 \nz\n\" id=\"DejaVuSans-109\"/>\n       <path d=\"M 54.890625 33.015625 \nL 54.890625 0 \nL 45.90625 0 \nL 45.90625 32.71875 \nQ 45.90625 40.484375 42.875 44.328125 \nQ 39.84375 48.1875 33.796875 48.1875 \nQ 26.515625 48.1875 22.3125 43.546875 \nQ 18.109375 38.921875 18.109375 30.90625 \nL 18.109375 0 \nL 9.078125 0 \nL 9.078125 54.6875 \nL 18.109375 54.6875 \nL 18.109375 46.1875 \nQ 21.34375 51.125 25.703125 53.5625 \nQ 30.078125 56 35.796875 56 \nQ 45.21875 56 50.046875 50.171875 \nQ 54.890625 44.34375 54.890625 33.015625 \nz\n\" id=\"DejaVuSans-110\"/>\n       <path d=\"M 18.3125 70.21875 \nL 18.3125 54.6875 \nL 36.8125 54.6875 \nL 36.8125 47.703125 \nL 18.3125 47.703125 \nL 18.3125 18.015625 \nQ 18.3125 11.328125 20.140625 9.421875 \nQ 21.96875 7.515625 27.59375 7.515625 \nL 36.8125 7.515625 \nL 36.8125 0 \nL 27.59375 0 \nQ 17.1875 0 13.234375 3.875 \nQ 9.28125 7.765625 9.28125 18.015625 \nL 9.28125 47.703125 \nL 2.6875 47.703125 \nL 2.6875 54.6875 \nL 9.28125 54.6875 \nL 9.28125 70.21875 \nz\n\" id=\"DejaVuSans-116\"/>\n       <path d=\"M 34.28125 27.484375 \nQ 23.390625 27.484375 19.1875 25 \nQ 14.984375 22.515625 14.984375 16.5 \nQ 14.984375 11.71875 18.140625 8.90625 \nQ 21.296875 6.109375 26.703125 6.109375 \nQ 34.1875 6.109375 38.703125 11.40625 \nQ 43.21875 16.703125 43.21875 25.484375 \nL 43.21875 27.484375 \nz\nM 52.203125 31.203125 \nL 52.203125 0 \nL 43.21875 0 \nL 43.21875 8.296875 \nQ 40.140625 3.328125 35.546875 0.953125 \nQ 30.953125 -1.421875 24.3125 -1.421875 \nQ 15.921875 -1.421875 10.953125 3.296875 \nQ 6 8.015625 6 15.921875 \nQ 6 25.140625 12.171875 29.828125 \nQ 18.359375 34.515625 30.609375 34.515625 \nL 43.21875 34.515625 \nL 43.21875 35.40625 \nQ 43.21875 41.609375 39.140625 45 \nQ 35.0625 48.390625 27.6875 48.390625 \nQ 23 48.390625 18.546875 47.265625 \nQ 14.109375 46.140625 10.015625 43.890625 \nL 10.015625 52.203125 \nQ 14.9375 54.109375 19.578125 55.046875 \nQ 24.21875 56 28.609375 56 \nQ 40.484375 56 46.34375 49.84375 \nQ 52.203125 43.703125 52.203125 31.203125 \nz\n\" id=\"DejaVuSans-97\"/>\n       <path d=\"M 9.421875 75.984375 \nL 18.40625 75.984375 \nL 18.40625 0 \nL 9.421875 0 \nz\n\" id=\"DejaVuSans-108\"/>\n       <path id=\"DejaVuSans-32\"/>\n       <path d=\"M 34.1875 63.1875 \nL 14.15625 8.203125 \nL 54.25 8.203125 \nz\nM 0.78125 0 \nL 28.609375 72.90625 \nL 39.796875 72.90625 \nL 67.578125 0 \nz\n\" id=\"DejaVuSans-916\"/>\n       <path d=\"M 59.515625 10.40625 \nL 59.515625 29.984375 \nL 43.40625 29.984375 \nL 43.40625 38.09375 \nL 69.28125 38.09375 \nL 69.28125 6.78125 \nQ 63.578125 2.734375 56.6875 0.65625 \nQ 49.8125 -1.421875 42 -1.421875 \nQ 24.90625 -1.421875 15.25 8.5625 \nQ 5.609375 18.5625 5.609375 36.375 \nQ 5.609375 54.25 15.25 64.234375 \nQ 24.90625 74.21875 42 74.21875 \nQ 49.125 74.21875 55.546875 72.453125 \nQ 61.96875 70.703125 67.390625 67.28125 \nL 67.390625 56.78125 \nQ 61.921875 61.421875 55.765625 63.765625 \nQ 49.609375 66.109375 42.828125 66.109375 \nQ 29.4375 66.109375 22.71875 58.640625 \nQ 16.015625 51.171875 16.015625 36.375 \nQ 16.015625 21.625 22.71875 14.15625 \nQ 29.4375 6.6875 42.828125 6.6875 \nQ 48.046875 6.6875 52.140625 7.59375 \nQ 56.25 8.5 59.515625 10.40625 \nz\n\" id=\"DejaVuSans-71\"/>\n       <path d=\"M 31 75.875 \nQ 24.46875 64.65625 21.28125 53.65625 \nQ 18.109375 42.671875 18.109375 31.390625 \nQ 18.109375 20.125 21.3125 9.0625 \nQ 24.515625 -2 31 -13.1875 \nL 23.1875 -13.1875 \nQ 15.875 -1.703125 12.234375 9.375 \nQ 8.59375 20.453125 8.59375 31.390625 \nQ 8.59375 42.28125 12.203125 53.3125 \nQ 15.828125 64.359375 23.1875 75.875 \nz\n\" id=\"DejaVuSans-40\"/>\n       <path d=\"M 9.078125 75.984375 \nL 18.109375 75.984375 \nL 18.109375 31.109375 \nL 44.921875 54.6875 \nL 56.390625 54.6875 \nL 27.390625 29.109375 \nL 57.625 0 \nL 45.90625 0 \nL 18.109375 26.703125 \nL 18.109375 0 \nL 9.078125 0 \nz\n\" id=\"DejaVuSans-107\"/>\n       <path d=\"M 48.78125 52.59375 \nL 48.78125 44.1875 \nQ 44.96875 46.296875 41.140625 47.34375 \nQ 37.3125 48.390625 33.40625 48.390625 \nQ 24.65625 48.390625 19.8125 42.84375 \nQ 14.984375 37.3125 14.984375 27.296875 \nQ 14.984375 17.28125 19.8125 11.734375 \nQ 24.65625 6.203125 33.40625 6.203125 \nQ 37.3125 6.203125 41.140625 7.25 \nQ 44.96875 8.296875 48.78125 10.40625 \nL 48.78125 2.09375 \nQ 45.015625 0.34375 40.984375 -0.53125 \nQ 36.96875 -1.421875 32.421875 -1.421875 \nQ 20.0625 -1.421875 12.78125 6.34375 \nQ 5.515625 14.109375 5.515625 27.296875 \nQ 5.515625 40.671875 12.859375 48.328125 \nQ 20.21875 56 33.015625 56 \nQ 37.15625 56 41.109375 55.140625 \nQ 45.0625 54.296875 48.78125 52.59375 \nz\n\" id=\"DejaVuSans-99\"/>\n       <path d=\"M 25.390625 72.90625 \nL 33.6875 72.90625 \nL 8.296875 -9.28125 \nL 0 -9.28125 \nz\n\" id=\"DejaVuSans-47\"/>\n       <path d=\"M 30.609375 48.390625 \nQ 23.390625 48.390625 19.1875 42.75 \nQ 14.984375 37.109375 14.984375 27.296875 \nQ 14.984375 17.484375 19.15625 11.84375 \nQ 23.34375 6.203125 30.609375 6.203125 \nQ 37.796875 6.203125 41.984375 11.859375 \nQ 46.1875 17.53125 46.1875 27.296875 \nQ 46.1875 37.015625 41.984375 42.703125 \nQ 37.796875 48.390625 30.609375 48.390625 \nz\nM 30.609375 56 \nQ 42.328125 56 49.015625 48.375 \nQ 55.71875 40.765625 55.71875 27.296875 \nQ 55.71875 13.875 49.015625 6.21875 \nQ 42.328125 -1.421875 30.609375 -1.421875 \nQ 18.84375 -1.421875 12.171875 6.21875 \nQ 5.515625 13.875 5.515625 27.296875 \nQ 5.515625 40.765625 12.171875 48.375 \nQ 18.84375 56 30.609375 56 \nz\n\" id=\"DejaVuSans-111\"/>\n       <path d=\"M 8.015625 75.875 \nL 15.828125 75.875 \nQ 23.140625 64.359375 26.78125 53.3125 \nQ 30.421875 42.28125 30.421875 31.390625 \nQ 30.421875 20.453125 26.78125 9.375 \nQ 23.140625 -1.703125 15.828125 -13.1875 \nL 8.015625 -13.1875 \nQ 14.5 -2 17.703125 9.0625 \nQ 20.90625 20.125 20.90625 31.390625 \nQ 20.90625 42.671875 17.703125 53.65625 \nQ 14.5 64.65625 8.015625 75.875 \nz\n\" id=\"DejaVuSans-41\"/>\n      </defs>\n      <use transform=\"translate(0 0.015625)\" xlink:href=\"#DejaVuSans-69\"/>\n      <use transform=\"translate(63.183594 0.015625)\" xlink:href=\"#DejaVuSans-120\"/>\n      <use transform=\"translate(122.363281 0.015625)\" xlink:href=\"#DejaVuSans-112\"/>\n      <use transform=\"translate(185.839844 0.015625)\" xlink:href=\"#DejaVuSans-101\"/>\n      <use transform=\"translate(247.363281 0.015625)\" xlink:href=\"#DejaVuSans-114\"/>\n      <use transform=\"translate(288.476562 0.015625)\" xlink:href=\"#DejaVuSans-105\"/>\n      <use transform=\"translate(316.259766 0.015625)\" xlink:href=\"#DejaVuSans-109\"/>\n      <use transform=\"translate(413.671875 0.015625)\" xlink:href=\"#DejaVuSans-101\"/>\n      <use transform=\"translate(475.195312 0.015625)\" xlink:href=\"#DejaVuSans-110\"/>\n      <use transform=\"translate(538.574219 0.015625)\" xlink:href=\"#DejaVuSans-116\"/>\n      <use transform=\"translate(577.783203 0.015625)\" xlink:href=\"#DejaVuSans-97\"/>\n      <use transform=\"translate(639.0625 0.015625)\" xlink:href=\"#DejaVuSans-108\"/>\n      <use transform=\"translate(666.845703 0.015625)\" xlink:href=\"#DejaVuSans-32\"/>\n      <use transform=\"translate(698.632812 0.015625)\" xlink:href=\"#DejaVuSans-916\"/>\n      <use transform=\"translate(767.041016 0.015625)\" xlink:href=\"#DejaVuSans-916\"/>\n      <use transform=\"translate(835.449219 0.015625)\" xlink:href=\"#DejaVuSans-71\"/>\n      <use transform=\"translate(912.939453 0.015625)\" xlink:href=\"#DejaVuSans-32\"/>\n      <use transform=\"translate(944.726562 0.015625)\" xlink:href=\"#DejaVuSans-40\"/>\n      <use transform=\"translate(983.740234 0.015625)\" xlink:href=\"#DejaVuSans-107\"/>\n      <use transform=\"translate(1041.650391 0.015625)\" xlink:href=\"#DejaVuSans-99\"/>\n      <use transform=\"translate(1096.630859 0.015625)\" xlink:href=\"#DejaVuSans-97\"/>\n      <use transform=\"translate(1157.910156 0.015625)\" xlink:href=\"#DejaVuSans-108\"/>\n      <use transform=\"translate(1185.693359 0.015625)\" xlink:href=\"#DejaVuSans-32\"/>\n      <use transform=\"translate(1217.480469 0.015625)\" xlink:href=\"#DejaVuSans-47\"/>\n      <use transform=\"translate(1251.171875 0.015625)\" xlink:href=\"#DejaVuSans-32\"/>\n      <use transform=\"translate(1282.958984 0.015625)\" xlink:href=\"#DejaVuSans-109\"/>\n      <use transform=\"translate(1380.371094 0.015625)\" xlink:href=\"#DejaVuSans-111\"/>\n      <use transform=\"translate(1441.552734 0.015625)\" xlink:href=\"#DejaVuSans-108\"/>\n      <use transform=\"translate(1469.335938 0.015625)\" xlink:href=\"#DejaVuSans-41\"/>\n     </g>\n    </g>\n   </g>\n   <g id=\"matplotlib.axis_2\">\n    <g id=\"ytick_1\">\n     <g id=\"line2d_6\">\n      <defs>\n       <path d=\"M 0 0 \nL -3.5 0 \n\" id=\"m07434a47c5\" style=\"stroke:#000000;stroke-width:0.8;\"/>\n      </defs>\n      <g>\n       <use style=\"stroke:#000000;stroke-width:0.8;\" x=\"34.240625\" xlink:href=\"#m07434a47c5\" y=\"281.041736\"/>\n      </g>\n     </g>\n     <g id=\"text_6\">\n      <!-- 0 -->\n      <g transform=\"translate(20.878125 284.840955)scale(0.1 -0.1)\">\n       <use xlink:href=\"#DejaVuSans-48\"/>\n      </g>\n     </g>\n    </g>\n    <g id=\"ytick_2\">\n     <g id=\"line2d_7\">\n      <g>\n       <use style=\"stroke:#000000;stroke-width:0.8;\" x=\"34.240625\" xlink:href=\"#m07434a47c5\" y=\"229.015345\"/>\n      </g>\n     </g>\n     <g id=\"text_7\">\n      <!-- 2 -->\n      <g transform=\"translate(20.878125 232.814564)scale(0.1 -0.1)\">\n       <use xlink:href=\"#DejaVuSans-50\"/>\n      </g>\n     </g>\n    </g>\n    <g id=\"ytick_3\">\n     <g id=\"line2d_8\">\n      <g>\n       <use style=\"stroke:#000000;stroke-width:0.8;\" x=\"34.240625\" xlink:href=\"#m07434a47c5\" y=\"176.988954\"/>\n      </g>\n     </g>\n     <g id=\"text_8\">\n      <!-- 4 -->\n      <g transform=\"translate(20.878125 180.788173)scale(0.1 -0.1)\">\n       <use xlink:href=\"#DejaVuSans-52\"/>\n      </g>\n     </g>\n    </g>\n    <g id=\"ytick_4\">\n     <g id=\"line2d_9\">\n      <g>\n       <use style=\"stroke:#000000;stroke-width:0.8;\" x=\"34.240625\" xlink:href=\"#m07434a47c5\" y=\"124.962563\"/>\n      </g>\n     </g>\n     <g id=\"text_9\">\n      <!-- 6 -->\n      <g transform=\"translate(20.878125 128.761782)scale(0.1 -0.1)\">\n       <use xlink:href=\"#DejaVuSans-54\"/>\n      </g>\n     </g>\n    </g>\n    <g id=\"text_10\">\n     <!-- Calculated $\\Delta\\Delta$G (kcal / mol) -->\n     <g transform=\"translate(14.798438 275.96275)rotate(-90)scale(0.1 -0.1)\">\n      <defs>\n       <path d=\"M 64.40625 67.28125 \nL 64.40625 56.890625 \nQ 59.421875 61.53125 53.78125 63.8125 \nQ 48.140625 66.109375 41.796875 66.109375 \nQ 29.296875 66.109375 22.65625 58.46875 \nQ 16.015625 50.828125 16.015625 36.375 \nQ 16.015625 21.96875 22.65625 14.328125 \nQ 29.296875 6.6875 41.796875 6.6875 \nQ 48.140625 6.6875 53.78125 8.984375 \nQ 59.421875 11.28125 64.40625 15.921875 \nL 64.40625 5.609375 \nQ 59.234375 2.09375 53.4375 0.328125 \nQ 47.65625 -1.421875 41.21875 -1.421875 \nQ 24.65625 -1.421875 15.125 8.703125 \nQ 5.609375 18.84375 5.609375 36.375 \nQ 5.609375 53.953125 15.125 64.078125 \nQ 24.65625 74.21875 41.21875 74.21875 \nQ 47.75 74.21875 53.53125 72.484375 \nQ 59.328125 70.75 64.40625 67.28125 \nz\n\" id=\"DejaVuSans-67\"/>\n       <path d=\"M 8.5 21.578125 \nL 8.5 54.6875 \nL 17.484375 54.6875 \nL 17.484375 21.921875 \nQ 17.484375 14.15625 20.5 10.265625 \nQ 23.53125 6.390625 29.59375 6.390625 \nQ 36.859375 6.390625 41.078125 11.03125 \nQ 45.3125 15.671875 45.3125 23.6875 \nL 45.3125 54.6875 \nL 54.296875 54.6875 \nL 54.296875 0 \nL 45.3125 0 \nL 45.3125 8.40625 \nQ 42.046875 3.421875 37.71875 1 \nQ 33.40625 -1.421875 27.6875 -1.421875 \nQ 18.265625 -1.421875 13.375 4.4375 \nQ 8.5 10.296875 8.5 21.578125 \nz\nM 31.109375 56 \nz\n\" id=\"DejaVuSans-117\"/>\n       <path d=\"M 45.40625 46.390625 \nL 45.40625 75.984375 \nL 54.390625 75.984375 \nL 54.390625 0 \nL 45.40625 0 \nL 45.40625 8.203125 \nQ 42.578125 3.328125 38.25 0.953125 \nQ 33.9375 -1.421875 27.875 -1.421875 \nQ 17.96875 -1.421875 11.734375 6.484375 \nQ 5.515625 14.40625 5.515625 27.296875 \nQ 5.515625 40.1875 11.734375 48.09375 \nQ 17.96875 56 27.875 56 \nQ 33.9375 56 38.25 53.625 \nQ 42.578125 51.265625 45.40625 46.390625 \nz\nM 14.796875 27.296875 \nQ 14.796875 17.390625 18.875 11.75 \nQ 22.953125 6.109375 30.078125 6.109375 \nQ 37.203125 6.109375 41.296875 11.75 \nQ 45.40625 17.390625 45.40625 27.296875 \nQ 45.40625 37.203125 41.296875 42.84375 \nQ 37.203125 48.484375 30.078125 48.484375 \nQ 22.953125 48.484375 18.875 42.84375 \nQ 14.796875 37.203125 14.796875 27.296875 \nz\n\" id=\"DejaVuSans-100\"/>\n      </defs>\n      <use transform=\"translate(0 0.015625)\" xlink:href=\"#DejaVuSans-67\"/>\n      <use transform=\"translate(69.824219 0.015625)\" xlink:href=\"#DejaVuSans-97\"/>\n      <use transform=\"translate(131.103516 0.015625)\" xlink:href=\"#DejaVuSans-108\"/>\n      <use transform=\"translate(158.886719 0.015625)\" xlink:href=\"#DejaVuSans-99\"/>\n      <use transform=\"translate(213.867188 0.015625)\" xlink:href=\"#DejaVuSans-117\"/>\n      <use transform=\"translate(277.246094 0.015625)\" xlink:href=\"#DejaVuSans-108\"/>\n      <use transform=\"translate(305.029297 0.015625)\" xlink:href=\"#DejaVuSans-97\"/>\n      <use transform=\"translate(366.308594 0.015625)\" xlink:href=\"#DejaVuSans-116\"/>\n      <use transform=\"translate(405.517578 0.015625)\" xlink:href=\"#DejaVuSans-101\"/>\n      <use transform=\"translate(467.041016 0.015625)\" xlink:href=\"#DejaVuSans-100\"/>\n      <use transform=\"translate(530.517578 0.015625)\" xlink:href=\"#DejaVuSans-32\"/>\n      <use transform=\"translate(562.304688 0.015625)\" xlink:href=\"#DejaVuSans-916\"/>\n      <use transform=\"translate(630.712891 0.015625)\" xlink:href=\"#DejaVuSans-916\"/>\n      <use transform=\"translate(699.121094 0.015625)\" xlink:href=\"#DejaVuSans-71\"/>\n      <use transform=\"translate(776.611328 0.015625)\" xlink:href=\"#DejaVuSans-32\"/>\n      <use transform=\"translate(808.398438 0.015625)\" xlink:href=\"#DejaVuSans-40\"/>\n      <use transform=\"translate(847.412109 0.015625)\" xlink:href=\"#DejaVuSans-107\"/>\n      <use transform=\"translate(905.322266 0.015625)\" xlink:href=\"#DejaVuSans-99\"/>\n      <use transform=\"translate(960.302734 0.015625)\" xlink:href=\"#DejaVuSans-97\"/>\n      <use transform=\"translate(1021.582031 0.015625)\" xlink:href=\"#DejaVuSans-108\"/>\n      <use transform=\"translate(1049.365234 0.015625)\" xlink:href=\"#DejaVuSans-32\"/>\n      <use transform=\"translate(1081.152344 0.015625)\" xlink:href=\"#DejaVuSans-47\"/>\n      <use transform=\"translate(1114.84375 0.015625)\" xlink:href=\"#DejaVuSans-32\"/>\n      <use transform=\"translate(1146.630859 0.015625)\" xlink:href=\"#DejaVuSans-109\"/>\n      <use transform=\"translate(1244.042969 0.015625)\" xlink:href=\"#DejaVuSans-111\"/>\n      <use transform=\"translate(1305.224609 0.015625)\" xlink:href=\"#DejaVuSans-108\"/>\n      <use transform=\"translate(1333.007812 0.015625)\" xlink:href=\"#DejaVuSans-41\"/>\n     </g>\n    </g>\n   </g>\n   <g id=\"PathCollection_1\">\n    <defs>\n     <path d=\"M 0 1.581139 \nC 0.419323 1.581139 0.821528 1.41454 1.118034 1.118034 \nC 1.41454 0.821528 1.581139 0.419323 1.581139 -0 \nC 1.581139 -0.419323 1.41454 -0.821528 1.118034 -1.118034 \nC 0.821528 -1.41454 0.419323 -1.581139 0 -1.581139 \nC -0.419323 -1.581139 -0.821528 -1.41454 -1.118034 -1.118034 \nC -1.41454 -0.821528 -1.581139 -0.419323 -1.581139 0 \nC -1.581139 0.419323 -1.41454 0.821528 -1.118034 1.118034 \nC -0.821528 1.41454 -0.419323 1.581139 0 1.581139 \nz\n\" id=\"C0_0_96f1bd1255\"/>\n    </defs>\n    <g clip-path=\"url(#p28b00f1040)\">\n     <use style=\"fill:#9bbcff;stroke:#9bbcff;\" x=\"73.923515\" xlink:href=\"#C0_0_96f1bd1255\" y=\"275.580563\"/>\n    </g>\n    <g clip-path=\"url(#p28b00f1040)\">\n     <use style=\"fill:#6a8bef;stroke:#6a8bef;\" x=\"77.045098\" xlink:href=\"#C0_0_96f1bd1255\" y=\"263.894491\"/>\n    </g>\n    <g clip-path=\"url(#p28b00f1040)\">\n     <use style=\"fill:#6b8df0;stroke:#6b8df0;\" x=\"56.754806\" xlink:href=\"#C0_0_96f1bd1255\" y=\"284.306152\"/>\n    </g>\n    <g clip-path=\"url(#p28b00f1040)\">\n     <use style=\"fill:#6180e9;stroke:#6180e9;\" x=\"98.896183\" xlink:href=\"#C0_0_96f1bd1255\" y=\"240.152688\"/>\n    </g>\n    <g clip-path=\"url(#p28b00f1040)\">\n     <use style=\"fill:#5572df;stroke:#5572df;\" x=\"97.075259\" xlink:href=\"#C0_0_96f1bd1255\" y=\"229.167402\"/>\n    </g>\n    <g clip-path=\"url(#p28b00f1040)\">\n     <use style=\"fill:#b40426;stroke:#b40426;\" x=\"75.484307\" xlink:href=\"#C0_0_96f1bd1255\" y=\"189.804364\"/>\n    </g>\n    <g clip-path=\"url(#p28b00f1040)\">\n     <use style=\"fill:#5977e3;stroke:#5977e3;\" x=\"111.90278\" xlink:href=\"#C0_0_96f1bd1255\" y=\"225.748438\"/>\n    </g>\n    <g clip-path=\"url(#p28b00f1040)\">\n     <use style=\"fill:#5470de;stroke:#5470de;\" x=\"50.511639\" xlink:href=\"#C0_0_96f1bd1255\" y=\"275.94414\"/>\n    </g>\n    <g clip-path=\"url(#p28b00f1040)\">\n     <use style=\"fill:#445acc;stroke:#445acc;\" x=\"56.754806\" xlink:href=\"#C0_0_96f1bd1255\" y=\"272.63613\"/>\n    </g>\n    <g clip-path=\"url(#p28b00f1040)\">\n     <use style=\"fill:#6a8bef;stroke:#6a8bef;\" x=\"50.511639\" xlink:href=\"#C0_0_96f1bd1255\" y=\"271.879466\"/>\n    </g>\n    <g clip-path=\"url(#p28b00f1040)\">\n     <use style=\"fill:#7093f3;stroke:#7093f3;\" x=\"61.177049\" xlink:href=\"#C0_0_96f1bd1255\" y=\"280.882842\"/>\n    </g>\n    <g clip-path=\"url(#p28b00f1040)\">\n     <use style=\"fill:#b40426;stroke:#b40426;\" x=\"67.420216\" xlink:href=\"#C0_0_96f1bd1255\" y=\"130.319348\"/>\n    </g>\n    <g clip-path=\"url(#p28b00f1040)\">\n     <use style=\"fill:#6384eb;stroke:#6384eb;\" x=\"64.818897\" xlink:href=\"#C0_0_96f1bd1255\" y=\"274.81916\"/>\n    </g>\n    <g clip-path=\"url(#p28b00f1040)\">\n     <use style=\"fill:#4358cb;stroke:#4358cb;\" x=\"50.511639\" xlink:href=\"#C0_0_96f1bd1255\" y=\"279.254602\"/>\n    </g>\n    <g clip-path=\"url(#p28b00f1040)\">\n     <use style=\"fill:#3b4cc0;stroke:#3b4cc0;\" x=\"50.511639\" xlink:href=\"#C0_0_96f1bd1255\" y=\"280.934897\"/>\n    </g>\n    <g clip-path=\"url(#p28b00f1040)\">\n     <use style=\"fill:#89acfd;stroke:#89acfd;\" x=\"103.058294\" xlink:href=\"#C0_0_96f1bd1255\" y=\"213.55538\"/>\n    </g>\n    <g clip-path=\"url(#p28b00f1040)\">\n     <use style=\"fill:#bb1b2c;stroke:#bb1b2c;\" x=\"182.658672\" xlink:href=\"#C0_0_96f1bd1255\" y=\"209.283748\"/>\n    </g>\n    <g clip-path=\"url(#p28b00f1040)\">\n     <use style=\"fill:#4f69d9;stroke:#4f69d9;\" x=\"82.768001\" xlink:href=\"#C0_0_96f1bd1255\" y=\"244.498304\"/>\n    </g>\n    <g clip-path=\"url(#p28b00f1040)\">\n     <use style=\"fill:#7093f3;stroke:#7093f3;\" x=\"56.754806\" xlink:href=\"#C0_0_96f1bd1255\" y=\"264.317017\"/>\n    </g>\n   </g>\n   <g id=\"line2d_10\">\n    <path clip-path=\"url(#p28b00f1040)\" d=\"M 50.511639 297.31275 \nL 50.511639 117.31275 \n\" style=\"fill:none;stroke:#808080;stroke-linecap:square;stroke-width:1.5;\"/>\n   </g>\n   <g id=\"line2d_11\">\n    <path clip-path=\"url(#p28b00f1040)\" d=\"M 34.240625 281.041736 \nL 214.240625 281.041736 \n\" style=\"fill:none;stroke:#808080;stroke-linecap:square;stroke-width:1.5;\"/>\n   </g>\n   <g id=\"line2d_12\">\n    <path clip-path=\"url(#p28b00f1040)\" d=\"M 34.240625 297.31275 \nL 214.240625 117.31275 \n\" style=\"fill:none;stroke:#000000;stroke-dasharray:1.5,2.475;stroke-dashoffset:0;stroke-width:1.5;\"/>\n   </g>\n   <g id=\"patch_3\">\n    <path d=\"M 34.240625 297.31275 \nL 34.240625 117.31275 \n\" style=\"fill:none;stroke:#000000;stroke-linecap:square;stroke-linejoin:miter;stroke-width:0.8;\"/>\n   </g>\n   <g id=\"patch_4\">\n    <path d=\"M 214.240625 297.31275 \nL 214.240625 117.31275 \n\" style=\"fill:none;stroke:#000000;stroke-linecap:square;stroke-linejoin:miter;stroke-width:0.8;\"/>\n   </g>\n   <g id=\"patch_5\">\n    <path d=\"M 34.240625 297.31275 \nL 214.240625 297.31275 \n\" style=\"fill:none;stroke:#000000;stroke-linecap:square;stroke-linejoin:miter;stroke-width:0.8;\"/>\n   </g>\n   <g id=\"patch_6\">\n    <path d=\"M 34.240625 117.31275 \nL 214.240625 117.31275 \n\" style=\"fill:none;stroke:#000000;stroke-linecap:square;stroke-linejoin:miter;stroke-width:0.8;\"/>\n   </g>\n   <g id=\"text_11\">\n    <!--   -->\n    <g transform=\"translate(207.01625 16.381875)scale(0.12 -0.12)\">\n     <defs>\n      <path id=\"DejaVuSansMono-32\"/>\n     </defs>\n     <use xlink:href=\"#DejaVuSansMono-32\"/>\n    </g>\n    <!--  4xey_dasatinib (N = 19) -->\n    <g transform=\"translate(40.855625 29.89575)scale(0.12 -0.12)\">\n     <defs>\n      <path d=\"M 35.890625 63.921875 \nL 12.890625 25.390625 \nL 35.890625 25.390625 \nz\nM 34.28125 72.90625 \nL 45.703125 72.90625 \nL 45.703125 25.390625 \nL 55.421875 25.390625 \nL 55.421875 17.390625 \nL 45.703125 17.390625 \nL 45.703125 0 \nL 35.890625 0 \nL 35.890625 17.390625 \nL 4.984375 17.390625 \nL 4.984375 26.703125 \nz\n\" id=\"DejaVuSansMono-52\"/>\n      <path d=\"M 54.59375 54.6875 \nL 35.015625 28.515625 \nL 56.5 0 \nL 46.09375 0 \nL 30.078125 21.921875 \nL 14.109375 0 \nL 3.71875 0 \nL 25.203125 28.515625 \nL 5.609375 54.6875 \nL 15.578125 54.6875 \nL 30.078125 34.90625 \nL 44.484375 54.6875 \nz\n\" id=\"DejaVuSansMono-120\"/>\n      <path d=\"M 54.296875 29.59375 \nL 54.296875 25.203125 \nL 15.375 25.203125 \nL 15.375 24.90625 \nQ 15.375 15.96875 20.03125 11.078125 \nQ 24.703125 6.203125 33.203125 6.203125 \nQ 37.5 6.203125 42.1875 7.5625 \nQ 46.875 8.9375 52.203125 11.71875 \nL 52.203125 2.78125 \nQ 47.078125 0.6875 42.3125 -0.359375 \nQ 37.546875 -1.421875 33.109375 -1.421875 \nQ 20.359375 -1.421875 13.171875 6.21875 \nQ 6 13.875 6 27.296875 \nQ 6 40.375 13.03125 48.1875 \nQ 20.0625 56 31.78125 56 \nQ 42.234375 56 48.265625 48.921875 \nQ 54.296875 41.84375 54.296875 29.59375 \nz\nM 45.3125 32.234375 \nQ 45.125 40.140625 41.578125 44.265625 \nQ 38.03125 48.390625 31.390625 48.390625 \nQ 24.90625 48.390625 20.703125 44.09375 \nQ 16.5 39.796875 15.71875 32.171875 \nz\n\" id=\"DejaVuSansMono-101\"/>\n      <path d=\"M 41.890625 17.578125 \nQ 39.65625 11.859375 36.1875 2.546875 \nQ 31.34375 -10.359375 29.6875 -13.1875 \nQ 27.4375 -17 24.0625 -18.890625 \nQ 20.703125 -20.796875 16.21875 -20.796875 \nL 8.984375 -20.796875 \nL 8.984375 -13.28125 \nL 14.3125 -13.28125 \nQ 18.265625 -13.28125 20.5 -10.984375 \nQ 22.75 -8.6875 26.21875 0.875 \nL 5.078125 54.6875 \nL 14.59375 54.6875 \nL 30.8125 11.921875 \nL 46.78125 54.6875 \nL 56.296875 54.6875 \nz\n\" id=\"DejaVuSansMono-121\"/>\n      <path d=\"M 60.203125 -19.671875 \nL 60.203125 -23.578125 \nL 0 -23.578125 \nL 0 -19.671875 \nz\n\" id=\"DejaVuSansMono-95\"/>\n      <path d=\"M 41.890625 47.703125 \nL 41.890625 75.984375 \nL 50.875 75.984375 \nL 50.875 0 \nL 41.890625 0 \nL 41.890625 6.890625 \nQ 39.65625 2.828125 35.90625 0.703125 \nQ 32.171875 -1.421875 27.296875 -1.421875 \nQ 17.390625 -1.421875 11.6875 6.265625 \nQ 6 13.96875 6 27.484375 \nQ 6 40.828125 11.71875 48.40625 \nQ 17.4375 56 27.296875 56 \nQ 32.234375 56 35.984375 53.875 \nQ 39.75 51.765625 41.890625 47.703125 \nz\nM 15.484375 27.296875 \nQ 15.484375 16.84375 18.796875 11.515625 \nQ 22.125 6.203125 28.609375 6.203125 \nQ 35.109375 6.203125 38.5 11.5625 \nQ 41.890625 16.9375 41.890625 27.296875 \nQ 41.890625 37.703125 38.5 43.046875 \nQ 35.109375 48.390625 28.609375 48.390625 \nQ 22.125 48.390625 18.796875 43.0625 \nQ 15.484375 37.75 15.484375 27.296875 \nz\n\" id=\"DejaVuSansMono-100\"/>\n      <path d=\"M 34.28125 27.484375 \nL 31.296875 27.484375 \nQ 23.4375 27.484375 19.453125 24.71875 \nQ 15.484375 21.96875 15.484375 16.5 \nQ 15.484375 11.578125 18.453125 8.84375 \nQ 21.4375 6.109375 26.703125 6.109375 \nQ 34.125 6.109375 38.375 11.25 \nQ 42.625 16.40625 42.671875 25.484375 \nL 42.671875 27.484375 \nz\nM 51.703125 31.203125 \nL 51.703125 0 \nL 42.671875 0 \nL 42.671875 8.109375 \nQ 39.796875 3.21875 35.421875 0.890625 \nQ 31.0625 -1.421875 24.8125 -1.421875 \nQ 16.453125 -1.421875 11.46875 3.296875 \nQ 6.5 8.015625 6.5 15.921875 \nQ 6.5 25.046875 12.625 29.78125 \nQ 18.75 34.515625 30.609375 34.515625 \nL 42.671875 34.515625 \nL 42.671875 35.9375 \nQ 42.625 42.484375 39.34375 45.4375 \nQ 36.078125 48.390625 28.90625 48.390625 \nQ 24.3125 48.390625 19.625 47.0625 \nQ 14.9375 45.75 10.5 43.21875 \nL 10.5 52.203125 \nQ 15.484375 54.109375 20.046875 55.046875 \nQ 24.609375 56 28.90625 56 \nQ 35.6875 56 40.5 54 \nQ 45.3125 52 48.296875 48 \nQ 50.140625 45.5625 50.921875 41.96875 \nQ 51.703125 38.375 51.703125 31.203125 \nz\n\" id=\"DejaVuSansMono-97\"/>\n      <path d=\"M 47.515625 52.78125 \nL 47.515625 44 \nQ 43.65625 46.234375 39.75 47.359375 \nQ 35.84375 48.484375 31.78125 48.484375 \nQ 25.6875 48.484375 22.671875 46.5 \nQ 19.671875 44.53125 19.671875 40.484375 \nQ 19.671875 36.8125 21.921875 35 \nQ 24.171875 33.203125 33.109375 31.5 \nL 36.71875 30.8125 \nQ 43.40625 29.546875 46.84375 25.734375 \nQ 50.296875 21.921875 50.296875 15.828125 \nQ 50.296875 7.71875 44.53125 3.140625 \nQ 38.765625 -1.421875 28.515625 -1.421875 \nQ 24.46875 -1.421875 20.015625 -0.5625 \nQ 15.578125 0.296875 10.40625 2 \nL 10.40625 11.28125 \nQ 15.4375 8.6875 20.015625 7.390625 \nQ 24.609375 6.109375 28.71875 6.109375 \nQ 34.671875 6.109375 37.9375 8.515625 \nQ 41.21875 10.9375 41.21875 15.28125 \nQ 41.21875 21.53125 29.25 23.921875 \nL 28.859375 24.03125 \nL 25.484375 24.703125 \nQ 17.71875 26.21875 14.15625 29.8125 \nQ 10.59375 33.40625 10.59375 39.59375 \nQ 10.59375 47.46875 15.90625 51.734375 \nQ 21.234375 56 31.109375 56 \nQ 35.5 56 39.546875 55.1875 \nQ 43.609375 54.390625 47.515625 52.78125 \nz\n\" id=\"DejaVuSansMono-115\"/>\n      <path d=\"M 29.984375 70.21875 \nL 29.984375 54.6875 \nL 50.390625 54.6875 \nL 50.390625 47.703125 \nL 29.984375 47.703125 \nL 29.984375 18.015625 \nQ 29.984375 11.96875 32.28125 9.5625 \nQ 34.578125 7.171875 40.28125 7.171875 \nL 50.390625 7.171875 \nL 50.390625 0 \nL 39.40625 0 \nQ 29.296875 0 25.140625 4.046875 \nQ 21 8.109375 21 18.015625 \nL 21 47.703125 \nL 6.390625 47.703125 \nL 6.390625 54.6875 \nL 21 54.6875 \nL 21 70.21875 \nz\n\" id=\"DejaVuSansMono-116\"/>\n      <path d=\"M 12.5 54.6875 \nL 35.5 54.6875 \nL 35.5 6.984375 \nL 53.328125 6.984375 \nL 53.328125 0 \nL 8.6875 0 \nL 8.6875 6.984375 \nL 26.515625 6.984375 \nL 26.515625 47.703125 \nL 12.5 47.703125 \nz\nM 26.515625 75.984375 \nL 35.5 75.984375 \nL 35.5 64.59375 \nL 26.515625 64.59375 \nz\n\" id=\"DejaVuSansMono-105\"/>\n      <path d=\"M 51.3125 33.890625 \nL 51.3125 0 \nL 42.28125 0 \nL 42.28125 33.890625 \nQ 42.28125 41.265625 39.6875 44.71875 \nQ 37.109375 48.1875 31.59375 48.1875 \nQ 25.296875 48.1875 21.890625 43.71875 \nQ 18.5 39.265625 18.5 30.90625 \nL 18.5 0 \nL 9.515625 0 \nL 9.515625 54.6875 \nL 18.5 54.6875 \nL 18.5 46.484375 \nQ 20.90625 51.171875 25 53.578125 \nQ 29.109375 56 34.71875 56 \nQ 43.0625 56 47.1875 50.5 \nQ 51.3125 45.015625 51.3125 33.890625 \nz\n\" id=\"DejaVuSansMono-110\"/>\n      <path d=\"M 44.828125 27.296875 \nQ 44.828125 37.75 41.5 43.0625 \nQ 38.1875 48.390625 31.6875 48.390625 \nQ 25.140625 48.390625 21.765625 43.046875 \nQ 18.40625 37.703125 18.40625 27.296875 \nQ 18.40625 16.9375 21.765625 11.5625 \nQ 25.140625 6.203125 31.6875 6.203125 \nQ 38.1875 6.203125 41.5 11.515625 \nQ 44.828125 16.84375 44.828125 27.296875 \nz\nM 18.40625 47.703125 \nQ 20.5625 51.703125 24.34375 53.84375 \nQ 28.125 56 33.109375 56 \nQ 42.96875 56 48.625 48.40625 \nQ 54.296875 40.828125 54.296875 27.484375 \nQ 54.296875 13.96875 48.609375 6.265625 \nQ 42.921875 -1.421875 33.015625 -1.421875 \nQ 28.125 -1.421875 24.390625 0.703125 \nQ 20.65625 2.828125 18.40625 6.890625 \nL 18.40625 0 \nL 9.421875 0 \nL 9.421875 75.984375 \nL 18.40625 75.984375 \nz\n\" id=\"DejaVuSansMono-98\"/>\n      <path d=\"M 43.21875 75.875 \nQ 36.71875 64.75 33.515625 53.6875 \nQ 30.328125 42.625 30.328125 31.390625 \nQ 30.328125 20.21875 33.515625 9.125 \nQ 36.71875 -1.953125 43.21875 -13.1875 \nL 35.40625 -13.1875 \nQ 28.03125 -1.5625 24.40625 9.4375 \nQ 20.796875 20.453125 20.796875 31.390625 \nQ 20.796875 42.28125 24.40625 53.3125 \nQ 28.03125 64.359375 35.40625 75.875 \nz\n\" id=\"DejaVuSansMono-40\"/>\n      <path d=\"M 6.78125 72.90625 \nL 19.28125 72.90625 \nL 43.890625 12.890625 \nL 43.890625 72.90625 \nL 53.421875 72.90625 \nL 53.421875 0 \nL 40.921875 0 \nL 16.3125 60.015625 \nL 16.3125 0 \nL 6.78125 0 \nz\n\" id=\"DejaVuSansMono-78\"/>\n      <path d=\"M 4.296875 25.59375 \nL 55.90625 25.59375 \nL 55.90625 17.1875 \nL 4.296875 17.1875 \nz\nM 4.296875 45.40625 \nL 55.90625 45.40625 \nL 55.90625 37.109375 \nL 4.296875 37.109375 \nz\n\" id=\"DejaVuSansMono-61\"/>\n      <path d=\"M 13.1875 8.296875 \nL 28.515625 8.296875 \nL 28.515625 64.015625 \nL 12.015625 60.296875 \nL 12.015625 69.28125 \nL 28.421875 72.90625 \nL 38.28125 72.90625 \nL 38.28125 8.296875 \nL 53.421875 8.296875 \nL 53.421875 0 \nL 13.1875 0 \nz\n\" id=\"DejaVuSansMono-49\"/>\n      <path d=\"M 29.109375 32.328125 \nQ 35.40625 32.328125 38.984375 36.859375 \nQ 42.578125 41.40625 42.578125 49.421875 \nQ 42.578125 57.421875 38.984375 61.953125 \nQ 35.40625 66.5 29.109375 66.5 \nQ 22.5625 66.5 19.234375 62.171875 \nQ 15.921875 57.859375 15.921875 49.421875 \nQ 15.921875 40.921875 19.21875 36.625 \nQ 22.515625 32.328125 29.109375 32.328125 \nz\nM 11.53125 1.515625 \nL 11.53125 10.59375 \nQ 14.59375 8.796875 18.0625 7.84375 \nQ 21.53125 6.890625 25.296875 6.890625 \nQ 34.671875 6.890625 39.46875 13.9375 \nQ 44.28125 21 44.28125 34.71875 \nQ 42 29.828125 37.84375 27.21875 \nQ 33.6875 24.609375 28.328125 24.609375 \nQ 17.78125 24.609375 11.984375 31.09375 \nQ 6.203125 37.59375 6.203125 49.515625 \nQ 6.203125 61.28125 12.125 67.75 \nQ 18.0625 74.21875 28.90625 74.21875 \nQ 41.609375 74.21875 47.515625 65.078125 \nQ 53.421875 55.953125 53.421875 36.375 \nQ 53.421875 17.96875 46.3125 8.265625 \nQ 39.203125 -1.421875 25.6875 -1.421875 \nQ 22.125 -1.421875 18.5 -0.65625 \nQ 14.890625 0.09375 11.53125 1.515625 \nz\n\" id=\"DejaVuSansMono-57\"/>\n      <path d=\"M 17 75.875 \nL 24.8125 75.875 \nQ 32.171875 64.359375 35.78125 53.3125 \nQ 39.40625 42.28125 39.40625 31.390625 \nQ 39.40625 20.40625 35.78125 9.375 \nQ 32.171875 -1.65625 24.8125 -13.1875 \nL 17 -13.1875 \nQ 23.484375 -1.859375 26.6875 9.21875 \nQ 29.890625 20.3125 29.890625 31.390625 \nQ 29.890625 42.53125 26.6875 53.609375 \nQ 23.484375 64.703125 17 75.875 \nz\n\" id=\"DejaVuSansMono-41\"/>\n     </defs>\n     <use xlink:href=\"#DejaVuSansMono-32\"/>\n     <use x=\"60.205078\" xlink:href=\"#DejaVuSansMono-52\"/>\n     <use x=\"120.410156\" xlink:href=\"#DejaVuSansMono-120\"/>\n     <use x=\"180.615234\" xlink:href=\"#DejaVuSansMono-101\"/>\n     <use x=\"240.820312\" xlink:href=\"#DejaVuSansMono-121\"/>\n     <use x=\"301.025391\" xlink:href=\"#DejaVuSansMono-95\"/>\n     <use x=\"361.230469\" xlink:href=\"#DejaVuSansMono-100\"/>\n     <use x=\"421.435547\" xlink:href=\"#DejaVuSansMono-97\"/>\n     <use x=\"481.640625\" xlink:href=\"#DejaVuSansMono-115\"/>\n     <use x=\"541.845703\" xlink:href=\"#DejaVuSansMono-97\"/>\n     <use x=\"602.050781\" xlink:href=\"#DejaVuSansMono-116\"/>\n     <use x=\"662.255859\" xlink:href=\"#DejaVuSansMono-105\"/>\n     <use x=\"722.460938\" xlink:href=\"#DejaVuSansMono-110\"/>\n     <use x=\"782.666016\" xlink:href=\"#DejaVuSansMono-105\"/>\n     <use x=\"842.871094\" xlink:href=\"#DejaVuSansMono-98\"/>\n     <use x=\"903.076172\" xlink:href=\"#DejaVuSansMono-32\"/>\n     <use x=\"963.28125\" xlink:href=\"#DejaVuSansMono-40\"/>\n     <use x=\"1023.486328\" xlink:href=\"#DejaVuSansMono-78\"/>\n     <use x=\"1083.691406\" xlink:href=\"#DejaVuSansMono-32\"/>\n     <use x=\"1143.896484\" xlink:href=\"#DejaVuSansMono-61\"/>\n     <use x=\"1204.101562\" xlink:href=\"#DejaVuSansMono-32\"/>\n     <use x=\"1264.306641\" xlink:href=\"#DejaVuSansMono-49\"/>\n     <use x=\"1324.511719\" xlink:href=\"#DejaVuSansMono-57\"/>\n     <use x=\"1384.716797\" xlink:href=\"#DejaVuSansMono-41\"/>\n    </g>\n    <!--  RMSE: 1.45 -->\n    <g transform=\"translate(134.7725 43.743375)scale(0.12 -0.12)\">\n     <defs>\n      <path d=\"M 37.109375 34.421875 \nQ 40.921875 33.453125 43.609375 30.734375 \nQ 46.296875 28.03125 50.296875 19.921875 \nL 60.203125 0 \nL 49.609375 0 \nL 40.921875 18.40625 \nQ 37.15625 26.265625 34.15625 28.53125 \nQ 31.15625 30.8125 26.3125 30.8125 \nL 16.890625 30.8125 \nL 16.890625 0 \nL 6.984375 0 \nL 6.984375 72.90625 \nL 27.296875 72.90625 \nQ 39.3125 72.90625 45.703125 67.484375 \nQ 52.09375 62.0625 52.09375 51.8125 \nQ 52.09375 44.578125 48.15625 40.015625 \nQ 44.234375 35.453125 37.109375 34.421875 \nz\nM 16.890625 64.796875 \nL 16.890625 38.921875 \nL 27.6875 38.921875 \nQ 34.765625 38.921875 38.234375 42.09375 \nQ 41.703125 45.265625 41.703125 51.8125 \nQ 41.703125 58.109375 38.015625 61.453125 \nQ 34.328125 64.796875 27.296875 64.796875 \nz\n\" id=\"DejaVuSansMono-82\"/>\n      <path d=\"M 4.203125 72.90625 \nL 17.390625 72.90625 \nL 29.984375 35.796875 \nL 42.671875 72.90625 \nL 55.90625 72.90625 \nL 55.90625 0 \nL 46.78125 0 \nL 46.78125 64.40625 \nL 33.796875 25.984375 \nL 26.3125 25.984375 \nL 13.28125 64.40625 \nL 13.28125 0 \nL 4.203125 0 \nz\n\" id=\"DejaVuSansMono-77\"/>\n      <path d=\"M 49.421875 70.40625 \nL 49.421875 60.40625 \nQ 44.921875 63.28125 40.40625 64.75 \nQ 35.890625 66.21875 31.296875 66.21875 \nQ 24.3125 66.21875 20.265625 62.96875 \nQ 16.21875 59.71875 16.21875 54.203125 \nQ 16.21875 49.359375 18.875 46.8125 \nQ 21.53125 44.28125 28.8125 42.578125 \nL 33.984375 41.40625 \nQ 44.234375 39.015625 48.921875 33.890625 \nQ 53.609375 28.765625 53.609375 19.921875 \nQ 53.609375 9.515625 47.15625 4.046875 \nQ 40.71875 -1.421875 28.421875 -1.421875 \nQ 23.296875 -1.421875 18.109375 -0.3125 \nQ 12.9375 0.78125 7.71875 2.984375 \nL 7.71875 13.484375 \nQ 13.328125 9.90625 18.328125 8.25 \nQ 23.34375 6.59375 28.421875 6.59375 \nQ 35.890625 6.59375 40.03125 9.9375 \nQ 44.1875 13.28125 44.1875 19.28125 \nQ 44.1875 24.75 41.328125 27.625 \nQ 38.484375 30.515625 31.390625 32.078125 \nL 26.125 33.296875 \nQ 15.96875 35.59375 11.375 40.234375 \nQ 6.78125 44.875 6.78125 52.6875 \nQ 6.78125 62.453125 13.34375 68.328125 \nQ 19.921875 74.21875 30.8125 74.21875 \nQ 35.015625 74.21875 39.640625 73.265625 \nQ 44.28125 72.3125 49.421875 70.40625 \nz\n\" id=\"DejaVuSansMono-83\"/>\n      <path d=\"M 9.625 72.90625 \nL 52.875 72.90625 \nL 52.875 64.59375 \nL 19.484375 64.59375 \nL 19.484375 43.015625 \nL 51.421875 43.015625 \nL 51.421875 34.71875 \nL 19.484375 34.71875 \nL 19.484375 8.296875 \nL 53.8125 8.296875 \nL 53.8125 0 \nL 9.625 0 \nz\n\" id=\"DejaVuSansMono-69\"/>\n      <path d=\"M 23.875 51.90625 \nL 36.1875 51.90625 \nL 36.1875 37.109375 \nL 23.875 37.109375 \nz\nM 23.875 14.890625 \nL 36.1875 14.890625 \nL 36.1875 0 \nL 23.875 0 \nz\n\" id=\"DejaVuSansMono-58\"/>\n      <path d=\"M 23.875 14.890625 \nL 36.1875 14.890625 \nL 36.1875 0 \nL 23.875 0 \nz\n\" id=\"DejaVuSansMono-46\"/>\n      <path d=\"M 10.109375 72.90625 \nL 47.015625 72.90625 \nL 47.015625 64.59375 \nL 19.09375 64.59375 \nL 19.09375 46.6875 \nQ 21.1875 47.46875 23.3125 47.828125 \nQ 25.4375 48.1875 27.59375 48.1875 \nQ 38.921875 48.1875 45.5625 41.5 \nQ 52.203125 34.8125 52.203125 23.390625 \nQ 52.203125 11.859375 45.234375 5.21875 \nQ 38.28125 -1.421875 26.21875 -1.421875 \nQ 20.40625 -1.421875 15.59375 -0.640625 \nQ 10.796875 0.140625 6.984375 1.703125 \nL 6.984375 11.71875 \nQ 11.46875 9.28125 16.015625 8.078125 \nQ 20.5625 6.890625 25.296875 6.890625 \nQ 33.453125 6.890625 37.859375 11.1875 \nQ 42.28125 15.484375 42.28125 23.390625 \nQ 42.28125 31.203125 37.71875 35.546875 \nQ 33.15625 39.890625 25 39.890625 \nQ 21.046875 39.890625 17.28125 38.984375 \nQ 13.53125 38.09375 10.109375 36.28125 \nz\n\" id=\"DejaVuSansMono-53\"/>\n     </defs>\n     <use xlink:href=\"#DejaVuSansMono-32\"/>\n     <use x=\"60.205078\" xlink:href=\"#DejaVuSansMono-82\"/>\n     <use x=\"120.410156\" xlink:href=\"#DejaVuSansMono-77\"/>\n     <use x=\"180.615234\" xlink:href=\"#DejaVuSansMono-83\"/>\n     <use x=\"240.820312\" xlink:href=\"#DejaVuSansMono-69\"/>\n     <use x=\"301.025391\" xlink:href=\"#DejaVuSansMono-58\"/>\n     <use x=\"361.230469\" xlink:href=\"#DejaVuSansMono-32\"/>\n     <use x=\"421.435547\" xlink:href=\"#DejaVuSansMono-49\"/>\n     <use x=\"481.640625\" xlink:href=\"#DejaVuSansMono-46\"/>\n     <use x=\"541.845703\" xlink:href=\"#DejaVuSansMono-52\"/>\n     <use x=\"602.050781\" xlink:href=\"#DejaVuSansMono-53\"/>\n    </g>\n    <!-- MUE: 0.77 -->\n    <g transform=\"translate(149.22125 57.25725)scale(0.12 -0.12)\">\n     <defs>\n      <path d=\"M 7.171875 27.984375 \nL 7.171875 72.90625 \nL 17.09375 72.90625 \nL 17.09375 23.484375 \nQ 17.09375 18.171875 17.375 15.890625 \nQ 17.671875 13.625 18.40625 12.40625 \nQ 19.96875 9.515625 22.921875 8.046875 \nQ 25.875 6.59375 30.078125 6.59375 \nQ 34.328125 6.59375 37.25 8.046875 \nQ 40.1875 9.515625 41.796875 12.40625 \nQ 42.53125 13.625 42.8125 15.859375 \nQ 43.109375 18.109375 43.109375 23.390625 \nL 43.109375 72.90625 \nL 52.984375 72.90625 \nL 52.984375 27.984375 \nQ 52.984375 16.796875 51.59375 12.078125 \nQ 50.203125 7.375 46.78125 4.296875 \nQ 43.5625 1.421875 39.40625 0 \nQ 35.25 -1.421875 30.078125 -1.421875 \nQ 24.953125 -1.421875 20.796875 0 \nQ 16.65625 1.421875 13.375 4.296875 \nQ 10.015625 7.328125 8.59375 12.125 \nQ 7.171875 16.9375 7.171875 27.984375 \nz\n\" id=\"DejaVuSansMono-85\"/>\n      <path d=\"M 23.578125 36.625 \nQ 23.578125 39.3125 25.453125 41.265625 \nQ 27.34375 43.21875 29.984375 43.21875 \nQ 32.71875 43.21875 34.671875 41.265625 \nQ 36.625 39.3125 36.625 36.625 \nQ 36.625 33.890625 34.6875 31.984375 \nQ 32.765625 30.078125 29.984375 30.078125 \nQ 27.25 30.078125 25.40625 31.9375 \nQ 23.578125 33.796875 23.578125 36.625 \nz\nM 30.078125 66.40625 \nQ 23.1875 66.40625 19.796875 58.984375 \nQ 16.40625 51.5625 16.40625 36.375 \nQ 16.40625 21.234375 19.796875 13.8125 \nQ 23.1875 6.390625 30.078125 6.390625 \nQ 37.015625 6.390625 40.40625 13.8125 \nQ 43.796875 21.234375 43.796875 36.375 \nQ 43.796875 51.5625 40.40625 58.984375 \nQ 37.015625 66.40625 30.078125 66.40625 \nz\nM 30.078125 74.21875 \nQ 41.75 74.21875 47.734375 64.640625 \nQ 53.71875 55.078125 53.71875 36.375 \nQ 53.71875 17.71875 47.734375 8.140625 \nQ 41.75 -1.421875 30.078125 -1.421875 \nQ 18.40625 -1.421875 12.453125 8.140625 \nQ 6.5 17.71875 6.5 36.375 \nQ 6.5 55.078125 12.453125 64.640625 \nQ 18.40625 74.21875 30.078125 74.21875 \nz\n\" id=\"DejaVuSansMono-48\"/>\n      <path d=\"M 6.78125 72.90625 \nL 52.6875 72.90625 \nL 52.6875 68.703125 \nL 26.609375 0 \nL 16.3125 0 \nL 41.703125 64.59375 \nL 6.78125 64.59375 \nz\n\" id=\"DejaVuSansMono-55\"/>\n     </defs>\n     <use xlink:href=\"#DejaVuSansMono-77\"/>\n     <use x=\"60.205078\" xlink:href=\"#DejaVuSansMono-85\"/>\n     <use x=\"120.410156\" xlink:href=\"#DejaVuSansMono-69\"/>\n     <use x=\"180.615234\" xlink:href=\"#DejaVuSansMono-58\"/>\n     <use x=\"240.820312\" xlink:href=\"#DejaVuSansMono-32\"/>\n     <use x=\"301.025391\" xlink:href=\"#DejaVuSansMono-48\"/>\n     <use x=\"361.230469\" xlink:href=\"#DejaVuSansMono-46\"/>\n     <use x=\"421.435547\" xlink:href=\"#DejaVuSansMono-55\"/>\n     <use x=\"481.640625\" xlink:href=\"#DejaVuSansMono-55\"/>\n    </g>\n    <!-- R2: 0.21 -->\n    <g transform=\"translate(156.445625 70.771125)scale(0.12 -0.12)\">\n     <defs>\n      <path d=\"M 18.21875 8.296875 \nL 51.703125 8.296875 \nL 51.703125 0 \nL 7.421875 0 \nL 7.421875 8.296875 \nQ 16.546875 17.921875 23.375 25.296875 \nQ 30.21875 32.671875 32.8125 35.6875 \nQ 37.703125 41.65625 39.40625 45.34375 \nQ 41.109375 49.03125 41.109375 52.875 \nQ 41.109375 58.984375 37.515625 62.453125 \nQ 33.9375 65.921875 27.6875 65.921875 \nQ 23.25 65.921875 18.359375 64.3125 \nQ 13.484375 62.703125 8.015625 59.421875 \nL 8.015625 69.390625 \nQ 13.03125 71.78125 17.890625 73 \nQ 22.75 74.21875 27.484375 74.21875 \nQ 38.1875 74.21875 44.703125 68.53125 \nQ 51.21875 62.84375 51.21875 53.609375 \nQ 51.21875 48.921875 49.046875 44.234375 \nQ 46.875 39.546875 42 33.890625 \nQ 39.265625 30.71875 34.0625 25.09375 \nQ 28.859375 19.484375 18.21875 8.296875 \nz\n\" id=\"DejaVuSansMono-50\"/>\n     </defs>\n     <use xlink:href=\"#DejaVuSansMono-82\"/>\n     <use x=\"60.205078\" xlink:href=\"#DejaVuSansMono-50\"/>\n     <use x=\"120.410156\" xlink:href=\"#DejaVuSansMono-58\"/>\n     <use x=\"180.615234\" xlink:href=\"#DejaVuSansMono-32\"/>\n     <use x=\"240.820312\" xlink:href=\"#DejaVuSansMono-48\"/>\n     <use x=\"301.025391\" xlink:href=\"#DejaVuSansMono-46\"/>\n     <use x=\"361.230469\" xlink:href=\"#DejaVuSansMono-50\"/>\n     <use x=\"421.435547\" xlink:href=\"#DejaVuSansMono-49\"/>\n    </g>\n    <!-- rho: 0.46 -->\n    <g transform=\"translate(149.22125 84.285)scale(0.12 -0.12)\">\n     <defs>\n      <path d=\"M 56.390625 43.40625 \nQ 53.515625 45.65625 50.53125 46.671875 \nQ 47.5625 47.703125 44 47.703125 \nQ 35.59375 47.703125 31.140625 42.421875 \nQ 26.703125 37.15625 26.703125 27.203125 \nL 26.703125 0 \nL 17.671875 0 \nL 17.671875 54.6875 \nL 26.703125 54.6875 \nL 26.703125 44 \nQ 28.953125 49.8125 33.609375 52.90625 \nQ 38.28125 56 44.671875 56 \nQ 48 56 50.875 55.171875 \nQ 53.765625 54.34375 56.390625 52.59375 \nz\n\" id=\"DejaVuSansMono-114\"/>\n      <path d=\"M 51.3125 33.890625 \nL 51.3125 0 \nL 42.28125 0 \nL 42.28125 33.890625 \nQ 42.28125 41.265625 39.6875 44.71875 \nQ 37.109375 48.1875 31.59375 48.1875 \nQ 25.296875 48.1875 21.890625 43.71875 \nQ 18.5 39.265625 18.5 30.90625 \nL 18.5 0 \nL 9.515625 0 \nL 9.515625 75.984375 \nL 18.5 75.984375 \nL 18.5 46.484375 \nQ 20.90625 51.171875 25 53.578125 \nQ 29.109375 56 34.71875 56 \nQ 43.0625 56 47.1875 50.5 \nQ 51.3125 45.015625 51.3125 33.890625 \nz\n\" id=\"DejaVuSansMono-104\"/>\n      <path d=\"M 30.078125 48.390625 \nQ 23.25 48.390625 19.734375 43.0625 \nQ 16.21875 37.75 16.21875 27.296875 \nQ 16.21875 16.890625 19.734375 11.546875 \nQ 23.25 6.203125 30.078125 6.203125 \nQ 36.96875 6.203125 40.484375 11.546875 \nQ 44 16.890625 44 27.296875 \nQ 44 37.75 40.484375 43.0625 \nQ 36.96875 48.390625 30.078125 48.390625 \nz\nM 30.078125 56 \nQ 41.453125 56 47.484375 48.625 \nQ 53.515625 41.265625 53.515625 27.296875 \nQ 53.515625 13.28125 47.5 5.921875 \nQ 41.5 -1.421875 30.078125 -1.421875 \nQ 18.703125 -1.421875 12.6875 5.921875 \nQ 6.6875 13.28125 6.6875 27.296875 \nQ 6.6875 41.265625 12.6875 48.625 \nQ 18.703125 56 30.078125 56 \nz\n\" id=\"DejaVuSansMono-111\"/>\n      <path d=\"M 48.390625 71.296875 \nL 48.390625 62.203125 \nQ 45.3125 64.015625 41.84375 64.96875 \nQ 38.375 65.921875 34.625 65.921875 \nQ 25.25 65.921875 20.40625 58.859375 \nQ 15.578125 51.8125 15.578125 38.09375 \nQ 17.921875 42.96875 22.0625 45.578125 \nQ 26.21875 48.1875 31.59375 48.1875 \nQ 42.140625 48.1875 47.921875 41.71875 \nQ 53.71875 35.25 53.71875 23.390625 \nQ 53.71875 11.578125 47.75 5.078125 \nQ 41.796875 -1.421875 31 -1.421875 \nQ 18.3125 -1.421875 12.40625 7.6875 \nQ 6.5 16.796875 6.5 36.375 \nQ 6.5 54.828125 13.59375 64.515625 \nQ 20.703125 74.21875 34.1875 74.21875 \nQ 37.796875 74.21875 41.40625 73.453125 \nQ 45.015625 72.703125 48.390625 71.296875 \nz\nM 30.8125 40.484375 \nQ 24.515625 40.484375 20.890625 35.9375 \nQ 17.28125 31.390625 17.28125 23.390625 \nQ 17.28125 15.375 20.890625 10.828125 \nQ 24.515625 6.296875 30.8125 6.296875 \nQ 37.359375 6.296875 40.671875 10.609375 \nQ 44 14.9375 44 23.390625 \nQ 44 31.890625 40.671875 36.1875 \nQ 37.359375 40.484375 30.8125 40.484375 \nz\n\" id=\"DejaVuSansMono-54\"/>\n     </defs>\n     <use xlink:href=\"#DejaVuSansMono-114\"/>\n     <use x=\"60.205078\" xlink:href=\"#DejaVuSansMono-104\"/>\n     <use x=\"120.410156\" xlink:href=\"#DejaVuSansMono-111\"/>\n     <use x=\"180.615234\" xlink:href=\"#DejaVuSansMono-58\"/>\n     <use x=\"240.820312\" xlink:href=\"#DejaVuSansMono-32\"/>\n     <use x=\"301.025391\" xlink:href=\"#DejaVuSansMono-48\"/>\n     <use x=\"361.230469\" xlink:href=\"#DejaVuSansMono-46\"/>\n     <use x=\"421.435547\" xlink:href=\"#DejaVuSansMono-52\"/>\n     <use x=\"481.640625\" xlink:href=\"#DejaVuSansMono-54\"/>\n    </g>\n    <!--   -->\n    <g transform=\"translate(207.01625 97.798875)scale(0.12 -0.12)\">\n     <use xlink:href=\"#DejaVuSansMono-32\"/>\n    </g>\n    <!--  timestamp: 27 October, 2020 -->\n    <g transform=\"translate(11.958125 111.31275)scale(0.12 -0.12)\">\n     <defs>\n      <path d=\"M 33.015625 49.125 \nQ 34.671875 52.640625 37.234375 54.3125 \nQ 39.796875 56 43.40625 56 \nQ 50 56 52.703125 50.890625 \nQ 55.421875 45.796875 55.421875 31.6875 \nL 55.421875 0 \nL 47.21875 0 \nL 47.21875 31.296875 \nQ 47.21875 42.875 45.921875 45.671875 \nQ 44.625 48.484375 41.21875 48.484375 \nQ 37.3125 48.484375 35.859375 45.484375 \nQ 34.421875 42.484375 34.421875 31.296875 \nL 34.421875 0 \nL 26.21875 0 \nL 26.21875 31.296875 \nQ 26.21875 43.015625 24.828125 45.75 \nQ 23.4375 48.484375 19.828125 48.484375 \nQ 16.265625 48.484375 14.875 45.484375 \nQ 13.484375 42.484375 13.484375 31.296875 \nL 13.484375 0 \nL 5.328125 0 \nL 5.328125 54.6875 \nL 13.484375 54.6875 \nL 13.484375 50 \nQ 15.09375 52.9375 17.5 54.46875 \nQ 19.921875 56 23 56 \nQ 26.703125 56 29.171875 54.296875 \nQ 31.640625 52.59375 33.015625 49.125 \nz\n\" id=\"DejaVuSansMono-109\"/>\n      <path d=\"M 18.3125 6.890625 \nL 18.3125 -20.796875 \nL 9.28125 -20.796875 \nL 9.28125 54.6875 \nL 18.3125 54.6875 \nL 18.3125 47.703125 \nQ 20.5625 51.765625 24.296875 53.875 \nQ 28.03125 56 32.90625 56 \nQ 42.828125 56 48.46875 48.328125 \nQ 54.109375 40.671875 54.109375 27.09375 \nQ 54.109375 13.765625 48.4375 6.171875 \nQ 42.78125 -1.421875 32.90625 -1.421875 \nQ 27.9375 -1.421875 24.1875 0.703125 \nQ 20.453125 2.828125 18.3125 6.890625 \nz\nM 44.671875 27.296875 \nQ 44.671875 37.75 41.375 43.0625 \nQ 38.09375 48.390625 31.59375 48.390625 \nQ 25.046875 48.390625 21.671875 43.046875 \nQ 18.3125 37.703125 18.3125 27.296875 \nQ 18.3125 16.9375 21.671875 11.5625 \nQ 25.046875 6.203125 31.59375 6.203125 \nQ 38.09375 6.203125 41.375 11.515625 \nQ 44.671875 16.84375 44.671875 27.296875 \nz\n\" id=\"DejaVuSansMono-112\"/>\n      <path d=\"M 44.1875 36.375 \nQ 44.1875 52.4375 40.890625 59.328125 \nQ 37.59375 66.21875 30.078125 66.21875 \nQ 22.609375 66.21875 19.3125 59.328125 \nQ 16.015625 52.4375 16.015625 36.375 \nQ 16.015625 20.359375 19.3125 13.46875 \nQ 22.609375 6.59375 30.078125 6.59375 \nQ 37.59375 6.59375 40.890625 13.453125 \nQ 44.1875 20.3125 44.1875 36.375 \nz\nM 54.5 36.375 \nQ 54.5 17.328125 48.46875 7.953125 \nQ 42.4375 -1.421875 30.078125 -1.421875 \nQ 17.71875 -1.421875 11.71875 7.90625 \nQ 5.71875 17.234375 5.71875 36.375 \nQ 5.71875 55.46875 11.75 64.84375 \nQ 17.78125 74.21875 30.078125 74.21875 \nQ 42.4375 74.21875 48.46875 64.84375 \nQ 54.5 55.46875 54.5 36.375 \nz\n\" id=\"DejaVuSansMono-79\"/>\n      <path d=\"M 51.8125 2.78125 \nQ 48.1875 0.6875 44.359375 -0.359375 \nQ 40.53125 -1.421875 36.53125 -1.421875 \nQ 23.828125 -1.421875 16.671875 6.1875 \nQ 9.515625 13.8125 9.515625 27.296875 \nQ 9.515625 40.765625 16.671875 48.375 \nQ 23.828125 56 36.53125 56 \nQ 40.484375 56 44.234375 54.96875 \nQ 48 53.953125 51.8125 51.8125 \nL 51.8125 42.390625 \nQ 48.25 45.5625 44.65625 46.96875 \nQ 41.0625 48.390625 36.53125 48.390625 \nQ 28.078125 48.390625 23.53125 42.921875 \nQ 19 37.453125 19 27.296875 \nQ 19 17.1875 23.5625 11.6875 \nQ 28.125 6.203125 36.53125 6.203125 \nQ 41.21875 6.203125 44.921875 7.640625 \nQ 48.640625 9.078125 51.8125 12.109375 \nz\n\" id=\"DejaVuSansMono-99\"/>\n      <path d=\"M 24.515625 14.796875 \nL 36.8125 14.796875 \nL 36.8125 4.6875 \nL 27.203125 -14.015625 \nL 19.671875 -14.015625 \nL 24.515625 4.6875 \nz\n\" id=\"DejaVuSansMono-44\"/>\n     </defs>\n     <use xlink:href=\"#DejaVuSansMono-32\"/>\n     <use x=\"60.205078\" xlink:href=\"#DejaVuSansMono-116\"/>\n     <use x=\"120.410156\" xlink:href=\"#DejaVuSansMono-105\"/>\n     <use x=\"180.615234\" xlink:href=\"#DejaVuSansMono-109\"/>\n     <use x=\"240.820312\" xlink:href=\"#DejaVuSansMono-101\"/>\n     <use x=\"301.025391\" xlink:href=\"#DejaVuSansMono-115\"/>\n     <use x=\"361.230469\" xlink:href=\"#DejaVuSansMono-116\"/>\n     <use x=\"421.435547\" xlink:href=\"#DejaVuSansMono-97\"/>\n     <use x=\"481.640625\" xlink:href=\"#DejaVuSansMono-109\"/>\n     <use x=\"541.845703\" xlink:href=\"#DejaVuSansMono-112\"/>\n     <use x=\"602.050781\" xlink:href=\"#DejaVuSansMono-58\"/>\n     <use x=\"662.255859\" xlink:href=\"#DejaVuSansMono-32\"/>\n     <use x=\"722.460938\" xlink:href=\"#DejaVuSansMono-50\"/>\n     <use x=\"782.666016\" xlink:href=\"#DejaVuSansMono-55\"/>\n     <use x=\"842.871094\" xlink:href=\"#DejaVuSansMono-32\"/>\n     <use x=\"903.076172\" xlink:href=\"#DejaVuSansMono-79\"/>\n     <use x=\"963.28125\" xlink:href=\"#DejaVuSansMono-99\"/>\n     <use x=\"1023.486328\" xlink:href=\"#DejaVuSansMono-116\"/>\n     <use x=\"1083.691406\" xlink:href=\"#DejaVuSansMono-111\"/>\n     <use x=\"1143.896484\" xlink:href=\"#DejaVuSansMono-98\"/>\n     <use x=\"1204.101562\" xlink:href=\"#DejaVuSansMono-101\"/>\n     <use x=\"1264.306641\" xlink:href=\"#DejaVuSansMono-114\"/>\n     <use x=\"1324.511719\" xlink:href=\"#DejaVuSansMono-44\"/>\n     <use x=\"1384.716797\" xlink:href=\"#DejaVuSansMono-32\"/>\n     <use x=\"1444.921875\" xlink:href=\"#DejaVuSansMono-50\"/>\n     <use x=\"1505.126953\" xlink:href=\"#DejaVuSansMono-48\"/>\n     <use x=\"1565.332031\" xlink:href=\"#DejaVuSansMono-50\"/>\n     <use x=\"1625.537109\" xlink:href=\"#DejaVuSansMono-48\"/>\n    </g>\n   </g>\n  </g>\n </g>\n <defs>\n  <clipPath id=\"p28b00f1040\">\n   <rect height=\"180\" width=\"180\" x=\"34.240625\" y=\"117.31275\"/>\n  </clipPath>\n </defs>\n</svg>\n",
      "image/png": "[encoded data removed]"
     },
     "metadata": {
      "needs_background": "light"
     }
    }
   ],
   "source": [
    "from datetime import date\n",
    "today = date.today()\n",
    "figsize=5\n",
    "\n",
    "fig, ax = plt.subplots(figsize=(figsize, figsize))\n",
    "\n",
    "\n",
    "# aesthetics\n",
    "font_size = 14\n",
    "plt.rcParams['xtick.labelsize'] = font_size\n",
    "plt.rcParams['ytick.labelsize'] = font_size\n",
    "plt.rcParams['font.size'] = font_size\n",
    "plt.subplots_adjust(left=0.2, right=0.7, bottom=0.2, top=0.7)\n",
    "\n",
    "\n",
    "plt.xlabel('Experimental $\\Delta\\Delta$G (kcal / mol)')\n",
    "plt.ylabel(r'Calculated $\\Delta\\Delta$G (kcal / mol)')\n",
    "\n",
    "ax_min = min(min(x), min(y)) - 0.5\n",
    "ax_max = max(max(x), max(y)) + 0.5\n",
    "scale = [ax_min, ax_max]\n",
    "\n",
    "plt.xlim(scale)\n",
    "plt.ylim(scale)\n",
    "\n",
    "# plots x-axis and y-axis\n",
    "origins=True\n",
    "if origins:\n",
    "    plt.plot([0, 0], scale, 'gray')\n",
    "    plt.plot(scale, [0, 0], 'gray')\n",
    "\n",
    "# plots x=y line\n",
    "plt.plot(scale, scale, 'k:')\n",
    "guidelines=True\n",
    "\n",
    "if guidelines:\n",
    "    small_dist = 0.5\n",
    "    # plots grey region around x=y line\n",
    "    plt.fill_between(scale, [ax_min - small_dist, ax_max - small_dist],\n",
    "                     [ax_min + small_dist, ax_max + small_dist],\n",
    "                     color='grey', alpha=0.2)\n",
    "    plt.fill_between(scale, [ax_min - small_dist * 2, ax_max - small_dist * 2],\n",
    "                     [ax_min + small_dist * 2, ax_max + small_dist * 2],\n",
    "                     color='grey', alpha=0.2)\n",
    "# actual plotting\n",
    "cm = plt.get_cmap('coolwarm')\n",
    "\n",
    "#if color is None:\n",
    "color = np.abs(x-y)\n",
    "# 2.372 kcal / mol = 4 RT\n",
    "color = cm(color / 2.372)\n",
    "\n",
    "plt.errorbar(x, y, yerr=yerr, color='gray', linewidth=0., elinewidth=2., zorder=1)\n",
    "plt.scatter(x, y, color=color, s=10, marker='o', zorder=2)\n",
    "\n",
    "# stats and title\n",
    "statistics_string = ''\n",
    "for statistic in ['RMSE', 'MUE', 'R2', 'rho']:\n",
    "    s = np.round(stats(x, y, statistic=statistic), 2)\n",
    "    string = f\"{statistic}: {s}\\n\"\n",
    "    statistics_string += string\n",
    "\n",
    "title = ''\n",
    "target_name = '4xey_dasatinib'\n",
    "long_title = f'{title} \\n {target_name} (N = {len(y)})\\n {statistics_string} \\n timestamp: {today.strftime(\"%d %B, %Y\")}'\n",
    "plt.title(long_title, fontsize=12, loc='right', horizontalalignment='right', family='monospace')\n",
    "\n",
    "\n",
    "plt.savefig('4xey_dasatinib_exp_vs_calc.png', dpi=300)"
   ]
  },
  {
   "source": [
    "### Imatinib"
   ],
   "cell_type": "markdown",
   "metadata": {}
  },
  {
   "cell_type": "code",
   "execution_count": 18,
   "metadata": {},
   "outputs": [],
   "source": [
    "x = df_2hyy['exp_DDG (kcal / mol)'].values\n",
    "y = df_2hyy['DDG (kcal / mol)'].values\n",
    "yerr = df_2hyy['dDDG (kcal / mol)'].values"
   ]
  },
  {
   "cell_type": "code",
   "execution_count": 19,
   "metadata": {},
   "outputs": [
    {
     "output_type": "display_data",
     "data": {
      "text/plain": "<Figure size 360x360 with 1 Axes>",
      "image/svg+xml": "<?xml version=\"1.0\" encoding=\"utf-8\" standalone=\"no\"?>\n<!DOCTYPE svg PUBLIC \"-//W3C//DTD SVG 1.1//EN\"\n  \"http://www.w3.org/Graphics/SVG/1.1/DTD/svg11.dtd\">\n<!-- Created with matplotlib (https://matplotlib.org/) -->\n<svg height=\"342.642125pt\" version=\"1.1\" viewBox=\"0 0 255.218438 342.642125\" width=\"255.218438pt\" xmlns=\"http://www.w3.org/2000/svg\" xmlns:xlink=\"http://www.w3.org/1999/xlink\">\n <metadata>\n  <rdf:RDF xmlns:cc=\"http://creativecommons.org/ns#\" xmlns:dc=\"http://purl.org/dc/elements/1.1/\" xmlns:rdf=\"http://www.w3.org/1999/02/22-rdf-syntax-ns#\">\n   <cc:Work>\n    <dc:type rdf:resource=\"http://purl.org/dc/dcmitype/StillImage\"/>\n    <dc:date>2020-10-27T07:01:43.685031</dc:date>\n    <dc:format>image/svg+xml</dc:format>\n    <dc:creator>\n     <cc:Agent>\n      <dc:title>Matplotlib v3.3.0, https://matplotlib.org/</dc:title>\n     </cc:Agent>\n    </dc:creator>\n   </cc:Work>\n  </rdf:RDF>\n </metadata>\n <defs>\n  <style type=\"text/css\">*{stroke-linecap:butt;stroke-linejoin:round;}</style>\n </defs>\n <g id=\"figure_1\">\n  <g id=\"patch_1\">\n   <path d=\"M 0 342.642125 \nL 255.218438 342.642125 \nL 255.218438 0 \nL 0 0 \nz\n\" style=\"fill:none;\"/>\n  </g>\n  <g id=\"axes_1\">\n   <g id=\"patch_2\">\n    <path d=\"M 52.388438 297.31275 \nL 232.388437 297.31275 \nL 232.388437 117.31275 \nL 52.388438 117.31275 \nz\n\" style=\"fill:#ffffff;\"/>\n   </g>\n   <g id=\"PolyCollection_1\">\n    <defs>\n     <path d=\"M 52.388438 -67.933453 \nL 52.388438 -22.725297 \nL 232.388437 -202.725297 \nL 232.388437 -247.933453 \nL 232.388437 -247.933453 \nL 52.388438 -67.933453 \nz\n\" id=\"m31927ea59a\" style=\"stroke:#808080;stroke-opacity:0.2;\"/>\n    </defs>\n    <g clip-path=\"url(#p8b36b45614)\">\n     <use style=\"fill:#808080;fill-opacity:0.2;stroke:#808080;stroke-opacity:0.2;\" x=\"0\" xlink:href=\"#m31927ea59a\" y=\"342.642125\"/>\n    </g>\n   </g>\n   <g id=\"PolyCollection_2\">\n    <defs>\n     <path d=\"M 52.388438 -90.537531 \nL 52.388438 -0.121219 \nL 232.388437 -180.121219 \nL 232.388437 -270.537531 \nL 232.388437 -270.537531 \nL 52.388438 -90.537531 \nz\n\" id=\"m1621805643\" style=\"stroke:#808080;stroke-opacity:0.2;\"/>\n    </defs>\n    <g clip-path=\"url(#p8b36b45614)\">\n     <use style=\"fill:#808080;fill-opacity:0.2;stroke:#808080;stroke-opacity:0.2;\" x=\"0\" xlink:href=\"#m1621805643\" y=\"342.642125\"/>\n    </g>\n   </g>\n   <g id=\"LineCollection_1\">\n    <path clip-path=\"url(#p8b36b45614)\" d=\"M 113.94307 272.741838 \nL 113.94307 257.485181 \n\" style=\"fill:none;stroke:#808080;stroke-width:2;\"/>\n    <path clip-path=\"url(#p8b36b45614)\" d=\"M 209.78436 167.216187 \nL 209.78436 142.403973 \n\" style=\"fill:none;stroke:#808080;stroke-width:2;\"/>\n    <path clip-path=\"url(#p8b36b45614)\" d=\"M 133.382577 279.325613 \nL 133.382577 262.159186 \n\" style=\"fill:none;stroke:#808080;stroke-width:2;\"/>\n    <path clip-path=\"url(#p8b36b45614)\" d=\"M 150.109594 266.322265 \nL 150.109594 255.525836 \n\" style=\"fill:none;stroke:#808080;stroke-width:2;\"/>\n    <path clip-path=\"url(#p8b36b45614)\" d=\"M 190.344853 230.423515 \nL 190.344853 220.903881 \n\" style=\"fill:none;stroke:#808080;stroke-width:2;\"/>\n    <path clip-path=\"url(#p8b36b45614)\" d=\"M 172.26159 219.973651 \nL 172.26159 195.658572 \n\" style=\"fill:none;stroke:#808080;stroke-width:2;\"/>\n    <path clip-path=\"url(#p8b36b45614)\" d=\"M 204.811463 213.133324 \nL 204.811463 183.52289 \n\" style=\"fill:none;stroke:#808080;stroke-width:2;\"/>\n    <path clip-path=\"url(#p8b36b45614)\" d=\"M 114.847233 304.78595 \nL 114.847233 244.631395 \n\" style=\"fill:none;stroke:#808080;stroke-width:2;\"/>\n   </g>\n   <g id=\"line2d_1\">\n    <path clip-path=\"url(#p8b36b45614)\" d=\"M 113.94307 265.11351 \nL 209.78436 154.81008 \nL 133.382577 270.7424 \nL 150.109594 260.92405 \nL 190.344853 225.663698 \nL 172.26159 207.816111 \nL 204.811463 198.328107 \nL 114.847233 274.708672 \n\" style=\"fill:none;\"/>\n   </g>\n   <g id=\"matplotlib.axis_1\">\n    <g id=\"xtick_1\">\n     <g id=\"line2d_2\">\n      <defs>\n       <path d=\"M 0 0 \nL 0 3.5 \n\" id=\"m0d3dfd309a\" style=\"stroke:#000000;stroke-width:0.8;\"/>\n      </defs>\n      <g>\n       <use style=\"stroke:#000000;stroke-width:0.8;\" x=\"59.241201\" xlink:href=\"#m0d3dfd309a\" y=\"297.31275\"/>\n      </g>\n     </g>\n     <g id=\"text_1\">\n      <!-- −1 -->\n      <g transform=\"translate(48.92167 314.950562)scale(0.14 -0.14)\">\n       <defs>\n        <path d=\"M 10.59375 35.5 \nL 73.1875 35.5 \nL 73.1875 27.203125 \nL 10.59375 27.203125 \nz\n\" id=\"DejaVuSans-8722\"/>\n        <path d=\"M 12.40625 8.296875 \nL 28.515625 8.296875 \nL 28.515625 63.921875 \nL 10.984375 60.40625 \nL 10.984375 69.390625 \nL 28.421875 72.90625 \nL 38.28125 72.90625 \nL 38.28125 8.296875 \nL 54.390625 8.296875 \nL 54.390625 0 \nL 12.40625 0 \nz\n\" id=\"DejaVuSans-49\"/>\n       </defs>\n       <use xlink:href=\"#DejaVuSans-8722\"/>\n       <use x=\"83.789062\" xlink:href=\"#DejaVuSans-49\"/>\n      </g>\n     </g>\n    </g>\n    <g id=\"xtick_2\">\n     <g id=\"line2d_3\">\n      <g>\n       <use style=\"stroke:#000000;stroke-width:0.8;\" x=\"104.449357\" xlink:href=\"#m0d3dfd309a\" y=\"297.31275\"/>\n      </g>\n     </g>\n     <g id=\"text_2\">\n      <!-- 0 -->\n      <g transform=\"translate(99.995607 314.950562)scale(0.14 -0.14)\">\n       <defs>\n        <path d=\"M 31.78125 66.40625 \nQ 24.171875 66.40625 20.328125 58.90625 \nQ 16.5 51.421875 16.5 36.375 \nQ 16.5 21.390625 20.328125 13.890625 \nQ 24.171875 6.390625 31.78125 6.390625 \nQ 39.453125 6.390625 43.28125 13.890625 \nQ 47.125 21.390625 47.125 36.375 \nQ 47.125 51.421875 43.28125 58.90625 \nQ 39.453125 66.40625 31.78125 66.40625 \nz\nM 31.78125 74.21875 \nQ 44.046875 74.21875 50.515625 64.515625 \nQ 56.984375 54.828125 56.984375 36.375 \nQ 56.984375 17.96875 50.515625 8.265625 \nQ 44.046875 -1.421875 31.78125 -1.421875 \nQ 19.53125 -1.421875 13.0625 8.265625 \nQ 6.59375 17.96875 6.59375 36.375 \nQ 6.59375 54.828125 13.0625 64.515625 \nQ 19.53125 74.21875 31.78125 74.21875 \nz\n\" id=\"DejaVuSans-48\"/>\n       </defs>\n       <use xlink:href=\"#DejaVuSans-48\"/>\n      </g>\n     </g>\n    </g>\n    <g id=\"xtick_3\">\n     <g id=\"line2d_4\">\n      <g>\n       <use style=\"stroke:#000000;stroke-width:0.8;\" x=\"149.657513\" xlink:href=\"#m0d3dfd309a\" y=\"297.31275\"/>\n      </g>\n     </g>\n     <g id=\"text_3\">\n      <!-- 1 -->\n      <g transform=\"translate(145.203763 314.950562)scale(0.14 -0.14)\">\n       <use xlink:href=\"#DejaVuSans-49\"/>\n      </g>\n     </g>\n    </g>\n    <g id=\"xtick_4\">\n     <g id=\"line2d_5\">\n      <g>\n       <use style=\"stroke:#000000;stroke-width:0.8;\" x=\"194.865668\" xlink:href=\"#m0d3dfd309a\" y=\"297.31275\"/>\n      </g>\n     </g>\n     <g id=\"text_4\">\n      <!-- 2 -->\n      <g transform=\"translate(190.411918 314.950562)scale(0.14 -0.14)\">\n       <defs>\n        <path d=\"M 19.1875 8.296875 \nL 53.609375 8.296875 \nL 53.609375 0 \nL 7.328125 0 \nL 7.328125 8.296875 \nQ 12.9375 14.109375 22.625 23.890625 \nQ 32.328125 33.6875 34.8125 36.53125 \nQ 39.546875 41.84375 41.421875 45.53125 \nQ 43.3125 49.21875 43.3125 52.78125 \nQ 43.3125 58.59375 39.234375 62.25 \nQ 35.15625 65.921875 28.609375 65.921875 \nQ 23.96875 65.921875 18.8125 64.3125 \nQ 13.671875 62.703125 7.8125 59.421875 \nL 7.8125 69.390625 \nQ 13.765625 71.78125 18.9375 73 \nQ 24.125 74.21875 28.421875 74.21875 \nQ 39.75 74.21875 46.484375 68.546875 \nQ 53.21875 62.890625 53.21875 53.421875 \nQ 53.21875 48.921875 51.53125 44.890625 \nQ 49.859375 40.875 45.40625 35.40625 \nQ 44.1875 33.984375 37.640625 27.21875 \nQ 31.109375 20.453125 19.1875 8.296875 \nz\n\" id=\"DejaVuSans-50\"/>\n       </defs>\n       <use xlink:href=\"#DejaVuSans-50\"/>\n      </g>\n     </g>\n    </g>\n    <g id=\"text_5\">\n     <!-- Experimental $\\Delta\\Delta$G (kcal / mol) -->\n     <g transform=\"translate(36.758437 332.502125)scale(0.14 -0.14)\">\n      <defs>\n       <path d=\"M 9.8125 72.90625 \nL 55.90625 72.90625 \nL 55.90625 64.59375 \nL 19.671875 64.59375 \nL 19.671875 43.015625 \nL 54.390625 43.015625 \nL 54.390625 34.71875 \nL 19.671875 34.71875 \nL 19.671875 8.296875 \nL 56.78125 8.296875 \nL 56.78125 0 \nL 9.8125 0 \nz\n\" id=\"DejaVuSans-69\"/>\n       <path d=\"M 54.890625 54.6875 \nL 35.109375 28.078125 \nL 55.90625 0 \nL 45.3125 0 \nL 29.390625 21.484375 \nL 13.484375 0 \nL 2.875 0 \nL 24.125 28.609375 \nL 4.6875 54.6875 \nL 15.28125 54.6875 \nL 29.78125 35.203125 \nL 44.28125 54.6875 \nz\n\" id=\"DejaVuSans-120\"/>\n       <path d=\"M 18.109375 8.203125 \nL 18.109375 -20.796875 \nL 9.078125 -20.796875 \nL 9.078125 54.6875 \nL 18.109375 54.6875 \nL 18.109375 46.390625 \nQ 20.953125 51.265625 25.265625 53.625 \nQ 29.59375 56 35.59375 56 \nQ 45.5625 56 51.78125 48.09375 \nQ 58.015625 40.1875 58.015625 27.296875 \nQ 58.015625 14.40625 51.78125 6.484375 \nQ 45.5625 -1.421875 35.59375 -1.421875 \nQ 29.59375 -1.421875 25.265625 0.953125 \nQ 20.953125 3.328125 18.109375 8.203125 \nz\nM 48.6875 27.296875 \nQ 48.6875 37.203125 44.609375 42.84375 \nQ 40.53125 48.484375 33.40625 48.484375 \nQ 26.265625 48.484375 22.1875 42.84375 \nQ 18.109375 37.203125 18.109375 27.296875 \nQ 18.109375 17.390625 22.1875 11.75 \nQ 26.265625 6.109375 33.40625 6.109375 \nQ 40.53125 6.109375 44.609375 11.75 \nQ 48.6875 17.390625 48.6875 27.296875 \nz\n\" id=\"DejaVuSans-112\"/>\n       <path d=\"M 56.203125 29.59375 \nL 56.203125 25.203125 \nL 14.890625 25.203125 \nQ 15.484375 15.921875 20.484375 11.0625 \nQ 25.484375 6.203125 34.421875 6.203125 \nQ 39.59375 6.203125 44.453125 7.46875 \nQ 49.3125 8.734375 54.109375 11.28125 \nL 54.109375 2.78125 \nQ 49.265625 0.734375 44.1875 -0.34375 \nQ 39.109375 -1.421875 33.890625 -1.421875 \nQ 20.796875 -1.421875 13.15625 6.1875 \nQ 5.515625 13.8125 5.515625 26.8125 \nQ 5.515625 40.234375 12.765625 48.109375 \nQ 20.015625 56 32.328125 56 \nQ 43.359375 56 49.78125 48.890625 \nQ 56.203125 41.796875 56.203125 29.59375 \nz\nM 47.21875 32.234375 \nQ 47.125 39.59375 43.09375 43.984375 \nQ 39.0625 48.390625 32.421875 48.390625 \nQ 24.90625 48.390625 20.390625 44.140625 \nQ 15.875 39.890625 15.1875 32.171875 \nz\n\" id=\"DejaVuSans-101\"/>\n       <path d=\"M 41.109375 46.296875 \nQ 39.59375 47.171875 37.8125 47.578125 \nQ 36.03125 48 33.890625 48 \nQ 26.265625 48 22.1875 43.046875 \nQ 18.109375 38.09375 18.109375 28.8125 \nL 18.109375 0 \nL 9.078125 0 \nL 9.078125 54.6875 \nL 18.109375 54.6875 \nL 18.109375 46.1875 \nQ 20.953125 51.171875 25.484375 53.578125 \nQ 30.03125 56 36.53125 56 \nQ 37.453125 56 38.578125 55.875 \nQ 39.703125 55.765625 41.0625 55.515625 \nz\n\" id=\"DejaVuSans-114\"/>\n       <path d=\"M 9.421875 54.6875 \nL 18.40625 54.6875 \nL 18.40625 0 \nL 9.421875 0 \nz\nM 9.421875 75.984375 \nL 18.40625 75.984375 \nL 18.40625 64.59375 \nL 9.421875 64.59375 \nz\n\" id=\"DejaVuSans-105\"/>\n       <path d=\"M 52 44.1875 \nQ 55.375 50.25 60.0625 53.125 \nQ 64.75 56 71.09375 56 \nQ 79.640625 56 84.28125 50.015625 \nQ 88.921875 44.046875 88.921875 33.015625 \nL 88.921875 0 \nL 79.890625 0 \nL 79.890625 32.71875 \nQ 79.890625 40.578125 77.09375 44.375 \nQ 74.3125 48.1875 68.609375 48.1875 \nQ 61.625 48.1875 57.5625 43.546875 \nQ 53.515625 38.921875 53.515625 30.90625 \nL 53.515625 0 \nL 44.484375 0 \nL 44.484375 32.71875 \nQ 44.484375 40.625 41.703125 44.40625 \nQ 38.921875 48.1875 33.109375 48.1875 \nQ 26.21875 48.1875 22.15625 43.53125 \nQ 18.109375 38.875 18.109375 30.90625 \nL 18.109375 0 \nL 9.078125 0 \nL 9.078125 54.6875 \nL 18.109375 54.6875 \nL 18.109375 46.1875 \nQ 21.1875 51.21875 25.484375 53.609375 \nQ 29.78125 56 35.6875 56 \nQ 41.65625 56 45.828125 52.96875 \nQ 50 49.953125 52 44.1875 \nz\n\" id=\"DejaVuSans-109\"/>\n       <path d=\"M 54.890625 33.015625 \nL 54.890625 0 \nL 45.90625 0 \nL 45.90625 32.71875 \nQ 45.90625 40.484375 42.875 44.328125 \nQ 39.84375 48.1875 33.796875 48.1875 \nQ 26.515625 48.1875 22.3125 43.546875 \nQ 18.109375 38.921875 18.109375 30.90625 \nL 18.109375 0 \nL 9.078125 0 \nL 9.078125 54.6875 \nL 18.109375 54.6875 \nL 18.109375 46.1875 \nQ 21.34375 51.125 25.703125 53.5625 \nQ 30.078125 56 35.796875 56 \nQ 45.21875 56 50.046875 50.171875 \nQ 54.890625 44.34375 54.890625 33.015625 \nz\n\" id=\"DejaVuSans-110\"/>\n       <path d=\"M 18.3125 70.21875 \nL 18.3125 54.6875 \nL 36.8125 54.6875 \nL 36.8125 47.703125 \nL 18.3125 47.703125 \nL 18.3125 18.015625 \nQ 18.3125 11.328125 20.140625 9.421875 \nQ 21.96875 7.515625 27.59375 7.515625 \nL 36.8125 7.515625 \nL 36.8125 0 \nL 27.59375 0 \nQ 17.1875 0 13.234375 3.875 \nQ 9.28125 7.765625 9.28125 18.015625 \nL 9.28125 47.703125 \nL 2.6875 47.703125 \nL 2.6875 54.6875 \nL 9.28125 54.6875 \nL 9.28125 70.21875 \nz\n\" id=\"DejaVuSans-116\"/>\n       <path d=\"M 34.28125 27.484375 \nQ 23.390625 27.484375 19.1875 25 \nQ 14.984375 22.515625 14.984375 16.5 \nQ 14.984375 11.71875 18.140625 8.90625 \nQ 21.296875 6.109375 26.703125 6.109375 \nQ 34.1875 6.109375 38.703125 11.40625 \nQ 43.21875 16.703125 43.21875 25.484375 \nL 43.21875 27.484375 \nz\nM 52.203125 31.203125 \nL 52.203125 0 \nL 43.21875 0 \nL 43.21875 8.296875 \nQ 40.140625 3.328125 35.546875 0.953125 \nQ 30.953125 -1.421875 24.3125 -1.421875 \nQ 15.921875 -1.421875 10.953125 3.296875 \nQ 6 8.015625 6 15.921875 \nQ 6 25.140625 12.171875 29.828125 \nQ 18.359375 34.515625 30.609375 34.515625 \nL 43.21875 34.515625 \nL 43.21875 35.40625 \nQ 43.21875 41.609375 39.140625 45 \nQ 35.0625 48.390625 27.6875 48.390625 \nQ 23 48.390625 18.546875 47.265625 \nQ 14.109375 46.140625 10.015625 43.890625 \nL 10.015625 52.203125 \nQ 14.9375 54.109375 19.578125 55.046875 \nQ 24.21875 56 28.609375 56 \nQ 40.484375 56 46.34375 49.84375 \nQ 52.203125 43.703125 52.203125 31.203125 \nz\n\" id=\"DejaVuSans-97\"/>\n       <path d=\"M 9.421875 75.984375 \nL 18.40625 75.984375 \nL 18.40625 0 \nL 9.421875 0 \nz\n\" id=\"DejaVuSans-108\"/>\n       <path id=\"DejaVuSans-32\"/>\n       <path d=\"M 34.1875 63.1875 \nL 14.15625 8.203125 \nL 54.25 8.203125 \nz\nM 0.78125 0 \nL 28.609375 72.90625 \nL 39.796875 72.90625 \nL 67.578125 0 \nz\n\" id=\"DejaVuSans-916\"/>\n       <path d=\"M 59.515625 10.40625 \nL 59.515625 29.984375 \nL 43.40625 29.984375 \nL 43.40625 38.09375 \nL 69.28125 38.09375 \nL 69.28125 6.78125 \nQ 63.578125 2.734375 56.6875 0.65625 \nQ 49.8125 -1.421875 42 -1.421875 \nQ 24.90625 -1.421875 15.25 8.5625 \nQ 5.609375 18.5625 5.609375 36.375 \nQ 5.609375 54.25 15.25 64.234375 \nQ 24.90625 74.21875 42 74.21875 \nQ 49.125 74.21875 55.546875 72.453125 \nQ 61.96875 70.703125 67.390625 67.28125 \nL 67.390625 56.78125 \nQ 61.921875 61.421875 55.765625 63.765625 \nQ 49.609375 66.109375 42.828125 66.109375 \nQ 29.4375 66.109375 22.71875 58.640625 \nQ 16.015625 51.171875 16.015625 36.375 \nQ 16.015625 21.625 22.71875 14.15625 \nQ 29.4375 6.6875 42.828125 6.6875 \nQ 48.046875 6.6875 52.140625 7.59375 \nQ 56.25 8.5 59.515625 10.40625 \nz\n\" id=\"DejaVuSans-71\"/>\n       <path d=\"M 31 75.875 \nQ 24.46875 64.65625 21.28125 53.65625 \nQ 18.109375 42.671875 18.109375 31.390625 \nQ 18.109375 20.125 21.3125 9.0625 \nQ 24.515625 -2 31 -13.1875 \nL 23.1875 -13.1875 \nQ 15.875 -1.703125 12.234375 9.375 \nQ 8.59375 20.453125 8.59375 31.390625 \nQ 8.59375 42.28125 12.203125 53.3125 \nQ 15.828125 64.359375 23.1875 75.875 \nz\n\" id=\"DejaVuSans-40\"/>\n       <path d=\"M 9.078125 75.984375 \nL 18.109375 75.984375 \nL 18.109375 31.109375 \nL 44.921875 54.6875 \nL 56.390625 54.6875 \nL 27.390625 29.109375 \nL 57.625 0 \nL 45.90625 0 \nL 18.109375 26.703125 \nL 18.109375 0 \nL 9.078125 0 \nz\n\" id=\"DejaVuSans-107\"/>\n       <path d=\"M 48.78125 52.59375 \nL 48.78125 44.1875 \nQ 44.96875 46.296875 41.140625 47.34375 \nQ 37.3125 48.390625 33.40625 48.390625 \nQ 24.65625 48.390625 19.8125 42.84375 \nQ 14.984375 37.3125 14.984375 27.296875 \nQ 14.984375 17.28125 19.8125 11.734375 \nQ 24.65625 6.203125 33.40625 6.203125 \nQ 37.3125 6.203125 41.140625 7.25 \nQ 44.96875 8.296875 48.78125 10.40625 \nL 48.78125 2.09375 \nQ 45.015625 0.34375 40.984375 -0.53125 \nQ 36.96875 -1.421875 32.421875 -1.421875 \nQ 20.0625 -1.421875 12.78125 6.34375 \nQ 5.515625 14.109375 5.515625 27.296875 \nQ 5.515625 40.671875 12.859375 48.328125 \nQ 20.21875 56 33.015625 56 \nQ 37.15625 56 41.109375 55.140625 \nQ 45.0625 54.296875 48.78125 52.59375 \nz\n\" id=\"DejaVuSans-99\"/>\n       <path d=\"M 25.390625 72.90625 \nL 33.6875 72.90625 \nL 8.296875 -9.28125 \nL 0 -9.28125 \nz\n\" id=\"DejaVuSans-47\"/>\n       <path d=\"M 30.609375 48.390625 \nQ 23.390625 48.390625 19.1875 42.75 \nQ 14.984375 37.109375 14.984375 27.296875 \nQ 14.984375 17.484375 19.15625 11.84375 \nQ 23.34375 6.203125 30.609375 6.203125 \nQ 37.796875 6.203125 41.984375 11.859375 \nQ 46.1875 17.53125 46.1875 27.296875 \nQ 46.1875 37.015625 41.984375 42.703125 \nQ 37.796875 48.390625 30.609375 48.390625 \nz\nM 30.609375 56 \nQ 42.328125 56 49.015625 48.375 \nQ 55.71875 40.765625 55.71875 27.296875 \nQ 55.71875 13.875 49.015625 6.21875 \nQ 42.328125 -1.421875 30.609375 -1.421875 \nQ 18.84375 -1.421875 12.171875 6.21875 \nQ 5.515625 13.875 5.515625 27.296875 \nQ 5.515625 40.765625 12.171875 48.375 \nQ 18.84375 56 30.609375 56 \nz\n\" id=\"DejaVuSans-111\"/>\n       <path d=\"M 8.015625 75.875 \nL 15.828125 75.875 \nQ 23.140625 64.359375 26.78125 53.3125 \nQ 30.421875 42.28125 30.421875 31.390625 \nQ 30.421875 20.453125 26.78125 9.375 \nQ 23.140625 -1.703125 15.828125 -13.1875 \nL 8.015625 -13.1875 \nQ 14.5 -2 17.703125 9.0625 \nQ 20.90625 20.125 20.90625 31.390625 \nQ 20.90625 42.671875 17.703125 53.65625 \nQ 14.5 64.65625 8.015625 75.875 \nz\n\" id=\"DejaVuSans-41\"/>\n      </defs>\n      <use transform=\"translate(0 0.015625)\" xlink:href=\"#DejaVuSans-69\"/>\n      <use transform=\"translate(63.183594 0.015625)\" xlink:href=\"#DejaVuSans-120\"/>\n      <use transform=\"translate(122.363281 0.015625)\" xlink:href=\"#DejaVuSans-112\"/>\n      <use transform=\"translate(185.839844 0.015625)\" xlink:href=\"#DejaVuSans-101\"/>\n      <use transform=\"translate(247.363281 0.015625)\" xlink:href=\"#DejaVuSans-114\"/>\n      <use transform=\"translate(288.476562 0.015625)\" xlink:href=\"#DejaVuSans-105\"/>\n      <use transform=\"translate(316.259766 0.015625)\" xlink:href=\"#DejaVuSans-109\"/>\n      <use transform=\"translate(413.671875 0.015625)\" xlink:href=\"#DejaVuSans-101\"/>\n      <use transform=\"translate(475.195312 0.015625)\" xlink:href=\"#DejaVuSans-110\"/>\n      <use transform=\"translate(538.574219 0.015625)\" xlink:href=\"#DejaVuSans-116\"/>\n      <use transform=\"translate(577.783203 0.015625)\" xlink:href=\"#DejaVuSans-97\"/>\n      <use transform=\"translate(639.0625 0.015625)\" xlink:href=\"#DejaVuSans-108\"/>\n      <use transform=\"translate(666.845703 0.015625)\" xlink:href=\"#DejaVuSans-32\"/>\n      <use transform=\"translate(698.632812 0.015625)\" xlink:href=\"#DejaVuSans-916\"/>\n      <use transform=\"translate(767.041016 0.015625)\" xlink:href=\"#DejaVuSans-916\"/>\n      <use transform=\"translate(835.449219 0.015625)\" xlink:href=\"#DejaVuSans-71\"/>\n      <use transform=\"translate(912.939453 0.015625)\" xlink:href=\"#DejaVuSans-32\"/>\n      <use transform=\"translate(944.726562 0.015625)\" xlink:href=\"#DejaVuSans-40\"/>\n      <use transform=\"translate(983.740234 0.015625)\" xlink:href=\"#DejaVuSans-107\"/>\n      <use transform=\"translate(1041.650391 0.015625)\" xlink:href=\"#DejaVuSans-99\"/>\n      <use transform=\"translate(1096.630859 0.015625)\" xlink:href=\"#DejaVuSans-97\"/>\n      <use transform=\"translate(1157.910156 0.015625)\" xlink:href=\"#DejaVuSans-108\"/>\n      <use transform=\"translate(1185.693359 0.015625)\" xlink:href=\"#DejaVuSans-32\"/>\n      <use transform=\"translate(1217.480469 0.015625)\" xlink:href=\"#DejaVuSans-47\"/>\n      <use transform=\"translate(1251.171875 0.015625)\" xlink:href=\"#DejaVuSans-32\"/>\n      <use transform=\"translate(1282.958984 0.015625)\" xlink:href=\"#DejaVuSans-109\"/>\n      <use transform=\"translate(1380.371094 0.015625)\" xlink:href=\"#DejaVuSans-111\"/>\n      <use transform=\"translate(1441.552734 0.015625)\" xlink:href=\"#DejaVuSans-108\"/>\n      <use transform=\"translate(1469.335938 0.015625)\" xlink:href=\"#DejaVuSans-41\"/>\n     </g>\n    </g>\n   </g>\n   <g id=\"matplotlib.axis_2\">\n    <g id=\"ytick_1\">\n     <g id=\"line2d_6\">\n      <defs>\n       <path d=\"M 0 0 \nL -3.5 0 \n\" id=\"mb7a4f8da6a\" style=\"stroke:#000000;stroke-width:0.8;\"/>\n      </defs>\n      <g>\n       <use style=\"stroke:#000000;stroke-width:0.8;\" x=\"52.388438\" xlink:href=\"#mb7a4f8da6a\" y=\"290.459986\"/>\n      </g>\n     </g>\n     <g id=\"text_6\">\n      <!-- −1 -->\n      <g transform=\"translate(24.749375 295.778892)scale(0.14 -0.14)\">\n       <use xlink:href=\"#DejaVuSans-8722\"/>\n       <use x=\"83.789062\" xlink:href=\"#DejaVuSans-49\"/>\n      </g>\n     </g>\n    </g>\n    <g id=\"ytick_2\">\n     <g id=\"line2d_7\">\n      <g>\n       <use style=\"stroke:#000000;stroke-width:0.8;\" x=\"52.388438\" xlink:href=\"#mb7a4f8da6a\" y=\"245.251831\"/>\n      </g>\n     </g>\n     <g id=\"text_7\">\n      <!-- 0 -->\n      <g transform=\"translate(36.480938 250.570737)scale(0.14 -0.14)\">\n       <use xlink:href=\"#DejaVuSans-48\"/>\n      </g>\n     </g>\n    </g>\n    <g id=\"ytick_3\">\n     <g id=\"line2d_8\">\n      <g>\n       <use style=\"stroke:#000000;stroke-width:0.8;\" x=\"52.388438\" xlink:href=\"#mb7a4f8da6a\" y=\"200.043675\"/>\n      </g>\n     </g>\n     <g id=\"text_8\">\n      <!-- 1 -->\n      <g transform=\"translate(36.480938 205.362581)scale(0.14 -0.14)\">\n       <use xlink:href=\"#DejaVuSans-49\"/>\n      </g>\n     </g>\n    </g>\n    <g id=\"ytick_4\">\n     <g id=\"line2d_9\">\n      <g>\n       <use style=\"stroke:#000000;stroke-width:0.8;\" x=\"52.388438\" xlink:href=\"#mb7a4f8da6a\" y=\"154.835519\"/>\n      </g>\n     </g>\n     <g id=\"text_9\">\n      <!-- 2 -->\n      <g transform=\"translate(36.480938 160.154425)scale(0.14 -0.14)\">\n       <use xlink:href=\"#DejaVuSans-50\"/>\n      </g>\n     </g>\n    </g>\n    <g id=\"text_10\">\n     <!-- Calculated $\\Delta\\Delta$G (kcal / mol) -->\n     <g transform=\"translate(17.837813 303.42275)rotate(-90)scale(0.14 -0.14)\">\n      <defs>\n       <path d=\"M 64.40625 67.28125 \nL 64.40625 56.890625 \nQ 59.421875 61.53125 53.78125 63.8125 \nQ 48.140625 66.109375 41.796875 66.109375 \nQ 29.296875 66.109375 22.65625 58.46875 \nQ 16.015625 50.828125 16.015625 36.375 \nQ 16.015625 21.96875 22.65625 14.328125 \nQ 29.296875 6.6875 41.796875 6.6875 \nQ 48.140625 6.6875 53.78125 8.984375 \nQ 59.421875 11.28125 64.40625 15.921875 \nL 64.40625 5.609375 \nQ 59.234375 2.09375 53.4375 0.328125 \nQ 47.65625 -1.421875 41.21875 -1.421875 \nQ 24.65625 -1.421875 15.125 8.703125 \nQ 5.609375 18.84375 5.609375 36.375 \nQ 5.609375 53.953125 15.125 64.078125 \nQ 24.65625 74.21875 41.21875 74.21875 \nQ 47.75 74.21875 53.53125 72.484375 \nQ 59.328125 70.75 64.40625 67.28125 \nz\n\" id=\"DejaVuSans-67\"/>\n       <path d=\"M 8.5 21.578125 \nL 8.5 54.6875 \nL 17.484375 54.6875 \nL 17.484375 21.921875 \nQ 17.484375 14.15625 20.5 10.265625 \nQ 23.53125 6.390625 29.59375 6.390625 \nQ 36.859375 6.390625 41.078125 11.03125 \nQ 45.3125 15.671875 45.3125 23.6875 \nL 45.3125 54.6875 \nL 54.296875 54.6875 \nL 54.296875 0 \nL 45.3125 0 \nL 45.3125 8.40625 \nQ 42.046875 3.421875 37.71875 1 \nQ 33.40625 -1.421875 27.6875 -1.421875 \nQ 18.265625 -1.421875 13.375 4.4375 \nQ 8.5 10.296875 8.5 21.578125 \nz\nM 31.109375 56 \nz\n\" id=\"DejaVuSans-117\"/>\n       <path d=\"M 45.40625 46.390625 \nL 45.40625 75.984375 \nL 54.390625 75.984375 \nL 54.390625 0 \nL 45.40625 0 \nL 45.40625 8.203125 \nQ 42.578125 3.328125 38.25 0.953125 \nQ 33.9375 -1.421875 27.875 -1.421875 \nQ 17.96875 -1.421875 11.734375 6.484375 \nQ 5.515625 14.40625 5.515625 27.296875 \nQ 5.515625 40.1875 11.734375 48.09375 \nQ 17.96875 56 27.875 56 \nQ 33.9375 56 38.25 53.625 \nQ 42.578125 51.265625 45.40625 46.390625 \nz\nM 14.796875 27.296875 \nQ 14.796875 17.390625 18.875 11.75 \nQ 22.953125 6.109375 30.078125 6.109375 \nQ 37.203125 6.109375 41.296875 11.75 \nQ 45.40625 17.390625 45.40625 27.296875 \nQ 45.40625 37.203125 41.296875 42.84375 \nQ 37.203125 48.484375 30.078125 48.484375 \nQ 22.953125 48.484375 18.875 42.84375 \nQ 14.796875 37.203125 14.796875 27.296875 \nz\n\" id=\"DejaVuSans-100\"/>\n      </defs>\n      <use transform=\"translate(0 0.015625)\" xlink:href=\"#DejaVuSans-67\"/>\n      <use transform=\"translate(69.824219 0.015625)\" xlink:href=\"#DejaVuSans-97\"/>\n      <use transform=\"translate(131.103516 0.015625)\" xlink:href=\"#DejaVuSans-108\"/>\n      <use transform=\"translate(158.886719 0.015625)\" xlink:href=\"#DejaVuSans-99\"/>\n      <use transform=\"translate(213.867188 0.015625)\" xlink:href=\"#DejaVuSans-117\"/>\n      <use transform=\"translate(277.246094 0.015625)\" xlink:href=\"#DejaVuSans-108\"/>\n      <use transform=\"translate(305.029297 0.015625)\" xlink:href=\"#DejaVuSans-97\"/>\n      <use transform=\"translate(366.308594 0.015625)\" xlink:href=\"#DejaVuSans-116\"/>\n      <use transform=\"translate(405.517578 0.015625)\" xlink:href=\"#DejaVuSans-101\"/>\n      <use transform=\"translate(467.041016 0.015625)\" xlink:href=\"#DejaVuSans-100\"/>\n      <use transform=\"translate(530.517578 0.015625)\" xlink:href=\"#DejaVuSans-32\"/>\n      <use transform=\"translate(562.304688 0.015625)\" xlink:href=\"#DejaVuSans-916\"/>\n      <use transform=\"translate(630.712891 0.015625)\" xlink:href=\"#DejaVuSans-916\"/>\n      <use transform=\"translate(699.121094 0.015625)\" xlink:href=\"#DejaVuSans-71\"/>\n      <use transform=\"translate(776.611328 0.015625)\" xlink:href=\"#DejaVuSans-32\"/>\n      <use transform=\"translate(808.398438 0.015625)\" xlink:href=\"#DejaVuSans-40\"/>\n      <use transform=\"translate(847.412109 0.015625)\" xlink:href=\"#DejaVuSans-107\"/>\n      <use transform=\"translate(905.322266 0.015625)\" xlink:href=\"#DejaVuSans-99\"/>\n      <use transform=\"translate(960.302734 0.015625)\" xlink:href=\"#DejaVuSans-97\"/>\n      <use transform=\"translate(1021.582031 0.015625)\" xlink:href=\"#DejaVuSans-108\"/>\n      <use transform=\"translate(1049.365234 0.015625)\" xlink:href=\"#DejaVuSans-32\"/>\n      <use transform=\"translate(1081.152344 0.015625)\" xlink:href=\"#DejaVuSans-47\"/>\n      <use transform=\"translate(1114.84375 0.015625)\" xlink:href=\"#DejaVuSans-32\"/>\n      <use transform=\"translate(1146.630859 0.015625)\" xlink:href=\"#DejaVuSans-109\"/>\n      <use transform=\"translate(1244.042969 0.015625)\" xlink:href=\"#DejaVuSans-111\"/>\n      <use transform=\"translate(1305.224609 0.015625)\" xlink:href=\"#DejaVuSans-108\"/>\n      <use transform=\"translate(1333.007812 0.015625)\" xlink:href=\"#DejaVuSans-41\"/>\n     </g>\n    </g>\n   </g>\n   <g id=\"PathCollection_1\">\n    <defs>\n     <path d=\"M 0 1.581139 \nC 0.419323 1.581139 0.821528 1.41454 1.118034 1.118034 \nC 1.41454 0.821528 1.581139 0.419323 1.581139 -0 \nC 1.581139 -0.419323 1.41454 -0.821528 1.118034 -1.118034 \nC 0.821528 -1.41454 0.419323 -1.581139 0 -1.581139 \nC -0.419323 -1.581139 -0.821528 -1.41454 -1.118034 -1.118034 \nC -1.41454 -0.821528 -1.581139 -0.419323 -1.581139 0 \nC -1.581139 0.419323 -1.41454 0.821528 -1.118034 1.118034 \nC -0.821528 1.41454 -0.419323 1.581139 0 1.581139 \nz\n\" id=\"C0_0_41b1df98be\"/>\n    </defs>\n    <g clip-path=\"url(#p8b36b45614)\">\n     <use style=\"fill:#96b7ff;stroke:#96b7ff;\" x=\"113.94307\" xlink:href=\"#C0_0_41b1df98be\" y=\"265.11351\"/>\n    </g>\n    <g clip-path=\"url(#p8b36b45614)\">\n     <use style=\"fill:#6687ed;stroke:#6687ed;\" x=\"209.78436\" xlink:href=\"#C0_0_41b1df98be\" y=\"154.81008\"/>\n    </g>\n    <g clip-path=\"url(#p8b36b45614)\">\n     <use style=\"fill:#dedcdb;stroke:#dedcdb;\" x=\"133.382577\" xlink:href=\"#C0_0_41b1df98be\" y=\"270.7424\"/>\n    </g>\n    <g clip-path=\"url(#p8b36b45614)\">\n     <use style=\"fill:#edd1c2;stroke:#edd1c2;\" x=\"150.109594\" xlink:href=\"#C0_0_41b1df98be\" y=\"260.92405\"/>\n    </g>\n    <g clip-path=\"url(#p8b36b45614)\">\n     <use style=\"fill:#f4c6af;stroke:#f4c6af;\" x=\"190.344853\" xlink:href=\"#C0_0_41b1df98be\" y=\"225.663698\"/>\n    </g>\n    <g clip-path=\"url(#p8b36b45614)\">\n     <use style=\"fill:#98b9ff;stroke:#98b9ff;\" x=\"172.26159\" xlink:href=\"#C0_0_41b1df98be\" y=\"207.816111\"/>\n    </g>\n    <g clip-path=\"url(#p8b36b45614)\">\n     <use style=\"fill:#dcdddd;stroke:#dcdddd;\" x=\"204.811463\" xlink:href=\"#C0_0_41b1df98be\" y=\"198.328107\"/>\n    </g>\n    <g clip-path=\"url(#p8b36b45614)\">\n     <use style=\"fill:#b7cff9;stroke:#b7cff9;\" x=\"114.847233\" xlink:href=\"#C0_0_41b1df98be\" y=\"274.708672\"/>\n    </g>\n   </g>\n   <g id=\"line2d_10\">\n    <path clip-path=\"url(#p8b36b45614)\" d=\"M 104.449357 297.31275 \nL 104.449357 117.31275 \n\" style=\"fill:none;stroke:#808080;stroke-linecap:square;stroke-width:1.5;\"/>\n   </g>\n   <g id=\"line2d_11\">\n    <path clip-path=\"url(#p8b36b45614)\" d=\"M 52.388438 245.251831 \nL 232.388437 245.251831 \n\" style=\"fill:none;stroke:#808080;stroke-linecap:square;stroke-width:1.5;\"/>\n   </g>\n   <g id=\"line2d_12\">\n    <path clip-path=\"url(#p8b36b45614)\" d=\"M 52.388438 297.31275 \nL 232.388437 117.31275 \n\" style=\"fill:none;stroke:#000000;stroke-dasharray:1.5,2.475;stroke-dashoffset:0;stroke-width:1.5;\"/>\n   </g>\n   <g id=\"patch_3\">\n    <path d=\"M 52.388438 297.31275 \nL 52.388438 117.31275 \n\" style=\"fill:none;stroke:#000000;stroke-linecap:square;stroke-linejoin:miter;stroke-width:0.8;\"/>\n   </g>\n   <g id=\"patch_4\">\n    <path d=\"M 232.388437 297.31275 \nL 232.388437 117.31275 \n\" style=\"fill:none;stroke:#000000;stroke-linecap:square;stroke-linejoin:miter;stroke-width:0.8;\"/>\n   </g>\n   <g id=\"patch_5\">\n    <path d=\"M 52.388438 297.31275 \nL 232.388437 297.31275 \n\" style=\"fill:none;stroke:#000000;stroke-linecap:square;stroke-linejoin:miter;stroke-width:0.8;\"/>\n   </g>\n   <g id=\"patch_6\">\n    <path d=\"M 52.388438 117.31275 \nL 232.388437 117.31275 \n\" style=\"fill:none;stroke:#000000;stroke-linecap:square;stroke-linejoin:miter;stroke-width:0.8;\"/>\n   </g>\n   <g id=\"text_11\">\n    <!--   -->\n    <g transform=\"translate(225.164062 16.381875)scale(0.12 -0.12)\">\n     <defs>\n      <path id=\"DejaVuSansMono-32\"/>\n     </defs>\n     <use xlink:href=\"#DejaVuSansMono-32\"/>\n    </g>\n    <!--  2hyy_imatinib (N = 8) -->\n    <g transform=\"translate(73.452187 29.89575)scale(0.12 -0.12)\">\n     <defs>\n      <path d=\"M 18.21875 8.296875 \nL 51.703125 8.296875 \nL 51.703125 0 \nL 7.421875 0 \nL 7.421875 8.296875 \nQ 16.546875 17.921875 23.375 25.296875 \nQ 30.21875 32.671875 32.8125 35.6875 \nQ 37.703125 41.65625 39.40625 45.34375 \nQ 41.109375 49.03125 41.109375 52.875 \nQ 41.109375 58.984375 37.515625 62.453125 \nQ 33.9375 65.921875 27.6875 65.921875 \nQ 23.25 65.921875 18.359375 64.3125 \nQ 13.484375 62.703125 8.015625 59.421875 \nL 8.015625 69.390625 \nQ 13.03125 71.78125 17.890625 73 \nQ 22.75 74.21875 27.484375 74.21875 \nQ 38.1875 74.21875 44.703125 68.53125 \nQ 51.21875 62.84375 51.21875 53.609375 \nQ 51.21875 48.921875 49.046875 44.234375 \nQ 46.875 39.546875 42 33.890625 \nQ 39.265625 30.71875 34.0625 25.09375 \nQ 28.859375 19.484375 18.21875 8.296875 \nz\n\" id=\"DejaVuSansMono-50\"/>\n      <path d=\"M 51.3125 33.890625 \nL 51.3125 0 \nL 42.28125 0 \nL 42.28125 33.890625 \nQ 42.28125 41.265625 39.6875 44.71875 \nQ 37.109375 48.1875 31.59375 48.1875 \nQ 25.296875 48.1875 21.890625 43.71875 \nQ 18.5 39.265625 18.5 30.90625 \nL 18.5 0 \nL 9.515625 0 \nL 9.515625 75.984375 \nL 18.5 75.984375 \nL 18.5 46.484375 \nQ 20.90625 51.171875 25 53.578125 \nQ 29.109375 56 34.71875 56 \nQ 43.0625 56 47.1875 50.5 \nQ 51.3125 45.015625 51.3125 33.890625 \nz\n\" id=\"DejaVuSansMono-104\"/>\n      <path d=\"M 41.890625 17.578125 \nQ 39.65625 11.859375 36.1875 2.546875 \nQ 31.34375 -10.359375 29.6875 -13.1875 \nQ 27.4375 -17 24.0625 -18.890625 \nQ 20.703125 -20.796875 16.21875 -20.796875 \nL 8.984375 -20.796875 \nL 8.984375 -13.28125 \nL 14.3125 -13.28125 \nQ 18.265625 -13.28125 20.5 -10.984375 \nQ 22.75 -8.6875 26.21875 0.875 \nL 5.078125 54.6875 \nL 14.59375 54.6875 \nL 30.8125 11.921875 \nL 46.78125 54.6875 \nL 56.296875 54.6875 \nz\n\" id=\"DejaVuSansMono-121\"/>\n      <path d=\"M 60.203125 -19.671875 \nL 60.203125 -23.578125 \nL 0 -23.578125 \nL 0 -19.671875 \nz\n\" id=\"DejaVuSansMono-95\"/>\n      <path d=\"M 12.5 54.6875 \nL 35.5 54.6875 \nL 35.5 6.984375 \nL 53.328125 6.984375 \nL 53.328125 0 \nL 8.6875 0 \nL 8.6875 6.984375 \nL 26.515625 6.984375 \nL 26.515625 47.703125 \nL 12.5 47.703125 \nz\nM 26.515625 75.984375 \nL 35.5 75.984375 \nL 35.5 64.59375 \nL 26.515625 64.59375 \nz\n\" id=\"DejaVuSansMono-105\"/>\n      <path d=\"M 33.015625 49.125 \nQ 34.671875 52.640625 37.234375 54.3125 \nQ 39.796875 56 43.40625 56 \nQ 50 56 52.703125 50.890625 \nQ 55.421875 45.796875 55.421875 31.6875 \nL 55.421875 0 \nL 47.21875 0 \nL 47.21875 31.296875 \nQ 47.21875 42.875 45.921875 45.671875 \nQ 44.625 48.484375 41.21875 48.484375 \nQ 37.3125 48.484375 35.859375 45.484375 \nQ 34.421875 42.484375 34.421875 31.296875 \nL 34.421875 0 \nL 26.21875 0 \nL 26.21875 31.296875 \nQ 26.21875 43.015625 24.828125 45.75 \nQ 23.4375 48.484375 19.828125 48.484375 \nQ 16.265625 48.484375 14.875 45.484375 \nQ 13.484375 42.484375 13.484375 31.296875 \nL 13.484375 0 \nL 5.328125 0 \nL 5.328125 54.6875 \nL 13.484375 54.6875 \nL 13.484375 50 \nQ 15.09375 52.9375 17.5 54.46875 \nQ 19.921875 56 23 56 \nQ 26.703125 56 29.171875 54.296875 \nQ 31.640625 52.59375 33.015625 49.125 \nz\n\" id=\"DejaVuSansMono-109\"/>\n      <path d=\"M 34.28125 27.484375 \nL 31.296875 27.484375 \nQ 23.4375 27.484375 19.453125 24.71875 \nQ 15.484375 21.96875 15.484375 16.5 \nQ 15.484375 11.578125 18.453125 8.84375 \nQ 21.4375 6.109375 26.703125 6.109375 \nQ 34.125 6.109375 38.375 11.25 \nQ 42.625 16.40625 42.671875 25.484375 \nL 42.671875 27.484375 \nz\nM 51.703125 31.203125 \nL 51.703125 0 \nL 42.671875 0 \nL 42.671875 8.109375 \nQ 39.796875 3.21875 35.421875 0.890625 \nQ 31.0625 -1.421875 24.8125 -1.421875 \nQ 16.453125 -1.421875 11.46875 3.296875 \nQ 6.5 8.015625 6.5 15.921875 \nQ 6.5 25.046875 12.625 29.78125 \nQ 18.75 34.515625 30.609375 34.515625 \nL 42.671875 34.515625 \nL 42.671875 35.9375 \nQ 42.625 42.484375 39.34375 45.4375 \nQ 36.078125 48.390625 28.90625 48.390625 \nQ 24.3125 48.390625 19.625 47.0625 \nQ 14.9375 45.75 10.5 43.21875 \nL 10.5 52.203125 \nQ 15.484375 54.109375 20.046875 55.046875 \nQ 24.609375 56 28.90625 56 \nQ 35.6875 56 40.5 54 \nQ 45.3125 52 48.296875 48 \nQ 50.140625 45.5625 50.921875 41.96875 \nQ 51.703125 38.375 51.703125 31.203125 \nz\n\" id=\"DejaVuSansMono-97\"/>\n      <path d=\"M 29.984375 70.21875 \nL 29.984375 54.6875 \nL 50.390625 54.6875 \nL 50.390625 47.703125 \nL 29.984375 47.703125 \nL 29.984375 18.015625 \nQ 29.984375 11.96875 32.28125 9.5625 \nQ 34.578125 7.171875 40.28125 7.171875 \nL 50.390625 7.171875 \nL 50.390625 0 \nL 39.40625 0 \nQ 29.296875 0 25.140625 4.046875 \nQ 21 8.109375 21 18.015625 \nL 21 47.703125 \nL 6.390625 47.703125 \nL 6.390625 54.6875 \nL 21 54.6875 \nL 21 70.21875 \nz\n\" id=\"DejaVuSansMono-116\"/>\n      <path d=\"M 51.3125 33.890625 \nL 51.3125 0 \nL 42.28125 0 \nL 42.28125 33.890625 \nQ 42.28125 41.265625 39.6875 44.71875 \nQ 37.109375 48.1875 31.59375 48.1875 \nQ 25.296875 48.1875 21.890625 43.71875 \nQ 18.5 39.265625 18.5 30.90625 \nL 18.5 0 \nL 9.515625 0 \nL 9.515625 54.6875 \nL 18.5 54.6875 \nL 18.5 46.484375 \nQ 20.90625 51.171875 25 53.578125 \nQ 29.109375 56 34.71875 56 \nQ 43.0625 56 47.1875 50.5 \nQ 51.3125 45.015625 51.3125 33.890625 \nz\n\" id=\"DejaVuSansMono-110\"/>\n      <path d=\"M 44.828125 27.296875 \nQ 44.828125 37.75 41.5 43.0625 \nQ 38.1875 48.390625 31.6875 48.390625 \nQ 25.140625 48.390625 21.765625 43.046875 \nQ 18.40625 37.703125 18.40625 27.296875 \nQ 18.40625 16.9375 21.765625 11.5625 \nQ 25.140625 6.203125 31.6875 6.203125 \nQ 38.1875 6.203125 41.5 11.515625 \nQ 44.828125 16.84375 44.828125 27.296875 \nz\nM 18.40625 47.703125 \nQ 20.5625 51.703125 24.34375 53.84375 \nQ 28.125 56 33.109375 56 \nQ 42.96875 56 48.625 48.40625 \nQ 54.296875 40.828125 54.296875 27.484375 \nQ 54.296875 13.96875 48.609375 6.265625 \nQ 42.921875 -1.421875 33.015625 -1.421875 \nQ 28.125 -1.421875 24.390625 0.703125 \nQ 20.65625 2.828125 18.40625 6.890625 \nL 18.40625 0 \nL 9.421875 0 \nL 9.421875 75.984375 \nL 18.40625 75.984375 \nz\n\" id=\"DejaVuSansMono-98\"/>\n      <path d=\"M 43.21875 75.875 \nQ 36.71875 64.75 33.515625 53.6875 \nQ 30.328125 42.625 30.328125 31.390625 \nQ 30.328125 20.21875 33.515625 9.125 \nQ 36.71875 -1.953125 43.21875 -13.1875 \nL 35.40625 -13.1875 \nQ 28.03125 -1.5625 24.40625 9.4375 \nQ 20.796875 20.453125 20.796875 31.390625 \nQ 20.796875 42.28125 24.40625 53.3125 \nQ 28.03125 64.359375 35.40625 75.875 \nz\n\" id=\"DejaVuSansMono-40\"/>\n      <path d=\"M 6.78125 72.90625 \nL 19.28125 72.90625 \nL 43.890625 12.890625 \nL 43.890625 72.90625 \nL 53.421875 72.90625 \nL 53.421875 0 \nL 40.921875 0 \nL 16.3125 60.015625 \nL 16.3125 0 \nL 6.78125 0 \nz\n\" id=\"DejaVuSansMono-78\"/>\n      <path d=\"M 4.296875 25.59375 \nL 55.90625 25.59375 \nL 55.90625 17.1875 \nL 4.296875 17.1875 \nz\nM 4.296875 45.40625 \nL 55.90625 45.40625 \nL 55.90625 37.109375 \nL 4.296875 37.109375 \nz\n\" id=\"DejaVuSansMono-61\"/>\n      <path d=\"M 30.078125 34.625 \nQ 23.484375 34.625 19.890625 30.9375 \nQ 16.3125 27.25 16.3125 20.515625 \nQ 16.3125 13.765625 19.9375 10.03125 \nQ 23.578125 6.296875 30.078125 6.296875 \nQ 36.71875 6.296875 40.296875 9.984375 \nQ 43.890625 13.671875 43.890625 20.515625 \nQ 43.890625 27.203125 40.25 30.90625 \nQ 36.625 34.625 30.078125 34.625 \nz\nM 21.484375 38.71875 \nQ 15.1875 40.328125 11.640625 44.71875 \nQ 8.109375 49.125 8.109375 55.328125 \nQ 8.109375 64.015625 14.015625 69.109375 \nQ 19.921875 74.21875 30.078125 74.21875 \nQ 40.28125 74.21875 46.1875 69.109375 \nQ 52.09375 64.015625 52.09375 55.328125 \nQ 52.09375 49.125 48.546875 44.71875 \nQ 45.015625 40.328125 38.71875 38.71875 \nQ 46.046875 37.109375 49.921875 32.21875 \nQ 53.8125 27.34375 53.8125 19.578125 \nQ 53.8125 9.71875 47.515625 4.140625 \nQ 41.21875 -1.421875 30.078125 -1.421875 \nQ 18.953125 -1.421875 12.671875 4.125 \nQ 6.390625 9.671875 6.390625 19.484375 \nQ 6.390625 27.296875 10.265625 32.203125 \nQ 14.15625 37.109375 21.484375 38.71875 \nz\nM 17.921875 54.390625 \nQ 17.921875 48.53125 21.046875 45.453125 \nQ 24.171875 42.390625 30.078125 42.390625 \nQ 36.03125 42.390625 39.15625 45.453125 \nQ 42.28125 48.53125 42.28125 54.390625 \nQ 42.28125 60.359375 39.171875 63.484375 \nQ 36.078125 66.609375 30.078125 66.609375 \nQ 24.171875 66.609375 21.046875 63.453125 \nQ 17.921875 60.296875 17.921875 54.390625 \nz\n\" id=\"DejaVuSansMono-56\"/>\n      <path d=\"M 17 75.875 \nL 24.8125 75.875 \nQ 32.171875 64.359375 35.78125 53.3125 \nQ 39.40625 42.28125 39.40625 31.390625 \nQ 39.40625 20.40625 35.78125 9.375 \nQ 32.171875 -1.65625 24.8125 -13.1875 \nL 17 -13.1875 \nQ 23.484375 -1.859375 26.6875 9.21875 \nQ 29.890625 20.3125 29.890625 31.390625 \nQ 29.890625 42.53125 26.6875 53.609375 \nQ 23.484375 64.703125 17 75.875 \nz\n\" id=\"DejaVuSansMono-41\"/>\n     </defs>\n     <use xlink:href=\"#DejaVuSansMono-32\"/>\n     <use x=\"60.205078\" xlink:href=\"#DejaVuSansMono-50\"/>\n     <use x=\"120.410156\" xlink:href=\"#DejaVuSansMono-104\"/>\n     <use x=\"180.615234\" xlink:href=\"#DejaVuSansMono-121\"/>\n     <use x=\"240.820312\" xlink:href=\"#DejaVuSansMono-121\"/>\n     <use x=\"301.025391\" xlink:href=\"#DejaVuSansMono-95\"/>\n     <use x=\"361.230469\" xlink:href=\"#DejaVuSansMono-105\"/>\n     <use x=\"421.435547\" xlink:href=\"#DejaVuSansMono-109\"/>\n     <use x=\"481.640625\" xlink:href=\"#DejaVuSansMono-97\"/>\n     <use x=\"541.845703\" xlink:href=\"#DejaVuSansMono-116\"/>\n     <use x=\"602.050781\" xlink:href=\"#DejaVuSansMono-105\"/>\n     <use x=\"662.255859\" xlink:href=\"#DejaVuSansMono-110\"/>\n     <use x=\"722.460938\" xlink:href=\"#DejaVuSansMono-105\"/>\n     <use x=\"782.666016\" xlink:href=\"#DejaVuSansMono-98\"/>\n     <use x=\"842.871094\" xlink:href=\"#DejaVuSansMono-32\"/>\n     <use x=\"903.076172\" xlink:href=\"#DejaVuSansMono-40\"/>\n     <use x=\"963.28125\" xlink:href=\"#DejaVuSansMono-78\"/>\n     <use x=\"1023.486328\" xlink:href=\"#DejaVuSansMono-32\"/>\n     <use x=\"1083.691406\" xlink:href=\"#DejaVuSansMono-61\"/>\n     <use x=\"1143.896484\" xlink:href=\"#DejaVuSansMono-32\"/>\n     <use x=\"1204.101562\" xlink:href=\"#DejaVuSansMono-56\"/>\n     <use x=\"1264.306641\" xlink:href=\"#DejaVuSansMono-41\"/>\n    </g>\n    <!--  RMSE: 1.04 -->\n    <g transform=\"translate(152.920312 43.743375)scale(0.12 -0.12)\">\n     <defs>\n      <path d=\"M 37.109375 34.421875 \nQ 40.921875 33.453125 43.609375 30.734375 \nQ 46.296875 28.03125 50.296875 19.921875 \nL 60.203125 0 \nL 49.609375 0 \nL 40.921875 18.40625 \nQ 37.15625 26.265625 34.15625 28.53125 \nQ 31.15625 30.8125 26.3125 30.8125 \nL 16.890625 30.8125 \nL 16.890625 0 \nL 6.984375 0 \nL 6.984375 72.90625 \nL 27.296875 72.90625 \nQ 39.3125 72.90625 45.703125 67.484375 \nQ 52.09375 62.0625 52.09375 51.8125 \nQ 52.09375 44.578125 48.15625 40.015625 \nQ 44.234375 35.453125 37.109375 34.421875 \nz\nM 16.890625 64.796875 \nL 16.890625 38.921875 \nL 27.6875 38.921875 \nQ 34.765625 38.921875 38.234375 42.09375 \nQ 41.703125 45.265625 41.703125 51.8125 \nQ 41.703125 58.109375 38.015625 61.453125 \nQ 34.328125 64.796875 27.296875 64.796875 \nz\n\" id=\"DejaVuSansMono-82\"/>\n      <path d=\"M 4.203125 72.90625 \nL 17.390625 72.90625 \nL 29.984375 35.796875 \nL 42.671875 72.90625 \nL 55.90625 72.90625 \nL 55.90625 0 \nL 46.78125 0 \nL 46.78125 64.40625 \nL 33.796875 25.984375 \nL 26.3125 25.984375 \nL 13.28125 64.40625 \nL 13.28125 0 \nL 4.203125 0 \nz\n\" id=\"DejaVuSansMono-77\"/>\n      <path d=\"M 49.421875 70.40625 \nL 49.421875 60.40625 \nQ 44.921875 63.28125 40.40625 64.75 \nQ 35.890625 66.21875 31.296875 66.21875 \nQ 24.3125 66.21875 20.265625 62.96875 \nQ 16.21875 59.71875 16.21875 54.203125 \nQ 16.21875 49.359375 18.875 46.8125 \nQ 21.53125 44.28125 28.8125 42.578125 \nL 33.984375 41.40625 \nQ 44.234375 39.015625 48.921875 33.890625 \nQ 53.609375 28.765625 53.609375 19.921875 \nQ 53.609375 9.515625 47.15625 4.046875 \nQ 40.71875 -1.421875 28.421875 -1.421875 \nQ 23.296875 -1.421875 18.109375 -0.3125 \nQ 12.9375 0.78125 7.71875 2.984375 \nL 7.71875 13.484375 \nQ 13.328125 9.90625 18.328125 8.25 \nQ 23.34375 6.59375 28.421875 6.59375 \nQ 35.890625 6.59375 40.03125 9.9375 \nQ 44.1875 13.28125 44.1875 19.28125 \nQ 44.1875 24.75 41.328125 27.625 \nQ 38.484375 30.515625 31.390625 32.078125 \nL 26.125 33.296875 \nQ 15.96875 35.59375 11.375 40.234375 \nQ 6.78125 44.875 6.78125 52.6875 \nQ 6.78125 62.453125 13.34375 68.328125 \nQ 19.921875 74.21875 30.8125 74.21875 \nQ 35.015625 74.21875 39.640625 73.265625 \nQ 44.28125 72.3125 49.421875 70.40625 \nz\n\" id=\"DejaVuSansMono-83\"/>\n      <path d=\"M 9.625 72.90625 \nL 52.875 72.90625 \nL 52.875 64.59375 \nL 19.484375 64.59375 \nL 19.484375 43.015625 \nL 51.421875 43.015625 \nL 51.421875 34.71875 \nL 19.484375 34.71875 \nL 19.484375 8.296875 \nL 53.8125 8.296875 \nL 53.8125 0 \nL 9.625 0 \nz\n\" id=\"DejaVuSansMono-69\"/>\n      <path d=\"M 23.875 51.90625 \nL 36.1875 51.90625 \nL 36.1875 37.109375 \nL 23.875 37.109375 \nz\nM 23.875 14.890625 \nL 36.1875 14.890625 \nL 36.1875 0 \nL 23.875 0 \nz\n\" id=\"DejaVuSansMono-58\"/>\n      <path d=\"M 13.1875 8.296875 \nL 28.515625 8.296875 \nL 28.515625 64.015625 \nL 12.015625 60.296875 \nL 12.015625 69.28125 \nL 28.421875 72.90625 \nL 38.28125 72.90625 \nL 38.28125 8.296875 \nL 53.421875 8.296875 \nL 53.421875 0 \nL 13.1875 0 \nz\n\" id=\"DejaVuSansMono-49\"/>\n      <path d=\"M 23.875 14.890625 \nL 36.1875 14.890625 \nL 36.1875 0 \nL 23.875 0 \nz\n\" id=\"DejaVuSansMono-46\"/>\n      <path d=\"M 23.578125 36.625 \nQ 23.578125 39.3125 25.453125 41.265625 \nQ 27.34375 43.21875 29.984375 43.21875 \nQ 32.71875 43.21875 34.671875 41.265625 \nQ 36.625 39.3125 36.625 36.625 \nQ 36.625 33.890625 34.6875 31.984375 \nQ 32.765625 30.078125 29.984375 30.078125 \nQ 27.25 30.078125 25.40625 31.9375 \nQ 23.578125 33.796875 23.578125 36.625 \nz\nM 30.078125 66.40625 \nQ 23.1875 66.40625 19.796875 58.984375 \nQ 16.40625 51.5625 16.40625 36.375 \nQ 16.40625 21.234375 19.796875 13.8125 \nQ 23.1875 6.390625 30.078125 6.390625 \nQ 37.015625 6.390625 40.40625 13.8125 \nQ 43.796875 21.234375 43.796875 36.375 \nQ 43.796875 51.5625 40.40625 58.984375 \nQ 37.015625 66.40625 30.078125 66.40625 \nz\nM 30.078125 74.21875 \nQ 41.75 74.21875 47.734375 64.640625 \nQ 53.71875 55.078125 53.71875 36.375 \nQ 53.71875 17.71875 47.734375 8.140625 \nQ 41.75 -1.421875 30.078125 -1.421875 \nQ 18.40625 -1.421875 12.453125 8.140625 \nQ 6.5 17.71875 6.5 36.375 \nQ 6.5 55.078125 12.453125 64.640625 \nQ 18.40625 74.21875 30.078125 74.21875 \nz\n\" id=\"DejaVuSansMono-48\"/>\n      <path d=\"M 35.890625 63.921875 \nL 12.890625 25.390625 \nL 35.890625 25.390625 \nz\nM 34.28125 72.90625 \nL 45.703125 72.90625 \nL 45.703125 25.390625 \nL 55.421875 25.390625 \nL 55.421875 17.390625 \nL 45.703125 17.390625 \nL 45.703125 0 \nL 35.890625 0 \nL 35.890625 17.390625 \nL 4.984375 17.390625 \nL 4.984375 26.703125 \nz\n\" id=\"DejaVuSansMono-52\"/>\n     </defs>\n     <use xlink:href=\"#DejaVuSansMono-32\"/>\n     <use x=\"60.205078\" xlink:href=\"#DejaVuSansMono-82\"/>\n     <use x=\"120.410156\" xlink:href=\"#DejaVuSansMono-77\"/>\n     <use x=\"180.615234\" xlink:href=\"#DejaVuSansMono-83\"/>\n     <use x=\"240.820312\" xlink:href=\"#DejaVuSansMono-69\"/>\n     <use x=\"301.025391\" xlink:href=\"#DejaVuSansMono-58\"/>\n     <use x=\"361.230469\" xlink:href=\"#DejaVuSansMono-32\"/>\n     <use x=\"421.435547\" xlink:href=\"#DejaVuSansMono-49\"/>\n     <use x=\"481.640625\" xlink:href=\"#DejaVuSansMono-46\"/>\n     <use x=\"541.845703\" xlink:href=\"#DejaVuSansMono-48\"/>\n     <use x=\"602.050781\" xlink:href=\"#DejaVuSansMono-52\"/>\n    </g>\n    <!-- MUE: 0.97 -->\n    <g transform=\"translate(167.369062 57.25725)scale(0.12 -0.12)\">\n     <defs>\n      <path d=\"M 7.171875 27.984375 \nL 7.171875 72.90625 \nL 17.09375 72.90625 \nL 17.09375 23.484375 \nQ 17.09375 18.171875 17.375 15.890625 \nQ 17.671875 13.625 18.40625 12.40625 \nQ 19.96875 9.515625 22.921875 8.046875 \nQ 25.875 6.59375 30.078125 6.59375 \nQ 34.328125 6.59375 37.25 8.046875 \nQ 40.1875 9.515625 41.796875 12.40625 \nQ 42.53125 13.625 42.8125 15.859375 \nQ 43.109375 18.109375 43.109375 23.390625 \nL 43.109375 72.90625 \nL 52.984375 72.90625 \nL 52.984375 27.984375 \nQ 52.984375 16.796875 51.59375 12.078125 \nQ 50.203125 7.375 46.78125 4.296875 \nQ 43.5625 1.421875 39.40625 0 \nQ 35.25 -1.421875 30.078125 -1.421875 \nQ 24.953125 -1.421875 20.796875 0 \nQ 16.65625 1.421875 13.375 4.296875 \nQ 10.015625 7.328125 8.59375 12.125 \nQ 7.171875 16.9375 7.171875 27.984375 \nz\n\" id=\"DejaVuSansMono-85\"/>\n      <path d=\"M 29.109375 32.328125 \nQ 35.40625 32.328125 38.984375 36.859375 \nQ 42.578125 41.40625 42.578125 49.421875 \nQ 42.578125 57.421875 38.984375 61.953125 \nQ 35.40625 66.5 29.109375 66.5 \nQ 22.5625 66.5 19.234375 62.171875 \nQ 15.921875 57.859375 15.921875 49.421875 \nQ 15.921875 40.921875 19.21875 36.625 \nQ 22.515625 32.328125 29.109375 32.328125 \nz\nM 11.53125 1.515625 \nL 11.53125 10.59375 \nQ 14.59375 8.796875 18.0625 7.84375 \nQ 21.53125 6.890625 25.296875 6.890625 \nQ 34.671875 6.890625 39.46875 13.9375 \nQ 44.28125 21 44.28125 34.71875 \nQ 42 29.828125 37.84375 27.21875 \nQ 33.6875 24.609375 28.328125 24.609375 \nQ 17.78125 24.609375 11.984375 31.09375 \nQ 6.203125 37.59375 6.203125 49.515625 \nQ 6.203125 61.28125 12.125 67.75 \nQ 18.0625 74.21875 28.90625 74.21875 \nQ 41.609375 74.21875 47.515625 65.078125 \nQ 53.421875 55.953125 53.421875 36.375 \nQ 53.421875 17.96875 46.3125 8.265625 \nQ 39.203125 -1.421875 25.6875 -1.421875 \nQ 22.125 -1.421875 18.5 -0.65625 \nQ 14.890625 0.09375 11.53125 1.515625 \nz\n\" id=\"DejaVuSansMono-57\"/>\n      <path d=\"M 6.78125 72.90625 \nL 52.6875 72.90625 \nL 52.6875 68.703125 \nL 26.609375 0 \nL 16.3125 0 \nL 41.703125 64.59375 \nL 6.78125 64.59375 \nz\n\" id=\"DejaVuSansMono-55\"/>\n     </defs>\n     <use xlink:href=\"#DejaVuSansMono-77\"/>\n     <use x=\"60.205078\" xlink:href=\"#DejaVuSansMono-85\"/>\n     <use x=\"120.410156\" xlink:href=\"#DejaVuSansMono-69\"/>\n     <use x=\"180.615234\" xlink:href=\"#DejaVuSansMono-58\"/>\n     <use x=\"240.820312\" xlink:href=\"#DejaVuSansMono-32\"/>\n     <use x=\"301.025391\" xlink:href=\"#DejaVuSansMono-48\"/>\n     <use x=\"361.230469\" xlink:href=\"#DejaVuSansMono-46\"/>\n     <use x=\"421.435547\" xlink:href=\"#DejaVuSansMono-57\"/>\n     <use x=\"481.640625\" xlink:href=\"#DejaVuSansMono-55\"/>\n    </g>\n    <!-- R2: 0.83 -->\n    <g transform=\"translate(174.593437 70.771125)scale(0.12 -0.12)\">\n     <defs>\n      <path d=\"M 37.890625 39.015625 \nQ 45.0625 37.109375 48.875 32.25 \nQ 52.6875 27.390625 52.6875 20.125 \nQ 52.6875 10.0625 45.921875 4.3125 \nQ 39.15625 -1.421875 27.203125 -1.421875 \nQ 22.171875 -1.421875 16.9375 -0.484375 \nQ 11.71875 0.4375 6.6875 2.203125 \nL 6.6875 12.015625 \nQ 11.671875 9.421875 16.5 8.15625 \nQ 21.34375 6.890625 26.125 6.890625 \nQ 34.234375 6.890625 38.578125 10.546875 \nQ 42.921875 14.203125 42.921875 21.09375 \nQ 42.921875 27.4375 38.578125 31.171875 \nQ 34.234375 34.90625 26.8125 34.90625 \nL 19.28125 34.90625 \nL 19.28125 43.015625 \nL 26.8125 43.015625 \nQ 33.59375 43.015625 37.40625 45.984375 \nQ 41.21875 48.96875 41.21875 54.296875 \nQ 41.21875 59.90625 37.671875 62.90625 \nQ 34.125 65.921875 27.59375 65.921875 \nQ 23.25 65.921875 18.609375 64.9375 \nQ 13.96875 63.96875 8.890625 62.015625 \nL 8.890625 71.09375 \nQ 14.796875 72.65625 19.40625 73.4375 \nQ 24.03125 74.21875 27.59375 74.21875 \nQ 38.234375 74.21875 44.609375 68.875 \nQ 50.984375 63.53125 50.984375 54.6875 \nQ 50.984375 48.6875 47.625 44.671875 \nQ 44.28125 40.671875 37.890625 39.015625 \nz\n\" id=\"DejaVuSansMono-51\"/>\n     </defs>\n     <use xlink:href=\"#DejaVuSansMono-82\"/>\n     <use x=\"60.205078\" xlink:href=\"#DejaVuSansMono-50\"/>\n     <use x=\"120.410156\" xlink:href=\"#DejaVuSansMono-58\"/>\n     <use x=\"180.615234\" xlink:href=\"#DejaVuSansMono-32\"/>\n     <use x=\"240.820312\" xlink:href=\"#DejaVuSansMono-48\"/>\n     <use x=\"301.025391\" xlink:href=\"#DejaVuSansMono-46\"/>\n     <use x=\"361.230469\" xlink:href=\"#DejaVuSansMono-56\"/>\n     <use x=\"421.435547\" xlink:href=\"#DejaVuSansMono-51\"/>\n    </g>\n    <!-- rho: 0.91 -->\n    <g transform=\"translate(167.369062 84.285)scale(0.12 -0.12)\">\n     <defs>\n      <path d=\"M 56.390625 43.40625 \nQ 53.515625 45.65625 50.53125 46.671875 \nQ 47.5625 47.703125 44 47.703125 \nQ 35.59375 47.703125 31.140625 42.421875 \nQ 26.703125 37.15625 26.703125 27.203125 \nL 26.703125 0 \nL 17.671875 0 \nL 17.671875 54.6875 \nL 26.703125 54.6875 \nL 26.703125 44 \nQ 28.953125 49.8125 33.609375 52.90625 \nQ 38.28125 56 44.671875 56 \nQ 48 56 50.875 55.171875 \nQ 53.765625 54.34375 56.390625 52.59375 \nz\n\" id=\"DejaVuSansMono-114\"/>\n      <path d=\"M 30.078125 48.390625 \nQ 23.25 48.390625 19.734375 43.0625 \nQ 16.21875 37.75 16.21875 27.296875 \nQ 16.21875 16.890625 19.734375 11.546875 \nQ 23.25 6.203125 30.078125 6.203125 \nQ 36.96875 6.203125 40.484375 11.546875 \nQ 44 16.890625 44 27.296875 \nQ 44 37.75 40.484375 43.0625 \nQ 36.96875 48.390625 30.078125 48.390625 \nz\nM 30.078125 56 \nQ 41.453125 56 47.484375 48.625 \nQ 53.515625 41.265625 53.515625 27.296875 \nQ 53.515625 13.28125 47.5 5.921875 \nQ 41.5 -1.421875 30.078125 -1.421875 \nQ 18.703125 -1.421875 12.6875 5.921875 \nQ 6.6875 13.28125 6.6875 27.296875 \nQ 6.6875 41.265625 12.6875 48.625 \nQ 18.703125 56 30.078125 56 \nz\n\" id=\"DejaVuSansMono-111\"/>\n     </defs>\n     <use xlink:href=\"#DejaVuSansMono-114\"/>\n     <use x=\"60.205078\" xlink:href=\"#DejaVuSansMono-104\"/>\n     <use x=\"120.410156\" xlink:href=\"#DejaVuSansMono-111\"/>\n     <use x=\"180.615234\" xlink:href=\"#DejaVuSansMono-58\"/>\n     <use x=\"240.820312\" xlink:href=\"#DejaVuSansMono-32\"/>\n     <use x=\"301.025391\" xlink:href=\"#DejaVuSansMono-48\"/>\n     <use x=\"361.230469\" xlink:href=\"#DejaVuSansMono-46\"/>\n     <use x=\"421.435547\" xlink:href=\"#DejaVuSansMono-57\"/>\n     <use x=\"481.640625\" xlink:href=\"#DejaVuSansMono-49\"/>\n    </g>\n    <!--   -->\n    <g transform=\"translate(225.164062 97.798875)scale(0.12 -0.12)\">\n     <use xlink:href=\"#DejaVuSansMono-32\"/>\n    </g>\n    <!--  timestamp: 27 October, 2020 -->\n    <g transform=\"translate(30.105937 111.31275)scale(0.12 -0.12)\">\n     <defs>\n      <path d=\"M 54.296875 29.59375 \nL 54.296875 25.203125 \nL 15.375 25.203125 \nL 15.375 24.90625 \nQ 15.375 15.96875 20.03125 11.078125 \nQ 24.703125 6.203125 33.203125 6.203125 \nQ 37.5 6.203125 42.1875 7.5625 \nQ 46.875 8.9375 52.203125 11.71875 \nL 52.203125 2.78125 \nQ 47.078125 0.6875 42.3125 -0.359375 \nQ 37.546875 -1.421875 33.109375 -1.421875 \nQ 20.359375 -1.421875 13.171875 6.21875 \nQ 6 13.875 6 27.296875 \nQ 6 40.375 13.03125 48.1875 \nQ 20.0625 56 31.78125 56 \nQ 42.234375 56 48.265625 48.921875 \nQ 54.296875 41.84375 54.296875 29.59375 \nz\nM 45.3125 32.234375 \nQ 45.125 40.140625 41.578125 44.265625 \nQ 38.03125 48.390625 31.390625 48.390625 \nQ 24.90625 48.390625 20.703125 44.09375 \nQ 16.5 39.796875 15.71875 32.171875 \nz\n\" id=\"DejaVuSansMono-101\"/>\n      <path d=\"M 47.515625 52.78125 \nL 47.515625 44 \nQ 43.65625 46.234375 39.75 47.359375 \nQ 35.84375 48.484375 31.78125 48.484375 \nQ 25.6875 48.484375 22.671875 46.5 \nQ 19.671875 44.53125 19.671875 40.484375 \nQ 19.671875 36.8125 21.921875 35 \nQ 24.171875 33.203125 33.109375 31.5 \nL 36.71875 30.8125 \nQ 43.40625 29.546875 46.84375 25.734375 \nQ 50.296875 21.921875 50.296875 15.828125 \nQ 50.296875 7.71875 44.53125 3.140625 \nQ 38.765625 -1.421875 28.515625 -1.421875 \nQ 24.46875 -1.421875 20.015625 -0.5625 \nQ 15.578125 0.296875 10.40625 2 \nL 10.40625 11.28125 \nQ 15.4375 8.6875 20.015625 7.390625 \nQ 24.609375 6.109375 28.71875 6.109375 \nQ 34.671875 6.109375 37.9375 8.515625 \nQ 41.21875 10.9375 41.21875 15.28125 \nQ 41.21875 21.53125 29.25 23.921875 \nL 28.859375 24.03125 \nL 25.484375 24.703125 \nQ 17.71875 26.21875 14.15625 29.8125 \nQ 10.59375 33.40625 10.59375 39.59375 \nQ 10.59375 47.46875 15.90625 51.734375 \nQ 21.234375 56 31.109375 56 \nQ 35.5 56 39.546875 55.1875 \nQ 43.609375 54.390625 47.515625 52.78125 \nz\n\" id=\"DejaVuSansMono-115\"/>\n      <path d=\"M 18.3125 6.890625 \nL 18.3125 -20.796875 \nL 9.28125 -20.796875 \nL 9.28125 54.6875 \nL 18.3125 54.6875 \nL 18.3125 47.703125 \nQ 20.5625 51.765625 24.296875 53.875 \nQ 28.03125 56 32.90625 56 \nQ 42.828125 56 48.46875 48.328125 \nQ 54.109375 40.671875 54.109375 27.09375 \nQ 54.109375 13.765625 48.4375 6.171875 \nQ 42.78125 -1.421875 32.90625 -1.421875 \nQ 27.9375 -1.421875 24.1875 0.703125 \nQ 20.453125 2.828125 18.3125 6.890625 \nz\nM 44.671875 27.296875 \nQ 44.671875 37.75 41.375 43.0625 \nQ 38.09375 48.390625 31.59375 48.390625 \nQ 25.046875 48.390625 21.671875 43.046875 \nQ 18.3125 37.703125 18.3125 27.296875 \nQ 18.3125 16.9375 21.671875 11.5625 \nQ 25.046875 6.203125 31.59375 6.203125 \nQ 38.09375 6.203125 41.375 11.515625 \nQ 44.671875 16.84375 44.671875 27.296875 \nz\n\" id=\"DejaVuSansMono-112\"/>\n      <path d=\"M 44.1875 36.375 \nQ 44.1875 52.4375 40.890625 59.328125 \nQ 37.59375 66.21875 30.078125 66.21875 \nQ 22.609375 66.21875 19.3125 59.328125 \nQ 16.015625 52.4375 16.015625 36.375 \nQ 16.015625 20.359375 19.3125 13.46875 \nQ 22.609375 6.59375 30.078125 6.59375 \nQ 37.59375 6.59375 40.890625 13.453125 \nQ 44.1875 20.3125 44.1875 36.375 \nz\nM 54.5 36.375 \nQ 54.5 17.328125 48.46875 7.953125 \nQ 42.4375 -1.421875 30.078125 -1.421875 \nQ 17.71875 -1.421875 11.71875 7.90625 \nQ 5.71875 17.234375 5.71875 36.375 \nQ 5.71875 55.46875 11.75 64.84375 \nQ 17.78125 74.21875 30.078125 74.21875 \nQ 42.4375 74.21875 48.46875 64.84375 \nQ 54.5 55.46875 54.5 36.375 \nz\n\" id=\"DejaVuSansMono-79\"/>\n      <path d=\"M 51.8125 2.78125 \nQ 48.1875 0.6875 44.359375 -0.359375 \nQ 40.53125 -1.421875 36.53125 -1.421875 \nQ 23.828125 -1.421875 16.671875 6.1875 \nQ 9.515625 13.8125 9.515625 27.296875 \nQ 9.515625 40.765625 16.671875 48.375 \nQ 23.828125 56 36.53125 56 \nQ 40.484375 56 44.234375 54.96875 \nQ 48 53.953125 51.8125 51.8125 \nL 51.8125 42.390625 \nQ 48.25 45.5625 44.65625 46.96875 \nQ 41.0625 48.390625 36.53125 48.390625 \nQ 28.078125 48.390625 23.53125 42.921875 \nQ 19 37.453125 19 27.296875 \nQ 19 17.1875 23.5625 11.6875 \nQ 28.125 6.203125 36.53125 6.203125 \nQ 41.21875 6.203125 44.921875 7.640625 \nQ 48.640625 9.078125 51.8125 12.109375 \nz\n\" id=\"DejaVuSansMono-99\"/>\n      <path d=\"M 24.515625 14.796875 \nL 36.8125 14.796875 \nL 36.8125 4.6875 \nL 27.203125 -14.015625 \nL 19.671875 -14.015625 \nL 24.515625 4.6875 \nz\n\" id=\"DejaVuSansMono-44\"/>\n     </defs>\n     <use xlink:href=\"#DejaVuSansMono-32\"/>\n     <use x=\"60.205078\" xlink:href=\"#DejaVuSansMono-116\"/>\n     <use x=\"120.410156\" xlink:href=\"#DejaVuSansMono-105\"/>\n     <use x=\"180.615234\" xlink:href=\"#DejaVuSansMono-109\"/>\n     <use x=\"240.820312\" xlink:href=\"#DejaVuSansMono-101\"/>\n     <use x=\"301.025391\" xlink:href=\"#DejaVuSansMono-115\"/>\n     <use x=\"361.230469\" xlink:href=\"#DejaVuSansMono-116\"/>\n     <use x=\"421.435547\" xlink:href=\"#DejaVuSansMono-97\"/>\n     <use x=\"481.640625\" xlink:href=\"#DejaVuSansMono-109\"/>\n     <use x=\"541.845703\" xlink:href=\"#DejaVuSansMono-112\"/>\n     <use x=\"602.050781\" xlink:href=\"#DejaVuSansMono-58\"/>\n     <use x=\"662.255859\" xlink:href=\"#DejaVuSansMono-32\"/>\n     <use x=\"722.460938\" xlink:href=\"#DejaVuSansMono-50\"/>\n     <use x=\"782.666016\" xlink:href=\"#DejaVuSansMono-55\"/>\n     <use x=\"842.871094\" xlink:href=\"#DejaVuSansMono-32\"/>\n     <use x=\"903.076172\" xlink:href=\"#DejaVuSansMono-79\"/>\n     <use x=\"963.28125\" xlink:href=\"#DejaVuSansMono-99\"/>\n     <use x=\"1023.486328\" xlink:href=\"#DejaVuSansMono-116\"/>\n     <use x=\"1083.691406\" xlink:href=\"#DejaVuSansMono-111\"/>\n     <use x=\"1143.896484\" xlink:href=\"#DejaVuSansMono-98\"/>\n     <use x=\"1204.101562\" xlink:href=\"#DejaVuSansMono-101\"/>\n     <use x=\"1264.306641\" xlink:href=\"#DejaVuSansMono-114\"/>\n     <use x=\"1324.511719\" xlink:href=\"#DejaVuSansMono-44\"/>\n     <use x=\"1384.716797\" xlink:href=\"#DejaVuSansMono-32\"/>\n     <use x=\"1444.921875\" xlink:href=\"#DejaVuSansMono-50\"/>\n     <use x=\"1505.126953\" xlink:href=\"#DejaVuSansMono-48\"/>\n     <use x=\"1565.332031\" xlink:href=\"#DejaVuSansMono-50\"/>\n     <use x=\"1625.537109\" xlink:href=\"#DejaVuSansMono-48\"/>\n    </g>\n   </g>\n  </g>\n </g>\n <defs>\n  <clipPath id=\"p8b36b45614\">\n   <rect height=\"180\" width=\"180\" x=\"52.388438\" y=\"117.31275\"/>\n  </clipPath>\n </defs>\n</svg>\n",
      "image/png": "[encoded data removed]"
     },
     "metadata": {
      "needs_background": "light"
     }
    }
   ],
   "source": [
    "from datetime import date\n",
    "today = date.today()\n",
    "figsize=5\n",
    "\n",
    "fig, ax = plt.subplots(figsize=(figsize, figsize))\n",
    "\n",
    "\n",
    "# aesthetics\n",
    "font_size = 14\n",
    "plt.rcParams['xtick.labelsize'] = font_size\n",
    "plt.rcParams['ytick.labelsize'] = font_size\n",
    "plt.rcParams['font.size'] = font_size\n",
    "plt.subplots_adjust(left=0.2, right=0.7, bottom=0.2, top=0.7)\n",
    "\n",
    "\n",
    "plt.xlabel('Experimental $\\Delta\\Delta$G (kcal / mol)')\n",
    "plt.ylabel(r'Calculated $\\Delta\\Delta$G (kcal / mol)')\n",
    "\n",
    "ax_min = min(min(x), min(y)) - 0.5\n",
    "ax_max = max(max(x), max(y)) + 0.5\n",
    "scale = [ax_min, ax_max]\n",
    "\n",
    "plt.xlim(scale)\n",
    "plt.ylim(scale)\n",
    "\n",
    "# plots x-axis and y-axis\n",
    "origins=True\n",
    "if origins:\n",
    "    plt.plot([0, 0], scale, 'gray')\n",
    "    plt.plot(scale, [0, 0], 'gray')\n",
    "\n",
    "# plots x=y line\n",
    "plt.plot(scale, scale, 'k:')\n",
    "guidelines=True\n",
    "\n",
    "if guidelines:\n",
    "    small_dist = 0.5\n",
    "    # plots grey region around x=y line\n",
    "    plt.fill_between(scale, [ax_min - small_dist, ax_max - small_dist],\n",
    "                     [ax_min + small_dist, ax_max + small_dist],\n",
    "                     color='grey', alpha=0.2)\n",
    "    plt.fill_between(scale, [ax_min - small_dist * 2, ax_max - small_dist * 2],\n",
    "                     [ax_min + small_dist * 2, ax_max + small_dist * 2],\n",
    "                     color='grey', alpha=0.2)\n",
    "# actual plotting\n",
    "cm = plt.get_cmap('coolwarm')\n",
    "\n",
    "#if color is None:\n",
    "color = np.abs(x-y)\n",
    "# 2.372 kcal / mol = 4 RT\n",
    "color = cm(color / 2.372)\n",
    "\n",
    "plt.errorbar(x, y, yerr=yerr, color='gray', linewidth=0., elinewidth=2., zorder=1)\n",
    "plt.scatter(x, y, color=color, s=10, marker='o', zorder=2)\n",
    "\n",
    "# stats and title\n",
    "statistics_string = ''\n",
    "for statistic in ['RMSE', 'MUE', 'R2', 'rho']:\n",
    "    s = np.round(stats(x, y, statistic=statistic), 2)\n",
    "    string = f\"{statistic}: {s}\\n\"\n",
    "    statistics_string += string\n",
    "\n",
    "title = ''\n",
    "target_name = '2hyy_imatinib'\n",
    "long_title = f'{title} \\n {target_name} (N = {len(y)})\\n {statistics_string} \\n timestamp: {today.strftime(\"%d %B, %Y\")}'\n",
    "plt.title(long_title, fontsize=12, loc='right', horizontalalignment='right', family='monospace')\n",
    "\n",
    "\n",
    "plt.savefig('2hyy_imatinib_exp_vs_calc.png', dpi=300)"
   ]
  },
  {
   "cell_type": "code",
   "execution_count": null,
   "metadata": {},
   "outputs": [],
   "source": []
  }
 ],
 "metadata": {
  "kernelspec": {
   "display_name": "Python 3",
   "language": "python",
   "name": "python3"
  },
  "language_info": {
   "codemirror_mode": {
    "name": "ipython",
    "version": 3
   },
   "file_extension": ".py",
   "mimetype": "text/x-python",
   "name": "python",
   "nbconvert_exporter": "python",
   "pygments_lexer": "ipython3",
   "version": "3.7.8-final"
  }
 },
 "nbformat": 4,
 "nbformat_minor": 4
}