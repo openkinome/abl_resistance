{
 "cells": [
  {
   "cell_type": "markdown",
   "metadata": {},
   "source": [
    "# Analysis of Abl mutations in Perses"
   ]
  },
  {
   "cell_type": "markdown",
   "metadata": {},
   "source": [
    "Below is a first draft of some inital analysis of `4xey` mutations (E255K). This is still in test phase."
   ]
  },
  {
   "cell_type": "code",
   "execution_count": 1,
   "metadata": {},
   "outputs": [],
   "source": [
    "from perses.analysis.analysis import Analysis\n",
    "import numpy as np\n",
    "import seaborn as sns\n",
    "import matplotlib.pyplot as plt\n",
    "import pymbar\n",
    "%matplotlib inline\n",
    "import os\n",
    "import itertools\n",
    "from tqdm import tqdm_notebook\n",
    "import pandas as pd"
   ]
  },
  {
   "cell_type": "code",
   "execution_count": 2,
   "metadata": {},
   "outputs": [
    {
     "name": "stderr",
     "output_type": "stream",
     "text": [
      "/home/glassw/miniconda/envs/ntrk_mutations_and_perses_dev/lib/python3.7/site-packages/ipykernel_launcher.py:7: TqdmDeprecationWarning: This function will be removed in tqdm==5.0.0\n",
      "Please use `tqdm.notebook.tqdm` instead of `tqdm.tqdm_notebook`\n",
      "  import sys\n"
     ]
    },
    {
     "data": {
      "application/vnd.jupyter.widget-view+json": {
       "model_id": "2a66544b1d55446aa44232210297eaa0",
       "version_major": 2,
       "version_minor": 0
      },
      "text/plain": [
       "HBox(children=(FloatProgress(value=0.0), HTML(value='')))"
      ]
     },
     "metadata": {},
     "output_type": "display_data"
    },
    {
     "name": "stdout",
     "output_type": "stream",
     "text": [
      "job: 0\n",
      "job: 1\n",
      "job: 2\n",
      "job: 3\n",
      "job: 4\n",
      "job: 5\n",
      "job: 6\n",
      "job: 7\n",
      "job: 8\n",
      "job: 9\n",
      "job: 10\n",
      "job: 11\n",
      "job: 12\n",
      "job: 13\n",
      "job: 14\n",
      "job: 15\n",
      "job: 16\n",
      "job: 17\n",
      "job: 18\n",
      "job: 19\n",
      "job: 20\n",
      "job: 21\n",
      "job: 22\n",
      "job: 23\n",
      "job: 24\n",
      "job: 25\n",
      "job: 26\n",
      "job: 27\n",
      "job: 28\n",
      "job: 29\n",
      "job: 30\n",
      "job: 31\n",
      "job: 32\n",
      "job: 33\n",
      "job: 34\n",
      "job: 35\n",
      "job: 36\n",
      "job: 37\n",
      "job: 38\n",
      "job: 39\n",
      "job: 40\n",
      "job: 41\n",
      "job: 42\n",
      "job: 43\n",
      "job: 44\n",
      "job: 45\n",
      "job: 46\n",
      "job: 47\n",
      "job: 48\n",
      "job: 49\n",
      "job: 50\n",
      "job: 51\n",
      "job: 52\n",
      "job: 53\n",
      "job: 54\n",
      "job: 55\n",
      "job: 56\n",
      "job: 57\n",
      "job: 58\n",
      "job: 59\n",
      "job: 60\n",
      "job: 61\n",
      "job: 62\n",
      "job: 63\n",
      "job: 64\n",
      "job: 65\n",
      "job: 66\n",
      "job: 67\n",
      "job: 68\n",
      "job: 69\n",
      "job: 70\n",
      "job: 71\n",
      "job: 72\n",
      "job: 73\n",
      "job: 74\n",
      "job: 75\n",
      "job: 76\n",
      "job: 77\n",
      "job: 78\n",
      "job: 79\n",
      "job: 80\n",
      "job: 81\n",
      "job: 82\n",
      "job: 83\n",
      "job: 84\n",
      "job: 85\n",
      "job: 86\n",
      "job: 87\n",
      "job: 88\n",
      "job: 89\n",
      "job: 90\n",
      "job: 91\n",
      "job: 92\n",
      "job: 93\n",
      "job: 94\n",
      "job: 95\n",
      "job: 96\n",
      "job: 97\n",
      "job: 98\n",
      "job: 99\n",
      "\n"
     ]
    }
   ],
   "source": [
    "# Load and combine arrays\n",
    "forward_complex_arrays = []\n",
    "reverse_complex_arrays = []\n",
    "forward_apo_arrays = []\n",
    "reverse_apo_arrays = []\n",
    "\n",
    "for j in tqdm_notebook(range(100)):\n",
    "    print(f\"job: {j}\")\n",
    "    forward_complex_path = f'/data/chodera/glassw/kinoml/Abl/run_neq/4xey/E255K/4xey_dasatinib_E255K_complex_{j}_forward.npy'\n",
    "    reverse_complex_path = f'/data/chodera/glassw/kinoml/Abl/run_neq/4xey/E255K/4xey_dasatinib_E255K_complex_{j}_reverse.npy'\n",
    "    forward_apo_path = f'/data/chodera/glassw/kinoml/Abl/run_neq/4xey/E255K/4xey_dasatinib_E255K_apo_{j}_forward.npy'\n",
    "    reverse_apo_path = f'/data/chodera/glassw/kinoml/Abl/run_neq/4xey/E255K/4xey_dasatinib_E255K_apo_{j}_reverse.npy'\n",
    "    if os.path.exists(forward_complex_path):\n",
    "        with open(forward_complex_path, 'rb') as f:\n",
    "            forward_complex_arrays.append(np.load(f))\n",
    "    if os.path.exists(reverse_complex_path):\n",
    "        with open(reverse_complex_path, 'rb') as f:\n",
    "            reverse_complex_arrays.append(np.load(f))\n",
    "    if os.path.exists(forward_apo_path):\n",
    "        with open(forward_apo_path, 'rb') as f:\n",
    "            forward_apo_arrays.append(np.load(f))\n",
    "    if os.path.exists(reverse_apo_path):\n",
    "        with open(reverse_apo_path, 'rb') as f:\n",
    "            reverse_apo_arrays.append(np.load(f))\n",
    "if forward_complex_arrays and reverse_complex_arrays and forward_apo_arrays and reverse_apo_arrays:\n",
    "    forward_complex_combined = np.concatenate(forward_complex_arrays)\n",
    "    reverse_complex_combined = np.concatenate(reverse_complex_arrays)\n",
    "    forward_apo_combined = np.concatenate(forward_apo_arrays)\n",
    "    reverse_apo_combined = np.concatenate(reverse_apo_arrays)\n",
    "\n",
    "\n",
    "# Substract offset\n",
    "forward_work_offset_complex = []\n",
    "for cycle in forward_complex_combined:\n",
    "    forward_work_offset_complex.append(np.array([val - cycle[0] for val in cycle[1:]]))\n",
    "forward_work_offset_complex = np.array(forward_work_offset_complex)\n",
    "\n",
    "reverse_work_offset_complex = []\n",
    "for cycle in reverse_complex_combined:\n",
    "    reverse_work_offset_complex.append(np.array([val - cycle[0] for val in cycle[1:]]))\n",
    "reverse_work_offset_complex = np.array(reverse_work_offset_complex)\n",
    "\n",
    "forward_work_offset_apo = []\n",
    "for cycle in forward_apo_combined:\n",
    "    forward_work_offset_apo.append(np.array([val - cycle[0] for val in cycle[1:]]))\n",
    "forward_work_offset_apo = np.array(forward_work_offset_apo)\n",
    "\n",
    "reverse_work_offset_apo = []\n",
    "for cycle in reverse_apo_combined:\n",
    "    reverse_work_offset_apo.append(np.array([val - cycle[0] for val in cycle[1:]]))\n",
    "reverse_work_offset_apo = np.array(reverse_work_offset_apo)"
   ]
  },
  {
   "cell_type": "code",
   "execution_count": 3,
   "metadata": {},
   "outputs": [
    {
     "data": {
      "image/png": "[encoded data removed]",
      "text/plain": [
       "<Figure size 432x288 with 1 Axes>"
      ]
     },
     "metadata": {
      "needs_background": "light"
     },
     "output_type": "display_data"
    }
   ],
   "source": [
    "# Plot work trajectories for complex\n",
    "for i, cycle in enumerate(forward_work_offset_complex):\n",
    "    x = [(i+1)*4e-3 for i in range(len(list(cycle)))]\n",
    "    y = cycle\n",
    "    if i == 0:\n",
    "        plt.plot(x, y, color='darkblue', label='forward')\n",
    "    else:\n",
    "        plt.plot(x, y, color='darkblue')\n",
    "for i, cycle in enumerate(reverse_work_offset_complex):\n",
    "    x = [(i+1)*4e-3 for i in range(len(list(cycle)))]\n",
    "    y = cycle\n",
    "    if i == 0:\n",
    "         plt.plot(x, -y, color='lightblue', label='reverse')\n",
    "    else:\n",
    "        plt.plot(x, -y, color='lightblue')\n",
    "plt.legend(loc='best')\n",
    "plt.xlabel(\"$t_{neq}$ (ps)\")\n",
    "plt.ylabel(\"work (kT)\")\n",
    "plt.show()"
   ]
  },
  {
   "cell_type": "code",
   "execution_count": 4,
   "metadata": {},
   "outputs": [
    {
     "data": {
      "image/png": "[encoded data removed]",
      "text/plain": [
       "<Figure size 432x288 with 1 Axes>"
      ]
     },
     "metadata": {
      "needs_background": "light"
     },
     "output_type": "display_data"
    }
   ],
   "source": [
    "# Plot work trajectories for apo\n",
    "for i, cycle in enumerate(forward_work_offset_apo):\n",
    "    x = [(i+1)*4e-3 for i in range(len(list(cycle)))]\n",
    "    y = cycle\n",
    "    if i == 0:\n",
    "        plt.plot(x, y, color='darkblue', label='forward')\n",
    "    else:\n",
    "        plt.plot(x, y, color='darkblue')\n",
    "for i, cycle in enumerate(reverse_work_offset_apo):\n",
    "    x = [(i+1)*4e-3 for i in range(len(list(cycle)))]\n",
    "    y = cycle\n",
    "    if i == 0:\n",
    "         plt.plot(x, -y, color='lightblue', label='reverse')\n",
    "    else:\n",
    "        plt.plot(x, -y, color='lightblue')\n",
    "plt.legend(loc='best')\n",
    "plt.xlabel(\"$t_{neq}$ (ps)\")\n",
    "plt.ylabel(\"work (kT)\")\n",
    "plt.show()"
   ]
  }
 ],
 "metadata": {
  "kernelspec": {
   "display_name": "Python 3",
   "language": "python",
   "name": "python3"
  },
  "language_info": {
   "codemirror_mode": {
    "name": "ipython",
    "version": 3
   },
   "file_extension": ".py",
   "mimetype": "text/x-python",
   "name": "python",
   "nbconvert_exporter": "python",
   "pygments_lexer": "ipython3",
   "version": "3.7.8"
  }
 },
 "nbformat": 4,
 "nbformat_minor": 4
}
