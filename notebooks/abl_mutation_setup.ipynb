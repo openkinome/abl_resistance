{
 "cells": [
  {
   "cell_type": "code",
   "execution_count": 2,
   "metadata": {},
   "outputs": [
    {
     "name": "stderr",
     "output_type": "stream",
     "text": [
      "INFO:numexpr.utils:Note: detected 72 virtual cores but NumExpr set to maximum of 64, check \"NUMEXPR_MAX_THREADS\" environment variable.\n",
      "INFO:numexpr.utils:Note: NumExpr detected 72 cores but \"NUMEXPR_MAX_THREADS\" not set, so enforcing safe limit of 8.\n",
      "INFO:numexpr.utils:NumExpr defaulting to 8 threads.\n",
      "INFO:rdkit:Enabling RDKit 2020.03.4 jupyter extensions\n"
     ]
    },
    {
     "data": {
      "application/vnd.jupyter.widget-view+json": {
       "model_id": "bd98686e8ac245e086273b0c014f8bdc",
       "version_major": 2,
       "version_minor": 0
      },
      "text/plain": []
     },
     "metadata": {},
     "output_type": "display_data"
    }
   ],
   "source": [
    "# imports\n",
    "import logging\n",
    "import mdtraj as md\n",
    "import numpy as np\n",
    "import os\n",
    "import shutil\n",
    "import pickle\n",
    "import pandas as pd\n",
    "\n",
    "from openeye import oechem\n",
    "from perses.app.relative_point_mutation_setup import PointMutationExecutor\n",
    "from simtk import unit"
   ]
  },
  {
   "cell_type": "code",
   "execution_count": 3,
   "metadata": {},
   "outputs": [],
   "source": [
    "def render_protein_residue_atom_mapping(topology_proposal, filename):\n",
    "    \"\"\"\n",
    "    wrap the `render_atom_mapping` method around protein point mutation topologies.\n",
    "    TODO : make modification to `render_atom_mapping` so that the backbone atoms are not written in the output.\n",
    "    \n",
    "    arguments\n",
    "        topology_proposal : perses.rjmc.topology_proposal.TopologyProposal object\n",
    "            topology proposal of protein mutation\n",
    "        filename : str\n",
    "            filename to write the map\n",
    "    \"\"\"\n",
    "    from perses.utils.smallmolecules import render_atom_mapping\n",
    "    oe_res_maps = {}\n",
    "    for omm_new_idx, omm_old_idx in topology_proposal._new_to_old_atom_map.items():\n",
    "        if omm_new_idx in topology_proposal._new_topology.residue_to_oemol_map.keys():\n",
    "            try:\n",
    "                oe_res_maps[topology_proposal._new_topology.residue_to_oemol_map[omm_new_idx]] = topology_proposal._old_topology.residue_to_oemol_map[omm_old_idx]\n",
    "            except:\n",
    "                pass\n",
    "            \n",
    "    render_atom_mapping(filename, topology_proposal._old_topology.residue_oemol, topology_proposal._new_topology.residue_oemol, oe_res_maps)"
   ]
  },
  {
   "cell_type": "code",
   "execution_count": 4,
   "metadata": {},
   "outputs": [
    {
     "name": "stdout",
     "output_type": "stream",
     "text": [
      "--> Directory  ./mutations_output/  created \n"
     ]
    }
   ],
   "source": [
    "# Create mutation output directory\n",
    "output_prefix = \"./mutations_output/\"\n",
    "os.makedirs(output_prefix, exist_ok=True)\n",
    "print(\"--> Directory \", output_prefix, \" created \")"
   ]
  },
  {
   "cell_type": "code",
   "execution_count": 5,
   "metadata": {},
   "outputs": [],
   "source": [
    "df = pd.read_csv('../data/hauser_mutations.csv', delimiter=',', decimal=\",\")"
   ]
  },
  {
   "cell_type": "code",
   "execution_count": 6,
   "metadata": {},
   "outputs": [
    {
     "data": {
      "text/html": [
       "<div>\n",
       "<style scoped>\n",
       "    .dataframe tbody tr th:only-of-type {\n",
       "        vertical-align: middle;\n",
       "    }\n",
       "\n",
       "    .dataframe tbody tr th {\n",
       "        vertical-align: top;\n",
       "    }\n",
       "\n",
       "    .dataframe thead th {\n",
       "        text-align: right;\n",
       "    }\n",
       "</style>\n",
       "<table border=\"1\" class=\"dataframe\">\n",
       "  <thead>\n",
       "    <tr style=\"text-align: right;\">\n",
       "      <th></th>\n",
       "      <th>tki</th>\n",
       "      <th>mutation</th>\n",
       "      <th>resid</th>\n",
       "      <th>from</th>\n",
       "      <th>to</th>\n",
       "      <th>IC50</th>\n",
       "      <th>ddG_exp</th>\n",
       "    </tr>\n",
       "  </thead>\n",
       "  <tbody>\n",
       "    <tr>\n",
       "      <th>0</th>\n",
       "      <td>axitinib</td>\n",
       "      <td>M244V</td>\n",
       "      <td>244</td>\n",
       "      <td>MET</td>\n",
       "      <td>VAL</td>\n",
       "      <td>690</td>\n",
       "      <td>-0.11</td>\n",
       "    </tr>\n",
       "    <tr>\n",
       "      <th>1</th>\n",
       "      <td>axitinib</td>\n",
       "      <td>L248R</td>\n",
       "      <td>248</td>\n",
       "      <td>LEU</td>\n",
       "      <td>ARG</td>\n",
       "      <td>1393</td>\n",
       "      <td>0.31</td>\n",
       "    </tr>\n",
       "    <tr>\n",
       "      <th>2</th>\n",
       "      <td>axitinib</td>\n",
       "      <td>L248V</td>\n",
       "      <td>248</td>\n",
       "      <td>LEU</td>\n",
       "      <td>VAL</td>\n",
       "      <td>1399</td>\n",
       "      <td>0.32</td>\n",
       "    </tr>\n",
       "    <tr>\n",
       "      <th>3</th>\n",
       "      <td>axitinib</td>\n",
       "      <td>G250E</td>\n",
       "      <td>250</td>\n",
       "      <td>GLY</td>\n",
       "      <td>GLU</td>\n",
       "      <td>1295</td>\n",
       "      <td>0.27</td>\n",
       "    </tr>\n",
       "    <tr>\n",
       "      <th>4</th>\n",
       "      <td>axitinib</td>\n",
       "      <td>Q252H</td>\n",
       "      <td>252</td>\n",
       "      <td>GLN</td>\n",
       "      <td>HIS</td>\n",
       "      <td>1155</td>\n",
       "      <td>0.2</td>\n",
       "    </tr>\n",
       "    <tr>\n",
       "      <th>...</th>\n",
       "      <td>...</td>\n",
       "      <td>...</td>\n",
       "      <td>...</td>\n",
       "      <td>...</td>\n",
       "      <td>...</td>\n",
       "      <td>...</td>\n",
       "      <td>...</td>\n",
       "    </tr>\n",
       "    <tr>\n",
       "      <th>139</th>\n",
       "      <td>ponatinib</td>\n",
       "      <td>F359C</td>\n",
       "      <td>359</td>\n",
       "      <td>PHE</td>\n",
       "      <td>CYS</td>\n",
       "      <td>6</td>\n",
       "      <td>0.41</td>\n",
       "    </tr>\n",
       "    <tr>\n",
       "      <th>140</th>\n",
       "      <td>ponatinib</td>\n",
       "      <td>F359I</td>\n",
       "      <td>359</td>\n",
       "      <td>PHE</td>\n",
       "      <td>ILE</td>\n",
       "      <td>11</td>\n",
       "      <td>0.77</td>\n",
       "    </tr>\n",
       "    <tr>\n",
       "      <th>141</th>\n",
       "      <td>ponatinib</td>\n",
       "      <td>F359V</td>\n",
       "      <td>359</td>\n",
       "      <td>PHE</td>\n",
       "      <td>VAL</td>\n",
       "      <td>4</td>\n",
       "      <td>0.17</td>\n",
       "    </tr>\n",
       "    <tr>\n",
       "      <th>142</th>\n",
       "      <td>ponatinib</td>\n",
       "      <td>H396R</td>\n",
       "      <td>396</td>\n",
       "      <td>HIS</td>\n",
       "      <td>ARG</td>\n",
       "      <td>4</td>\n",
       "      <td>0.17</td>\n",
       "    </tr>\n",
       "    <tr>\n",
       "      <th>143</th>\n",
       "      <td>ponatinib</td>\n",
       "      <td>E459K</td>\n",
       "      <td>459</td>\n",
       "      <td>GLU</td>\n",
       "      <td>LYS</td>\n",
       "      <td>5</td>\n",
       "      <td>0.3</td>\n",
       "    </tr>\n",
       "  </tbody>\n",
       "</table>\n",
       "<p>144 rows × 7 columns</p>\n",
       "</div>"
      ],
      "text/plain": [
       "           tki mutation  resid from   to  IC50 ddG_exp\n",
       "0     axitinib    M244V    244  MET  VAL   690   -0.11\n",
       "1     axitinib    L248R    248  LEU  ARG  1393    0.31\n",
       "2     axitinib    L248V    248  LEU  VAL  1399    0.32\n",
       "3     axitinib    G250E    250  GLY  GLU  1295    0.27\n",
       "4     axitinib    Q252H    252  GLN  HIS  1155     0.2\n",
       "..         ...      ...    ...  ...  ...   ...     ...\n",
       "139  ponatinib    F359C    359  PHE  CYS     6    0.41\n",
       "140  ponatinib    F359I    359  PHE  ILE    11    0.77\n",
       "141  ponatinib    F359V    359  PHE  VAL     4    0.17\n",
       "142  ponatinib    H396R    396  HIS  ARG     4    0.17\n",
       "143  ponatinib    E459K    459  GLU  LYS     5     0.3\n",
       "\n",
       "[144 rows x 7 columns]"
      ]
     },
     "execution_count": 6,
     "metadata": {},
     "output_type": "execute_result"
    }
   ],
   "source": [
    "df"
   ]
  },
  {
   "cell_type": "code",
   "execution_count": 7,
   "metadata": {},
   "outputs": [
    {
     "name": "stdout",
     "output_type": "stream",
     "text": [
      "2f4j_gefitinib.sdf  2hiw.pdb            3cs9_nilotinib.sdf  4twp_axitinib.sdf\r\n",
      "2f4j.pdb            2hiw_ponatinib.sdf  3cs9.pdb            4twp.pdb\r\n",
      "2g1t_erlotinib.sdf  2hyy_imatinib.sdf   3ue4_bosutinib.sdf  4xey_dasatinib.sdf\r\n",
      "2g1t.pdb            2hyy.pdb            3ue4.pdb            4xey.pdb\r\n"
     ]
    }
   ],
   "source": [
    "ls ../data/abl_complexes/"
   ]
  },
  {
   "cell_type": "code",
   "execution_count": 20,
   "metadata": {},
   "outputs": [],
   "source": [
    "index_dict = {0: ['gefitinib', '2f4j'],\n",
    "              1: ['erlotinib', '2g1t'],\n",
    "              2: ['ponatinib', '2hiw'],\n",
    "              3: ['imatinib', '2hyy'],\n",
    "              4: ['nilotinib', '3cs9'],\n",
    "              5: ['bosutinib', '3ue4'],\n",
    "              6: ['axitinib', '4twp'],\n",
    "              7: ['dasatinib', '4xey']            \n",
    "           }"
   ]
  },
  {
   "cell_type": "code",
   "execution_count": 21,
   "metadata": {},
   "outputs": [],
   "source": [
    "i = 0"
   ]
  },
  {
   "cell_type": "code",
   "execution_count": 22,
   "metadata": {},
   "outputs": [
    {
     "data": {
      "text/plain": [
       "['gefitinib', '2f4j']"
      ]
     },
     "execution_count": 22,
     "metadata": {},
     "output_type": "execute_result"
    }
   ],
   "source": [
    "index_dict[i]"
   ]
  },
  {
   "cell_type": "code",
   "execution_count": 24,
   "metadata": {},
   "outputs": [],
   "source": [
    "df_i = df[df['tki'] == index_dict[i][0]]"
   ]
  },
  {
   "cell_type": "code",
   "execution_count": 25,
   "metadata": {},
   "outputs": [
    {
     "data": {
      "text/html": [
       "<div>\n",
       "<style scoped>\n",
       "    .dataframe tbody tr th:only-of-type {\n",
       "        vertical-align: middle;\n",
       "    }\n",
       "\n",
       "    .dataframe tbody tr th {\n",
       "        vertical-align: top;\n",
       "    }\n",
       "\n",
       "    .dataframe thead th {\n",
       "        text-align: right;\n",
       "    }\n",
       "</style>\n",
       "<table border=\"1\" class=\"dataframe\">\n",
       "  <thead>\n",
       "    <tr style=\"text-align: right;\">\n",
       "      <th></th>\n",
       "      <th>tki</th>\n",
       "      <th>mutation</th>\n",
       "      <th>resid</th>\n",
       "      <th>from</th>\n",
       "      <th>to</th>\n",
       "      <th>IC50</th>\n",
       "      <th>ddG_exp</th>\n",
       "    </tr>\n",
       "  </thead>\n",
       "  <tbody>\n",
       "    <tr>\n",
       "      <th>75</th>\n",
       "      <td>gefitinib</td>\n",
       "      <td>Q252H</td>\n",
       "      <td>252</td>\n",
       "      <td>GLN</td>\n",
       "      <td>HIS</td>\n",
       "      <td>230</td>\n",
       "      <td>-0.44</td>\n",
       "    </tr>\n",
       "    <tr>\n",
       "      <th>76</th>\n",
       "      <td>gefitinib</td>\n",
       "      <td>Y253F</td>\n",
       "      <td>253</td>\n",
       "      <td>TYR</td>\n",
       "      <td>PHE</td>\n",
       "      <td>360</td>\n",
       "      <td>-0.17</td>\n",
       "    </tr>\n",
       "    <tr>\n",
       "      <th>77</th>\n",
       "      <td>gefitinib</td>\n",
       "      <td>E255K</td>\n",
       "      <td>255</td>\n",
       "      <td>GLU</td>\n",
       "      <td>LYS</td>\n",
       "      <td>400</td>\n",
       "      <td>-0.11</td>\n",
       "    </tr>\n",
       "    <tr>\n",
       "      <th>78</th>\n",
       "      <td>gefitinib</td>\n",
       "      <td>F317I</td>\n",
       "      <td>317</td>\n",
       "      <td>PHE</td>\n",
       "      <td>ILE</td>\n",
       "      <td>4700</td>\n",
       "      <td>1.35</td>\n",
       "    </tr>\n",
       "    <tr>\n",
       "      <th>79</th>\n",
       "      <td>gefitinib</td>\n",
       "      <td>F317L</td>\n",
       "      <td>317</td>\n",
       "      <td>PHE</td>\n",
       "      <td>LEU</td>\n",
       "      <td>780</td>\n",
       "      <td>0.29</td>\n",
       "    </tr>\n",
       "    <tr>\n",
       "      <th>80</th>\n",
       "      <td>gefitinib</td>\n",
       "      <td>M351T</td>\n",
       "      <td>351</td>\n",
       "      <td>MET</td>\n",
       "      <td>THR</td>\n",
       "      <td>520</td>\n",
       "      <td>0.05</td>\n",
       "    </tr>\n",
       "  </tbody>\n",
       "</table>\n",
       "</div>"
      ],
      "text/plain": [
       "          tki mutation  resid from   to  IC50 ddG_exp\n",
       "75  gefitinib    Q252H    252  GLN  HIS   230   -0.44\n",
       "76  gefitinib    Y253F    253  TYR  PHE   360   -0.17\n",
       "77  gefitinib    E255K    255  GLU  LYS   400   -0.11\n",
       "78  gefitinib    F317I    317  PHE  ILE  4700    1.35\n",
       "79  gefitinib    F317L    317  PHE  LEU   780    0.29\n",
       "80  gefitinib    M351T    351  MET  THR   520    0.05"
      ]
     },
     "execution_count": 25,
     "metadata": {},
     "output_type": "execute_result"
    }
   ],
   "source": [
    "df_i"
   ]
  },
  {
   "cell_type": "code",
   "execution_count": 26,
   "metadata": {},
   "outputs": [
    {
     "name": "stdout",
     "output_type": "stream",
     "text": [
      "gefitinib\n",
      "--> Directory ./mutations_output/2f4j created\n",
      "--> Directory ./mutations_output/2f4j/Q252H created\n"
     ]
    },
    {
     "name": "stderr",
     "output_type": "stream",
     "text": [
      "INFO:utils.openeye:molecule _1                      does not have unique atom names. Generating now...\n",
      "INFO:utils.openeye:molecule _1                      has unique atom names already\n",
      "INFO:root:solvating at 0.15 M using tip3p\n"
     ]
    },
    {
     "ename": "KeyboardInterrupt",
     "evalue": "",
     "output_type": "error",
     "traceback": [
      "\u001b[0;31m---------------------------------------------------------------------------\u001b[0m",
      "\u001b[0;31mKeyboardInterrupt\u001b[0m                         Traceback (most recent call last)",
      "\u001b[0;32m<ipython-input-26-e24796e884df>\u001b[0m in \u001b[0;36m<module>\u001b[0;34m\u001b[0m\n\u001b[1;32m     37\u001b[0m                         \u001b[0mmutate_to\u001b[0m\u001b[0;34m,\u001b[0m\u001b[0;34m\u001b[0m\u001b[0;34m\u001b[0m\u001b[0m\n\u001b[1;32m     38\u001b[0m                         \u001b[0mligand_file\u001b[0m\u001b[0;34m=\u001b[0m\u001b[0;34mf\"{data_path}{protein_name}_{ligand_name}.sdf\"\u001b[0m\u001b[0;34m,\u001b[0m\u001b[0;34m\u001b[0m\u001b[0;34m\u001b[0m\u001b[0m\n\u001b[0;32m---> 39\u001b[0;31m                         \u001b[0mionic_strength\u001b[0m\u001b[0;34m=\u001b[0m\u001b[0;36m0.15\u001b[0m\u001b[0;34m*\u001b[0m\u001b[0munit\u001b[0m\u001b[0;34m.\u001b[0m\u001b[0mmolar\u001b[0m\u001b[0;34m\u001b[0m\u001b[0;34m\u001b[0m\u001b[0m\n\u001b[0m\u001b[1;32m     40\u001b[0m                        )\n\u001b[1;32m     41\u001b[0m \u001b[0;34m\u001b[0m\u001b[0m\n",
      "\u001b[0;32m~/miniconda/envs/ntrk_mutations_and_perses_dev/lib/python3.7/site-packages/perses-0.7.3.dev0-py3.7.egg/perses/app/relative_point_mutation_setup.py\u001b[0m in \u001b[0;36m__init__\u001b[0;34m(self, protein_filename, mutation_chain_id, mutation_residue_id, proposed_residue, phase, conduct_endstate_validation, ligand_file, ligand_index, water_model, ionic_strength, forcefield_files, barostat, forcefield_kwargs, periodic_forcefield_kwargs, nonperiodic_forcefield_kwargs, small_molecule_forcefields, complex_box_dimensions, apo_box_dimensions, **kwargs)\u001b[0m\n\u001b[1;32m    199\u001b[0m \u001b[0;34m\u001b[0m\u001b[0m\n\u001b[1;32m    200\u001b[0m         \u001b[0;31m# Solvate apo and complex...\u001b[0m\u001b[0;34m\u001b[0m\u001b[0;34m\u001b[0m\u001b[0;34m\u001b[0m\u001b[0m\n\u001b[0;32m--> 201\u001b[0;31m         \u001b[0mapo_input\u001b[0m \u001b[0;34m=\u001b[0m \u001b[0mlist\u001b[0m\u001b[0;34m(\u001b[0m\u001b[0mself\u001b[0m\u001b[0;34m.\u001b[0m\u001b[0m_solvate\u001b[0m\u001b[0;34m(\u001b[0m\u001b[0mprotein_topology\u001b[0m\u001b[0;34m,\u001b[0m \u001b[0mprotein_positions\u001b[0m\u001b[0;34m,\u001b[0m \u001b[0mwater_model\u001b[0m\u001b[0;34m,\u001b[0m \u001b[0mphase\u001b[0m\u001b[0;34m,\u001b[0m \u001b[0mionic_strength\u001b[0m\u001b[0;34m,\u001b[0m \u001b[0mapo_box_dimensions\u001b[0m\u001b[0;34m)\u001b[0m\u001b[0;34m)\u001b[0m\u001b[0;34m\u001b[0m\u001b[0;34m\u001b[0m\u001b[0m\n\u001b[0m\u001b[1;32m    202\u001b[0m         \u001b[0minputs\u001b[0m \u001b[0;34m=\u001b[0m \u001b[0;34m[\u001b[0m\u001b[0mapo_input\u001b[0m\u001b[0;34m]\u001b[0m\u001b[0;34m\u001b[0m\u001b[0;34m\u001b[0m\u001b[0m\n\u001b[1;32m    203\u001b[0m         \u001b[0;32mif\u001b[0m \u001b[0mligand_file\u001b[0m\u001b[0;34m:\u001b[0m\u001b[0;34m\u001b[0m\u001b[0;34m\u001b[0m\u001b[0m\n",
      "\u001b[0;32m~/miniconda/envs/ntrk_mutations_and_perses_dev/lib/python3.7/site-packages/perses-0.7.3.dev0-py3.7.egg/perses/app/relative_point_mutation_setup.py\u001b[0m in \u001b[0;36m_solvate\u001b[0;34m(self, topology, positions, water_model, phase, ionic_strength, box_dimensions)\u001b[0m\n\u001b[1;32m    348\u001b[0m         \u001b[0;31m# Canonicalize the solvated positions: turn tuples into np.array\u001b[0m\u001b[0;34m\u001b[0m\u001b[0;34m\u001b[0m\u001b[0;34m\u001b[0m\u001b[0m\n\u001b[1;32m    349\u001b[0m         \u001b[0msolvated_positions\u001b[0m \u001b[0;34m=\u001b[0m \u001b[0munit\u001b[0m\u001b[0;34m.\u001b[0m\u001b[0mquantity\u001b[0m\u001b[0;34m.\u001b[0m\u001b[0mQuantity\u001b[0m\u001b[0;34m(\u001b[0m\u001b[0mvalue\u001b[0m\u001b[0;34m=\u001b[0m\u001b[0mnp\u001b[0m\u001b[0;34m.\u001b[0m\u001b[0marray\u001b[0m\u001b[0;34m(\u001b[0m\u001b[0;34m[\u001b[0m\u001b[0mlist\u001b[0m\u001b[0;34m(\u001b[0m\u001b[0matom_pos\u001b[0m\u001b[0;34m)\u001b[0m \u001b[0;32mfor\u001b[0m \u001b[0matom_pos\u001b[0m \u001b[0;32min\u001b[0m \u001b[0msolvated_positions\u001b[0m\u001b[0;34m.\u001b[0m\u001b[0mvalue_in_unit_system\u001b[0m\u001b[0;34m(\u001b[0m\u001b[0munit\u001b[0m\u001b[0;34m.\u001b[0m\u001b[0mmd_unit_system\u001b[0m\u001b[0;34m)\u001b[0m\u001b[0;34m]\u001b[0m\u001b[0;34m)\u001b[0m\u001b[0;34m,\u001b[0m \u001b[0munit\u001b[0m\u001b[0;34m=\u001b[0m\u001b[0munit\u001b[0m\u001b[0;34m.\u001b[0m\u001b[0mnanometers\u001b[0m\u001b[0;34m)\u001b[0m\u001b[0;34m\u001b[0m\u001b[0;34m\u001b[0m\u001b[0m\n\u001b[0;32m--> 350\u001b[0;31m         \u001b[0msolvated_system\u001b[0m \u001b[0;34m=\u001b[0m \u001b[0mself\u001b[0m\u001b[0;34m.\u001b[0m\u001b[0msystem_generator\u001b[0m\u001b[0;34m.\u001b[0m\u001b[0mcreate_system\u001b[0m\u001b[0;34m(\u001b[0m\u001b[0msolvated_topology\u001b[0m\u001b[0;34m)\u001b[0m\u001b[0;34m\u001b[0m\u001b[0;34m\u001b[0m\u001b[0m\n\u001b[0m\u001b[1;32m    351\u001b[0m \u001b[0;34m\u001b[0m\u001b[0m\n\u001b[1;32m    352\u001b[0m         \u001b[0;32mreturn\u001b[0m \u001b[0msolvated_topology\u001b[0m\u001b[0;34m,\u001b[0m \u001b[0msolvated_positions\u001b[0m\u001b[0;34m,\u001b[0m \u001b[0msolvated_system\u001b[0m\u001b[0;34m\u001b[0m\u001b[0;34m\u001b[0m\u001b[0m\n",
      "\u001b[0;32m~/miniconda/envs/ntrk_mutations_and_perses_dev/lib/python3.7/site-packages/openmmforcefields/generators/system_generators.py\u001b[0m in \u001b[0;36mcreate_system\u001b[0;34m(self, topology, molecules)\u001b[0m\n\u001b[1;32m    325\u001b[0m \u001b[0;34m\u001b[0m\u001b[0m\n\u001b[1;32m    326\u001b[0m         \u001b[0;31m# Modify other forces as requested\u001b[0m\u001b[0;34m\u001b[0m\u001b[0;34m\u001b[0m\u001b[0;34m\u001b[0m\u001b[0m\n\u001b[0;32m--> 327\u001b[0;31m         \u001b[0mself\u001b[0m\u001b[0;34m.\u001b[0m\u001b[0m_modify_forces\u001b[0m\u001b[0;34m(\u001b[0m\u001b[0msystem\u001b[0m\u001b[0;34m)\u001b[0m\u001b[0;34m\u001b[0m\u001b[0;34m\u001b[0m\u001b[0m\n\u001b[0m\u001b[1;32m    328\u001b[0m \u001b[0;34m\u001b[0m\u001b[0m\n\u001b[1;32m    329\u001b[0m         \u001b[0;31m# Post-process the System if requested\u001b[0m\u001b[0;34m\u001b[0m\u001b[0;34m\u001b[0m\u001b[0;34m\u001b[0m\u001b[0m\n",
      "\u001b[0;32m~/miniconda/envs/ntrk_mutations_and_perses_dev/lib/python3.7/site-packages/openmmforcefields/generators/system_generators.py\u001b[0m in \u001b[0;36m_modify_forces\u001b[0;34m(self, system)\u001b[0m\n\u001b[1;32m    279\u001b[0m                     \u001b[0;32mif\u001b[0m \u001b[0;32mnot\u001b[0m \u001b[0mself\u001b[0m\u001b[0;34m.\u001b[0m\u001b[0mexception_epsilons\u001b[0m\u001b[0;34m:\u001b[0m\u001b[0;34m\u001b[0m\u001b[0;34m\u001b[0m\u001b[0m\n\u001b[1;32m    280\u001b[0m                         \u001b[0mepsilon\u001b[0m \u001b[0;34m*=\u001b[0m \u001b[0;36m0\u001b[0m\u001b[0;34m\u001b[0m\u001b[0;34m\u001b[0m\u001b[0m\n\u001b[0;32m--> 281\u001b[0;31m                     \u001b[0mforce\u001b[0m\u001b[0;34m.\u001b[0m\u001b[0msetExceptionParameters\u001b[0m\u001b[0;34m(\u001b[0m\u001b[0mindex\u001b[0m\u001b[0;34m,\u001b[0m \u001b[0mp1\u001b[0m\u001b[0;34m,\u001b[0m \u001b[0mp2\u001b[0m\u001b[0;34m,\u001b[0m \u001b[0mchargeProd\u001b[0m\u001b[0;34m,\u001b[0m \u001b[0msigma\u001b[0m\u001b[0;34m,\u001b[0m \u001b[0mepsilon\u001b[0m\u001b[0;34m)\u001b[0m\u001b[0;34m\u001b[0m\u001b[0;34m\u001b[0m\u001b[0m\n\u001b[0m\u001b[1;32m    282\u001b[0m             \u001b[0;32melif\u001b[0m \u001b[0mforce\u001b[0m\u001b[0;34m.\u001b[0m\u001b[0m__class__\u001b[0m\u001b[0;34m.\u001b[0m\u001b[0m__name__\u001b[0m \u001b[0;34m==\u001b[0m \u001b[0;34m'PeriodicTorsionForce'\u001b[0m\u001b[0;34m:\u001b[0m\u001b[0;34m\u001b[0m\u001b[0;34m\u001b[0m\u001b[0m\n\u001b[1;32m    283\u001b[0m                 \u001b[0;32mfor\u001b[0m \u001b[0mindex\u001b[0m \u001b[0;32min\u001b[0m \u001b[0mrange\u001b[0m\u001b[0;34m(\u001b[0m\u001b[0mforce\u001b[0m\u001b[0;34m.\u001b[0m\u001b[0mgetNumTorsions\u001b[0m\u001b[0;34m(\u001b[0m\u001b[0;34m)\u001b[0m\u001b[0;34m)\u001b[0m\u001b[0;34m:\u001b[0m\u001b[0;34m\u001b[0m\u001b[0;34m\u001b[0m\u001b[0m\n",
      "\u001b[0;32m~/miniconda/envs/ntrk_mutations_and_perses_dev/lib/python3.7/site-packages/simtk/openmm/openmm.py\u001b[0m in \u001b[0;36msetExceptionParameters\u001b[0;34m(self, index, particle1, particle2, chargeProd, sigma, epsilon)\u001b[0m\n\u001b[1;32m  19563\u001b[0m             \u001b[0mthe\u001b[0m \u001b[0mepsilon\u001b[0m \u001b[0mparameter\u001b[0m \u001b[0mof\u001b[0m \u001b[0mthe\u001b[0m \u001b[0mLennard\u001b[0m\u001b[0;34m-\u001b[0m\u001b[0mJones\u001b[0m \u001b[0mpotential\u001b[0m \u001b[0;34m(\u001b[0m\u001b[0mcorresponding\u001b[0m \u001b[0mto\u001b[0m \u001b[0mthe\u001b[0m \u001b[0mwell\u001b[0m \u001b[0mdepth\u001b[0m \u001b[0mof\u001b[0m \u001b[0mthe\u001b[0m \u001b[0mvan\u001b[0m \u001b[0mder\u001b[0m \u001b[0mWaals\u001b[0m \u001b[0minteraction\u001b[0m\u001b[0;34m)\u001b[0m\u001b[0;34m,\u001b[0m \u001b[0mmeasured\u001b[0m \u001b[0;32min\u001b[0m \u001b[0mkJ\u001b[0m\u001b[0;34m/\u001b[0m\u001b[0mmol\u001b[0m\u001b[0;34m\u001b[0m\u001b[0;34m\u001b[0m\u001b[0m\n\u001b[1;32m  19564\u001b[0m         \"\"\"\n\u001b[0;32m> 19565\u001b[0;31m         \u001b[0;32mreturn\u001b[0m \u001b[0m_openmm\u001b[0m\u001b[0;34m.\u001b[0m\u001b[0mNonbondedForce_setExceptionParameters\u001b[0m\u001b[0;34m(\u001b[0m\u001b[0mself\u001b[0m\u001b[0;34m,\u001b[0m \u001b[0mindex\u001b[0m\u001b[0;34m,\u001b[0m \u001b[0mparticle1\u001b[0m\u001b[0;34m,\u001b[0m \u001b[0mparticle2\u001b[0m\u001b[0;34m,\u001b[0m \u001b[0mchargeProd\u001b[0m\u001b[0;34m,\u001b[0m \u001b[0msigma\u001b[0m\u001b[0;34m,\u001b[0m \u001b[0mepsilon\u001b[0m\u001b[0;34m)\u001b[0m\u001b[0;34m\u001b[0m\u001b[0;34m\u001b[0m\u001b[0m\n\u001b[0m\u001b[1;32m  19566\u001b[0m \u001b[0;34m\u001b[0m\u001b[0m\n\u001b[1;32m  19567\u001b[0m \u001b[0;34m\u001b[0m\u001b[0m\n",
      "\u001b[0;32m~/miniconda/envs/ntrk_mutations_and_perses_dev/lib/python3.7/site-packages/simtk/unit/quantity.py\u001b[0m in \u001b[0;36mvalue_in_unit_system\u001b[0;34m(self, system)\u001b[0m\n\u001b[1;32m    629\u001b[0m         \u001b[0mReturns\u001b[0m \u001b[0mthe\u001b[0m \u001b[0munderlying\u001b[0m \u001b[0mvalue\u001b[0m \u001b[0mtype\u001b[0m\u001b[0;34m,\u001b[0m \u001b[0mafter\u001b[0m \u001b[0mconversion\u001b[0m \u001b[0mto\u001b[0m \u001b[0ma\u001b[0m \u001b[0mparticular\u001b[0m \u001b[0munit\u001b[0m \u001b[0msystem\u001b[0m\u001b[0;34m.\u001b[0m\u001b[0;34m\u001b[0m\u001b[0;34m\u001b[0m\u001b[0m\n\u001b[1;32m    630\u001b[0m         \"\"\"\n\u001b[0;32m--> 631\u001b[0;31m         \u001b[0mresult\u001b[0m \u001b[0;34m=\u001b[0m \u001b[0mself\u001b[0m\u001b[0;34m.\u001b[0m\u001b[0min_unit_system\u001b[0m\u001b[0;34m(\u001b[0m\u001b[0msystem\u001b[0m\u001b[0;34m)\u001b[0m\u001b[0;34m\u001b[0m\u001b[0;34m\u001b[0m\u001b[0m\n\u001b[0m\u001b[1;32m    632\u001b[0m         \u001b[0;32mif\u001b[0m \u001b[0mis_quantity\u001b[0m\u001b[0;34m(\u001b[0m\u001b[0mresult\u001b[0m\u001b[0;34m)\u001b[0m\u001b[0;34m:\u001b[0m\u001b[0;34m\u001b[0m\u001b[0;34m\u001b[0m\u001b[0m\n\u001b[1;32m    633\u001b[0m             \u001b[0;32mreturn\u001b[0m \u001b[0mresult\u001b[0m\u001b[0;34m.\u001b[0m\u001b[0m_value\u001b[0m\u001b[0;34m\u001b[0m\u001b[0;34m\u001b[0m\u001b[0m\n",
      "\u001b[0;32m~/miniconda/envs/ntrk_mutations_and_perses_dev/lib/python3.7/site-packages/simtk/unit/quantity.py\u001b[0m in \u001b[0;36min_unit_system\u001b[0;34m(self, system)\u001b[0m\n\u001b[1;32m    639\u001b[0m         \u001b[0mReturns\u001b[0m \u001b[0ma\u001b[0m \u001b[0mnew\u001b[0m \u001b[0mQuantity\u001b[0m \u001b[0mequal\u001b[0m \u001b[0mto\u001b[0m \u001b[0mthis\u001b[0m \u001b[0mone\u001b[0m\u001b[0;34m,\u001b[0m \u001b[0mexpressed\u001b[0m \u001b[0;32min\u001b[0m \u001b[0ma\u001b[0m \u001b[0mparticular\u001b[0m \u001b[0munit\u001b[0m \u001b[0msystem\u001b[0m\u001b[0;34m.\u001b[0m\u001b[0;34m\u001b[0m\u001b[0;34m\u001b[0m\u001b[0m\n\u001b[1;32m    640\u001b[0m         \"\"\"\n\u001b[0;32m--> 641\u001b[0;31m         \u001b[0mnew_units\u001b[0m \u001b[0;34m=\u001b[0m \u001b[0msystem\u001b[0m\u001b[0;34m.\u001b[0m\u001b[0mexpress_unit\u001b[0m\u001b[0;34m(\u001b[0m\u001b[0mself\u001b[0m\u001b[0;34m.\u001b[0m\u001b[0munit\u001b[0m\u001b[0;34m)\u001b[0m\u001b[0;34m\u001b[0m\u001b[0;34m\u001b[0m\u001b[0m\n\u001b[0m\u001b[1;32m    642\u001b[0m         \u001b[0mf\u001b[0m \u001b[0;34m=\u001b[0m \u001b[0mself\u001b[0m\u001b[0;34m.\u001b[0m\u001b[0munit\u001b[0m\u001b[0;34m.\u001b[0m\u001b[0mconversion_factor_to\u001b[0m\u001b[0;34m(\u001b[0m\u001b[0mnew_units\u001b[0m\u001b[0;34m)\u001b[0m\u001b[0;34m\u001b[0m\u001b[0;34m\u001b[0m\u001b[0m\n\u001b[1;32m    643\u001b[0m         \u001b[0;32mreturn\u001b[0m \u001b[0mself\u001b[0m\u001b[0;34m.\u001b[0m\u001b[0m_change_units_with_factor\u001b[0m\u001b[0;34m(\u001b[0m\u001b[0mnew_units\u001b[0m\u001b[0;34m,\u001b[0m \u001b[0mf\u001b[0m\u001b[0;34m)\u001b[0m\u001b[0;34m\u001b[0m\u001b[0;34m\u001b[0m\u001b[0m\n",
      "\u001b[0;31mKeyboardInterrupt\u001b[0m: "
     ]
    }
   ],
   "source": [
    "data_path = \"../data/abl_complexes/\"\n",
    "out_dir = './mutations_output/'\n",
    "\n",
    "aa = {'CYS': 'C', 'ASP': 'D', 'SER': 'S', 'GLN': 'Q', 'LYS': 'K',\n",
    "     'ILE': 'I', 'PRO': 'P', 'THR': 'T', 'PHE': 'F', 'ASN': 'N', \n",
    "     'GLY': 'G', 'HIS': 'H', 'LEU': 'L', 'ARG': 'R', 'TRP': 'W', \n",
    "     'ALA': 'A', 'VAL':'V', 'GLU': 'E', 'TYR': 'Y', 'MET': 'M'}\n",
    "\n",
    "\n",
    "\n",
    "for index, row in df_i.iterrows():\n",
    "    \n",
    "    print(row['tki'])\n",
    "\n",
    "    ligand_name = row['tki']\n",
    "    protein_name = lig_prot[ligand_name]\n",
    "    resid = str(row['resid'])  # The resid has to be a string for PointMutationExecutor input\n",
    "    mutate_from = row['from']\n",
    "    mutate_to = row['to']\n",
    "    \n",
    "    # Create protein directory\n",
    "    output_prefix_protein = f\"./mutations_output/{protein_name}\"\n",
    "    if not os.path.exists(output_prefix_protein):\n",
    "        os.makedirs(output_prefix_protein)\n",
    "        print(f\"--> Directory {output_prefix_protein} created\")\n",
    "    \n",
    "    # Create protein mutant directory\n",
    "    output_prefix_mutant = f\"./mutations_output/{protein_name}/{aa[mutate_from]}{resid}{aa[mutate_to]}\"\n",
    "    if not os.path.exists(output_prefix_mutant):\n",
    "        os.makedirs(output_prefix_mutant)\n",
    "        print(f\"--> Directory {output_prefix_mutant} created\")\n",
    "\n",
    "    # make the system\n",
    "    solvent_delivery = PointMutationExecutor(f\"{data_path}{protein_name}.pdb\", \n",
    "                        '1', # First and only protein chain \n",
    "                        resid, \n",
    "                        mutate_to,\n",
    "                        ligand_file=f\"{data_path}{protein_name}_{ligand_name}.sdf\",\n",
    "                        ionic_strength=0.15*unit.molar\n",
    "                       )\n",
    "    \n",
    "    # make image map of the transformation\n",
    "    render_protein_residue_atom_mapping(solvent_delivery.get_apo_htf()._topology_proposal,\n",
    "                                        f\"{output_prefix_mutant}/{protein_name}_{ligand_name}_{aa[mutate_from]}{resid}{aa[mutate_to]}_apo_map.png\")\n",
    "\n",
    "    # pickle the output and save\n",
    "    pickle.dump(solvent_delivery.get_apo_htf(),\n",
    "                open(os.path.join(output_prefix_mutant,\n",
    "                                  f\"{protein_name}_{ligand_name}_{aa[mutate_from]}{resid}{aa[mutate_to]}_apo.pickle\"), \"wb\" ))\n",
    "\n",
    "    pickle.dump(solvent_delivery.get_complex_htf(),\n",
    "                open(os.path.join(output_prefix_mutant,\n",
    "                                  f\"{protein_name}_{ligand_name}_{aa[mutate_from]}{resid}{aa[mutate_to]}_complex.pickle\"), \"wb\" ))\n",
    "\n",
    "\n",
    "    # save the coordinates to of apo and complex to check the geometry of the transformation\n",
    "    htfs_t = [solvent_delivery.get_apo_htf(), solvent_delivery.get_complex_htf()]\n",
    "\n",
    "    top_old = md.Topology.from_openmm(htfs_t[0]._topology_proposal.old_topology)\n",
    "    top_new = md.Topology.from_openmm(htfs_t[0]._topology_proposal.new_topology)\n",
    "    traj = md.Trajectory(np.array(htfs_t[0].old_positions(htfs_t[0].hybrid_positions)), top_old)\n",
    "    traj.save(f\"{output_prefix_mutant}/{protein_name}_{ligand_name}_{aa[mutate_from]}{resid}{aa[mutate_to]}_apo_old.pdb\")\n",
    "    traj = md.Trajectory(np.array(htfs_t[0].new_positions(htfs_t[0].hybrid_positions)), top_new)\n",
    "    traj.save(f\"{output_prefix_mutant}/{protein_name}_{ligand_name}_{aa[mutate_from]}{resid}{aa[mutate_to]}_apo_new.pdb\")\n",
    "\n",
    "    top_old = md.Topology.from_openmm(htfs_t[1]._topology_proposal.old_topology)\n",
    "    top_new = md.Topology.from_openmm(htfs_t[1]._topology_proposal.new_topology)\n",
    "    traj = md.Trajectory(np.array(htfs_t[1].old_positions(htfs_t[1].hybrid_positions)), top_old)\n",
    "    traj.save(f\"{output_prefix_mutant}/{protein_name}_{ligand_name}_{aa[mutate_from]}{resid}{aa[mutate_to]}_complex_old.pdb\")\n",
    "    traj = md.Trajectory(np.array(htfs_t[1].new_positions(htfs_t[1].hybrid_positions)), top_new)\n",
    "    traj.save(f\"{output_prefix_mutant}/{protein_name}_{ligand_name}_{aa[mutate_from]}{resid}{aa[mutate_to]}_complex_new.pdb\")"
   ]
  },
  {
   "cell_type": "code",
   "execution_count": null,
   "metadata": {},
   "outputs": [],
   "source": []
  }
 ],
 "metadata": {
  "kernelspec": {
   "display_name": "Python 3",
   "language": "python",
   "name": "python3"
  },
  "language_info": {
   "codemirror_mode": {
    "name": "ipython",
    "version": 3
   },
   "file_extension": ".py",
   "mimetype": "text/x-python",
   "name": "python",
   "nbconvert_exporter": "python",
   "pygments_lexer": "ipython3",
   "version": "3.7.8"
  }
 },
 "nbformat": 4,
 "nbformat_minor": 4
}
