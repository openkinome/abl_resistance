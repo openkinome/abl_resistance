{
 "cells": [
  {
   "cell_type": "markdown",
   "metadata": {},
   "source": [
    "# aC helix descriptors"
   ]
  },
  {
   "cell_type": "markdown",
   "metadata": {},
   "source": [
    "This notebook aims to identify descriptors of aC helix conformations that can be used to bias SAMS simulations. The [KLIFS database](https://klifs.net/index.php) will be queried for available kinase structures and analyzed for 5 distances connecting C alpha atoms of the aC helix and the hinge region. These distances were picked, since the hinge region is enclosed in the ATP binding pocket and may be stable enough to pull the aC helix closer to the ATP pocket without altering the overall structure of the kinase (aC helix out -> in). Finally, mean and standard deviations of these distances are calculated that are the basis for adding bias to SAMS simulations."
   ]
  },
  {
   "cell_type": "code",
   "execution_count": 1,
   "metadata": {},
   "outputs": [
    {
     "name": "stderr",
     "output_type": "stream",
     "text": [
      "INFO:opencadd.databases.klifs.api:If you want to see an non-truncated version of the DataFrames in this module, use `pd.set_option('display.max_columns', 50)` in your notebook.\n"
     ]
    }
   ],
   "source": [
    "import pathlib\n",
    "\n",
    "from appdirs import user_cache_dir\n",
    "import MDAnalysis as mda\n",
    "from opencadd.databases.klifs import setup_remote\n",
    "from openeye import oechem\n",
    "from tqdm import tqdm"
   ]
  },
  {
   "cell_type": "code",
   "execution_count": 2,
   "metadata": {},
   "outputs": [
    {
     "name": "stderr",
     "output_type": "stream",
     "text": [
      "INFO:opencadd.databases.klifs.api:Set up remote session...\n",
      "INFO:opencadd.databases.klifs.api:Remote session is ready!\n"
     ]
    }
   ],
   "source": [
    "# Set up remote session\n",
    "remote = setup_remote()"
   ]
  },
  {
   "cell_type": "code",
   "execution_count": 3,
   "metadata": {},
   "outputs": [
    {
     "name": "stdout",
     "output_type": "stream",
     "text": [
      "Number of PDB entries: 5327\n",
      "Number of KLIFS entries: 11485\n"
     ]
    }
   ],
   "source": [
    "# retrieve kinase structures\n",
    "kinase_df = remote.structures.all_structures()\n",
    "# remove NMR structures\n",
    "kinase_df = kinase_df[kinase_df[\"structure.resolution\"].notna()]\n",
    "print(\"Number of PDB entries:\", len(set(kinase_df[\"structure.pdb_id\"])))\n",
    "print(\"Number of KLIFS entries:\", len(kinase_df))"
   ]
  },
  {
   "cell_type": "code",
   "execution_count": 4,
   "metadata": {},
   "outputs": [],
   "source": [
    "def klifs_to_pdb_resids(klifs_resids, klifs_structure_id):\n",
    "    \"\"\"\n",
    "    Convert klifs pocket resids into the corresponding pdb resids of the \n",
    "    specified klifs structure.\n",
    "    \n",
    "    Parameters\n",
    "    ----------\n",
    "    klifs_resids: list of int\n",
    "        KLIFS pocket residue ids.\n",
    "    klifs_structure_id: int\n",
    "        KLIFS structure ID of the structure to get the corresponding pdb resids for.\n",
    "        \n",
    "    Returns\n",
    "    -------\n",
    "    convert_dict: dict\n",
    "        The dictionary with klifs resids as keys and pdb resids as values.\n",
    "    \"\"\"    \n",
    "    pocket = remote.pockets.by_structure_klifs_id(klifs_structure_id)\n",
    "    pdb_resids = pocket[pocket[\"residue.klifs_id\"].isin(klifs_resids)][\"residue.id\"].to_list()\n",
    "    convert_dict = {klifs_resid: int(pdb_resid) for klifs_resid, pdb_resid in zip(klifs_resids, pdb_resids) if pdb_resid != \"_\"}\n",
    "    return convert_dict"
   ]
  },
  {
   "cell_type": "code",
   "execution_count": 5,
   "metadata": {},
   "outputs": [],
   "source": [
    "def distance(x, y):\n",
    "    \"\"\" This function returns the euclidean distance between two point in three dimensional space. \"\"\"\n",
    "    return ((x[0] - y[0]) ** 2 + (x[1] - y[1]) ** 2 + (x[2] - y[2]) ** 2) ** 0.5"
   ]
  },
  {
   "cell_type": "markdown",
   "metadata": {},
   "source": [
    "Residues of the aC helix (20, 22, 24, 26, 28) and the hinge region (45, 46, 47, 48, 49) are conserved among all protein kinases and hence, should be applicable for SAMS simulations of most protein kinases of interest ([KLIFS residues](https://klifs.net/faq.php))."
   ]
  },
  {
   "cell_type": "code",
   "execution_count": 6,
   "metadata": {},
   "outputs": [],
   "source": [
    "critical_residues = [20, 22, 24, 26, 28, 45, 46, 47, 48, 49]\n",
    "critical_distances = [\"20_49\", \"22_48\", \"24_47\", \"26_46\", \"28_45\"]\n",
    "conformations = [\"out\", \"out-like\", \"in\"]"
   ]
  },
  {
   "cell_type": "code",
   "execution_count": 7,
   "metadata": {},
   "outputs": [
    {
     "name": "stderr",
     "output_type": "stream",
     "text": [
      "  0%|          | 2/11136 [00:01<2:10:40,  1.42it/s]/home/david/miniconda3/envs/kinoml/lib/python3.7/site-packages/MDAnalysis/topology/guessers.py:80: UserWarning: Failed to guess the mass for the following atom types: MN\n",
      "  warnings.warn(\"Failed to guess the mass for the following atom types: {}\".format(atom_type))\n",
      "  4%|▍         | 481/11136 [03:37<59:56,  2.96it/s]  /home/david/miniconda3/envs/kinoml/lib/python3.7/site-packages/MDAnalysis/topology/guessers.py:80: UserWarning: Failed to guess the mass for the following atom types: AL\n",
      "  warnings.warn(\"Failed to guess the mass for the following atom types: {}\".format(atom_type))\n",
      "  5%|▍         | 533/11136 [04:00<1:19:37,  2.22it/s]/home/david/miniconda3/envs/kinoml/lib/python3.7/site-packages/MDAnalysis/topology/guessers.py:80: UserWarning: Failed to guess the mass for the following atom types: RU\n",
      "  warnings.warn(\"Failed to guess the mass for the following atom types: {}\".format(atom_type))\n",
      "  5%|▌         | 581/11136 [04:16<1:09:03,  2.55it/s]/home/david/miniconda3/envs/kinoml/lib/python3.7/site-packages/MDAnalysis/topology/guessers.py:80: UserWarning: Failed to guess the mass for the following atom types: SE\n",
      "  warnings.warn(\"Failed to guess the mass for the following atom types: {}\".format(atom_type))\n",
      "  8%|▊         | 934/11136 [06:29<37:59,  4.48it/s]  /home/david/miniconda3/envs/kinoml/lib/python3.7/site-packages/MDAnalysis/topology/guessers.py:80: UserWarning: Failed to guess the mass for the following atom types: LP\n",
      "  warnings.warn(\"Failed to guess the mass for the following atom types: {}\".format(atom_type))\n",
      "/home/david/miniconda3/envs/kinoml/lib/python3.7/site-packages/MDAnalysis/topology/PDBParser.py:327: UserWarning: Invalid elements found in the PDB file, elements attributes will not be populated.\n",
      "  warnings.warn(\"Invalid elements found in the PDB file, \"\n",
      " 12%|█▏        | 1296/11136 [08:02<42:13,  3.88it/s]  /home/david/miniconda3/envs/kinoml/lib/python3.7/site-packages/MDAnalysis/topology/guessers.py:80: UserWarning: Failed to guess the mass for the following atom types: HG\n",
      "  warnings.warn(\"Failed to guess the mass for the following atom types: {}\".format(atom_type))\n",
      " 12%|█▏        | 1379/11136 [08:22<36:46,  4.42it/s]  /home/david/miniconda3/envs/kinoml/lib/python3.7/site-packages/MDAnalysis/topology/guessers.py:80: UserWarning: Failed to guess the mass for the following atom types: OS\n",
      "  warnings.warn(\"Failed to guess the mass for the following atom types: {}\".format(atom_type))\n",
      " 14%|█▍        | 1601/11136 [09:24<34:09,  4.65it/s]  "
     ]
    },
    {
     "name": "stdout",
     "output_type": "stream",
     "text": [
      "No atom matches for structure 9072 with selection for klifs resid 49 and name CA ...\n"
     ]
    },
    {
     "name": "stderr",
     "output_type": "stream",
     "text": [
      " 20%|██        | 2262/11136 [12:43<30:50,  4.80it/s]  "
     ]
    },
    {
     "name": "stdout",
     "output_type": "stream",
     "text": [
      "No atom matches for structure 3929 with selection for klifs resid 20 and name CA ...\n"
     ]
    },
    {
     "name": "stderr",
     "output_type": "stream",
     "text": [
      " 20%|██        | 2273/11136 [12:45<35:14,  4.19it/s]"
     ]
    },
    {
     "name": "stdout",
     "output_type": "stream",
     "text": [
      "No atom matches for structure 3910 with selection for klifs resid 20 and name CA ...\n"
     ]
    },
    {
     "name": "stderr",
     "output_type": "stream",
     "text": [
      " 25%|██▌       | 2788/11136 [15:04<27:11,  5.12it/s]  "
     ]
    },
    {
     "name": "stdout",
     "output_type": "stream",
     "text": [
      "No atom matches for structure 4468 with selection for klifs resid 20 and name CA ...\n"
     ]
    },
    {
     "name": "stderr",
     "output_type": "stream",
     "text": [
      " 29%|██▊       | 3186/11136 [17:06<35:09,  3.77it/s]  "
     ]
    },
    {
     "name": "stdout",
     "output_type": "stream",
     "text": [
      "No atom matches for structure 5529 with selection for klifs resid 22 and name CA ...\n"
     ]
    },
    {
     "name": "stderr",
     "output_type": "stream",
     "text": [
      " 33%|███▎      | 3640/11136 [19:18<34:33,  3.61it/s]  "
     ]
    },
    {
     "name": "stdout",
     "output_type": "stream",
     "text": [
      "No atom matches for structure 9826 with selection for klifs resid 22 and name CA ...\n"
     ]
    },
    {
     "name": "stderr",
     "output_type": "stream",
     "text": [
      " 36%|███▋      | 4050/11136 [21:27<30:31,  3.87it/s]  /home/david/miniconda3/envs/kinoml/lib/python3.7/site-packages/MDAnalysis/topology/guessers.py:80: UserWarning: Failed to guess the mass for the following atom types: CO\n",
      "  warnings.warn(\"Failed to guess the mass for the following atom types: {}\".format(atom_type))\n",
      " 38%|███▊      | 4213/11136 [22:21<31:10,  3.70it/s]  /home/david/miniconda3/envs/kinoml/lib/python3.7/site-packages/MDAnalysis/topology/guessers.py:80: UserWarning: Failed to guess the mass for the following atom types: NI\n",
      "  warnings.warn(\"Failed to guess the mass for the following atom types: {}\".format(atom_type))\n",
      " 40%|████      | 4455/11136 [23:29<27:38,  4.03it/s]"
     ]
    },
    {
     "name": "stdout",
     "output_type": "stream",
     "text": [
      "No atom matches for structure 4648 with selection for klifs resid 20 and name CA ...\n"
     ]
    },
    {
     "name": "stderr",
     "output_type": "stream",
     "text": [
      " 41%|████      | 4530/11136 [24:03<36:32,  3.01it/s]  "
     ]
    },
    {
     "name": "stdout",
     "output_type": "stream",
     "text": [
      "No atom matches for structure 3446 with selection for klifs resid 28 and name CA ...\n"
     ]
    },
    {
     "name": "stderr",
     "output_type": "stream",
     "text": [
      " 45%|████▍     | 4975/11136 [26:12<24:29,  4.19it/s]  /home/david/miniconda3/envs/kinoml/lib/python3.7/site-packages/MDAnalysis/topology/guessers.py:80: UserWarning: Failed to guess the mass for the following atom types: AS\n",
      "  warnings.warn(\"Failed to guess the mass for the following atom types: {}\".format(atom_type))\n",
      " 47%|████▋     | 5236/11136 [27:15<21:25,  4.59it/s]  "
     ]
    },
    {
     "name": "stdout",
     "output_type": "stream",
     "text": [
      "No atom matches for structure 12320 with selection for klifs resid 26 and name CA ...\n"
     ]
    },
    {
     "name": "stderr",
     "output_type": "stream",
     "text": [
      " 52%|█████▏    | 5806/11136 [29:38<19:04,  4.66it/s]  /home/david/miniconda3/envs/kinoml/lib/python3.7/site-packages/MDAnalysis/topology/guessers.py:80: UserWarning: Failed to guess the mass for the following atom types: AU\n",
      "  warnings.warn(\"Failed to guess the mass for the following atom types: {}\".format(atom_type))\n",
      " 55%|█████▌    | 6164/11136 [31:16<19:27,  4.26it/s]  /home/david/miniconda3/envs/kinoml/lib/python3.7/site-packages/MDAnalysis/topology/guessers.py:80: UserWarning: Failed to guess the mass for the following atom types: CD\n",
      "  warnings.warn(\"Failed to guess the mass for the following atom types: {}\".format(atom_type))\n",
      " 61%|██████    | 6782/11136 [34:10<27:10,  2.67it/s]  "
     ]
    },
    {
     "name": "stdout",
     "output_type": "stream",
     "text": [
      "No atom matches for structure 9533 with selection for klifs resid 45 and name CA ...\n"
     ]
    },
    {
     "name": "stderr",
     "output_type": "stream",
     "text": [
      " 77%|███████▋  | 8611/11136 [42:40<09:11,  4.58it/s]  "
     ]
    },
    {
     "name": "stdout",
     "output_type": "stream",
     "text": [
      "No atom matches for structure 3368 with selection for klifs resid 45 and name CA ...\n"
     ]
    },
    {
     "name": "stderr",
     "output_type": "stream",
     "text": [
      " 96%|█████████▋| 10737/11136 [51:30<01:47,  3.72it/s] /home/david/miniconda3/envs/kinoml/lib/python3.7/site-packages/MDAnalysis/topology/guessers.py:80: UserWarning: Failed to guess the mass for the following atom types: BA\n",
      "  warnings.warn(\"Failed to guess the mass for the following atom types: {}\".format(atom_type))\n",
      " 96%|█████████▋| 10740/11136 [51:31<01:45,  3.75it/s]/home/david/miniconda3/envs/kinoml/lib/python3.7/site-packages/MDAnalysis/topology/guessers.py:80: UserWarning: Failed to guess the mass for the following atom types: SR\n",
      "  warnings.warn(\"Failed to guess the mass for the following atom types: {}\".format(atom_type))\n",
      "100%|██████████| 11136/11136 [54:16<00:00,  3.42it/s]\n"
     ]
    }
   ],
   "source": [
    "directory = pathlib.Path(user_cache_dir()) / \"klifs_structures\"\n",
    "directory.mkdir(parents=True, exist_ok=True)\n",
    "distance_dict = {conformation: {critical_distance: [] \n",
    "                                for critical_distance in critical_distances} \n",
    "                 for conformation in conformations}\n",
    "complete_df = kinase_df[(kinase_df[\"structure.dfg\"] != \"na\") & \n",
    "                        (kinase_df[\"structure.ac_helix\"] != \"na\")]\n",
    "complete_df = complete_df[~complete_df[\"structure.pdb_id\"].isin([\"6pjx\"])] # remove problematic structures\n",
    "for index, structure in tqdm(complete_df.iterrows(), total=complete_df.shape[0]):\n",
    "    path = directory / f\"{structure['structure.klifs_id']}.pdb\"\n",
    "    if not path.is_file():\n",
    "        pdb_text = remote.coordinates.to_text(structure[\"structure.klifs_id\"], \n",
    "                                              extension=\"pdb\")\n",
    "        with open(path, \"w\") as wf:\n",
    "            wf.write(pdb_text)\n",
    "    pdb_structure = mda.Universe(path, guess_masses=False)\n",
    "    klifs_to_pdb_dict = klifs_to_pdb_resids(critical_residues, \n",
    "                                            structure[\"structure.klifs_id\"])\n",
    "    if len(klifs_to_pdb_dict) == len(critical_residues):\n",
    "        not_unique_atoms = False\n",
    "        for critical_distance in critical_distances:\n",
    "            residue_pair = critical_distance.split(\"_\")\n",
    "            coords1 = pdb_structure.select_atoms(\n",
    "                f\"resid {klifs_to_pdb_dict[int(residue_pair[0])]} and name CA\").positions\n",
    "            if len(coords1) == 0:\n",
    "                print(f\"No atom matches for structure {structure['structure.klifs_id']} with selection for klifs resid {residue_pair[0]} and name CA ...\")\n",
    "                break\n",
    "            elif len(coords1) == 1:\n",
    "                coords1 = coords1[0]\n",
    "            else:\n",
    "                not_unique_atoms = True\n",
    "                print(f\"Multiple atoms match selection for klifs resid {residue_pair[0]} and name CA ...\")\n",
    "                break\n",
    "            coords2 = pdb_structure.select_atoms(\n",
    "                f\"resid {klifs_to_pdb_dict[int(residue_pair[1])]} and name CA\").positions\n",
    "            if len(coords2) == 0:\n",
    "                print(f\"No atom matches for structure {structure['structure.klifs_id']} with selection for klifs resid {residue_pair[1]} and name CA ...\")\n",
    "                break\n",
    "            elif len(coords2) == 1:\n",
    "                coords2 = coords2[0]\n",
    "            else:\n",
    "                not_unique_atoms = True\n",
    "                print(f\"Multiple atoms match selection for klifs resid {residue_pair[1]} and name CA ...\")\n",
    "                break\n",
    "            distance_dict[structure[\"structure.ac_helix\"]][critical_distance].append(distance(coords1, coords2))\n",
    "        if not_unique_atoms:\n",
    "            break"
   ]
  },
  {
   "cell_type": "code",
   "execution_count": 8,
   "metadata": {},
   "outputs": [],
   "source": [
    "def mean(data):\n",
    "    \"\"\" This function returns the arithmetic mean. \"\"\"\n",
    "    return sum(data) / len(data)\n",
    "def squared_deviations_from_mean(data):\n",
    "    \"\"\" This function returns the squared deviations from mean. \"\"\"\n",
    "    c = mean(data)\n",
    "    return sum((x - c) ** 2 for x in data)\n",
    "\n",
    "\n",
    "def standard_deviation(data):\n",
    "    \"\"\" This functions returns the population standard deviation. \"\"\"\n",
    "    return (squared_deviations_from_mean(data) / len(data)) ** 0.5"
   ]
  },
  {
   "cell_type": "code",
   "execution_count": 9,
   "metadata": {},
   "outputs": [],
   "source": [
    "statistics_dict = {conformation: {critical_distance: {} for critical_distance in critical_distances} for conformation in [\"out\", \"out-like\", \"in\"]}"
   ]
  },
  {
   "cell_type": "code",
   "execution_count": 10,
   "metadata": {},
   "outputs": [],
   "source": [
    "for conformation in conformations:\n",
    "    for critical_distance in critical_distances:\n",
    "        statistics_dict[conformation][critical_distance][\"mean\"] = mean(distance_dict[conformation][critical_distance])\n",
    "        statistics_dict[conformation][critical_distance][\"standard_deviation\"] = standard_deviation(distance_dict[conformation][critical_distance])"
   ]
  },
  {
   "cell_type": "code",
   "execution_count": 11,
   "metadata": {},
   "outputs": [
    {
     "data": {
      "text/plain": [
       "{'out': {'20_49': {'mean': 29.388096876141358,\n",
       "   'standard_deviation': 2.3639302147587578},\n",
       "  '22_48': {'mean': 23.618174779749292,\n",
       "   'standard_deviation': 1.571313107813831},\n",
       "  '24_47': {'mean': 20.18941644703819,\n",
       "   'standard_deviation': 2.126781989616121},\n",
       "  '26_46': {'mean': 16.37652998536413,\n",
       "   'standard_deviation': 1.6903113654026147},\n",
       "  '28_45': {'mean': 10.825879549548887,\n",
       "   'standard_deviation': 1.7518496321605705}},\n",
       " 'out-like': {'20_49': {'mean': 26.505665670276603,\n",
       "   'standard_deviation': 1.5053202767038916},\n",
       "  '22_48': {'mean': 22.85381628348522,\n",
       "   'standard_deviation': 1.3242462025428903},\n",
       "  '24_47': {'mean': 17.876768974216663,\n",
       "   'standard_deviation': 1.0356373490369941},\n",
       "  '26_46': {'mean': 16.604565303773455,\n",
       "   'standard_deviation': 1.0961141455411763},\n",
       "  '28_45': {'mean': 9.804295389753715,\n",
       "   'standard_deviation': 0.6940670233499328}},\n",
       " 'in': {'20_49': {'mean': 26.076600918421665,\n",
       "   'standard_deviation': 2.1457908171117595},\n",
       "  '22_48': {'mean': 22.401954192537403,\n",
       "   'standard_deviation': 1.205725551536237},\n",
       "  '24_47': {'mean': 17.211810873065566,\n",
       "   'standard_deviation': 0.9649386034060226},\n",
       "  '26_46': {'mean': 16.443574794180872,\n",
       "   'standard_deviation': 0.7839593299784802},\n",
       "  '28_45': {'mean': 9.869922904365898,\n",
       "   'standard_deviation': 0.6322797841509048}}}"
      ]
     },
     "execution_count": 11,
     "metadata": {},
     "output_type": "execute_result"
    }
   ],
   "source": [
    "statistics_dict"
   ]
  },
  {
   "cell_type": "markdown",
   "metadata": {},
   "source": [
    "According to these statistics, aC helix in conformations are clearly distinguishable from aC helix out conformations although the distances between the hinge region and aC helix were not used in the KLIFS classification scheme. Interestingly, out-like aC helix conformations are not distinguishable from aC helix out conformations. Hence, these differences may result from movements in the DFG motif rather than from the aC helix."
   ]
  }
 ],
 "metadata": {
  "kernelspec": {
   "display_name": "Python 3",
   "language": "python",
   "name": "python3"
  },
  "language_info": {
   "codemirror_mode": {
    "name": "ipython",
    "version": 3
   },
   "file_extension": ".py",
   "mimetype": "text/x-python",
   "name": "python",
   "nbconvert_exporter": "python",
   "pygments_lexer": "ipython3",
   "version": "3.7.8"
  }
 },
 "nbformat": 4,
 "nbformat_minor": 4
}
