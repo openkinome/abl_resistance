{
 "cells": [
  {
   "cell_type": "markdown",
   "metadata": {},
   "source": [
    "# ABL1 complex modeling"
   ]
  },
  {
   "cell_type": "markdown",
   "metadata": {},
   "source": [
    "This notebook explores the template selection for modeling tyrosine kinase inhibitors into ABL1 using functionalities from KinoML."
   ]
  },
  {
   "cell_type": "code",
   "execution_count": 1,
   "metadata": {},
   "outputs": [],
   "source": [
    "from kinoml.modeling.OpenEyeModeling import select_structure\n",
    "import klifs_utils"
   ]
  },
  {
   "cell_type": "code",
   "execution_count": 2,
   "metadata": {},
   "outputs": [],
   "source": [
    "# smiles from chembl\n",
    "uniprot_id = 'P00519'\n",
    "tkis = {'axitinib': {'smiles': 'CNC(=O)c1ccccc1Sc1ccc2c(/C=C/c3ccccn3)n[nH]c2c1'},\n",
    "        'bosutinib': {'smiles': 'COc1cc(Nc2c(C#N)cnc3cc(OCCCN4CCN(C)CC4)c(OC)cc23)c(Cl)cc1Cl'},\n",
    "        'dasatinib': {'smiles': 'Cc1nc(Nc2ncc(C(=O)Nc3c(C)cccc3Cl)s2)cc(N2CCN(CCO)CC2)n1'},\n",
    "        'imatinib': {'smiles': 'Cc1ccc(NC(=O)c2ccc(CN3CCN(C)CC3)cc2)cc1Nc1nccc(-c2cccnc2)n1'},\n",
    "        'nilotinib': {'smiles': 'Cc1cn(-c2cc(NC(=O)c3ccc(C)c(Nc4nccc(-c5cccnc5)n4)c3)cc(C(F)(F)F)c2)cn1'},\n",
    "        'ponatinib': {'smiles': 'Cc1ccc(C(=O)Nc2ccc(CN3CCN(C)CC3)c(C(F)(F)F)c2)cc1C#Cc1cnc2cccnn12'},\n",
    "        'erlotinib': {'smiles': 'C#Cc1cccc(Nc2ncnc3cc(OCCOC)c(OCCOC)cc23)c1'},\n",
    "        'gefitinib': {'smiles': 'COc1cc2ncnc(Nc3ccc(F)c(Cl)c3)c2cc1OCCCN1CCOCC1'}}"
   ]
  },
  {
   "cell_type": "code",
   "execution_count": 3,
   "metadata": {},
   "outputs": [
    {
     "name": "stdout",
     "output_type": "stream",
     "text": [
      "Searching modeling template for axitinib ...\n",
      "Selected 4twp as modeling template for axitinib ...\n",
      "Searching modeling template for bosutinib ...\n",
      "Selected 3ue4 as modeling template for bosutinib ...\n",
      "Searching modeling template for dasatinib ...\n",
      "Selected 4xey as modeling template for dasatinib ...\n",
      "Searching modeling template for imatinib ...\n",
      "Selected 2hyy as modeling template for imatinib ...\n",
      "Searching modeling template for nilotinib ...\n",
      "Selected 3cs9 as modeling template for nilotinib ...\n",
      "Searching modeling template for ponatinib ...\n",
      "Selected 2hyy as modeling template for ponatinib ...\n",
      "Searching modeling template for erlotinib ...\n",
      "Selected 3ue4 as modeling template for erlotinib ...\n",
      "Searching modeling template for gefitinib ...\n",
      "Selected 3ue4 as modeling template for gefitinib ...\n"
     ]
    }
   ],
   "source": [
    "for tki in tkis.keys():\n",
    "    print(f'Searching modeling template for {tki} ...')\n",
    "    template = select_structure(uniprot_id, tkis[tki]['smiles'])\n",
    "    tkis[tki]['template'] = template.pdb\n",
    "    print(f'Selected {template.pdb} as modeling template for {tki} ...')"
   ]
  },
  {
   "cell_type": "code",
   "execution_count": 4,
   "metadata": {},
   "outputs": [],
   "source": [
    "from appdirs import user_cache_dir\n",
    "from kinoml.core.sequences import KinaseDomainAminoAcidSequence\n",
    "from kinoml.docking.OpenEyeDocking import create_hybrid_receptor, hybrid_docking, pose_molecules\n",
    "from kinoml.modeling.OpenEyeModeling import has_ligand, read_molecules, read_smiles, read_electron_density, prepare_complex, prepare_protein, write_molecules, mutate_structure, renumber_structure, get_sequence, compare_molecules\n",
    "from kinoml.utils import download_file\n",
    "from openeye import oechem"
   ]
  },
  {
   "cell_type": "code",
   "execution_count": 5,
   "metadata": {},
   "outputs": [],
   "source": [
    "def get_resids(protein, kinase_domain_sequence):\n",
    "    from Bio import pairwise2\n",
    "    from kinoml.modeling.OpenEyeModeling import get_sequence\n",
    "    \n",
    "    target_sequence = get_sequence(protein)\n",
    "    template_sequence, target_sequence = pairwise2.align.globalxs(kinase_domain_sequence, kinase_domain_sequence, -10, 0)[0][:2]\n",
    "    \n",
    "    resids = []\n",
    "    resid = kinase_domain_sequence.metadata['begin']\n",
    "    for template_sequence_residue, target_sequence_residue in zip(template_sequence, target_sequence):\n",
    "        if template_sequence_residue == target_sequence_residue:\n",
    "            resids.append(resid)\n",
    "            resid += 1\n",
    "    return resids"
   ]
  },
  {
   "cell_type": "code",
   "execution_count": 6,
   "metadata": {},
   "outputs": [],
   "source": [
    "def generate_complex(pdb_id, uniprot_id, smiles):\n",
    "    from pathlib import Path\n",
    "    if (not Path(f\"{user_cache_dir()}/{pdb_id}_kinase_domain.pdb\").is_file() or \n",
    "        not Path(f\"{user_cache_dir()}/{pdb_id}_ligand.sdf\").is_file()):\n",
    "        print(f'Preparing {pdb_id} ...')\n",
    "        download_file(f\"https://files.rcsb.org/download/{pdb_id}.pdb\", f\"{user_cache_dir()}/{pdb_id}.pdb\")\n",
    "        structure = read_molecules(f\"{user_cache_dir()}/{pdb_id}.pdb\")[0]\n",
    "        download_file(f\"https://edmaps.rcsb.org/coefficients/{pdb_id}.mtz\", f\"{user_cache_dir()}/{pdb_id}.mtz\")\n",
    "        electron_density = read_electron_density(f\"{user_cache_dir()}/{pdb_id}.mtz\")\n",
    "        protein, ligand = prepare_complex(structure, \n",
    "                                          electron_density=electron_density, \n",
    "                                          loop_db=\"~/.OpenEye/rcsb_spruce.loop_db\",\n",
    "                                          cap_termini=False)\n",
    "        kinase_domain_sequence = KinaseDomainAminoAcidSequence.from_uniprot(uniprot_id)\n",
    "        mutated_structure = mutate_structure(protein, kinase_domain_sequence)\n",
    "        resids = get_resids(mutated_structure, kinase_domain_sequence)\n",
    "        renumbered_structure = renumber_structure(mutated_structure, resids)\n",
    "        kinase_domain = prepare_protein(renumbered_structure)\n",
    "        write_molecules([ligand], f\"{user_cache_dir()}/{pdb_id}_ligand.sdf\")\n",
    "        write_molecules([kinase_domain], f\"{user_cache_dir()}/{pdb_id}_kinase_domain.pdb\")\n",
    "    else:\n",
    "        print(f'Reading components of {pdb_id} ...')\n",
    "        kinase_domain = read_molecules(f\"{user_cache_dir()}/{pdb_id}_kinase_domain.pdb\")[0]\n",
    "        ligand = read_molecules(f\"{user_cache_dir()}/{pdb_id}_ligand.sdf\")[0]\n",
    "    if compare_molecules(ligand, read_smiles(smiles)):\n",
    "        print(f'Found matching co-crystallized ligand for {tki} ...')\n",
    "        write_molecules([ligand], f\"{user_cache_dir()}/{pdb_id}_{tki}.sdf\")\n",
    "    else:\n",
    "        hybrid_receptor = create_hybrid_receptor(kinase_domain, ligand)\n",
    "        print(f'Docking  {tki} into {pdb_id} ...')\n",
    "        docking_poses = hybrid_docking(hybrid_receptor, [read_smiles(smiles)], 20)\n",
    "        write_molecules(docking_poses, f\"{user_cache_dir()}/{pdb_id}_{tki}.sdf\")"
   ]
  },
  {
   "cell_type": "code",
   "execution_count": 7,
   "metadata": {},
   "outputs": [
    {
     "name": "stdout",
     "output_type": "stream",
     "text": [
      "Reading components of 4twp ...\n",
      "Found matching co-crystallized ligand for axitinib ...\n",
      "Reading components of 3ue4 ...\n",
      "Found matching co-crystallized ligand for bosutinib ...\n",
      "Reading components of 4xey ...\n",
      "Found matching co-crystallized ligand for dasatinib ...\n",
      "Reading components of 2hyy ...\n",
      "Found matching co-crystallized ligand for imatinib ...\n",
      "Reading components of 3cs9 ...\n",
      "Found matching co-crystallized ligand for nilotinib ...\n",
      "Reading components of 2hyy ...\n",
      "Docking  ponatinib into 2hyy ...\n",
      "Reading components of 3ue4 ...\n",
      "Docking  erlotinib into 3ue4 ...\n",
      "Reading components of 3ue4 ...\n",
      "Docking  gefitinib into 3ue4 ...\n"
     ]
    }
   ],
   "source": [
    "for tki in tkis.keys():\n",
    "    pdb_id = tkis[tki]['template']\n",
    "    smiles = tkis[tki]['smiles']\n",
    "    generate_complex(pdb_id, uniprot_id, smiles)"
   ]
  }
 ],
 "metadata": {
  "kernelspec": {
   "display_name": "Python 3",
   "language": "python",
   "name": "python3"
  },
  "language_info": {
   "codemirror_mode": {
    "name": "ipython",
    "version": 3
   },
   "file_extension": ".py",
   "mimetype": "text/x-python",
   "name": "python",
   "nbconvert_exporter": "python",
   "pygments_lexer": "ipython3",
   "version": "3.7.8"
  }
 },
 "nbformat": 4,
 "nbformat_minor": 4
}
