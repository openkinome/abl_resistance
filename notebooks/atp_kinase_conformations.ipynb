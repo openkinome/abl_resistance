{
 "cells": [
  {
   "cell_type": "markdown",
   "metadata": {},
   "source": [
    "# ATP and kinase conformations\n",
    "\n",
    "This notebook analyses kinase conformations associated with ATP binding. The main goal is to identify relevant conformations for ATP binding and how Mg2+ ions are involved. This can later be used to reliably generate wildtype ATP/Mg2+ bound kinase conformations, which can be employed to predict the impact of point mutations on ATP affinity."
   ]
  },
  {
   "cell_type": "markdown",
   "metadata": {},
   "source": [
    "## Content\n",
    "\n",
    "- Retrieve relevant kinase structures  \n",
    "- Analyze conformations\n",
    "- Analyze Mg2+ ions"
   ]
  },
  {
   "cell_type": "code",
   "execution_count": 1,
   "metadata": {},
   "outputs": [],
   "source": [
    "from pathlib import Path\n",
    "\n",
    "import klifs_utils\n",
    "import MDAnalysis as mda"
   ]
  },
  {
   "cell_type": "markdown",
   "metadata": {},
   "source": [
    "## 1. Retrieve relevant kinase structures\n",
    "\n",
    "Kinase structures will be retrieved from the [KLIFS database](https://klifs.vu-compmedchem.nl/) and filtered to find the most relevant structures."
   ]
  },
  {
   "cell_type": "code",
   "execution_count": 2,
   "metadata": {},
   "outputs": [
    {
     "name": "stdout",
     "output_type": "stream",
     "text": [
      "Number of PDB entries: 5342\n",
      "Number of KLIFS entries: 11633\n"
     ]
    },
    {
     "data": {
      "text/html": [
       "<div>\n",
       "<style scoped>\n",
       "    .dataframe tbody tr th:only-of-type {\n",
       "        vertical-align: middle;\n",
       "    }\n",
       "\n",
       "    .dataframe tbody tr th {\n",
       "        vertical-align: top;\n",
       "    }\n",
       "\n",
       "    .dataframe thead th {\n",
       "        text-align: right;\n",
       "    }\n",
       "</style>\n",
       "<table border=\"1\" class=\"dataframe\">\n",
       "  <thead>\n",
       "    <tr style=\"text-align: right;\">\n",
       "      <th></th>\n",
       "      <th>structure_ID</th>\n",
       "      <th>kinase</th>\n",
       "      <th>species</th>\n",
       "      <th>kinase_ID</th>\n",
       "      <th>pdb</th>\n",
       "      <th>alt</th>\n",
       "      <th>chain</th>\n",
       "      <th>rmsd1</th>\n",
       "      <th>rmsd2</th>\n",
       "      <th>pocket</th>\n",
       "      <th>...</th>\n",
       "      <th>bp_I_A</th>\n",
       "      <th>bp_I_B</th>\n",
       "      <th>bp_II_in</th>\n",
       "      <th>bp_II_A_in</th>\n",
       "      <th>bp_II_B_in</th>\n",
       "      <th>bp_II_out</th>\n",
       "      <th>bp_II_B</th>\n",
       "      <th>bp_III</th>\n",
       "      <th>bp_IV</th>\n",
       "      <th>bp_V</th>\n",
       "    </tr>\n",
       "  </thead>\n",
       "  <tbody>\n",
       "    <tr>\n",
       "      <th>11628</th>\n",
       "      <td>9098</td>\n",
       "      <td>PI4K2B</td>\n",
       "      <td>Human</td>\n",
       "      <td>1091</td>\n",
       "      <td>4wtv</td>\n",
       "      <td>B</td>\n",
       "      <td>A</td>\n",
       "      <td>1.554</td>\n",
       "      <td>3.088</td>\n",
       "      <td>ERISQGSSGSYFVGVFKPKGYLSEAGAYLVDNSIVPKTKVVGSFQL...</td>\n",
       "      <td>...</td>\n",
       "      <td>False</td>\n",
       "      <td>False</td>\n",
       "      <td>False</td>\n",
       "      <td>False</td>\n",
       "      <td>False</td>\n",
       "      <td>False</td>\n",
       "      <td>False</td>\n",
       "      <td>False</td>\n",
       "      <td>False</td>\n",
       "      <td>False</td>\n",
       "    </tr>\n",
       "    <tr>\n",
       "      <th>11629</th>\n",
       "      <td>9095</td>\n",
       "      <td>PI4K2B</td>\n",
       "      <td>Human</td>\n",
       "      <td>1091</td>\n",
       "      <td>4wtv</td>\n",
       "      <td>A</td>\n",
       "      <td>A</td>\n",
       "      <td>1.554</td>\n",
       "      <td>3.088</td>\n",
       "      <td>ERISQGSSGSYFVGVFKPKGYLSEAGAYLVDNSIVPKTKVVGSFQL...</td>\n",
       "      <td>...</td>\n",
       "      <td>False</td>\n",
       "      <td>False</td>\n",
       "      <td>False</td>\n",
       "      <td>False</td>\n",
       "      <td>False</td>\n",
       "      <td>False</td>\n",
       "      <td>False</td>\n",
       "      <td>False</td>\n",
       "      <td>False</td>\n",
       "      <td>False</td>\n",
       "    </tr>\n",
       "    <tr>\n",
       "      <th>11630</th>\n",
       "      <td>9096</td>\n",
       "      <td>PI4K2B</td>\n",
       "      <td>Human</td>\n",
       "      <td>1091</td>\n",
       "      <td>4wtv</td>\n",
       "      <td>B</td>\n",
       "      <td>B</td>\n",
       "      <td>1.554</td>\n",
       "      <td>3.041</td>\n",
       "      <td>ERIS___SGSYFVGVFKPKGYLSEAGAYLVDNSIVPKTKVVGSFQL...</td>\n",
       "      <td>...</td>\n",
       "      <td>False</td>\n",
       "      <td>False</td>\n",
       "      <td>False</td>\n",
       "      <td>False</td>\n",
       "      <td>False</td>\n",
       "      <td>False</td>\n",
       "      <td>False</td>\n",
       "      <td>False</td>\n",
       "      <td>False</td>\n",
       "      <td>False</td>\n",
       "    </tr>\n",
       "    <tr>\n",
       "      <th>11631</th>\n",
       "      <td>9070</td>\n",
       "      <td>PI4KA</td>\n",
       "      <td>Human</td>\n",
       "      <td>1096</td>\n",
       "      <td>6bq1</td>\n",
       "      <td></td>\n",
       "      <td>A</td>\n",
       "      <td>1.704</td>\n",
       "      <td>2.676</td>\n",
       "      <td>_PMQSAAKAPYLAAIFKVGDCRQDMLALQIIDLFVFPYRVVCGVIE...</td>\n",
       "      <td>...</td>\n",
       "      <td>False</td>\n",
       "      <td>True</td>\n",
       "      <td>False</td>\n",
       "      <td>False</td>\n",
       "      <td>False</td>\n",
       "      <td>False</td>\n",
       "      <td>False</td>\n",
       "      <td>False</td>\n",
       "      <td>False</td>\n",
       "      <td>False</td>\n",
       "    </tr>\n",
       "    <tr>\n",
       "      <th>11632</th>\n",
       "      <td>9069</td>\n",
       "      <td>PI4KA</td>\n",
       "      <td>Human</td>\n",
       "      <td>1096</td>\n",
       "      <td>6bq1</td>\n",
       "      <td></td>\n",
       "      <td>E</td>\n",
       "      <td>1.699</td>\n",
       "      <td>2.670</td>\n",
       "      <td>_PMQSAAKAPYLAAIFKVGDCRQDMLALQIIDLFVFPYRVVCGVIE...</td>\n",
       "      <td>...</td>\n",
       "      <td>True</td>\n",
       "      <td>True</td>\n",
       "      <td>False</td>\n",
       "      <td>False</td>\n",
       "      <td>False</td>\n",
       "      <td>False</td>\n",
       "      <td>False</td>\n",
       "      <td>False</td>\n",
       "      <td>False</td>\n",
       "      <td>False</td>\n",
       "    </tr>\n",
       "  </tbody>\n",
       "</table>\n",
       "<p>5 rows × 36 columns</p>\n",
       "</div>"
      ],
      "text/plain": [
       "       structure_ID  kinase species  kinase_ID   pdb alt chain  rmsd1  rmsd2  \\\n",
       "11628          9098  PI4K2B   Human       1091  4wtv   B     A  1.554  3.088   \n",
       "11629          9095  PI4K2B   Human       1091  4wtv   A     A  1.554  3.088   \n",
       "11630          9096  PI4K2B   Human       1091  4wtv   B     B  1.554  3.041   \n",
       "11631          9070   PI4KA   Human       1096  6bq1         A  1.704  2.676   \n",
       "11632          9069   PI4KA   Human       1096  6bq1         E  1.699  2.670   \n",
       "\n",
       "                                                  pocket  ...  bp_I_A  bp_I_B  \\\n",
       "11628  ERISQGSSGSYFVGVFKPKGYLSEAGAYLVDNSIVPKTKVVGSFQL...  ...   False   False   \n",
       "11629  ERISQGSSGSYFVGVFKPKGYLSEAGAYLVDNSIVPKTKVVGSFQL...  ...   False   False   \n",
       "11630  ERIS___SGSYFVGVFKPKGYLSEAGAYLVDNSIVPKTKVVGSFQL...  ...   False   False   \n",
       "11631  _PMQSAAKAPYLAAIFKVGDCRQDMLALQIIDLFVFPYRVVCGVIE...  ...   False    True   \n",
       "11632  _PMQSAAKAPYLAAIFKVGDCRQDMLALQIIDLFVFPYRVVCGVIE...  ...    True    True   \n",
       "\n",
       "       bp_II_in  bp_II_A_in bp_II_B_in bp_II_out bp_II_B bp_III  bp_IV   bp_V  \n",
       "11628     False       False      False     False   False  False  False  False  \n",
       "11629     False       False      False     False   False  False  False  False  \n",
       "11630     False       False      False     False   False  False  False  False  \n",
       "11631     False       False      False     False   False  False  False  False  \n",
       "11632     False       False      False     False   False  False  False  False  \n",
       "\n",
       "[5 rows x 36 columns]"
      ]
     },
     "execution_count": 2,
     "metadata": {},
     "output_type": "execute_result"
    }
   ],
   "source": [
    "# retrieve kinase structures\n",
    "kinase_ids = klifs_utils.remote.kinases.kinase_names().kinase_ID.to_list()\n",
    "kinase_df = klifs_utils.remote.structures.structures_from_kinase_ids(kinase_ids)\n",
    "print('Number of PDB entries:', len(set(kinase_df['pdb'])))\n",
    "print('Number of KLIFS entries:', len(kinase_df))\n",
    "kinase_df.tail()"
   ]
  },
  {
   "cell_type": "markdown",
   "metadata": {},
   "source": [
    "Since the focus is on ATP binding, entries will be scanned for ATP in the orthosteric pocket. Also, entries will be removed that have more than one ligand in the orthosteric pocket or have an additional allosteric binder. This ensures a clean \"unbiased\" ATP binding mode."
   ]
  },
  {
   "cell_type": "code",
   "execution_count": 3,
   "metadata": {},
   "outputs": [
    {
     "name": "stdout",
     "output_type": "stream",
     "text": [
      "Number of PDB entries: 109\n",
      "Number of KLIFS entries: 212\n"
     ]
    }
   ],
   "source": [
    "# filter for entries with ATP in the binding pocket\n",
    "kinase_df = kinase_df[kinase_df[\"ligand\"] == \"ATP\"]\n",
    "print('Number of PDB entries:', len(set(kinase_df['pdb'])))\n",
    "print('Number of KLIFS entries:', len(kinase_df))"
   ]
  },
  {
   "cell_type": "code",
   "execution_count": 4,
   "metadata": {},
   "outputs": [
    {
     "name": "stdout",
     "output_type": "stream",
     "text": [
      "Number of PDB entries: 109\n",
      "Number of KLIFS entries: 212\n"
     ]
    }
   ],
   "source": [
    "# filter for entries with a single orthosteric ligand\n",
    "kinase_df = kinase_df.groupby('pdb').filter(lambda x: len(set(x['ligand'])) == 1)\n",
    "print('Number of PDB entries:', len(set(kinase_df['pdb'])))\n",
    "print('Number of KLIFS entries:', len(kinase_df))"
   ]
  },
  {
   "cell_type": "code",
   "execution_count": 5,
   "metadata": {},
   "outputs": [
    {
     "name": "stdout",
     "output_type": "stream",
     "text": [
      "Number of PDB entries: 80\n",
      "Number of KLIFS entries: 151\n"
     ]
    }
   ],
   "source": [
    "# filter for entries that do not contain an allosteric ligand, since this might affect the conformation\n",
    "kinase_df = kinase_df[kinase_df[\"allosteric_ligand\"] == 0]\n",
    "print('Number of PDB entries:', len(set(kinase_df['pdb'])))\n",
    "print('Number of KLIFS entries:', len(kinase_df))"
   ]
  },
  {
   "cell_type": "markdown",
   "metadata": {},
   "source": [
    "To reduce noise, the entries will be further filtered to retrieve 1 entry per PDB identifier. KLIFS reports a quality score, which is used to pick the \"best\" quality chain and alternate location for further analysis."
   ]
  },
  {
   "cell_type": "code",
   "execution_count": 6,
   "metadata": {},
   "outputs": [
    {
     "name": "stdout",
     "output_type": "stream",
     "text": [
      "Number of PDB entries: 80\n",
      "Number of KLIFS entries: 80\n"
     ]
    }
   ],
   "source": [
    "# sort by alt, chain and quality score to pick representative structure in next step\n",
    "kinase_df = kinase_df.sort_values(by=['quality_score', 'resolution', 'alt','chain'],ascending=[False, True, True, True])\n",
    "# keep entry with highest quality score\n",
    "kinase_df = kinase_df.groupby('pdb').head(1)\n",
    "print('Number of PDB entries:', len(set(kinase_df['pdb'])))\n",
    "print('Number of KLIFS entries:', len(kinase_df))"
   ]
  },
  {
   "cell_type": "markdown",
   "metadata": {},
   "source": [
    "## 2. Analyze conformations\n",
    "\n",
    "It would be interesting to identify the conformations that kinases prefere to bind ATP. Let's find all DFG and $\\alpha$C helix conformations deposited in KLIFS for the filtered entries. Once available in KinoML this analysis can be carried out with the Dunbrack classification."
   ]
  },
  {
   "cell_type": "code",
   "execution_count": 7,
   "metadata": {},
   "outputs": [
    {
     "data": {
      "text/plain": [
       "<AxesSubplot:>"
      ]
     },
     "execution_count": 7,
     "metadata": {},
     "output_type": "execute_result"
    },
    {
     "data": {
      "image/png": "[encoded data removed]",
      "text/plain": [
       "<Figure size 432x288 with 1 Axes>"
      ]
     },
     "metadata": {
      "needs_background": "light"
     },
     "output_type": "display_data"
    }
   ],
   "source": [
    "kinase_df.DFG.hist()"
   ]
  },
  {
   "cell_type": "code",
   "execution_count": 8,
   "metadata": {},
   "outputs": [
    {
     "data": {
      "text/plain": [
       "6436     3gni\n",
       "10102    3rep\n",
       "10104    3kmw\n",
       "698      4fg8\n",
       "Name: pdb, dtype: object"
      ]
     },
     "execution_count": 8,
     "metadata": {},
     "output_type": "execute_result"
    }
   ],
   "source": [
    "kinase_df[kinase_df.DFG == 'na']['pdb']"
   ]
  },
  {
   "cell_type": "markdown",
   "metadata": {},
   "source": [
    "Not surprisingly, most kinases show a DFG in conformation, which positions the Asp of the DFG motif in the binding site. This is important, since the DFG Asp complexes Mg2+ to bind the ATP's phosphate groups ([Modi 2018](https://doi.org/10.1073/pnas.1814279116)). The entries reptorting a `'na'` DFG conformation have either missing residues in the DFG motif or are special kinases that do not contain the DFG motif. We will delete those for now from further analysis. However, those entries might be interesting later to analyze the effect of very central loss of function mutations in the DFG motif."
   ]
  },
  {
   "cell_type": "code",
   "execution_count": 9,
   "metadata": {},
   "outputs": [],
   "source": [
    "kinase_df = kinase_df[kinase_df.DFG != 'na']"
   ]
  },
  {
   "cell_type": "markdown",
   "metadata": {},
   "source": [
    "Next the $\\alpha$C helix conformations."
   ]
  },
  {
   "cell_type": "code",
   "execution_count": 10,
   "metadata": {},
   "outputs": [
    {
     "data": {
      "text/plain": [
       "<AxesSubplot:>"
      ]
     },
     "execution_count": 10,
     "metadata": {},
     "output_type": "execute_result"
    },
    {
     "data": {
      "image/png": "[encoded data removed]",
      "text/plain": [
       "<Figure size 432x288 with 1 Axes>"
      ]
     },
     "metadata": {
      "needs_background": "light"
     },
     "output_type": "display_data"
    }
   ],
   "source": [
    "kinase_df.aC_helix.hist()"
   ]
  },
  {
   "cell_type": "markdown",
   "metadata": {},
   "source": [
    "According to the published literature, active kinase conformations, i.e., bound to ATP, should show an $\\alpha$C helix in conformation [Modi 2018](https://doi.org/10.1073/pnas.1814279116). Surprisingly, ~30 % of pdb entries show an $\\alpha$C helix out or out-like conformation."
   ]
  },
  {
   "cell_type": "code",
   "execution_count": 11,
   "metadata": {},
   "outputs": [
    {
     "name": "stdout",
     "output_type": "stream",
     "text": [
      "['2y4i', '4fvq', '3dkc', '5i4n', '1hck', '1b38', '4fvr', '3vvh', '1b39', '4an3', '3dv3', '1s9j', '3e8n', '3eqb', '3dy7', '3pp1', '3os3', '1ua2', '5d9h', '1s9i', '4fg9']\n"
     ]
    }
   ],
   "source": [
    "print(list(kinase_df[kinase_df.aC_helix != \"in\"].pdb))"
   ]
  },
  {
   "cell_type": "markdown",
   "metadata": {},
   "source": [
    "The untypical $\\alpha$C helix conformation can be explained by ***several mutations*** (4fvq, 4fvr, 5i4n), ***dependency on other interaction partners*** (cyclin - 1b39, 1b38, 1ua2, 1hck, Ca2+/calmodulin - 4fg9) or ***additional ligands*** that were not reported by KLIFS (4an3, 3os3, 3dy7, 1s9j, 3e8n, 1s9i, 3pp1, 3vvh, 3dv3, 3eqb). For some entries it is less clear (STK39 - 5d9h, MAP2K1 - 2y4i, c-MET - 3dkc)."
   ]
  },
  {
   "cell_type": "markdown",
   "metadata": {},
   "source": [
    "## 3. Analyze Mg2+ ions\n",
    "\n",
    "Let's focus on the kinases with the active conformation (DFG in, $\\alpha$C helix in). Split the dataset according to the number of co-crystalized Mg2+ ions."
   ]
  },
  {
   "cell_type": "code",
   "execution_count": 12,
   "metadata": {},
   "outputs": [],
   "source": [
    "# retrieve prealigned complexes from KLIFS for visualization in e.g. PyMol\n",
    "directory = Path(\"~/data/kinases/atp\").expanduser()\n",
    "directory.mkdir(parents=True, exist_ok=True)\n",
    "\n",
    "for index, row in kinase_df[kinase_df.aC_helix == \"in\"].iterrows():\n",
    "    pdb_text = klifs_utils.remote.coordinates.complex._complex_pdb_text(row['structure_ID'])\n",
    "    path = directory / f\"{row['pdb']}.pdb\"\n",
    "    with open(path, 'w') as wf:\n",
    "        wf.write(pdb_text)"
   ]
  },
  {
   "cell_type": "code",
   "execution_count": 13,
   "metadata": {},
   "outputs": [
    {
     "name": "stderr",
     "output_type": "stream",
     "text": [
      "/home/david/miniconda3/envs/kinoml/lib/python3.7/site-packages/MDAnalysis/topology/guessers.py:80: UserWarning: Failed to guess the mass for the following atom types: MN\n",
      "  warnings.warn(\"Failed to guess the mass for the following atom types: {}\".format(atom_type))\n"
     ]
    }
   ],
   "source": [
    "# save structures in different folders according to number of co-crystalized Mg2+ ions\n",
    "directory_no_mg = Path(\"~/data/kinases/atp/no_mg\").expanduser()\n",
    "directory_no_mg.mkdir(parents=True, exist_ok=True)\n",
    "directory_one_mg = Path(\"~/data/kinases/atp/one_mg\").expanduser()\n",
    "directory_one_mg.mkdir(parents=True, exist_ok=True)\n",
    "directory_two_mg = Path(\"~/data/kinases/atp/two_mg\").expanduser()\n",
    "directory_two_mg.mkdir(parents=True, exist_ok=True)\n",
    "directory_more_mg = Path(\"~/data/kinases/atp/more_mg\").expanduser()\n",
    "directory_more_mg.mkdir(parents=True, exist_ok=True)\n",
    "\n",
    "no_mg = []\n",
    "one_mg = []\n",
    "two_mg = []\n",
    "more_mg = []\n",
    "for index, row in kinase_df[kinase_df.aC_helix == \"in\"].iterrows():\n",
    "    path = directory / f\"{row['pdb']}.pdb\"\n",
    "    u = mda.Universe(path)\n",
    "    num_mg = len(u.select_atoms(\"resname MG\"))\n",
    "    if num_mg == 0:\n",
    "        no_mg.append(row[\"pdb\"])\n",
    "        path = directory_no_mg / f\"{row['pdb']}.pdb\"\n",
    "    elif num_mg == 1:\n",
    "        one_mg.append(row[\"pdb\"])\n",
    "        path = directory_one_mg / f\"{row['pdb']}.pdb\"\n",
    "    elif num_mg == 2:\n",
    "        two_mg.append(row['pdb'])\n",
    "        path = directory_two_mg / f\"{row['pdb']}.pdb\"\n",
    "    else:\n",
    "        more_mg.append(row['pdb'])\n",
    "        path = directory_more_mg / f\"{row['pdb']}.pdb\"\n",
    "    pdb_text = klifs_utils.remote.coordinates.complex._complex_pdb_text(row['structure_ID'])\n",
    "    with open(path, 'w') as wf:\n",
    "            wf.write(pdb_text)"
   ]
  },
  {
   "cell_type": "code",
   "execution_count": 14,
   "metadata": {},
   "outputs": [
    {
     "name": "stdout",
     "output_type": "stream",
     "text": [
      "23 structures without Mg2+: ['3hrc', '3fjq', '5lvp', '4wtv', '5cu6', '4rrv', '2cch', '4wb7', '2biy', '4xw5', '3a7h', '1h1w', '3a8w', '4btj', '2ijm', '1atp', '1fin', '2yaa', '1jst', '4fg7', '3hmn', '4wae', '1ol6']\n",
      "15 structures with one Mg2+: ['4eoj', '4dh1', '4eoo', '4eom', '5drd', '4eoq', '1qmz', '2cjm', '5dt3', '1gy3', '2cci', '3blq', '1fq1', '5wni', '3bu5']\n",
      "17 structures with two Mg2+: ['1rdq', '3qam', '6no7', '3qal', '4din', '4wb8', '4wb5', '3x2w', '3x2v', '5dnr', '3q53', '4wb6', '4dh3', '4x6r', '3x2u', '4xbr', '6byr']\n",
      "0 structures more than two Mg2+: []\n"
     ]
    }
   ],
   "source": [
    "print(f\"{len(no_mg)} structures without Mg2+: {no_mg}\")\n",
    "print(f\"{len(one_mg)} structures with one Mg2+: {one_mg}\")\n",
    "print(f\"{len(two_mg)} structures with two Mg2+: {two_mg}\")\n",
    "print(f\"{len(more_mg)} structures more than two Mg2+: {more_mg}\")"
   ]
  },
  {
   "cell_type": "markdown",
   "metadata": {},
   "source": [
    "Only 17 entries were found with the active DFG in/$\\alpha$C helix in conformation and exactly two bound Mg2+ ions."
   ]
  }
 ],
 "metadata": {
  "kernelspec": {
   "display_name": "Python 3",
   "language": "python",
   "name": "python3"
  },
  "language_info": {
   "codemirror_mode": {
    "name": "ipython",
    "version": 3
   },
   "file_extension": ".py",
   "mimetype": "text/x-python",
   "name": "python",
   "nbconvert_exporter": "python",
   "pygments_lexer": "ipython3",
   "version": "3.7.8"
  }
 },
 "nbformat": 4,
 "nbformat_minor": 4
}
