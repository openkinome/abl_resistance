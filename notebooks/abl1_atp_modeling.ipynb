{
 "cells": [
  {
   "cell_type": "markdown",
   "metadata": {},
   "source": [
    "# ABL1 ATP modeling"
   ]
  },
  {
   "cell_type": "markdown",
   "metadata": {},
   "source": [
    "This notebook aims at generating ABL1 in complex with ATP by using functionalities from KinoML ([b252ff6]((https://github.com/openkinome/kinoml/commit/b252ff67a35b9149e704d51b7c838dcf1e9fb10f))). A first analysis of ATP bound kinase structures ([notebook](https://github.com/openkinome/study-abl-resistance/blob/master/notebooks/atp_kinase_conformations.ipynb)) revealed 17 PDB entries in the DFG in/aC helix in conformation with exactly two complexed MG2+ ions (4din, 6byr, 4wb6, 3q53, 4xbr, 4dh3, 3qam, 6no7, 3qal, 4wb8, 4wb5, 5dnr, 3x2w, 4x6r, 3x2v, 3x2u, 1rdq), which represents the physiologically most relevant active state of kinases. This notebook can be seen as a first attempt of automatize kinase-ATP complex generation, but definitly requires some attention. Especially, adjusting certain side chain rotamers could improve modeling."
   ]
  },
  {
   "cell_type": "markdown",
   "metadata": {},
   "source": [
    "## Content\n",
    "\n",
    "- Select ABL1 structure\n",
    "- Select ATP bound structure\n",
    " - Sequence identitiy\n",
    " - Sequence similarity\n",
    "- Generate complex\n",
    "- Prepare reference structure"
   ]
  },
  {
   "cell_type": "code",
   "execution_count": 1,
   "metadata": {},
   "outputs": [
    {
     "data": {
      "application/vnd.jupyter.widget-view+json": {
       "model_id": "9f8919a6e1934fcaa84e4bf6ea0ed2ba",
       "version_major": 2,
       "version_minor": 0
      },
      "text/plain": []
     },
     "metadata": {},
     "output_type": "display_data"
    }
   ],
   "source": [
    "from appdirs import user_cache_dir\n",
    "from Bio import pairwise2\n",
    "from Bio.Align import substitution_matrices\n",
    "import klifs_utils\n",
    "from openeye import oechem, oespruce\n",
    "\n",
    "from kinoml.features.complexes import OEKLIFSKinaseHybridDockingFeaturizer\n",
    "from kinoml.modeling.OEModeling import read_molecules, write_molecules, split_molecule_components, clashing_atoms, update_residue_identifiers, string_similarity, prepare_complex"
   ]
  },
  {
   "cell_type": "markdown",
   "metadata": {},
   "source": [
    "## Select ABL1 protein structure\n",
    "\n",
    "First we need to select an ABL1 structure resolved in the DFG in/aC helix in conformation."
   ]
  },
  {
   "cell_type": "code",
   "execution_count": 2,
   "metadata": {},
   "outputs": [
    {
     "name": "stdout",
     "output_type": "stream",
     "text": [
      "Number of PDB entries: 5294\n",
      "Number of KLIFS entries: 11408\n"
     ]
    }
   ],
   "source": [
    "# retrieve kinase structures\n",
    "kinase_ids = klifs_utils.remote.kinases.kinase_names().kinase_ID.to_list()\n",
    "kinase_df = klifs_utils.remote.structures.structures_from_kinase_ids(kinase_ids)\n",
    "kinase_df = kinase_df[kinase_df.resolution > 0]  # remove NMR\n",
    "print('Number of PDB entries:', len(set(kinase_df['pdb'])))\n",
    "print('Number of KLIFS entries:', len(kinase_df))"
   ]
  },
  {
   "cell_type": "code",
   "execution_count": 3,
   "metadata": {},
   "outputs": [
    {
     "name": "stdout",
     "output_type": "stream",
     "text": [
      "Number of PDB entries: 32\n",
      "Number of KLIFS entries: 90\n"
     ]
    }
   ],
   "source": [
    "# filter for ABL1 structures\n",
    "abl1_klifs_kinase_id = 392\n",
    "abl1_df = kinase_df[kinase_df.kinase_ID == abl1_klifs_kinase_id]\n",
    "print('Number of PDB entries:', len(set(abl1_df['pdb'])))\n",
    "print('Number of KLIFS entries:', len(abl1_df))"
   ]
  },
  {
   "cell_type": "code",
   "execution_count": 4,
   "metadata": {},
   "outputs": [
    {
     "name": "stdout",
     "output_type": "stream",
     "text": [
      "Number of PDB entries: 6\n",
      "Number of KLIFS entries: 14\n"
     ]
    }
   ],
   "source": [
    "# filter for DFG in/aC helix in conformation\n",
    "abl1_df = abl1_df[abl1_df.DFG == 'in']\n",
    "abl1_df = abl1_df[abl1_df.aC_helix == 'in']\n",
    "print('Number of PDB entries:', len(set(abl1_df['pdb'])))\n",
    "print('Number of KLIFS entries:', len(abl1_df))"
   ]
  },
  {
   "cell_type": "code",
   "execution_count": 5,
   "metadata": {},
   "outputs": [
    {
     "data": {
      "text/plain": [
       "'2f4j'"
      ]
     },
     "execution_count": 5,
     "metadata": {},
     "output_type": "execute_result"
    }
   ],
   "source": [
    "# pick highest quality structure\n",
    "abl1_df = abl1_df.sort_values(by=['quality_score', 'resolution', 'chain', 'alt'],ascending=[False, True, True, True])\n",
    "abl1_template = abl1_df.iloc[0]\n",
    "abl1_template.pdb"
   ]
  },
  {
   "cell_type": "markdown",
   "metadata": {},
   "source": [
    "The PDB structure [2F4J](https://www.rcsb.org/structure/2f4j) is picked for modeling the ABL1 protein in the proper active conformation."
   ]
  },
  {
   "cell_type": "markdown",
   "metadata": {},
   "source": [
    "## Select ATP bound structure\n",
    "\n",
    "Next, we need to select an ATP bound kinase structure to *transfer* the ATP and the MG2+ ions to the ABL1 structure selected above. This ATP bound structure should be as similar as possible to ABL1, which can be estimated via sequence identitity or similarity."
   ]
  },
  {
   "cell_type": "code",
   "execution_count": 6,
   "metadata": {},
   "outputs": [
    {
     "name": "stdout",
     "output_type": "stream",
     "text": [
      "Number of PDB entries: 17\n",
      "Number of KLIFS entries: 30\n"
     ]
    }
   ],
   "source": [
    "# filter for structures in the DFG in/aC helix in conformation and two MG2+ ions\n",
    "valid_codes = ['4din', '6byr', '4wb6', '3q53', '4xbr', '4dh3', '3qam', '6no7', '3qal', '4wb8', '4wb5', '5dnr', '3x2w', '4x6r', '3x2v', '3x2u', '1rdq']\n",
    "atp_df = kinase_df[kinase_df.pdb.isin(valid_codes)] \n",
    "print('Number of PDB entries:', len(set(atp_df['pdb'])))\n",
    "print('Number of KLIFS entries:', len(atp_df))"
   ]
  },
  {
   "cell_type": "code",
   "execution_count": 7,
   "metadata": {},
   "outputs": [
    {
     "name": "stdout",
     "output_type": "stream",
     "text": [
      "Number of PDB entries: 17\n",
      "Number of KLIFS entries: 17\n"
     ]
    }
   ],
   "source": [
    "# sort by quality to pick representative structure in next step\n",
    "atp_df = atp_df.sort_values(by=['quality_score', 'resolution', 'chain', 'alt'],ascending=[False, True, True, True])\n",
    "# keep entry with highest quality per PDB code\n",
    "atp_df = atp_df.groupby('pdb').head(1)\n",
    "print('Number of PDB entries:', len(set(atp_df['pdb'])))\n",
    "print('Number of KLIFS entries:', len(atp_df))"
   ]
  },
  {
   "cell_type": "markdown",
   "metadata": {},
   "source": [
    "### Sequence identitiy"
   ]
  },
  {
   "cell_type": "code",
   "execution_count": 8,
   "metadata": {},
   "outputs": [],
   "source": [
    "# retrieve ABL1 information from KLIFS\n",
    "abl1_details = klifs_utils.remote.kinases.kinases_from_kinase_ids(\n",
    "            [abl1_klifs_kinase_id]\n",
    "        ).iloc[0]"
   ]
  },
  {
   "cell_type": "code",
   "execution_count": 9,
   "metadata": {},
   "outputs": [],
   "source": [
    "# calculate sequence identities\n",
    "sequence_identities = {}\n",
    "for index, kinase in atp_df.iterrows():\n",
    "    sequence_identities[kinase.pdb] = string_similarity(kinase.pocket, abl1_details.pocket)"
   ]
  },
  {
   "cell_type": "code",
   "execution_count": 10,
   "metadata": {},
   "outputs": [
    {
     "name": "stdout",
     "output_type": "stream",
     "text": [
      "Highest identity: 0.3764705882352941\n",
      "PDB entry: 5dnr\n"
     ]
    }
   ],
   "source": [
    "most_identicals = [key for key, value in sequence_identities.items() if value == max(sequence_identities.values())]\n",
    "atp_template = atp_df[atp_df.pdb.isin(most_identicals)].iloc[0]\n",
    "print(f\"Highest identity: {max(sequence_identities.values())}\")\n",
    "print(f\"PDB entry: {atp_template.pdb}\")"
   ]
  },
  {
   "cell_type": "markdown",
   "metadata": {},
   "source": [
    "### Sequence similarity"
   ]
  },
  {
   "cell_type": "code",
   "execution_count": 11,
   "metadata": {},
   "outputs": [],
   "source": [
    "blosum62 = substitution_matrices.load(\"BLOSUM62\")"
   ]
  },
  {
   "cell_type": "code",
   "execution_count": 12,
   "metadata": {},
   "outputs": [],
   "source": [
    "sequence_similarities = {}\n",
    "for index, kinase in atp_df.iterrows():\n",
    "    sequence_similarities[kinase.pdb] = pairwise2.align.globalds(kinase.pocket, abl1_details.pocket, blosum62, -10, -10, score_only=True)"
   ]
  },
  {
   "cell_type": "code",
   "execution_count": 13,
   "metadata": {},
   "outputs": [
    {
     "name": "stdout",
     "output_type": "stream",
     "text": [
      "Highest similarity: 179.0\n",
      "PDB entry: 5dnr\n"
     ]
    }
   ],
   "source": [
    "most_similars = [key for key, value in sequence_similarities.items() if value == max(sequence_similarities.values())]\n",
    "atp_template = atp_df[atp_df.pdb.isin(most_similars)].iloc[0]\n",
    "print(f\"Highest similarity: {max(sequence_similarities.values())}\")\n",
    "print(f\"PDB entry: {atp_template.pdb}\")"
   ]
  },
  {
   "cell_type": "markdown",
   "metadata": {},
   "source": [
    "Sequence identity and similarity measures suggest both [5DNR](https://www.rcsb.org/structure/5DNR) (Aurora A) as ligand template to tranfer ATP into the ABL1 structure."
   ]
  },
  {
   "cell_type": "markdown",
   "metadata": {},
   "source": [
    "## Generate complex\n",
    "\n",
    "Next, both the protein and water from 2F4J will be combined with the ATP and MG2+ ions from 5DNR. Both proteins need to be superposed to allow the transfer. The `superpose_proteins` function from KinoML was slightly altered to allow for a more accurate superposition based on the ATP binding pockets."
   ]
  },
  {
   "cell_type": "code",
   "execution_count": 14,
   "metadata": {},
   "outputs": [],
   "source": [
    "def superpose_protein_sites(\n",
    "    reference_protein: oechem.OEGraphMol, \n",
    "    fit_protein: oechem.OEGraphMol, \n",
    "    residues,\n",
    "    chain_id,\n",
    "    insertion_code=\" \"\n",
    ") -> oechem.OEGraphMol:\n",
    "    \"\"\"\n",
    "    Superpose a protein structure onto a reference protein.\n",
    "    Parameters\n",
    "    ----------\n",
    "    reference_protein: oechem.OEGraphMol\n",
    "        An OpenEye molecule holding a protein structure which will be used as reference during superposition.\n",
    "    fit_protein: oechem.OEGraphMol\n",
    "        An OpenEye molecule holding a protein structure which will be superposed onto the reference protein.\n",
    "    Returns\n",
    "    -------\n",
    "    superposed_protein: oechem.OEGraphMol\n",
    "        An OpenEye molecule holding the superposed protein structure.\n",
    "    \"\"\"\n",
    "    # do not modify input\n",
    "    superposed_protein = fit_protein.CreateCopy()\n",
    "\n",
    "    # set superposition method\n",
    "    options = oespruce.OESuperpositionOptions()\n",
    "    options.SetSuperpositionType(oespruce.OESuperpositionType_Site)\n",
    "    for residue in residues:\n",
    "        options.AddSiteResidue(f\"{residue[:3]}:{residue[3:]}:{insertion_code}:{chain_id}\")\n",
    "\n",
    "    # perform superposition\n",
    "    superposition = oespruce.OEStructuralSuperposition(\n",
    "        reference_protein, superposed_protein, options\n",
    "    )\n",
    "    superposition.Transform(superposed_protein)\n",
    "\n",
    "    return superposed_protein"
   ]
  },
  {
   "cell_type": "code",
   "execution_count": 15,
   "metadata": {},
   "outputs": [],
   "source": [
    "# load both structures\n",
    "abl1_structure = read_molecules(user_cache_dir() + \"/rcsb_2f4j.pdb\")[0]\n",
    "atp_structure = read_molecules(user_cache_dir() + \"/rcsb_5dnr.pdb\")[0]"
   ]
  },
  {
   "cell_type": "code",
   "execution_count": 16,
   "metadata": {},
   "outputs": [],
   "source": [
    "# retrieve pocket residues for 2F4J from KLIFS\n",
    "pocket_residues = klifs_utils.remote.coordinates.pocket.mol2_to_dataframe(abl1_template.structure_ID).subst_name.unique()"
   ]
  },
  {
   "cell_type": "code",
   "execution_count": 17,
   "metadata": {},
   "outputs": [],
   "source": [
    "# superpose proteins\n",
    "atp_structure_aligned = superpose_protein_sites(abl1_structure, atp_structure, pocket_residues, \"A\")"
   ]
  },
  {
   "cell_type": "code",
   "execution_count": 18,
   "metadata": {},
   "outputs": [],
   "source": [
    "# write superposed structure for manual validation\n",
    "write_molecules([atp_structure_aligned], user_cache_dir() + \"5dnr_superposed_2f4j.pdb\")"
   ]
  },
  {
   "cell_type": "code",
   "execution_count": 19,
   "metadata": {},
   "outputs": [],
   "source": [
    "# prepare superposed ATP bound structure\n",
    "atp_structure_aligned_du = prepare_complex(atp_structure_aligned)"
   ]
  },
  {
   "cell_type": "code",
   "execution_count": 20,
   "metadata": {},
   "outputs": [
    {
     "data": {
      "text/plain": [
       "True"
      ]
     },
     "execution_count": 20,
     "metadata": {},
     "output_type": "execute_result"
    }
   ],
   "source": [
    "# get ATP\n",
    "atp = oechem.OEGraphMol()\n",
    "atp_structure_aligned_du.GetLigand(atp)"
   ]
  },
  {
   "cell_type": "code",
   "execution_count": 21,
   "metadata": {},
   "outputs": [
    {
     "data": {
      "text/plain": [
       "2"
      ]
     },
     "execution_count": 21,
     "metadata": {},
     "output_type": "execute_result"
    }
   ],
   "source": [
    "# get magnesium\n",
    "mg = atp_structure_aligned.CreateCopy()\n",
    "for atom in mg.GetAtoms():\n",
    "    residue = oechem.OEAtomGetResidue(atom)\n",
    "    if residue.GetName().strip() != \"MG\" :\n",
    "        mg.DeleteAtom(atom)\n",
    "mg.NumAtoms()"
   ]
  },
  {
   "cell_type": "code",
   "execution_count": 22,
   "metadata": {},
   "outputs": [],
   "source": [
    "# prepare ABL1 structure\n",
    "abl1_structure_du = prepare_complex(abl1_structure, cap_termini=False)"
   ]
  },
  {
   "cell_type": "code",
   "execution_count": 23,
   "metadata": {},
   "outputs": [],
   "source": [
    "# get ABL1 protein and solvent \n",
    "abl1, solvent = oechem.OEGraphMol(), oechem.OEGraphMol()\n",
    "abl1_structure_du.GetProtein(abl1)\n",
    "abl1_structure_du.GetSolvent(solvent)\n",
    "solvent_molecules = split_molecule_components(solvent)"
   ]
  },
  {
   "cell_type": "code",
   "execution_count": 24,
   "metadata": {},
   "outputs": [],
   "source": [
    "# process kinase domain\n",
    "uniprot_id = \"P00519\"\n",
    "featurizer = OEKLIFSKinaseHybridDockingFeaturizer()\n",
    "abl1 = featurizer._process_kinase_domain(abl1, uniprot_id)"
   ]
  },
  {
   "cell_type": "code",
   "execution_count": 25,
   "metadata": {},
   "outputs": [],
   "source": [
    "# assemble complex\n",
    "abl1_atp_mg_water = oechem.OEGraphMol()\n",
    "# add protein\n",
    "oechem.OEAddMols(abl1_atp_mg_water, abl1)\n",
    "# add atp\n",
    "oechem.OEAddMols(abl1_atp_mg_water, atp)\n",
    "# add MG\n",
    "oechem.OEAddMols(abl1_atp_mg_water, mg)\n",
    "# add water if not clashing with MG or ATP\n",
    "for solvent_molecule in solvent_molecules:\n",
    "    if not clashing_atoms(mg, solvent_molecule):\n",
    "        if not clashing_atoms(atp, solvent_molecule):\n",
    "            oechem.OEAddMols(abl1_atp_mg_water, solvent_molecule)\n",
    "        else:\n",
    "            print(\"Found clashing water!\")\n",
    "    else:\n",
    "        print(\"Found clashing water!\")"
   ]
  },
  {
   "cell_type": "code",
   "execution_count": 26,
   "metadata": {},
   "outputs": [
    {
     "data": {
      "text/plain": [
       "True"
      ]
     },
     "execution_count": 26,
     "metadata": {},
     "output_type": "execute_result"
    }
   ],
   "source": [
    "# store info in PDB header\n",
    "oechem.OEClearPDBData(abl1_atp_mg_water)\n",
    "oechem.OESetPDBData(abl1_atp_mg_water, \"COMPND\", f\"\\tProtein: ABL1\")\n",
    "oechem.OEAddPDBData(abl1_atp_mg_water, \"COMPND\", f\"\\tSolvent: Removed water clashing with ATP,MG,MG\")\n",
    "oechem.OEAddPDBData(abl1_atp_mg_water, \"COMPND\", f\"\\tLigand: ATP,MG,MG\")\n",
    "oechem.OEAddPDBData(abl1_atp_mg_water, \"COMPND\", f\"\\tKinase template: {abl1_template.pdb}\")\n",
    "oechem.OEAddPDBData(abl1_atp_mg_water, \"COMPND\", f\"\\tLigand template: {atp_template.pdb}\")"
   ]
  },
  {
   "cell_type": "code",
   "execution_count": 27,
   "metadata": {},
   "outputs": [
    {
     "data": {
      "text/plain": [
       "True"
      ]
     },
     "execution_count": 27,
     "metadata": {},
     "output_type": "execute_result"
    }
   ],
   "source": [
    "# adjust protonation\n",
    "oechem.OEPlaceHydrogens(abl1_atp_mg_water)"
   ]
  },
  {
   "cell_type": "code",
   "execution_count": 28,
   "metadata": {},
   "outputs": [],
   "source": [
    "# update atom indeces etc\n",
    "abl1_atp_mg_water = update_residue_identifiers(abl1_atp_mg_water)"
   ]
  },
  {
   "cell_type": "code",
   "execution_count": 29,
   "metadata": {},
   "outputs": [],
   "source": [
    "# write ABL1 ATP complex\n",
    "write_molecules([abl1_atp_mg_water], user_cache_dir() + \"/ABL1_ATP_MG.pdb\")"
   ]
  },
  {
   "cell_type": "markdown",
   "metadata": {},
   "source": [
    "Looking at the generated complex, we can observe several small atom clashes between newly placed ATP and the protein. However, the overall quality looks good and observed atom clashes may relax upon energy minimization and MD simulation."
   ]
  },
  {
   "cell_type": "markdown",
   "metadata": {},
   "source": [
    "## Prepare reference structure\n",
    "\n",
    "To have a realistic reference, we will also prepare the ATP template 5DNR. This way, we can compare the behavior of both complexes in MD simulations."
   ]
  },
  {
   "cell_type": "code",
   "execution_count": 30,
   "metadata": {},
   "outputs": [],
   "source": [
    "# prepare complex\n",
    "atp_structure_du = prepare_complex(atp_structure, loop_db=\"~/.OpenEye/rcsb_spruce.loop_db\")"
   ]
  },
  {
   "cell_type": "code",
   "execution_count": 31,
   "metadata": {},
   "outputs": [
    {
     "data": {
      "text/plain": [
       "True"
      ]
     },
     "execution_count": 31,
     "metadata": {},
     "output_type": "execute_result"
    }
   ],
   "source": [
    "# retrieve relevant components\n",
    "protein, solvent, ligand, mg = oechem.OEGraphMol(), oechem.OEGraphMol(), oechem.OEGraphMol(), oechem.OEGraphMol()\n",
    "atp_structure_du.GetProtein(protein)\n",
    "atp_structure_du.GetSolvent(solvent)\n",
    "atp_structure_du.GetLigand(ligand)\n",
    "atp_structure_du.GetComponents(mg, oechem.OEDesignUnitComponents_Cofactors)"
   ]
  },
  {
   "cell_type": "code",
   "execution_count": 32,
   "metadata": {},
   "outputs": [
    {
     "data": {
      "text/plain": [
       "([<oechem.OEAtomBase; proxy of <Swig Object of type 'OEChem::OEAtomBase *' at 0x7eff67903de0> >,\n",
       "  <oechem.OEAtomBase; proxy of <Swig Object of type 'OEChem::OEAtomBase *' at 0x7eff67903600> >],\n",
       " [])"
      ]
     },
     "execution_count": 32,
     "metadata": {},
     "output_type": "execute_result"
    }
   ],
   "source": [
    "# combine components\n",
    "prepared_complex = oechem.OEGraphMol()\n",
    "oechem.OEAddMols(prepared_complex, protein)\n",
    "oechem.OEAddMols(prepared_complex, ligand)\n",
    "oechem.OEAddMols(prepared_complex, solvent)\n",
    "oechem.OEAddMols(prepared_complex, mg)"
   ]
  },
  {
   "cell_type": "code",
   "execution_count": 33,
   "metadata": {},
   "outputs": [],
   "source": [
    "# update atom indices etc\n",
    "prepared_complex = update_residue_identifiers(prepared_complex)"
   ]
  },
  {
   "cell_type": "code",
   "execution_count": 34,
   "metadata": {},
   "outputs": [],
   "source": [
    "# write reference ATP complex\n",
    "prepared_complex_path = user_cache_dir() + \"/5dnr_prep.pdb\"\n",
    "write_molecules([prepared_complex], prepared_complex_path)"
   ]
  }
 ],
 "metadata": {
  "kernelspec": {
   "display_name": "Python 3",
   "language": "python",
   "name": "python3"
  },
  "language_info": {
   "codemirror_mode": {
    "name": "ipython",
    "version": 3
   },
   "file_extension": ".py",
   "mimetype": "text/x-python",
   "name": "python",
   "nbconvert_exporter": "python",
   "pygments_lexer": "ipython3",
   "version": "3.7.8"
  }
 },
 "nbformat": 4,
 "nbformat_minor": 4
}
