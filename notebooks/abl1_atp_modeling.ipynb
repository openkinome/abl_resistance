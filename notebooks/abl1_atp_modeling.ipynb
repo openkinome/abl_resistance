{
 "cells": [
  {
   "cell_type": "markdown",
   "metadata": {},
   "source": [
    "# ABL1 ATP modeling"
   ]
  },
  {
   "cell_type": "markdown",
   "metadata": {},
   "source": [
    "This notebook aims at generating a structure of ABL1 in complex with ATP and two Mg2+ ions. The presented workflow could be used as a template to implement an automated pipeline into KinoML."
   ]
  },
  {
   "cell_type": "markdown",
   "metadata": {},
   "source": [
    "A visual analysis of ATP bound structures annotated in KLIFS revealed a common binding mode for ATP and 2 Mg2+ ions ([notebook for statistics](https://github.com/openkinome/study-abl-resistance/blob/master/notebooks/atp_kinase_conformations.ipynb)). Special kinases that miss critical residues for Mg2+ complexation (e.g., missing D of DFG motif) show either no magnesium bound or a likely more instable coordination. Thus, all kinase ATP complexes could be modeled in the same fashion. Kinases missing critical residues could be modeled with or without magnesium. This is also supported by others ([Roskoski 2015](https://doi.org/10.1016/j.phrs.2015.07.010))."
   ]
  },
  {
   "cell_type": "markdown",
   "metadata": {},
   "source": [
    "A prototypical structure that will be used as the template to model kinase ATP complexes is the 1.26 A resolution PDB entry [1RDQ](https://www.rcsb.org/structure/1RDQ), which constitutes of the [PRKACA](https://en.wikipedia.org/wiki/PRKACA) kinase, ATP, ADP, a phosphate and a substrate mimicing peptide inhibitor. It represents the structure with the lowest resolution and interestingly shows electron density for the ATP and the ADP-phosphate bound states. It also contains a mutation (T204A) distant from the active state that was shown to affect catalysis but does not show an effect on the static 3D structure ([article](http://dx.doi.org/10.1016/j.jmb.2003.11.044))."
   ]
  },
  {
   "cell_type": "markdown",
   "metadata": {},
   "source": [
    "## Content\n",
    "\n",
    "- prepare ATP template structure\n",
    "- determine critical sidechain dihedrals\n",
    "- select ABL1 structure\n",
    "- superpose to ATP template structure\n",
    "- prepare ABL1 structure\n",
    "- adjust critical sidechain dihedrals in ABL1\n",
    "- assemble complex"
   ]
  },
  {
   "cell_type": "markdown",
   "metadata": {},
   "source": [
    "## Code"
   ]
  },
  {
   "cell_type": "code",
   "execution_count": 1,
   "metadata": {},
   "outputs": [
    {
     "data": {
      "application/vnd.jupyter.widget-view+json": {
       "model_id": "102651df014f40279678a22e54cc9c95",
       "version_major": 2,
       "version_minor": 0
      },
      "text/plain": []
     },
     "metadata": {},
     "output_type": "display_data"
    }
   ],
   "source": [
    "from appdirs import user_cache_dir\n",
    "import klifs_utils\n",
    "from openeye import oechem, oespruce\n",
    "\n",
    "from kinoml.features.complexes import OEKLIFSKinaseHybridDockingFeaturizer\n",
    "from kinoml.modeling.OEModeling import (\n",
    "    read_molecules, \n",
    "    write_molecules, \n",
    "    select_altloc, \n",
    "    select_chain, \n",
    "    split_molecule_components, \n",
    "    clashing_atoms, \n",
    "    update_residue_identifiers, \n",
    "    prepare_complex,\n",
    "    _OEFixBuiltLoopFragmentNumbers,\n",
    "    _OEFixConnectionNH, \n",
    ")\n",
    "from kinoml.utils import LocalFileStorage, FileDownloader"
   ]
  },
  {
   "cell_type": "markdown",
   "metadata": {},
   "source": [
    "### Prepare ATP template structure"
   ]
  },
  {
   "cell_type": "markdown",
   "metadata": {},
   "source": [
    "First, the ATP bound structure 1RDQ will be prepared. This is a little hacky, since 1RDQ contains two phospho residues that prevent OESpruce from building missing loops. So a few manual steps need to be performed to correct the structure. Chain and alternate location need to be selected to pick the ATP bound conformation and to remove the substrate mimicking peptide inhibitor. Two phosphorylated residues are mutated back to the standard residues. A missing loop will be built. The real termini will not be capped. The prepared structure will be saved and can later be used for comparing the behavior in MD simulations."
   ]
  },
  {
   "cell_type": "code",
   "execution_count": 2,
   "metadata": {},
   "outputs": [
    {
     "data": {
      "text/plain": [
       "'1rdq'"
      ]
     },
     "execution_count": 2,
     "metadata": {},
     "output_type": "execute_result"
    }
   ],
   "source": [
    "# get details for 1RDQ from KLIFS\n",
    "atp_template = klifs_utils.remote.structures.structures_from_structure_ids(5927).iloc[0]\n",
    "atp_template.pdb"
   ]
  },
  {
   "cell_type": "code",
   "execution_count": 3,
   "metadata": {},
   "outputs": [],
   "source": [
    "# download and read ATP template structure\n",
    "FileDownloader.rcsb_structure_pdb(atp_template.pdb)\n",
    "atp_structure = read_molecules(LocalFileStorage.rcsb_structure_pdb(atp_template.pdb))[0]"
   ]
  },
  {
   "cell_type": "code",
   "execution_count": 4,
   "metadata": {},
   "outputs": [],
   "source": [
    "# select alternate location B, which contains ATP\n",
    "atp_structure = select_altloc(atp_structure, atp_template.alt)"
   ]
  },
  {
   "cell_type": "code",
   "execution_count": 5,
   "metadata": {},
   "outputs": [],
   "source": [
    "# select chain E, since chain I contains the substrate mimicing inhibitor\n",
    "atp_structure = select_chain(atp_structure, atp_template.chain)"
   ]
  },
  {
   "cell_type": "code",
   "execution_count": 6,
   "metadata": {},
   "outputs": [],
   "source": [
    "def mutate_residue(protein, old, resid, chain, new):\n",
    "    hier_view = oechem.OEHierView(protein)\n",
    "    hier_residue = hier_view.GetResidue(chain, old, resid)\n",
    "    oe_residue = hier_residue.GetOEResidue()\n",
    "    oespruce.OEMutateResidue(protein, oe_residue, new)\n",
    "    for atom in protein.GetAtoms(oechem.OEHasResidueNumber(resid)):\n",
    "        oe_residue = oechem.OEAtomGetResidue(atom)\n",
    "        oe_residue.SetHetAtom(False)\n",
    "        oechem.OEAtomSetResidue(atom, oe_residue)"
   ]
  },
  {
   "cell_type": "code",
   "execution_count": 7,
   "metadata": {},
   "outputs": [],
   "source": [
    "# mutate phospho residues to standard amino acids\n",
    "mutate_residue(atp_structure, \"TPO\", 197, \"E\", \"THR\")\n",
    "mutate_residue(atp_structure, \"SEP\", 338, \"E\", \"SER\")"
   ]
  },
  {
   "cell_type": "code",
   "execution_count": 8,
   "metadata": {},
   "outputs": [],
   "source": [
    "# build missing loop\n",
    "hier_view = oechem.OEHierView(atp_structure)\n",
    "gap_start_residue = hier_view.GetResidue(\"E\", \"ALA\", 5).GetOEResidue()\n",
    "gap_end_residue = hier_view.GetResidue(\"E\", \"SER\", 14).GetOEResidue()\n",
    "modeled_structure = oechem.OEMol()\n",
    "sidechain_builder_options = oespruce.OESidechainBuilderOptions()\n",
    "loop_builder_options = oespruce.OELoopBuilderOptions()\n",
    "loop_builder_options.SetLoopDBFilename(\n",
    "    \"/home/david/.OpenEye/rcsb_spruce.loop_db\"\n",
    ")\n",
    "oespruce.OEBuildSingleLoop(modeled_structure, atp_structure, \"AKKGSEQE\", gap_start_residue, gap_end_residue, \n",
    "                           sidechain_builder_options, loop_builder_options)\n",
    "_OEFixConnectionNH(modeled_structure)\n",
    "_OEFixBuiltLoopFragmentNumbers(modeled_structure)"
   ]
  },
  {
   "cell_type": "code",
   "execution_count": 9,
   "metadata": {},
   "outputs": [],
   "source": [
    "# run preparation pipeline to fix remaining issues\n",
    "atp_structure_du = prepare_complex(modeled_structure, real_termini=[1, 350])"
   ]
  },
  {
   "cell_type": "code",
   "execution_count": 10,
   "metadata": {},
   "outputs": [
    {
     "data": {
      "text/plain": [
       "True"
      ]
     },
     "execution_count": 10,
     "metadata": {},
     "output_type": "execute_result"
    }
   ],
   "source": [
    "# extract components\n",
    "atp_protein, atp_solvent, atp_ligand, atp_mg = oechem.OEGraphMol(), oechem.OEGraphMol(), oechem.OEGraphMol(), oechem.OEGraphMol()\n",
    "atp_structure_du.GetProtein(atp_protein)\n",
    "atp_structure_du.GetSolvent(atp_solvent)\n",
    "atp_structure_du.GetLigand(atp_ligand)\n",
    "atp_ligand.SetTitle(\"ATP\")\n",
    "atp_structure_du.GetComponents(atp_mg, oechem.OEDesignUnitComponents_Cofactors)"
   ]
  },
  {
   "cell_type": "code",
   "execution_count": 11,
   "metadata": {},
   "outputs": [
    {
     "data": {
      "text/plain": [
       "([<oechem.OEAtomBase; proxy of <Swig Object of type 'OEChem::OEAtomBase *' at 0x7f6271cb6630> >,\n",
       "  <oechem.OEAtomBase; proxy of <Swig Object of type 'OEChem::OEAtomBase *' at 0x7f6271cb6690> >],\n",
       " [])"
      ]
     },
     "execution_count": 11,
     "metadata": {},
     "output_type": "execute_result"
    }
   ],
   "source": [
    "# combine components\n",
    "reference_mg_water = oechem.OEGraphMol()\n",
    "oechem.OEAddMols(reference_mg_water, atp_protein)\n",
    "oechem.OEAddMols(reference_mg_water, atp_solvent)\n",
    "oechem.OEAddMols(reference_mg_water, atp_mg)"
   ]
  },
  {
   "cell_type": "code",
   "execution_count": 12,
   "metadata": {},
   "outputs": [],
   "source": [
    "# update atom indeces etc\n",
    "reference_mg_water = update_residue_identifiers(reference_mg_water)"
   ]
  },
  {
   "cell_type": "code",
   "execution_count": 13,
   "metadata": {},
   "outputs": [],
   "source": [
    "# write structure\n",
    "write_molecules([reference_mg_water], user_cache_dir() + f\"/{atp_template.pdb}_mg_water.pdb\")\n",
    "write_molecules([atp_ligand], user_cache_dir() + f\"/{atp_template.pdb}_atp.sdf\")"
   ]
  },
  {
   "cell_type": "markdown",
   "metadata": {},
   "source": [
    "### Determine critical sidechain dihedrals"
   ]
  },
  {
   "cell_type": "markdown",
   "metadata": {},
   "source": [
    "The template for ATP modeling will next be used to analyze the dihedral angles of sidechains involved in Mg2+ complexation. Later, these angles will be used to adjust sidechains of the ABL1 structure to allow a more ideal complexation of transferred ATP and Mg2+ ions. Determining those residues is possible via the KLIFS pocket residue numbering scheme."
   ]
  },
  {
   "cell_type": "code",
   "execution_count": 14,
   "metadata": {},
   "outputs": [],
   "source": [
    "# retrieve pocket residues for 1RDQ from KLIFS\n",
    "atp_pocket_resids = klifs_utils.remote.interactions.klifs_pocket_numbering_from_structure_id(atp_template.structure_ID)"
   ]
  },
  {
   "cell_type": "code",
   "execution_count": 15,
   "metadata": {},
   "outputs": [],
   "source": [
    "# collect sidechain dihedrals for KLIFS pocket residues 17, 75, 81\n",
    "optimal_sidechain_dihedrals = {}\n",
    "klifs_pocket_numbers = [17, 75, 81]\n",
    "hierview = oechem.OEHierView(atp_protein)\n",
    "for hier_residue in hierview.GetResidues():\n",
    "    residue_number = hier_residue.GetResidueNumber()\n",
    "    if str(residue_number) in atp_pocket_resids.Xray_position.to_list():\n",
    "        klifs_pocket_number = atp_pocket_resids[atp_pocket_resids.Xray_position == str(residue_number)][\"index\"].iloc[0]\n",
    "    else:\n",
    "        klifs_pocket_number = None\n",
    "    if klifs_pocket_number in klifs_pocket_numbers:\n",
    "        dihedrals = []\n",
    "        for chi_id in range(5):\n",
    "            if chi_id == 0:\n",
    "                dihedral = oechem.OEGetTorsion(hier_residue, oechem.OEProtTorType_Chi1)\n",
    "            elif chi_id == 1:\n",
    "                dihedral = oechem.OEGetTorsion(hier_residue, oechem.OEProtTorType_Chi2)\n",
    "            elif chi_id == 2:\n",
    "                dihedral = oechem.OEGetTorsion(hier_residue, oechem.OEProtTorType_Chi3)\n",
    "            elif chi_id == 3:\n",
    "                dihedral = oechem.OEGetTorsion(hier_residue, oechem.OEProtTorType_Chi4)\n",
    "            else:\n",
    "                dihedral = oechem.OEGetTorsion(hier_residue, oechem.OEProtTorType_Chi5)\n",
    "            if dihedral == -100:\n",
    "                break\n",
    "            else:\n",
    "                dihedrals.append(dihedral)\n",
    "        optimal_sidechain_dihedrals[klifs_pocket_number] = dihedrals"
   ]
  },
  {
   "cell_type": "code",
   "execution_count": 16,
   "metadata": {},
   "outputs": [
    {
     "data": {
      "text/plain": [
       "{17: [-3.089483912577018,\n",
       "  2.951150301564102,\n",
       "  -3.0567832347435426,\n",
       "  3.044468280163516],\n",
       " 75: [-1.241181465049672, -0.4145182818391439],\n",
       " 81: [-2.871500580938877, -0.12627669751154993]}"
      ]
     },
     "execution_count": 16,
     "metadata": {},
     "output_type": "execute_result"
    }
   ],
   "source": [
    "optimal_sidechain_dihedrals"
   ]
  },
  {
   "cell_type": "markdown",
   "metadata": {},
   "source": [
    "### Select ABL1 structure"
   ]
  },
  {
   "cell_type": "markdown",
   "metadata": {},
   "source": [
    "The PDB entry used for modeling the ABL1 ATP complex is determined by filtering KLIFS entries for the active kinase conformation, i.e., DFG in and aC helix in, and by selecting the highest quality structure in terms of resolution and KLIFS quality score. "
   ]
  },
  {
   "cell_type": "code",
   "execution_count": 17,
   "metadata": {},
   "outputs": [],
   "source": [
    "abl1_klifs_kinase_id = 392"
   ]
  },
  {
   "cell_type": "code",
   "execution_count": 18,
   "metadata": {},
   "outputs": [
    {
     "data": {
      "text/plain": [
       "'2f4j'"
      ]
     },
     "execution_count": 18,
     "metadata": {},
     "output_type": "execute_result"
    }
   ],
   "source": [
    "# retrieve ABL1 kinase structures\n",
    "abl1_df = klifs_utils.remote.structures.structures_from_kinase_ids(392)\n",
    "# remove NMR\n",
    "abl1_df = abl1_df[abl1_df.resolution > 0]\n",
    "# filter for DFG in/aC helix in conformation\n",
    "abl1_df = abl1_df[abl1_df.DFG == 'in']\n",
    "abl1_df = abl1_df[abl1_df.aC_helix == 'in']\n",
    "# pick highest quality structure\n",
    "abl1_df = abl1_df.sort_values(by=['quality_score', 'resolution', 'chain', 'alt'],ascending=[False, True, True, True])\n",
    "abl1_template = abl1_df.iloc[0]\n",
    "abl1_template.pdb"
   ]
  },
  {
   "cell_type": "markdown",
   "metadata": {},
   "source": [
    "However, [2F4J](https://www.rcsb.org/structure/2F4J) shows a P-loop conformation that is unlikely to make favorable interactions with the phosphate groups of the ATP, which is crucial for proper ATP binding and catalysis ([Roskoski 2015](https://doi.org/10.1016/j.phrs.2015.07.010)). A manual inspection of the P-loop conformations of human ABL1 structures in the DFG in/aC helix in conformation found in [KLIFS](https://klifs.net/) resulted in the identification of [2V7A](https://www.rcsb.org/structure/2V7A), which will be used to generate a second ABL1 ATP complex."
   ]
  },
  {
   "cell_type": "code",
   "execution_count": 36,
   "metadata": {},
   "outputs": [],
   "source": [
    "# outcomment the next line to generate an ABL1 ATP complex based on 2v7a\n",
    "abl1_template = abl1_df[abl1_df.pdb == \"2v7a\"].iloc[0]"
   ]
  },
  {
   "cell_type": "markdown",
   "metadata": {},
   "source": [
    "### Superpose to ATP template structure"
   ]
  },
  {
   "cell_type": "markdown",
   "metadata": {},
   "source": [
    "Next, the ABL1 structure will be superimposed with the ATP bound structure 1RDQ to allow later transfer of ATP and Mg2+ ions. The `superpose_proteins` function from KinoML is slightly improved to allow a more accurate superposition based on the ATP binding pocket residues."
   ]
  },
  {
   "cell_type": "code",
   "execution_count": 37,
   "metadata": {},
   "outputs": [],
   "source": [
    "# altered KinoML function\n",
    "def superpose_protein_sites(\n",
    "    reference_protein: oechem.OEGraphMol, \n",
    "    fit_protein: oechem.OEGraphMol, \n",
    "    residues,\n",
    "    chain_id,\n",
    "    insertion_code=\" \"\n",
    ") -> oechem.OEGraphMol:\n",
    "    \"\"\"\n",
    "    Superpose a protein structure onto a reference protein.\n",
    "    Parameters\n",
    "    ----------\n",
    "    reference_protein: oechem.OEGraphMol\n",
    "        An OpenEye molecule holding a protein structure which will be used as reference during superposition.\n",
    "    fit_protein: oechem.OEGraphMol\n",
    "        An OpenEye molecule holding a protein structure which will be superposed onto the reference protein.\n",
    "    Returns\n",
    "    -------\n",
    "    superposed_protein: oechem.OEGraphMol\n",
    "        An OpenEye molecule holding the superposed protein structure.\n",
    "    \"\"\"\n",
    "    # do not modify input\n",
    "    superposed_protein = fit_protein.CreateCopy()\n",
    "\n",
    "    # set superposition method\n",
    "    options = oespruce.OESuperpositionOptions()\n",
    "    options.SetSuperpositionType(oespruce.OESuperpositionType_Site)\n",
    "    for residue in residues:\n",
    "        options.AddSiteResidue(f\"{residue[:3]}:{residue[3:]}:{insertion_code}:{chain_id}\")\n",
    "\n",
    "    # perform superposition\n",
    "    superposition = oespruce.OEStructuralSuperposition(\n",
    "        reference_protein, superposed_protein, options\n",
    "    )\n",
    "    superposition.Transform(superposed_protein)\n",
    "\n",
    "    return superposed_protein"
   ]
  },
  {
   "cell_type": "code",
   "execution_count": 38,
   "metadata": {},
   "outputs": [],
   "source": [
    "# download and read ABL1 template structure\n",
    "FileDownloader.rcsb_structure_pdb(abl1_template.pdb)\n",
    "abl1_structure = read_molecules(LocalFileStorage.rcsb_structure_pdb(abl1_template.pdb))[0]"
   ]
  },
  {
   "cell_type": "code",
   "execution_count": 39,
   "metadata": {},
   "outputs": [],
   "source": [
    "# retrieve pocket residues for 1RDQ from KLIFS\n",
    "pocket_residues = klifs_utils.remote.coordinates.pocket.mol2_to_dataframe(atp_template.structure_ID).subst_name.unique()"
   ]
  },
  {
   "cell_type": "code",
   "execution_count": 40,
   "metadata": {},
   "outputs": [],
   "source": [
    "# superpose proteins\n",
    "abl1_structure_superposed = superpose_protein_sites(atp_protein, abl1_structure, pocket_residues, atp_template.chain)"
   ]
  },
  {
   "cell_type": "markdown",
   "metadata": {},
   "source": [
    "### Prepare ABL1 structure"
   ]
  },
  {
   "cell_type": "code",
   "execution_count": 41,
   "metadata": {},
   "outputs": [],
   "source": [
    "# prepare ABL1 structure\n",
    "abl1_structure_du = prepare_complex(abl1_structure_superposed, loop_db=\"/home/david/.OpenEye/rcsb_spruce.loop_db\", cap_termini=False)"
   ]
  },
  {
   "cell_type": "code",
   "execution_count": 42,
   "metadata": {},
   "outputs": [],
   "source": [
    "# get relevant components\n",
    "abl1_protein, abl1_solvent = oechem.OEGraphMol(), oechem.OEGraphMol()\n",
    "abl1_structure_du.GetProtein(abl1_protein)\n",
    "abl1_structure_du.GetSolvent(abl1_solvent)\n",
    "abl1_solvent_molecules = split_molecule_components(abl1_solvent)"
   ]
  },
  {
   "cell_type": "code",
   "execution_count": 43,
   "metadata": {},
   "outputs": [],
   "source": [
    "# mutate phospho residue for 2v7a\n",
    "if abl1_template.pdb == \"2v7a\":\n",
    "    chain_id = oechem.OEAtomGetResidue(list(abl1_protein.GetAtoms())[0]).GetChainID()\n",
    "    mutate_residue(abl1_protein, \"PTR\", 393, chain_id, \"TYR\")"
   ]
  },
  {
   "cell_type": "code",
   "execution_count": 44,
   "metadata": {},
   "outputs": [],
   "source": [
    "# process kinase domain\n",
    "uniprot_id = \"P00519\"\n",
    "featurizer = OEKLIFSKinaseHybridDockingFeaturizer()\n",
    "abl1_protein = featurizer._process_kinase_domain(abl1_protein, uniprot_id)"
   ]
  },
  {
   "cell_type": "markdown",
   "metadata": {},
   "source": [
    "### Adjust critical sidechain residues"
   ]
  },
  {
   "cell_type": "markdown",
   "metadata": {},
   "source": [
    "Next, the critical dihedrals of the ABL1 structure will be adjusted to match the ATP template structure and subsequently prepared. **Note:** The selection for adjusting dihedrals is only based on residue numbers. This could lead to unexpected behavior if the structure contains mutliple residues with the same residue number."
   ]
  },
  {
   "cell_type": "code",
   "execution_count": 45,
   "metadata": {},
   "outputs": [],
   "source": [
    "# retrieve pocket residues for ABL1 structure from KLIFS\n",
    "abl1_pocket_resids = klifs_utils.remote.interactions.klifs_pocket_numbering_from_structure_id(abl1_template.structure_ID)"
   ]
  },
  {
   "cell_type": "code",
   "execution_count": 46,
   "metadata": {},
   "outputs": [],
   "source": [
    "# adjust sidechain dihedral for KLIFS pocket residues 17, 75, 81\n",
    "klifs_pocket_numbers = [17, 75, 81]\n",
    "hierview = oechem.OEHierView(abl1_protein)\n",
    "for hier_residue in hierview.GetResidues():\n",
    "    residue_number = hier_residue.GetResidueNumber()\n",
    "    if str(residue_number) in abl1_pocket_resids.Xray_position.to_list():\n",
    "        klifs_pocket_number = abl1_pocket_resids[abl1_pocket_resids.Xray_position == str(residue_number)][\"index\"].iloc[0]\n",
    "    else:\n",
    "        klifs_pocket_number = None\n",
    "    if klifs_pocket_number in klifs_pocket_numbers:\n",
    "        for index, dihedral in enumerate(optimal_sidechain_dihedrals[klifs_pocket_number]):\n",
    "            if index == 0:\n",
    "                oechem.OESetTorsion(hier_residue, oechem.OEProtTorType_Chi1, dihedral)\n",
    "            elif index == 1:\n",
    "                oechem.OESetTorsion(hier_residue, oechem.OEProtTorType_Chi2, dihedral)\n",
    "            elif index == 2:\n",
    "                oechem.OESetTorsion(hier_residue, oechem.OEProtTorType_Chi3, dihedral)\n",
    "            elif index == 3:\n",
    "                oechem.OESetTorsion(hier_residue, oechem.OEProtTorType_Chi4, dihedral)\n",
    "            else:\n",
    "                oechem.OESetTorsion(hier_residue, oechem.OEProtTorType_Chi5, dihedral)"
   ]
  },
  {
   "cell_type": "markdown",
   "metadata": {},
   "source": [
    "### Assemble complex"
   ]
  },
  {
   "cell_type": "markdown",
   "metadata": {},
   "source": [
    "Finally, we can assemble all components and store information in the PDB header. Solvent molecules will only be added if not clashing with ATP or Mg2+ ions. ATP will be saved seperately, which makes setting up MD simulation  easier."
   ]
  },
  {
   "cell_type": "code",
   "execution_count": 47,
   "metadata": {},
   "outputs": [
    {
     "name": "stdout",
     "output_type": "stream",
     "text": [
      "Found clashing water!\n"
     ]
    }
   ],
   "source": [
    "# assemble complex\n",
    "abl1_atp_complex = oechem.OEGraphMol()\n",
    "# add protein\n",
    "oechem.OEAddMols(abl1_atp_complex, abl1_protein)\n",
    "# add atp\n",
    "oechem.OEAddMols(abl1_atp_complex, atp_ligand)\n",
    "# add MG\n",
    "oechem.OEAddMols(abl1_atp_complex, atp_mg)\n",
    "# add water if not clashing with protein, ATP or Mg2+\n",
    "for solvent_molecule in abl1_solvent_molecules:\n",
    "    if not clashing_atoms(atp_ligand, solvent_molecule):\n",
    "        if not clashing_atoms(atp_mg, solvent_molecule):\n",
    "            oechem.OEAddMols(abl1_atp_complex, solvent_molecule)\n",
    "        else:\n",
    "            print(\"Found clashing water!\")\n",
    "    else:\n",
    "        print(\"Found clashing water!\")"
   ]
  },
  {
   "cell_type": "code",
   "execution_count": 48,
   "metadata": {},
   "outputs": [
    {
     "data": {
      "text/plain": [
       "True"
      ]
     },
     "execution_count": 48,
     "metadata": {},
     "output_type": "execute_result"
    }
   ],
   "source": [
    "# adjust protonation\n",
    "oechem.OEPlaceHydrogens(abl1_atp_complex)"
   ]
  },
  {
   "cell_type": "code",
   "execution_count": 49,
   "metadata": {},
   "outputs": [
    {
     "data": {
      "text/plain": [
       "True"
      ]
     },
     "execution_count": 49,
     "metadata": {},
     "output_type": "execute_result"
    }
   ],
   "source": [
    "# split complex for separate saving\n",
    "abl1_mg_water = abl1_atp_complex.CreateCopy()\n",
    "abl1_atp = abl1_atp_complex.CreateCopy()\n",
    "for atom1, atom2 in zip(abl1_mg_water.GetAtoms(), abl1_atp.GetAtoms()):\n",
    "    residue = oechem.OEAtomGetResidue(atom1)\n",
    "    if residue.GetName().strip() == \"ATP\" :\n",
    "        abl1_mg_water.DeleteAtom(atom1)\n",
    "    else:\n",
    "        abl1_atp.DeleteAtom(atom2)\n",
    "abl1_atp.SetTitle(\"ATP\")"
   ]
  },
  {
   "cell_type": "code",
   "execution_count": 50,
   "metadata": {},
   "outputs": [],
   "source": [
    "# update atom indeces etc\n",
    "abl1_mg_water = update_residue_identifiers(abl1_mg_water)"
   ]
  },
  {
   "cell_type": "code",
   "execution_count": 51,
   "metadata": {},
   "outputs": [
    {
     "data": {
      "text/plain": [
       "True"
      ]
     },
     "execution_count": 51,
     "metadata": {},
     "output_type": "execute_result"
    }
   ],
   "source": [
    "# store info in PDB header\n",
    "oechem.OEClearPDBData(abl1_mg_water)\n",
    "oechem.OESetPDBData(abl1_mg_water, \"COMPND\", f\"\\tProtein: ABL1\")\n",
    "oechem.OEAddPDBData(abl1_mg_water, \"COMPND\", f\"\\tSolvent: Removed water clashing with ATP,MG,MG\")\n",
    "oechem.OEAddPDBData(abl1_mg_water, \"COMPND\", f\"\\tLigand: MG,MG\")\n",
    "oechem.OEAddPDBData(abl1_mg_water, \"COMPND\", f\"\\tKinase template: {abl1_template.pdb}\")\n",
    "oechem.OEAddPDBData(abl1_mg_water, \"COMPND\", f\"\\tLigand template: {atp_template.pdb}\")"
   ]
  },
  {
   "cell_type": "code",
   "execution_count": 52,
   "metadata": {},
   "outputs": [],
   "source": [
    "# write ABL1 ATP complex\n",
    "write_molecules([abl1_mg_water], user_cache_dir() + f\"/{abl1_template.pdb}_mg_water.pdb\")\n",
    "write_molecules([abl1_atp], user_cache_dir() + f\"/{abl1_template.pdb}_atp.sdf\")"
   ]
  }
 ],
 "metadata": {
  "kernelspec": {
   "display_name": "Python 3",
   "language": "python",
   "name": "python3"
  },
  "language_info": {
   "codemirror_mode": {
    "name": "ipython",
    "version": 3
   },
   "file_extension": ".py",
   "mimetype": "text/x-python",
   "name": "python",
   "nbconvert_exporter": "python",
   "pygments_lexer": "ipython3",
   "version": "3.7.8"
  }
 },
 "nbformat": 4,
 "nbformat_minor": 4
}
