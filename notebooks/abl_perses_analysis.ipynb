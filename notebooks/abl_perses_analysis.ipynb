{
 "cells": [
  {
   "cell_type": "markdown",
   "metadata": {},
   "source": [
    "# Analysis of Abl mutations in Perses"
   ]
  },
  {
   "cell_type": "markdown",
   "metadata": {},
   "source": [
    "Analysis of the Hauser et al. mutations for dasatinib and imatinib inhibitors\n",
    "\n",
    "**Note:** Some simulations are still running for a number of mutations and so the dataset may be incomplete."
   ]
  },
  {
   "cell_type": "code",
   "execution_count": 1,
   "metadata": {},
   "outputs": [],
   "source": [
    "from perses.analysis.analysis import Analysis\n",
    "import numpy as np\n",
    "import seaborn as sns\n",
    "import matplotlib.pyplot as plt\n",
    "import pymbar\n",
    "%matplotlib inline\n",
    "import os\n",
    "import itertools\n",
    "from tqdm import notebook as tqdm_notebook\n",
    "import pandas as pd\n",
    "\n",
    "\n",
    "from simtk.openmm import unit\n",
    "from openmmtools.constants import kB\n",
    "KT_KCALMOL = kB * 300 * unit.kelvin / unit.kilocalories_per_mole"
   ]
  },
  {
   "cell_type": "code",
   "execution_count": 2,
   "metadata": {},
   "outputs": [],
   "source": [
    "def subtract_offset(forward_work, reverse_work):\n",
    "\n",
    "    print(\"--> subtracting offset\")\n",
    "    \n",
    "    forward_work_offset = []\n",
    "    for cycle in forward_work:\n",
    "        forward_work_offset.append(np.array([val - cycle[0] for val in cycle[1:]]))\n",
    "    forward_work_offset = np.array(forward_work_offset)\n",
    "\n",
    "    reverse_work_offset = []\n",
    "    for cycle in reverse_work:\n",
    "        reverse_work_offset.append(np.array([val - cycle[0] for val in cycle[1:]]))\n",
    "    reverse_work_offset = np.array(reverse_work_offset)\n",
    "    \n",
    "    return forward_work_offset, reverse_work_offset"
   ]
  },
  {
   "cell_type": "code",
   "execution_count": 3,
   "metadata": {},
   "outputs": [],
   "source": [
    "def analyse(forward_accumulated, reverse_accumulated):\n",
    "    \n",
    "    print(\"--> computing dg, ddg\")\n",
    "    dg, ddg = pymbar.bar.BAR(forward_accumulated, reverse_accumulated)\n",
    "    \n",
    "    return dg, ddg\n"
   ]
  },
  {
   "cell_type": "code",
   "execution_count": 4,
   "metadata": {},
   "outputs": [],
   "source": [
    "def plot_works(forward_work_offset,\n",
    "               reverse_work_offset,\n",
    "               dg,\n",
    "               ddg,\n",
    "               phase,\n",
    "               mutation,\n",
    "               title,\n",
    "               save=False,\n",
    "               output_dir=None):\n",
    "    \n",
    "    CB_color_cycle = ['#377eb8', '#ff7f00', '#4daf4a',\n",
    "                  '#f781bf', '#a65628', '#984ea3',\n",
    "                  '#999999', '#e41a1c', '#dede00']\n",
    "    \n",
    "    # Plot work trajectories\n",
    "    # TODO: automatically determine the x axis -> this is a bit of a hack at the moment\n",
    "    print(\"--> plotting work trajs\")\n",
    "    \n",
    "    for i, cycle in enumerate(forward_work_offset):\n",
    "        \n",
    "        x = [(j+1)*12.1e-4 for j in range(len(list(cycle)))]\n",
    "        y = cycle\n",
    "        if i==0:\n",
    "            plt.plot(x, y, color=CB_color_cycle[0], label='forward')\n",
    "        else:\n",
    "            plt.plot(x, y, color=CB_color_cycle[0])\n",
    "        \n",
    "    for i, cycle in enumerate(reverse_work_offset):\n",
    "        \n",
    "        x = [(j+1)*12.1e-4 for j in range(len(list(cycle)))]\n",
    "        y = -cycle\n",
    "        if i==0:\n",
    "            plt.plot(x, y, color=CB_color_cycle[1], label='reverse')\n",
    "        else:\n",
    "            plt.plot(x, y, color=CB_color_cycle[1])\n",
    "        \n",
    "    plt.xlabel(\"$t_{neq}$ (ns)\")\n",
    "    plt.ylabel(\"work (kT)\")\n",
    "    plt.title(f\"{title} {phase}\")\n",
    "    plt.legend(loc='best')\n",
    "    if save:\n",
    "        if output_dir is not None:\n",
    "            plt.savefig(os.path.join(output_dir, f\"{mutation}_{phase}_work_traj.png\"), dpi=500)\n",
    "            print(f\"--> saved to: {os.path.join(output_dir, f'{mutation}_{phase}_work_traj.png')}\")\n",
    "        else:\n",
    "            print(\"--> No output_dir specified!\")\n",
    "    else:\n",
    "        plt.show()\n",
    "    plt.clf()\n",
    "    \n",
    "    # Plot work distributions\n",
    "    print(\"--> plotting work distrib\")\n",
    "    \n",
    "    accumulated_forward = [cycle[-1] for cycle in forward_work_offset]\n",
    "    accumulated_reverse = [-cycle[-1] for cycle in reverse_work_offset]\n",
    "    sns.distplot(accumulated_forward, color=CB_color_cycle[0], label='forward')\n",
    "    sns.distplot(accumulated_reverse, color=CB_color_cycle[1], label='reverse')\n",
    "    plt.axvline(dg)\n",
    "    plt.axvline(dg + ddg, linestyle='dashed')\n",
    "    plt.axvline(dg - ddg, linestyle='dashed')\n",
    "    plt.xlabel(\"work (kT)\")\n",
    "    plt.ylabel(\"p(w)\")\n",
    "    plt.title(f\"{title} {phase}\")\n",
    "    plt.legend(loc='best')\n",
    "    if save:\n",
    "        if output_dir is not None:\n",
    "            plt.savefig(os.path.join(output_dir, f\"{mutation}_{phase}_work_dist.png\"), dpi=500)\n",
    "            print(f\"--> saved to: {os.path.join(output_dir, f'{mutation}_{phase}_work_dist.png')}\")\n",
    "        else:\n",
    "            print(\"--> No output_dir specified!\")\n",
    "    else:\n",
    "        plt.show()\n",
    "    plt.clf()"
   ]
  },
  {
   "cell_type": "code",
   "execution_count": 5,
   "metadata": {},
   "outputs": [],
   "source": [
    "# 4xey dasatinib mutations\n",
    "dasatinib_mutations = [\n",
    "    'E255K', 'E255V', 'E355A', 'F317C', 'F317I',\n",
    "    'F317L', 'F317V', 'F359C', 'F359I', 'F359V',\n",
    "    'G250E', 'H396R', 'L248R', 'L248V', 'M244V',\n",
    "    'M351T', 'T315A', 'T315I', 'V299L', 'Y253F'\n",
    "    ]\n",
    "\n",
    "imatinib_mutations = [\n",
    "    'M244V', 'L248R', 'L248V', 'G250E', 'Y253F',\n",
    "    'E255K', 'E255V', 'V299L', 'T315A', 'T315I',\n",
    "    'F317C', 'F317I', 'F317L', 'F317V', 'M351T',\n",
    "    'E355A', 'F359C', 'F359I', 'F359V', 'H396R',\n",
    "    'E459K'\n",
    "]"
   ]
  },
  {
   "cell_type": "code",
   "execution_count": 6,
   "metadata": {
    "scrolled": false
   },
   "outputs": [
    {
     "data": {
      "application/vnd.jupyter.widget-view+json": {
       "model_id": "7db657770d4f4d02898adff1c7841527",
       "version_major": 2,
       "version_minor": 0
      },
      "text/plain": [
       "HBox(children=(FloatProgress(value=0.0), HTML(value='')))"
      ]
     },
     "metadata": {},
     "output_type": "display_data"
    },
    {
     "name": "stdout",
     "output_type": "stream",
     "text": [
      "\n",
      "(100, 1251)\n",
      "(100, 1251)\n",
      "--> subtracting offset\n",
      "--> computing dg, ddg\n",
      "--> subtracting offset\n",
      "--> computing dg, ddg\n",
      "--> plotting work trajs\n",
      "--> saved to: /lila/home/glassw/GITHUB/study-abl-resistance/notebooks/perses_analysis_output/E255K_complex_work_traj.png\n",
      "--> plotting work distrib\n",
      "--> saved to: /lila/home/glassw/GITHUB/study-abl-resistance/notebooks/perses_analysis_output/E255K_complex_work_dist.png\n",
      "--> plotting work trajs\n",
      "--> saved to: /lila/home/glassw/GITHUB/study-abl-resistance/notebooks/perses_analysis_output/E255K_apo_work_traj.png\n",
      "--> plotting work distrib\n",
      "--> saved to: /lila/home/glassw/GITHUB/study-abl-resistance/notebooks/perses_analysis_output/E255K_apo_work_dist.png\n",
      "--> complex_dg: 88.13278887022689\n",
      "--> apo dg: 87.780638683229\n"
     ]
    },
    {
     "data": {
      "application/vnd.jupyter.widget-view+json": {
       "model_id": "c5384d14416a4d95be5cd8ac9c88d864",
       "version_major": 2,
       "version_minor": 0
      },
      "text/plain": [
       "HBox(children=(FloatProgress(value=0.0), HTML(value='')))"
      ]
     },
     "metadata": {},
     "output_type": "display_data"
    },
    {
     "name": "stdout",
     "output_type": "stream",
     "text": [
      "\n",
      "(100, 1251)\n",
      "(100, 1251)\n",
      "--> subtracting offset\n",
      "--> computing dg, ddg\n",
      "--> subtracting offset\n",
      "--> computing dg, ddg\n",
      "--> plotting work trajs\n",
      "--> saved to: /lila/home/glassw/GITHUB/study-abl-resistance/notebooks/perses_analysis_output/E255V_complex_work_traj.png\n",
      "--> plotting work distrib\n",
      "--> saved to: /lila/home/glassw/GITHUB/study-abl-resistance/notebooks/perses_analysis_output/E255V_complex_work_dist.png\n",
      "--> plotting work trajs\n",
      "--> saved to: /lila/home/glassw/GITHUB/study-abl-resistance/notebooks/perses_analysis_output/E255V_apo_work_traj.png\n",
      "--> plotting work distrib\n",
      "--> saved to: /lila/home/glassw/GITHUB/study-abl-resistance/notebooks/perses_analysis_output/E255V_apo_work_dist.png\n",
      "--> complex_dg: 167.51061087390414\n",
      "--> apo dg: 166.40491329537141\n"
     ]
    },
    {
     "data": {
      "application/vnd.jupyter.widget-view+json": {
       "model_id": "5359cb29e14d4964835643c81739b6b2",
       "version_major": 2,
       "version_minor": 0
      },
      "text/plain": [
       "HBox(children=(FloatProgress(value=0.0), HTML(value='')))"
      ]
     },
     "metadata": {},
     "output_type": "display_data"
    },
    {
     "name": "stdout",
     "output_type": "stream",
     "text": [
      "\n",
      "(96, 1251)\n",
      "(100, 1251)\n",
      "--> subtracting offset\n",
      "--> computing dg, ddg\n",
      "--> subtracting offset\n",
      "--> computing dg, ddg\n",
      "--> plotting work trajs\n",
      "--> saved to: /lila/home/glassw/GITHUB/study-abl-resistance/notebooks/perses_analysis_output/E355A_complex_work_traj.png\n",
      "--> plotting work distrib\n",
      "--> saved to: /lila/home/glassw/GITHUB/study-abl-resistance/notebooks/perses_analysis_output/E355A_complex_work_dist.png\n",
      "--> plotting work trajs\n",
      "--> saved to: /lila/home/glassw/GITHUB/study-abl-resistance/notebooks/perses_analysis_output/E355A_apo_work_traj.png\n",
      "--> plotting work distrib\n",
      "--> saved to: /lila/home/glassw/GITHUB/study-abl-resistance/notebooks/perses_analysis_output/E355A_apo_work_dist.png\n",
      "--> complex_dg: 144.22325183167385\n",
      "--> apo dg: 144.43374962832823\n"
     ]
    },
    {
     "data": {
      "application/vnd.jupyter.widget-view+json": {
       "model_id": "05b90873f46f4bc1a1f01b24d491fd5f",
       "version_major": 2,
       "version_minor": 0
      },
      "text/plain": [
       "HBox(children=(FloatProgress(value=0.0), HTML(value='')))"
      ]
     },
     "metadata": {},
     "output_type": "display_data"
    },
    {
     "name": "stdout",
     "output_type": "stream",
     "text": [
      "\n",
      "(100, 1251)\n",
      "(100, 1251)\n",
      "--> subtracting offset\n",
      "--> computing dg, ddg\n",
      "--> subtracting offset\n",
      "--> computing dg, ddg\n",
      "--> plotting work trajs\n",
      "--> saved to: /lila/home/glassw/GITHUB/study-abl-resistance/notebooks/perses_analysis_output/F317C_complex_work_traj.png\n",
      "--> plotting work distrib\n",
      "--> saved to: /lila/home/glassw/GITHUB/study-abl-resistance/notebooks/perses_analysis_output/F317C_complex_work_dist.png\n",
      "--> plotting work trajs\n",
      "--> saved to: /lila/home/glassw/GITHUB/study-abl-resistance/notebooks/perses_analysis_output/F317C_apo_work_traj.png\n",
      "--> plotting work distrib\n",
      "--> saved to: /lila/home/glassw/GITHUB/study-abl-resistance/notebooks/perses_analysis_output/F317C_apo_work_dist.png\n",
      "--> complex_dg: 25.796888742392305\n",
      "--> apo dg: 23.160259820482068\n"
     ]
    },
    {
     "data": {
      "application/vnd.jupyter.widget-view+json": {
       "model_id": "f1191aad5d4547ebb35204c07cddd5e9",
       "version_major": 2,
       "version_minor": 0
      },
      "text/plain": [
       "HBox(children=(FloatProgress(value=0.0), HTML(value='')))"
      ]
     },
     "metadata": {},
     "output_type": "display_data"
    },
    {
     "name": "stdout",
     "output_type": "stream",
     "text": [
      "\n",
      "(100, 1251)\n",
      "(96, 1251)\n",
      "--> subtracting offset\n",
      "--> computing dg, ddg\n",
      "--> subtracting offset\n",
      "--> computing dg, ddg\n",
      "--> plotting work trajs\n",
      "--> saved to: /lila/home/glassw/GITHUB/study-abl-resistance/notebooks/perses_analysis_output/F317I_complex_work_traj.png\n",
      "--> plotting work distrib\n",
      "--> saved to: /lila/home/glassw/GITHUB/study-abl-resistance/notebooks/perses_analysis_output/F317I_complex_work_dist.png\n",
      "--> plotting work trajs\n",
      "--> saved to: /lila/home/glassw/GITHUB/study-abl-resistance/notebooks/perses_analysis_output/F317I_apo_work_traj.png\n",
      "--> plotting work distrib\n",
      "--> saved to: /lila/home/glassw/GITHUB/study-abl-resistance/notebooks/perses_analysis_output/F317I_apo_work_dist.png\n",
      "--> complex_dg: 27.700176516508524\n",
      "--> apo dg: 24.355188621712536\n"
     ]
    },
    {
     "data": {
      "application/vnd.jupyter.widget-view+json": {
       "model_id": "37dd0943a62a418d9cb57db6168af925",
       "version_major": 2,
       "version_minor": 0
      },
      "text/plain": [
       "HBox(children=(FloatProgress(value=0.0), HTML(value='')))"
      ]
     },
     "metadata": {},
     "output_type": "display_data"
    },
    {
     "name": "stdout",
     "output_type": "stream",
     "text": [
      "\n",
      "(100, 1251)\n",
      "(100, 1251)\n",
      "--> subtracting offset\n",
      "--> computing dg, ddg\n",
      "--> subtracting offset\n",
      "--> computing dg, ddg\n",
      "--> plotting work trajs\n",
      "--> saved to: /lila/home/glassw/GITHUB/study-abl-resistance/notebooks/perses_analysis_output/F317L_complex_work_traj.png\n",
      "--> plotting work distrib\n",
      "--> saved to: /lila/home/glassw/GITHUB/study-abl-resistance/notebooks/perses_analysis_output/F317L_complex_work_dist.png\n",
      "--> plotting work trajs\n",
      "--> saved to: /lila/home/glassw/GITHUB/study-abl-resistance/notebooks/perses_analysis_output/F317L_apo_work_traj.png\n",
      "--> plotting work distrib\n",
      "--> saved to: /lila/home/glassw/GITHUB/study-abl-resistance/notebooks/perses_analysis_output/F317L_apo_work_dist.png\n",
      "--> complex_dg: 22.496068635091927\n",
      "--> apo dg: 16.612852752236112\n"
     ]
    },
    {
     "data": {
      "application/vnd.jupyter.widget-view+json": {
       "model_id": "8b1c49bb05714e57b7d57e971ebfc563",
       "version_major": 2,
       "version_minor": 0
      },
      "text/plain": [
       "HBox(children=(FloatProgress(value=0.0), HTML(value='')))"
      ]
     },
     "metadata": {},
     "output_type": "display_data"
    },
    {
     "name": "stdout",
     "output_type": "stream",
     "text": [
      "\n",
      "(94, 1251)\n",
      "(85, 1251)\n",
      "--> subtracting offset\n",
      "--> computing dg, ddg\n",
      "--> subtracting offset\n",
      "--> computing dg, ddg\n",
      "--> plotting work trajs\n",
      "--> saved to: /lila/home/glassw/GITHUB/study-abl-resistance/notebooks/perses_analysis_output/F317V_complex_work_traj.png\n",
      "--> plotting work distrib\n",
      "--> saved to: /lila/home/glassw/GITHUB/study-abl-resistance/notebooks/perses_analysis_output/F317V_complex_work_dist.png\n",
      "--> plotting work trajs\n",
      "--> saved to: /lila/home/glassw/GITHUB/study-abl-resistance/notebooks/perses_analysis_output/F317V_apo_work_traj.png\n",
      "--> plotting work distrib\n",
      "--> saved to: /lila/home/glassw/GITHUB/study-abl-resistance/notebooks/perses_analysis_output/F317V_apo_work_dist.png\n",
      "--> complex_dg: 45.93668684846123\n",
      "--> apo dg: 42.37123555759635\n"
     ]
    },
    {
     "data": {
      "application/vnd.jupyter.widget-view+json": {
       "model_id": "2c993d3107494e558fc8917fd1fb5312",
       "version_major": 2,
       "version_minor": 0
      },
      "text/plain": [
       "HBox(children=(FloatProgress(value=0.0), HTML(value='')))"
      ]
     },
     "metadata": {},
     "output_type": "display_data"
    },
    {
     "name": "stdout",
     "output_type": "stream",
     "text": [
      "\n",
      "(100, 1251)\n",
      "(100, 1251)\n",
      "--> subtracting offset\n",
      "--> computing dg, ddg\n",
      "--> subtracting offset\n",
      "--> computing dg, ddg\n",
      "--> plotting work trajs\n",
      "--> saved to: /lila/home/glassw/GITHUB/study-abl-resistance/notebooks/perses_analysis_output/F359C_complex_work_traj.png\n",
      "--> plotting work distrib\n",
      "--> saved to: /lila/home/glassw/GITHUB/study-abl-resistance/notebooks/perses_analysis_output/F359C_complex_work_dist.png\n",
      "--> plotting work trajs\n",
      "--> saved to: /lila/home/glassw/GITHUB/study-abl-resistance/notebooks/perses_analysis_output/F359C_apo_work_traj.png\n",
      "--> plotting work distrib\n",
      "--> saved to: /lila/home/glassw/GITHUB/study-abl-resistance/notebooks/perses_analysis_output/F359C_apo_work_dist.png\n",
      "--> complex_dg: 18.383535953946843\n",
      "--> apo dg: 18.054830119185425\n"
     ]
    },
    {
     "data": {
      "application/vnd.jupyter.widget-view+json": {
       "model_id": "4fb962b1c0704aedb41a24b6cc979b92",
       "version_major": 2,
       "version_minor": 0
      },
      "text/plain": [
       "HBox(children=(FloatProgress(value=0.0), HTML(value='')))"
      ]
     },
     "metadata": {},
     "output_type": "display_data"
    },
    {
     "name": "stdout",
     "output_type": "stream",
     "text": [
      "\n",
      "(96, 1251)\n",
      "(96, 1251)\n",
      "--> subtracting offset\n",
      "--> computing dg, ddg\n",
      "--> subtracting offset\n",
      "--> computing dg, ddg\n",
      "--> plotting work trajs\n",
      "--> saved to: /lila/home/glassw/GITHUB/study-abl-resistance/notebooks/perses_analysis_output/F359I_complex_work_traj.png\n",
      "--> plotting work distrib\n",
      "--> saved to: /lila/home/glassw/GITHUB/study-abl-resistance/notebooks/perses_analysis_output/F359I_complex_work_dist.png\n",
      "--> plotting work trajs\n",
      "--> saved to: /lila/home/glassw/GITHUB/study-abl-resistance/notebooks/perses_analysis_output/F359I_apo_work_traj.png\n",
      "--> plotting work distrib\n",
      "--> saved to: /lila/home/glassw/GITHUB/study-abl-resistance/notebooks/perses_analysis_output/F359I_apo_work_dist.png\n",
      "--> complex_dg: 23.868517836618352\n",
      "--> apo dg: 23.326503167934817\n"
     ]
    },
    {
     "data": {
      "application/vnd.jupyter.widget-view+json": {
       "model_id": "180d1da3f69340fc80be3c80ad25047e",
       "version_major": 2,
       "version_minor": 0
      },
      "text/plain": [
       "HBox(children=(FloatProgress(value=0.0), HTML(value='')))"
      ]
     },
     "metadata": {},
     "output_type": "display_data"
    },
    {
     "name": "stdout",
     "output_type": "stream",
     "text": [
      "\n",
      "(79, 1251)\n",
      "(83, 1251)\n",
      "--> subtracting offset\n",
      "--> computing dg, ddg\n",
      "--> subtracting offset\n",
      "--> computing dg, ddg\n",
      "--> plotting work trajs\n",
      "--> saved to: /lila/home/glassw/GITHUB/study-abl-resistance/notebooks/perses_analysis_output/F359V_complex_work_traj.png\n",
      "--> plotting work distrib\n",
      "--> saved to: /lila/home/glassw/GITHUB/study-abl-resistance/notebooks/perses_analysis_output/F359V_complex_work_dist.png\n",
      "--> plotting work trajs\n",
      "--> saved to: /lila/home/glassw/GITHUB/study-abl-resistance/notebooks/perses_analysis_output/F359V_apo_work_traj.png\n",
      "--> plotting work distrib\n",
      "--> saved to: /lila/home/glassw/GITHUB/study-abl-resistance/notebooks/perses_analysis_output/F359V_apo_work_dist.png\n",
      "--> complex_dg: 42.849051906935415\n",
      "--> apo dg: 42.25824562961964\n"
     ]
    },
    {
     "data": {
      "application/vnd.jupyter.widget-view+json": {
       "model_id": "e9def18f982d43c9bab37586190cf08f",
       "version_major": 2,
       "version_minor": 0
      },
      "text/plain": [
       "HBox(children=(FloatProgress(value=0.0), HTML(value='')))"
      ]
     },
     "metadata": {},
     "output_type": "display_data"
    },
    {
     "name": "stdout",
     "output_type": "stream",
     "text": [
      "\n",
      "(100, 1251)\n",
      "(98, 1251)\n",
      "--> subtracting offset\n",
      "--> computing dg, ddg\n",
      "--> subtracting offset\n",
      "--> computing dg, ddg\n",
      "--> plotting work trajs\n",
      "--> saved to: /lila/home/glassw/GITHUB/study-abl-resistance/notebooks/perses_analysis_output/G250E_complex_work_traj.png\n",
      "--> plotting work distrib\n",
      "--> saved to: /lila/home/glassw/GITHUB/study-abl-resistance/notebooks/perses_analysis_output/G250E_complex_work_dist.png\n",
      "--> plotting work trajs\n",
      "--> saved to: /lila/home/glassw/GITHUB/study-abl-resistance/notebooks/perses_analysis_output/G250E_apo_work_traj.png\n",
      "--> plotting work distrib\n",
      "--> saved to: /lila/home/glassw/GITHUB/study-abl-resistance/notebooks/perses_analysis_output/G250E_apo_work_dist.png\n",
      "--> complex_dg: -140.134425653294\n",
      "--> apo dg: -140.14467150541165\n"
     ]
    },
    {
     "data": {
      "application/vnd.jupyter.widget-view+json": {
       "model_id": "865111be21df48f5a4524aac6f18026d",
       "version_major": 2,
       "version_minor": 0
      },
      "text/plain": [
       "HBox(children=(FloatProgress(value=0.0), HTML(value='')))"
      ]
     },
     "metadata": {},
     "output_type": "display_data"
    },
    {
     "name": "stdout",
     "output_type": "stream",
     "text": [
      "\n",
      "--> dir H396R has at least one phase without data\n"
     ]
    },
    {
     "data": {
      "application/vnd.jupyter.widget-view+json": {
       "model_id": "8d3e94e81b56434bbf3971692d6c6c6f",
       "version_major": 2,
       "version_minor": 0
      },
      "text/plain": [
       "HBox(children=(FloatProgress(value=0.0), HTML(value='')))"
      ]
     },
     "metadata": {},
     "output_type": "display_data"
    },
    {
     "name": "stdout",
     "output_type": "stream",
     "text": [
      "\n",
      "(100, 1251)\n",
      "(100, 1251)\n",
      "--> subtracting offset\n",
      "--> computing dg, ddg\n",
      "--> subtracting offset\n",
      "--> computing dg, ddg\n",
      "--> plotting work trajs\n",
      "--> saved to: /lila/home/glassw/GITHUB/study-abl-resistance/notebooks/perses_analysis_output/L248R_complex_work_traj.png\n",
      "--> plotting work distrib\n",
      "--> saved to: /lila/home/glassw/GITHUB/study-abl-resistance/notebooks/perses_analysis_output/L248R_complex_work_dist.png\n",
      "--> plotting work trajs\n",
      "--> saved to: /lila/home/glassw/GITHUB/study-abl-resistance/notebooks/perses_analysis_output/L248R_apo_work_traj.png\n",
      "--> plotting work distrib\n",
      "--> saved to: /lila/home/glassw/GITHUB/study-abl-resistance/notebooks/perses_analysis_output/L248R_apo_work_dist.png\n",
      "--> complex_dg: 223.97787432349946\n",
      "--> apo dg: 214.2589145572909\n"
     ]
    },
    {
     "data": {
      "application/vnd.jupyter.widget-view+json": {
       "model_id": "0c3ef428a1f64681adece86856c84651",
       "version_major": 2,
       "version_minor": 0
      },
      "text/plain": [
       "HBox(children=(FloatProgress(value=0.0), HTML(value='')))"
      ]
     },
     "metadata": {},
     "output_type": "display_data"
    },
    {
     "name": "stdout",
     "output_type": "stream",
     "text": [
      "\n",
      "(99, 1251)\n",
      "(100, 1251)\n",
      "--> subtracting offset\n",
      "--> computing dg, ddg\n",
      "--> subtracting offset\n",
      "--> computing dg, ddg\n",
      "--> plotting work trajs\n",
      "--> saved to: /lila/home/glassw/GITHUB/study-abl-resistance/notebooks/perses_analysis_output/L248V_complex_work_traj.png\n",
      "--> plotting work distrib\n",
      "--> saved to: /lila/home/glassw/GITHUB/study-abl-resistance/notebooks/perses_analysis_output/L248V_complex_work_dist.png\n",
      "--> plotting work trajs\n",
      "--> saved to: /lila/home/glassw/GITHUB/study-abl-resistance/notebooks/perses_analysis_output/L248V_apo_work_traj.png\n",
      "--> plotting work distrib\n",
      "--> saved to: /lila/home/glassw/GITHUB/study-abl-resistance/notebooks/perses_analysis_output/L248V_apo_work_dist.png\n",
      "--> complex_dg: -3.6164771546441825\n",
      "--> apo dg: -4.01772452984385\n"
     ]
    },
    {
     "data": {
      "application/vnd.jupyter.widget-view+json": {
       "model_id": "4041c815fc5c449bbfae7746076f8c40",
       "version_major": 2,
       "version_minor": 0
      },
      "text/plain": [
       "HBox(children=(FloatProgress(value=0.0), HTML(value='')))"
      ]
     },
     "metadata": {},
     "output_type": "display_data"
    },
    {
     "name": "stdout",
     "output_type": "stream",
     "text": [
      "\n",
      "(100, 1251)\n",
      "(100, 1251)\n",
      "--> subtracting offset\n",
      "--> computing dg, ddg\n",
      "--> subtracting offset\n",
      "--> computing dg, ddg\n",
      "--> plotting work trajs\n",
      "--> saved to: /lila/home/glassw/GITHUB/study-abl-resistance/notebooks/perses_analysis_output/M244V_complex_work_traj.png\n",
      "--> plotting work distrib\n",
      "--> saved to: /lila/home/glassw/GITHUB/study-abl-resistance/notebooks/perses_analysis_output/M244V_complex_work_dist.png\n",
      "--> plotting work trajs\n",
      "--> saved to: /lila/home/glassw/GITHUB/study-abl-resistance/notebooks/perses_analysis_output/M244V_apo_work_traj.png\n",
      "--> plotting work distrib\n",
      "--> saved to: /lila/home/glassw/GITHUB/study-abl-resistance/notebooks/perses_analysis_output/M244V_apo_work_dist.png\n",
      "--> complex_dg: 17.782103533197716\n",
      "--> apo dg: 17.66686460262487\n"
     ]
    },
    {
     "data": {
      "application/vnd.jupyter.widget-view+json": {
       "model_id": "6e718d6a1de84938a8397499c85b650f",
       "version_major": 2,
       "version_minor": 0
      },
      "text/plain": [
       "HBox(children=(FloatProgress(value=0.0), HTML(value='')))"
      ]
     },
     "metadata": {},
     "output_type": "display_data"
    },
    {
     "name": "stdout",
     "output_type": "stream",
     "text": [
      "\n",
      "(100, 1251)\n",
      "(100, 1251)\n",
      "--> subtracting offset\n",
      "--> computing dg, ddg\n",
      "--> subtracting offset\n",
      "--> computing dg, ddg\n",
      "--> plotting work trajs\n",
      "--> saved to: /lila/home/glassw/GITHUB/study-abl-resistance/notebooks/perses_analysis_output/M351T_complex_work_traj.png\n",
      "--> plotting work distrib\n",
      "--> saved to: /lila/home/glassw/GITHUB/study-abl-resistance/notebooks/perses_analysis_output/M351T_complex_work_dist.png\n",
      "--> plotting work trajs\n",
      "--> saved to: /lila/home/glassw/GITHUB/study-abl-resistance/notebooks/perses_analysis_output/M351T_apo_work_traj.png\n",
      "--> plotting work distrib\n",
      "--> saved to: /lila/home/glassw/GITHUB/study-abl-resistance/notebooks/perses_analysis_output/M351T_apo_work_dist.png\n",
      "--> complex_dg: 38.27548994506478\n",
      "--> apo dg: 38.2686007304109\n"
     ]
    },
    {
     "data": {
      "application/vnd.jupyter.widget-view+json": {
       "model_id": "7d0f0dd7ee2b424db4d4c32a13323adc",
       "version_major": 2,
       "version_minor": 0
      },
      "text/plain": [
       "HBox(children=(FloatProgress(value=0.0), HTML(value='')))"
      ]
     },
     "metadata": {},
     "output_type": "display_data"
    },
    {
     "name": "stdout",
     "output_type": "stream",
     "text": [
      "\n",
      "(100, 1251)\n",
      "(100, 1251)\n",
      "--> subtracting offset\n",
      "--> computing dg, ddg\n",
      "--> subtracting offset\n",
      "--> computing dg, ddg\n",
      "--> plotting work trajs\n",
      "--> saved to: /lila/home/glassw/GITHUB/study-abl-resistance/notebooks/perses_analysis_output/T315A_complex_work_traj.png\n",
      "--> plotting work distrib\n",
      "--> saved to: /lila/home/glassw/GITHUB/study-abl-resistance/notebooks/perses_analysis_output/T315A_complex_work_dist.png\n",
      "--> plotting work trajs\n",
      "--> saved to: /lila/home/glassw/GITHUB/study-abl-resistance/notebooks/perses_analysis_output/T315A_apo_work_traj.png\n",
      "--> plotting work distrib\n",
      "--> saved to: /lila/home/glassw/GITHUB/study-abl-resistance/notebooks/perses_analysis_output/T315A_apo_work_dist.png\n",
      "--> complex_dg: -38.43916600968556\n",
      "--> apo dg: -42.790856479421876\n"
     ]
    },
    {
     "data": {
      "application/vnd.jupyter.widget-view+json": {
       "model_id": "b85f71f7cfff4698b26a28064206225b",
       "version_major": 2,
       "version_minor": 0
      },
      "text/plain": [
       "HBox(children=(FloatProgress(value=0.0), HTML(value='')))"
      ]
     },
     "metadata": {},
     "output_type": "display_data"
    },
    {
     "name": "stdout",
     "output_type": "stream",
     "text": [
      "\n",
      "(100, 1251)\n",
      "(100, 1251)\n",
      "--> subtracting offset\n",
      "--> computing dg, ddg\n",
      "--> subtracting offset\n",
      "--> computing dg, ddg\n",
      "--> plotting work trajs\n",
      "--> saved to: /lila/home/glassw/GITHUB/study-abl-resistance/notebooks/perses_analysis_output/T315I_complex_work_traj.png\n",
      "--> plotting work distrib\n",
      "--> saved to: /lila/home/glassw/GITHUB/study-abl-resistance/notebooks/perses_analysis_output/T315I_complex_work_dist.png\n",
      "--> plotting work trajs\n",
      "--> saved to: /lila/home/glassw/GITHUB/study-abl-resistance/notebooks/perses_analysis_output/T315I_apo_work_traj.png\n",
      "--> plotting work distrib\n",
      "--> saved to: /lila/home/glassw/GITHUB/study-abl-resistance/notebooks/perses_analysis_output/T315I_apo_work_dist.png\n",
      "--> complex_dg: 22.389351804090488\n",
      "--> apo dg: 17.762215768105488\n"
     ]
    },
    {
     "data": {
      "application/vnd.jupyter.widget-view+json": {
       "model_id": "3c73c516eecb418187bdfa559984a591",
       "version_major": 2,
       "version_minor": 0
      },
      "text/plain": [
       "HBox(children=(FloatProgress(value=0.0), HTML(value='')))"
      ]
     },
     "metadata": {},
     "output_type": "display_data"
    },
    {
     "name": "stdout",
     "output_type": "stream",
     "text": [
      "\n",
      "(92, 1251)\n",
      "(58, 1251)\n",
      "--> subtracting offset\n",
      "--> computing dg, ddg\n",
      "--> subtracting offset\n",
      "--> computing dg, ddg\n",
      "--> plotting work trajs\n",
      "--> saved to: /lila/home/glassw/GITHUB/study-abl-resistance/notebooks/perses_analysis_output/V299L_complex_work_traj.png\n",
      "--> plotting work distrib\n",
      "--> saved to: /lila/home/glassw/GITHUB/study-abl-resistance/notebooks/perses_analysis_output/V299L_complex_work_dist.png\n",
      "--> plotting work trajs\n",
      "--> saved to: /lila/home/glassw/GITHUB/study-abl-resistance/notebooks/perses_analysis_output/V299L_apo_work_traj.png\n",
      "--> plotting work distrib\n",
      "--> saved to: /lila/home/glassw/GITHUB/study-abl-resistance/notebooks/perses_analysis_output/V299L_apo_work_dist.png\n",
      "--> complex_dg: 8.464391603207996\n",
      "--> apo dg: 6.107978948285946\n"
     ]
    },
    {
     "data": {
      "application/vnd.jupyter.widget-view+json": {
       "model_id": "3029acad579f4676bec7a7980d8d8c27",
       "version_major": 2,
       "version_minor": 0
      },
      "text/plain": [
       "HBox(children=(FloatProgress(value=0.0), HTML(value='')))"
      ]
     },
     "metadata": {},
     "output_type": "display_data"
    },
    {
     "name": "stdout",
     "output_type": "stream",
     "text": [
      "\n",
      "(100, 1251)\n",
      "(100, 1251)\n",
      "--> subtracting offset\n",
      "--> computing dg, ddg\n",
      "--> subtracting offset\n",
      "--> computing dg, ddg\n",
      "--> plotting work trajs\n",
      "--> saved to: /lila/home/glassw/GITHUB/study-abl-resistance/notebooks/perses_analysis_output/Y253F_complex_work_traj.png\n",
      "--> plotting work distrib\n",
      "--> saved to: /lila/home/glassw/GITHUB/study-abl-resistance/notebooks/perses_analysis_output/Y253F_complex_work_dist.png\n",
      "--> plotting work trajs\n",
      "--> saved to: /lila/home/glassw/GITHUB/study-abl-resistance/notebooks/perses_analysis_output/Y253F_apo_work_traj.png\n",
      "--> plotting work distrib\n",
      "--> saved to: /lila/home/glassw/GITHUB/study-abl-resistance/notebooks/perses_analysis_output/Y253F_apo_work_dist.png\n",
      "--> complex_dg: -0.7192513584570825\n",
      "--> apo dg: -1.7977034149970241\n"
     ]
    },
    {
     "data": {
      "text/plain": [
       "<Figure size 432x288 with 0 Axes>"
      ]
     },
     "metadata": {},
     "output_type": "display_data"
    }
   ],
   "source": [
    "df = {}\n",
    "\n",
    "for mutation in mutations:\n",
    "\n",
    "    # Load and combine arrays\n",
    "    forward_complex_arrays = []\n",
    "    reverse_complex_arrays = []\n",
    "    forward_apo_arrays = []\n",
    "    reverse_apo_arrays = []\n",
    "\n",
    "    for j in tqdm_notebook.tqdm(range(100)):\n",
    "\n",
    "        #print(f\"--> job: {j}\")\n",
    "        forward_complex_path = f'/data/chodera/glassw/kinoml/Abl/run_neq_NoTraj/4xey/{mutation}/4xey_dasatinib_{mutation}_complex_{j}_forward.npy'\n",
    "        reverse_complex_path = f'/data/chodera/glassw/kinoml/Abl/run_neq_NoTraj/4xey/{mutation}/4xey_dasatinib_{mutation}_complex_{j}_reverse.npy'\n",
    "        forward_apo_path = f'/data/chodera/glassw/kinoml/Abl/run_neq_NoTraj/4xey/{mutation}/4xey_dasatinib_{mutation}_apo_{j}_forward.npy'\n",
    "        reverse_apo_path = f'/data/chodera/glassw/kinoml/Abl/run_neq_NoTraj/4xey/{mutation}/4xey_dasatinib_{mutation}_apo_{j}_reverse.npy'\n",
    "\n",
    "        if os.path.exists(forward_complex_path):\n",
    "            with open(forward_complex_path, 'rb') as f:\n",
    "                forward_complex_arrays.append(np.load(f))\n",
    "\n",
    "        if os.path.exists(reverse_complex_path):\n",
    "            with open(reverse_complex_path, 'rb') as f:\n",
    "                reverse_complex_arrays.append(np.load(f))\n",
    "\n",
    "        if os.path.exists(forward_apo_path):\n",
    "            with open(forward_apo_path, 'rb') as f:\n",
    "                forward_apo_arrays.append(np.load(f))\n",
    "\n",
    "        if os.path.exists(reverse_apo_path):\n",
    "            with open(reverse_apo_path, 'rb') as f:\n",
    "                reverse_apo_arrays.append(np.load(f))\n",
    "\n",
    "    if forward_complex_arrays and reverse_complex_arrays and forward_apo_arrays and reverse_apo_arrays:\n",
    "\n",
    "        forward_complex_combined = np.concatenate(forward_complex_arrays)\n",
    "        forward_complex_accumulated = np.array([cycle[-1] - cycle[0] for cycle in forward_complex_combined]) # compute this separately bc the last value of the subsampled array is diff than the actual last sample\n",
    "        forward_complex_combined = np.array([cycle for cycle in forward_complex_combined])\n",
    "        print(forward_complex_combined.shape)\n",
    "\n",
    "        reverse_complex_combined = np.concatenate(reverse_complex_arrays)\n",
    "        reverse_complex_accumulated = np.array([cycle[-1] - cycle[0] for cycle in reverse_complex_combined])\n",
    "        reverse_complex_combined = np.array([cycle for cycle in reverse_complex_combined])\n",
    "\n",
    "        forward_apo_combined = np.concatenate(forward_apo_arrays)\n",
    "        forward_apo_accumulated = np.array([cycle[-1] - cycle[0] for cycle in forward_apo_combined])\n",
    "        forward_apo_combined = np.array([cycle for cycle in forward_apo_combined])\n",
    "        print(forward_apo_combined.shape)\n",
    "\n",
    "        reverse_apo_combined = np.concatenate(reverse_apo_arrays)\n",
    "        reverse_apo_accumulated = np.array([cycle[-1] - cycle[0] for cycle in reverse_apo_combined])\n",
    "        reverse_apo_combined = np.array([cycle for cycle in reverse_apo_combined])\n",
    "\n",
    "\n",
    "        # Analyse\n",
    "\n",
    "        ## complex\n",
    "        forward_complex_work_offset, reverse_complex_work_offset = subtract_offset(forward_complex_combined,\n",
    "                                                                                   reverse_complex_combined)\n",
    "\n",
    "        complex_dg, complex_ddg = analyse(forward_complex_accumulated,\n",
    "                                          reverse_complex_accumulated)\n",
    "\n",
    "        ## apo\n",
    "        forward_apo_work_offset, reverse_apo_work_offset = subtract_offset(forward_apo_combined,\n",
    "                                                                           reverse_apo_combined)\n",
    "\n",
    "        apo_dg, apo_ddg = analyse(forward_apo_accumulated, reverse_apo_accumulated)\n",
    "\n",
    "        ## plot the work trajectories and distibutions\n",
    "        complex_plot = plot_works(forward_complex_work_offset,\n",
    "                                  reverse_complex_work_offset,\n",
    "                                  complex_dg,\n",
    "                                  complex_ddg,\n",
    "                                  phase='complex',\n",
    "                                  mutation=mutation,\n",
    "                                  title=f'4XEY-Dasatinib {mutation}',\n",
    "                                  save=True,\n",
    "                                  output_dir='/lila/home/glassw/GITHUB/study-abl-resistance/notebooks/perses_analysis_output')\n",
    "\n",
    "        apo_plot = plot_works(forward_apo_work_offset,\n",
    "                              reverse_apo_work_offset,\n",
    "                              apo_dg,\n",
    "                              apo_ddg,\n",
    "                              phase='apo',\n",
    "                              mutation=mutation,\n",
    "                              title=f'4XEY-Dasatinib {mutation}',\n",
    "                              save=True,\n",
    "                              output_dir='/lila/home/glassw/GITHUB/study-abl-resistance/notebooks/perses_analysis_output')\n",
    "\n",
    "        ## Get binding dg and ddg\n",
    "        binding_dg = complex_dg - apo_dg\n",
    "        binding_ddg = (apo_ddg**2 + complex_ddg**2)**0.5\n",
    "        df[mutation] = [binding_dg, binding_ddg]\n",
    "        print(f\"--> complex_dg: {complex_dg}\")\n",
    "        print(f\"--> apo dg: {apo_dg}\")\n",
    "\n",
    "    else:\n",
    "        print(f\"--> dir {mutation} has at least one phase without data\" )"
   ]
  },
  {
   "cell_type": "code",
   "execution_count": 7,
   "metadata": {},
   "outputs": [],
   "source": [
    "exp_df = pd.read_csv('../data/hauser_mutations.csv')"
   ]
  },
  {
   "cell_type": "code",
   "execution_count": 8,
   "metadata": {},
   "outputs": [
    {
     "data": {
      "text/html": [
       "<div>\n",
       "<style scoped>\n",
       "    .dataframe tbody tr th:only-of-type {\n",
       "        vertical-align: middle;\n",
       "    }\n",
       "\n",
       "    .dataframe tbody tr th {\n",
       "        vertical-align: top;\n",
       "    }\n",
       "\n",
       "    .dataframe thead th {\n",
       "        text-align: right;\n",
       "    }\n",
       "</style>\n",
       "<table border=\"1\" class=\"dataframe\">\n",
       "  <thead>\n",
       "    <tr style=\"text-align: right;\">\n",
       "      <th></th>\n",
       "      <th>tki</th>\n",
       "      <th>mutation</th>\n",
       "      <th>resid</th>\n",
       "      <th>from</th>\n",
       "      <th>to</th>\n",
       "      <th>IC50</th>\n",
       "      <th>ddG_exp</th>\n",
       "    </tr>\n",
       "  </thead>\n",
       "  <tbody>\n",
       "    <tr>\n",
       "      <th>47</th>\n",
       "      <td>dasatinib</td>\n",
       "      <td>M244V</td>\n",
       "      <td>244</td>\n",
       "      <td>MET</td>\n",
       "      <td>VAL</td>\n",
       "      <td>2.0</td>\n",
       "      <td>0.00</td>\n",
       "    </tr>\n",
       "    <tr>\n",
       "      <th>48</th>\n",
       "      <td>dasatinib</td>\n",
       "      <td>L248R</td>\n",
       "      <td>248</td>\n",
       "      <td>LEU</td>\n",
       "      <td>ARG</td>\n",
       "      <td>6.0</td>\n",
       "      <td>0.65</td>\n",
       "    </tr>\n",
       "    <tr>\n",
       "      <th>49</th>\n",
       "      <td>dasatinib</td>\n",
       "      <td>L248V</td>\n",
       "      <td>248</td>\n",
       "      <td>LEU</td>\n",
       "      <td>VAL</td>\n",
       "      <td>5.0</td>\n",
       "      <td>0.55</td>\n",
       "    </tr>\n",
       "    <tr>\n",
       "      <th>50</th>\n",
       "      <td>dasatinib</td>\n",
       "      <td>G250E</td>\n",
       "      <td>250</td>\n",
       "      <td>GLY</td>\n",
       "      <td>GLU</td>\n",
       "      <td>4.0</td>\n",
       "      <td>0.41</td>\n",
       "    </tr>\n",
       "    <tr>\n",
       "      <th>51</th>\n",
       "      <td>dasatinib</td>\n",
       "      <td>Y253F</td>\n",
       "      <td>253</td>\n",
       "      <td>TYR</td>\n",
       "      <td>PHE</td>\n",
       "      <td>3.0</td>\n",
       "      <td>0.24</td>\n",
       "    </tr>\n",
       "    <tr>\n",
       "      <th>52</th>\n",
       "      <td>dasatinib</td>\n",
       "      <td>E255K</td>\n",
       "      <td>255</td>\n",
       "      <td>GLU</td>\n",
       "      <td>LYS</td>\n",
       "      <td>9.0</td>\n",
       "      <td>0.90</td>\n",
       "    </tr>\n",
       "    <tr>\n",
       "      <th>53</th>\n",
       "      <td>dasatinib</td>\n",
       "      <td>E255V</td>\n",
       "      <td>255</td>\n",
       "      <td>GLU</td>\n",
       "      <td>VAL</td>\n",
       "      <td>11.0</td>\n",
       "      <td>1.02</td>\n",
       "    </tr>\n",
       "    <tr>\n",
       "      <th>54</th>\n",
       "      <td>dasatinib</td>\n",
       "      <td>V299L</td>\n",
       "      <td>299</td>\n",
       "      <td>VAL</td>\n",
       "      <td>LEU</td>\n",
       "      <td>16.0</td>\n",
       "      <td>1.24</td>\n",
       "    </tr>\n",
       "    <tr>\n",
       "      <th>55</th>\n",
       "      <td>dasatinib</td>\n",
       "      <td>T315A</td>\n",
       "      <td>315</td>\n",
       "      <td>THR</td>\n",
       "      <td>ALA</td>\n",
       "      <td>59.0</td>\n",
       "      <td>2.02</td>\n",
       "    </tr>\n",
       "    <tr>\n",
       "      <th>56</th>\n",
       "      <td>dasatinib</td>\n",
       "      <td>T315I</td>\n",
       "      <td>315</td>\n",
       "      <td>THR</td>\n",
       "      <td>ILE</td>\n",
       "      <td>10000.0</td>\n",
       "      <td>5.08</td>\n",
       "    </tr>\n",
       "    <tr>\n",
       "      <th>57</th>\n",
       "      <td>dasatinib</td>\n",
       "      <td>F317C</td>\n",
       "      <td>317</td>\n",
       "      <td>PHE</td>\n",
       "      <td>CYS</td>\n",
       "      <td>45.0</td>\n",
       "      <td>1.86</td>\n",
       "    </tr>\n",
       "    <tr>\n",
       "      <th>58</th>\n",
       "      <td>dasatinib</td>\n",
       "      <td>F317I</td>\n",
       "      <td>317</td>\n",
       "      <td>PHE</td>\n",
       "      <td>ILE</td>\n",
       "      <td>40.0</td>\n",
       "      <td>1.79</td>\n",
       "    </tr>\n",
       "    <tr>\n",
       "      <th>59</th>\n",
       "      <td>dasatinib</td>\n",
       "      <td>F317L</td>\n",
       "      <td>317</td>\n",
       "      <td>PHE</td>\n",
       "      <td>LEU</td>\n",
       "      <td>10.0</td>\n",
       "      <td>0.96</td>\n",
       "    </tr>\n",
       "    <tr>\n",
       "      <th>60</th>\n",
       "      <td>dasatinib</td>\n",
       "      <td>F317V</td>\n",
       "      <td>317</td>\n",
       "      <td>PHE</td>\n",
       "      <td>VAL</td>\n",
       "      <td>104.0</td>\n",
       "      <td>2.36</td>\n",
       "    </tr>\n",
       "    <tr>\n",
       "      <th>61</th>\n",
       "      <td>dasatinib</td>\n",
       "      <td>M351T</td>\n",
       "      <td>351</td>\n",
       "      <td>MET</td>\n",
       "      <td>THR</td>\n",
       "      <td>2.0</td>\n",
       "      <td>0.00</td>\n",
       "    </tr>\n",
       "    <tr>\n",
       "      <th>62</th>\n",
       "      <td>dasatinib</td>\n",
       "      <td>E355A</td>\n",
       "      <td>355</td>\n",
       "      <td>GLU</td>\n",
       "      <td>ALA</td>\n",
       "      <td>3.0</td>\n",
       "      <td>0.24</td>\n",
       "    </tr>\n",
       "    <tr>\n",
       "      <th>63</th>\n",
       "      <td>dasatinib</td>\n",
       "      <td>F359C</td>\n",
       "      <td>359</td>\n",
       "      <td>PHE</td>\n",
       "      <td>CYS</td>\n",
       "      <td>2.0</td>\n",
       "      <td>0.00</td>\n",
       "    </tr>\n",
       "    <tr>\n",
       "      <th>64</th>\n",
       "      <td>dasatinib</td>\n",
       "      <td>F359I</td>\n",
       "      <td>359</td>\n",
       "      <td>PHE</td>\n",
       "      <td>ILE</td>\n",
       "      <td>3.0</td>\n",
       "      <td>0.24</td>\n",
       "    </tr>\n",
       "    <tr>\n",
       "      <th>65</th>\n",
       "      <td>dasatinib</td>\n",
       "      <td>F359V</td>\n",
       "      <td>359</td>\n",
       "      <td>PHE</td>\n",
       "      <td>VAL</td>\n",
       "      <td>2.0</td>\n",
       "      <td>0.00</td>\n",
       "    </tr>\n",
       "    <tr>\n",
       "      <th>66</th>\n",
       "      <td>dasatinib</td>\n",
       "      <td>H396R</td>\n",
       "      <td>396</td>\n",
       "      <td>HIS</td>\n",
       "      <td>ARG</td>\n",
       "      <td>2.0</td>\n",
       "      <td>0.00</td>\n",
       "    </tr>\n",
       "    <tr>\n",
       "      <th>67</th>\n",
       "      <td>dasatinib</td>\n",
       "      <td>E459K</td>\n",
       "      <td>459</td>\n",
       "      <td>GLU</td>\n",
       "      <td>LYS</td>\n",
       "      <td>4.0</td>\n",
       "      <td>0.41</td>\n",
       "    </tr>\n",
       "  </tbody>\n",
       "</table>\n",
       "</div>"
      ],
      "text/plain": [
       "          tki mutation  resid from   to     IC50  ddG_exp\n",
       "47  dasatinib    M244V    244  MET  VAL      2.0     0.00\n",
       "48  dasatinib    L248R    248  LEU  ARG      6.0     0.65\n",
       "49  dasatinib    L248V    248  LEU  VAL      5.0     0.55\n",
       "50  dasatinib    G250E    250  GLY  GLU      4.0     0.41\n",
       "51  dasatinib    Y253F    253  TYR  PHE      3.0     0.24\n",
       "52  dasatinib    E255K    255  GLU  LYS      9.0     0.90\n",
       "53  dasatinib    E255V    255  GLU  VAL     11.0     1.02\n",
       "54  dasatinib    V299L    299  VAL  LEU     16.0     1.24\n",
       "55  dasatinib    T315A    315  THR  ALA     59.0     2.02\n",
       "56  dasatinib    T315I    315  THR  ILE  10000.0     5.08\n",
       "57  dasatinib    F317C    317  PHE  CYS     45.0     1.86\n",
       "58  dasatinib    F317I    317  PHE  ILE     40.0     1.79\n",
       "59  dasatinib    F317L    317  PHE  LEU     10.0     0.96\n",
       "60  dasatinib    F317V    317  PHE  VAL    104.0     2.36\n",
       "61  dasatinib    M351T    351  MET  THR      2.0     0.00\n",
       "62  dasatinib    E355A    355  GLU  ALA      3.0     0.24\n",
       "63  dasatinib    F359C    359  PHE  CYS      2.0     0.00\n",
       "64  dasatinib    F359I    359  PHE  ILE      3.0     0.24\n",
       "65  dasatinib    F359V    359  PHE  VAL      2.0     0.00\n",
       "66  dasatinib    H396R    396  HIS  ARG      2.0     0.00\n",
       "67  dasatinib    E459K    459  GLU  LYS      4.0     0.41"
      ]
     },
     "execution_count": 8,
     "metadata": {},
     "output_type": "execute_result"
    }
   ],
   "source": [
    "exp_df_dasatinib = exp_df[exp_df['tki'] == 'dasatinib']\n",
    "exp_df_dasatinib"
   ]
  },
  {
   "cell_type": "code",
   "execution_count": 27,
   "metadata": {},
   "outputs": [
    {
     "data": {
      "text/html": [
       "<div>\n",
       "<style scoped>\n",
       "    .dataframe tbody tr th:only-of-type {\n",
       "        vertical-align: middle;\n",
       "    }\n",
       "\n",
       "    .dataframe tbody tr th {\n",
       "        vertical-align: top;\n",
       "    }\n",
       "\n",
       "    .dataframe thead th {\n",
       "        text-align: right;\n",
       "    }\n",
       "</style>\n",
       "<table border=\"1\" class=\"dataframe\">\n",
       "  <thead>\n",
       "    <tr style=\"text-align: right;\">\n",
       "      <th></th>\n",
       "      <th>DDG (kcal / mol)</th>\n",
       "      <th>dDDG (kcal / mol)</th>\n",
       "      <th>exp_DDG (kcal / mol)</th>\n",
       "      <th>|DDG - exp_DDG|</th>\n",
       "    </tr>\n",
       "  </thead>\n",
       "  <tbody>\n",
       "    <tr>\n",
       "      <th>E255K</th>\n",
       "      <td>0.209939</td>\n",
       "      <td>0.277074</td>\n",
       "      <td>0.90</td>\n",
       "      <td>0.690061</td>\n",
       "    </tr>\n",
       "    <tr>\n",
       "      <th>E255V</th>\n",
       "      <td>0.659175</td>\n",
       "      <td>0.262779</td>\n",
       "      <td>1.02</td>\n",
       "      <td>0.360825</td>\n",
       "    </tr>\n",
       "    <tr>\n",
       "      <th>E355A</th>\n",
       "      <td>-0.125491</td>\n",
       "      <td>0.264248</td>\n",
       "      <td>0.24</td>\n",
       "      <td>0.365491</td>\n",
       "    </tr>\n",
       "    <tr>\n",
       "      <th>F317C</th>\n",
       "      <td>1.571858</td>\n",
       "      <td>0.098109</td>\n",
       "      <td>1.86</td>\n",
       "      <td>0.288142</td>\n",
       "    </tr>\n",
       "    <tr>\n",
       "      <th>F317I</th>\n",
       "      <td>1.994155</td>\n",
       "      <td>0.165579</td>\n",
       "      <td>1.79</td>\n",
       "      <td>0.204155</td>\n",
       "    </tr>\n",
       "    <tr>\n",
       "      <th>F317L</th>\n",
       "      <td>3.507350</td>\n",
       "      <td>0.216107</td>\n",
       "      <td>0.96</td>\n",
       "      <td>2.547350</td>\n",
       "    </tr>\n",
       "    <tr>\n",
       "      <th>F317V</th>\n",
       "      <td>2.125587</td>\n",
       "      <td>0.162702</td>\n",
       "      <td>2.36</td>\n",
       "      <td>0.234413</td>\n",
       "    </tr>\n",
       "    <tr>\n",
       "      <th>F359C</th>\n",
       "      <td>0.195962</td>\n",
       "      <td>0.215981</td>\n",
       "      <td>0.00</td>\n",
       "      <td>0.195962</td>\n",
       "    </tr>\n",
       "    <tr>\n",
       "      <th>F359I</th>\n",
       "      <td>0.323129</td>\n",
       "      <td>0.174067</td>\n",
       "      <td>0.24</td>\n",
       "      <td>0.083129</td>\n",
       "    </tr>\n",
       "    <tr>\n",
       "      <th>F359V</th>\n",
       "      <td>0.352216</td>\n",
       "      <td>0.256454</td>\n",
       "      <td>0.00</td>\n",
       "      <td>0.352216</td>\n",
       "    </tr>\n",
       "    <tr>\n",
       "      <th>G250E</th>\n",
       "      <td>0.006108</td>\n",
       "      <td>0.096362</td>\n",
       "      <td>0.41</td>\n",
       "      <td>0.403892</td>\n",
       "    </tr>\n",
       "    <tr>\n",
       "      <th>L248R</th>\n",
       "      <td>5.794074</td>\n",
       "      <td>0.459216</td>\n",
       "      <td>0.65</td>\n",
       "      <td>5.144074</td>\n",
       "    </tr>\n",
       "    <tr>\n",
       "      <th>L248V</th>\n",
       "      <td>0.239208</td>\n",
       "      <td>0.160435</td>\n",
       "      <td>0.55</td>\n",
       "      <td>0.310792</td>\n",
       "    </tr>\n",
       "    <tr>\n",
       "      <th>M244V</th>\n",
       "      <td>0.068701</td>\n",
       "      <td>0.222472</td>\n",
       "      <td>0.00</td>\n",
       "      <td>0.068701</td>\n",
       "    </tr>\n",
       "    <tr>\n",
       "      <th>M351T</th>\n",
       "      <td>0.004107</td>\n",
       "      <td>0.212387</td>\n",
       "      <td>0.00</td>\n",
       "      <td>0.004107</td>\n",
       "    </tr>\n",
       "    <tr>\n",
       "      <th>T315A</th>\n",
       "      <td>2.594312</td>\n",
       "      <td>0.689680</td>\n",
       "      <td>2.02</td>\n",
       "      <td>0.574312</td>\n",
       "    </tr>\n",
       "    <tr>\n",
       "      <th>T315I</th>\n",
       "      <td>2.758523</td>\n",
       "      <td>0.166018</td>\n",
       "      <td>5.08</td>\n",
       "      <td>2.321477</td>\n",
       "    </tr>\n",
       "    <tr>\n",
       "      <th>V299L</th>\n",
       "      <td>1.404804</td>\n",
       "      <td>0.223668</td>\n",
       "      <td>1.24</td>\n",
       "      <td>0.164804</td>\n",
       "    </tr>\n",
       "    <tr>\n",
       "      <th>Y253F</th>\n",
       "      <td>0.642932</td>\n",
       "      <td>0.080901</td>\n",
       "      <td>0.24</td>\n",
       "      <td>0.402932</td>\n",
       "    </tr>\n",
       "  </tbody>\n",
       "</table>\n",
       "</div>"
      ],
      "text/plain": [
       "       DDG (kcal / mol)  dDDG (kcal / mol)  exp_DDG (kcal / mol)  \\\n",
       "E255K          0.209939           0.277074                  0.90   \n",
       "E255V          0.659175           0.262779                  1.02   \n",
       "E355A         -0.125491           0.264248                  0.24   \n",
       "F317C          1.571858           0.098109                  1.86   \n",
       "F317I          1.994155           0.165579                  1.79   \n",
       "F317L          3.507350           0.216107                  0.96   \n",
       "F317V          2.125587           0.162702                  2.36   \n",
       "F359C          0.195962           0.215981                  0.00   \n",
       "F359I          0.323129           0.174067                  0.24   \n",
       "F359V          0.352216           0.256454                  0.00   \n",
       "G250E          0.006108           0.096362                  0.41   \n",
       "L248R          5.794074           0.459216                  0.65   \n",
       "L248V          0.239208           0.160435                  0.55   \n",
       "M244V          0.068701           0.222472                  0.00   \n",
       "M351T          0.004107           0.212387                  0.00   \n",
       "T315A          2.594312           0.689680                  2.02   \n",
       "T315I          2.758523           0.166018                  5.08   \n",
       "V299L          1.404804           0.223668                  1.24   \n",
       "Y253F          0.642932           0.080901                  0.24   \n",
       "\n",
       "       |DDG - exp_DDG|  \n",
       "E255K         0.690061  \n",
       "E255V         0.360825  \n",
       "E355A         0.365491  \n",
       "F317C         0.288142  \n",
       "F317I         0.204155  \n",
       "F317L         2.547350  \n",
       "F317V         0.234413  \n",
       "F359C         0.195962  \n",
       "F359I         0.083129  \n",
       "F359V         0.352216  \n",
       "G250E         0.403892  \n",
       "L248R         5.144074  \n",
       "L248V         0.310792  \n",
       "M244V         0.068701  \n",
       "M351T         0.004107  \n",
       "T315A         0.574312  \n",
       "T315I         2.321477  \n",
       "V299L         0.164804  \n",
       "Y253F         0.402932  "
      ]
     },
     "execution_count": 27,
     "metadata": {},
     "output_type": "execute_result"
    }
   ],
   "source": [
    "pddf = pd.DataFrame(df).T\n",
    "pddf = pddf * KT_KCALMOL\n",
    "pddf.columns = [\"DDG (kcal / mol)\", \"dDDG (kcal / mol)\"]\n",
    "\n",
    "# manually adding experimental values for now...\n",
    "#exp_DDG = [0.9, 1.02, 0.24, 1.86, 1.79, 0.96, 2.36, 0.00, 0.24, 0.00, 0.41, 0.65, 0.55, 0.00, 0.00] \n",
    "exp_DDG = [exp_df_dasatinib[exp_df_dasatinib['mutation'] == mutation]['ddG_exp'].item() \n",
    "           for mutation in list(pddf.index)]\n",
    "\n",
    "pddf['exp_DDG (kcal / mol)'] = exp_DDG \n",
    "pddf['|DDG - exp_DDG|'] = (pddf['DDG (kcal / mol)'] - pddf['exp_DDG (kcal / mol)']).abs()\n",
    "pddf"
   ]
  },
  {
   "cell_type": "code",
   "execution_count": 28,
   "metadata": {},
   "outputs": [],
   "source": [
    "pddf.to_csv(\"4xey_dasatinib_DDGs.csv\")"
   ]
  },
  {
   "cell_type": "markdown",
   "metadata": {},
   "source": [
    "## Plotting\n",
    "\n",
    "taken from: https://github.com/openforcefield/Arsenic/blob/master/arsenic/plotting.py, credit: `@hannahbrucemacdonald`"
   ]
  },
  {
   "cell_type": "code",
   "execution_count": 29,
   "metadata": {},
   "outputs": [],
   "source": [
    "import scipy\n",
    "from sklearn.metrics import mean_squared_error, mean_absolute_error\n",
    "\n",
    "def stats(true_sample, predicted_sample, statistic):\n",
    "    \n",
    "    if statistic == 'RMSE':\n",
    "            return np.sqrt(mean_squared_error(true_sample, predicted_sample))\n",
    "    elif statistic == 'MUE':\n",
    "        return mean_absolute_error(true_sample, predicted_sample)\n",
    "    elif statistic == 'R2':\n",
    "        slope, intercept, r_value, p_value, std_err = scipy.stats.linregress(true_sample, predicted_sample)\n",
    "        return r_value**2\n",
    "    elif statistic == 'rho':\n",
    "        return scipy.stats.pearsonr(true_sample, predicted_sample)[0]"
   ]
  },
  {
   "cell_type": "code",
   "execution_count": 30,
   "metadata": {},
   "outputs": [],
   "source": [
    "x = pddf['exp_DDG (kcal / mol)'].values\n",
    "y = pddf['DDG (kcal / mol)'].values\n",
    "yerr = pddf['dDDG (kcal / mol)'].values"
   ]
  },
  {
   "cell_type": "code",
   "execution_count": 32,
   "metadata": {},
   "outputs": [
    {
     "data": {
      "image/png": "[encoded data removed]",
      "text/plain": [
       "<Figure size 360x360 with 1 Axes>"
      ]
     },
     "metadata": {
      "needs_background": "light"
     },
     "output_type": "display_data"
    }
   ],
   "source": [
    "from datetime import date\n",
    "today = date.today()\n",
    "figsize=5\n",
    "\n",
    "fig, ax = plt.subplots(figsize=(figsize, figsize))\n",
    "\n",
    "\n",
    "# aesthetics\n",
    "font_size = 14\n",
    "plt.rcParams['xtick.labelsize'] = font_size\n",
    "plt.rcParams['ytick.labelsize'] = font_size\n",
    "plt.rcParams['font.size'] = font_size\n",
    "plt.subplots_adjust(left=0.2, right=0.7, bottom=0.2, top=0.7)\n",
    "\n",
    "\n",
    "plt.xlabel('Experimental $\\Delta\\Delta$G (kcal / mol)')\n",
    "plt.ylabel(r'Calculated $\\Delta\\Delta$G (kcal / mol)')\n",
    "\n",
    "ax_min = min(min(x), min(y)) - 0.5\n",
    "ax_max = max(max(x), max(y)) + 0.5\n",
    "scale = [ax_min, ax_max]\n",
    "\n",
    "plt.xlim(scale)\n",
    "plt.ylim(scale)\n",
    "\n",
    "# plots x-axis and y-axis\n",
    "origins=True\n",
    "if origins:\n",
    "    plt.plot([0, 0], scale, 'gray')\n",
    "    plt.plot(scale, [0, 0], 'gray')\n",
    "\n",
    "# plots x=y line\n",
    "plt.plot(scale, scale, 'k:')\n",
    "guidelines=True\n",
    "\n",
    "if guidelines:\n",
    "    small_dist = 0.5\n",
    "    # plots grey region around x=y line\n",
    "    plt.fill_between(scale, [ax_min - small_dist, ax_max - small_dist],\n",
    "                     [ax_min + small_dist, ax_max + small_dist],\n",
    "                     color='grey', alpha=0.2)\n",
    "    plt.fill_between(scale, [ax_min - small_dist * 2, ax_max - small_dist * 2],\n",
    "                     [ax_min + small_dist * 2, ax_max + small_dist * 2],\n",
    "                     color='grey', alpha=0.2)\n",
    "# actual plotting\n",
    "cm = plt.get_cmap('coolwarm')\n",
    "\n",
    "#if color is None:\n",
    "color = np.abs(x-y)\n",
    "# 2.372 kcal / mol = 4 RT\n",
    "color = cm(color / 2.372)\n",
    "\n",
    "plt.errorbar(x, y, yerr=yerr, color='gray', linewidth=0., elinewidth=2., zorder=1)\n",
    "plt.scatter(x, y, color=color, s=10, marker='o', zorder=2)\n",
    "\n",
    "# stats and title\n",
    "statistics_string = ''\n",
    "for statistic in ['RMSE', 'MUE', 'R2', 'rho']:\n",
    "    s = np.round(stats(x, y, statistic=statistic), 2)\n",
    "    string = f\"{statistic}: {s}\\n\"\n",
    "    statistics_string += string\n",
    "\n",
    "title = ''\n",
    "target_name = '4xey_dasatinib'\n",
    "long_title = f'{title} \\n {target_name} (N = {len(y)})\\n {statistics_string} \\n timestamp: {today.strftime(\"%d %B, %Y\")}'\n",
    "plt.title(long_title, fontsize=12, loc='right', horizontalalignment='right', family='monospace')\n",
    "\n",
    "\n",
    "plt.savefig('4xey_dasatinib_exp_vs_calc.png', dpi=300)"
   ]
  },
  {
   "cell_type": "code",
   "execution_count": 33,
   "metadata": {},
   "outputs": [
    {
     "data": {
      "text/plain": [
       "'/lila/home/glassw/GITHUB/study-abl-resistance/notebooks'"
      ]
     },
     "execution_count": 33,
     "metadata": {},
     "output_type": "execute_result"
    }
   ],
   "source": [
    "pwd"
   ]
  },
  {
   "cell_type": "code",
   "execution_count": null,
   "metadata": {},
   "outputs": [],
   "source": []
  }
 ],
 "metadata": {
  "kernelspec": {
   "display_name": "Python 3",
   "language": "python",
   "name": "python3"
  },
  "language_info": {
   "codemirror_mode": {
    "name": "ipython",
    "version": 3
   },
   "file_extension": ".py",
   "mimetype": "text/x-python",
   "name": "python",
   "nbconvert_exporter": "python",
   "pygments_lexer": "ipython3",
   "version": "3.7.8-final"
  }
 },
 "nbformat": 4,
 "nbformat_minor": 4
}