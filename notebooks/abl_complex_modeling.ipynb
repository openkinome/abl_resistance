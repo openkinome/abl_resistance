{
 "cells": [
  {
   "cell_type": "markdown",
   "metadata": {},
   "source": [
    "# ABL1 complex modeling"
   ]
  },
  {
   "cell_type": "markdown",
   "metadata": {},
   "source": [
    "This notebook shows the modeling of tyrosine kinase inhibitors into ABL1 using functionalities from KinoML from the commit [f0b3b36](https://github.com/openkinome/kinoml/commit/f0b3b36d49a6dba6a2544bf42ba40590b49837f4)."
   ]
  },
  {
   "cell_type": "code",
   "execution_count": 1,
   "metadata": {},
   "outputs": [],
   "source": [
    "%load_ext autoreload\n",
    "%autoreload 2"
   ]
  },
  {
   "cell_type": "code",
   "execution_count": 2,
   "metadata": {},
   "outputs": [
    {
     "data": {
      "application/vnd.jupyter.widget-view+json": {
       "model_id": "f053ca1057884cd18f4341d747e3a80b",
       "version_major": 2,
       "version_minor": 0
      },
      "text/plain": []
     },
     "metadata": {},
     "output_type": "display_data"
    }
   ],
   "source": [
    "from kinoml.core.ligands import SmilesLigand\n",
    "from kinoml.core.components import BaseProtein\n",
    "from kinoml.core.systems import ProteinLigandComplex\n",
    "from kinoml.features.complexes import OpenEyesKLIFSKinaseHybridDockingFeaturizer"
   ]
  },
  {
   "cell_type": "code",
   "execution_count": 3,
   "metadata": {},
   "outputs": [],
   "source": [
    "# smiles from chembl\n",
    "tkis = {'axitinib': {'smiles': 'CNC(=O)c1ccccc1Sc1ccc2c(/C=C/c3ccccn3)n[nH]c2c1'},\n",
    "        'bosutinib': {'smiles': 'COc1cc(Nc2c(C#N)cnc3cc(OCCCN4CCN(C)CC4)c(OC)cc23)c(Cl)cc1Cl'},\n",
    "        'dasatinib': {'smiles': 'Cc1nc(Nc2ncc(C(=O)Nc3c(C)cccc3Cl)s2)cc(N2CCN(CCO)CC2)n1'},\n",
    "        'imatinib': {'smiles': 'Cc1ccc(NC(=O)c2ccc(CN3CCN(C)CC3)cc2)cc1Nc1nccc(-c2cccnc2)n1'},\n",
    "        'nilotinib': {'smiles': 'Cc1cn(-c2cc(NC(=O)c3ccc(C)c(Nc4nccc(-c5cccnc5)n4)c3)cc(C(F)(F)F)c2)cn1'},\n",
    "        'ponatinib': {'smiles': 'Cc1ccc(C(=O)Nc2ccc(CN3CCN(C)CC3)c(C(F)(F)F)c2)cc1C#Cc1cnc2cccnn12'},\n",
    "        'erlotinib': {'smiles': 'C#Cc1cccc(Nc2ncnc3cc(OCCOC)c(OCCOC)cc23)c1'},\n",
    "        'gefitinib': {'smiles': 'COc1cc2ncnc(Nc3ccc(F)c(Cl)c3)c2cc1OCCCN1CCOCC1'}}"
   ]
  },
  {
   "cell_type": "code",
   "execution_count": 4,
   "metadata": {},
   "outputs": [],
   "source": [
    "docking_featurizer = OpenEyesKLIFSKinaseHybridDockingFeaturizer(loop_db=\"~/.OpenEye/rcsb_spruce.loop_db\")"
   ]
  },
  {
   "cell_type": "code",
   "execution_count": 5,
   "metadata": {},
   "outputs": [],
   "source": [
    "for tki in tkis.keys():\n",
    "    smiles_ligand = SmilesLigand(smiles=tkis[tki]['smiles'], name=tki)\n",
    "    base_protein = BaseProtein(name='ABL1')\n",
    "    base_protein.klifs_kinase_id = 392\n",
    "    kinase_ligand_complex = ProteinLigandComplex(components=[base_protein, smiles_ligand])\n",
    "    system = docking_featurizer.featurize(kinase_ligand_complex)"
   ]
  },
  {
   "cell_type": "markdown",
   "metadata": {},
   "source": [
    "All ABL1 structures in the `data` directory were automatically standardized to the kinase domain according to UniProt, i.e., all missing loops built, mutated back to the wild type sequence, truncated according to UniProt kinase domain and renumbered according to UniProt. Co-crystallized water is not yet included. An aromatic nitrogen of ponatinib is wrongly protonated leading to a flipped moiety."
   ]
  },
  {
   "cell_type": "markdown",
   "metadata": {},
   "source": [
    "|tki      |pdb |protein|ligand|comment                     |\n",
    "|---------|----|-------|------|----------------------------|\n",
    "|axitinib |4twp|+      |+     |protonated ASP              |\n",
    "|bosutinib|3ue4|+      |+     |piperazine 2+               |\n",
    "|dasatinib|4xey|+      |+     |                            |\n",
    "|imatinib |2hyy|+      |+     |piperazine 2+               |\n",
    "|nilotinib|3cs9|+      |+     |                            |\n",
    "|ponatinib|2hiw|+      |-     |protonated aromatic nitrogen|\n",
    "|erlotinib|2g1t|+      |+     |                            |\n",
    "|gefitinib|2f4j|+      |+     |                            |"
   ]
  }
 ],
 "metadata": {
  "kernelspec": {
   "display_name": "Python 3",
   "language": "python",
   "name": "python3"
  },
  "language_info": {
   "codemirror_mode": {
    "name": "ipython",
    "version": 3
   },
   "file_extension": ".py",
   "mimetype": "text/x-python",
   "name": "python",
   "nbconvert_exporter": "python",
   "pygments_lexer": "ipython3",
   "version": "3.7.8"
  }
 },
 "nbformat": 4,
 "nbformat_minor": 4
}
